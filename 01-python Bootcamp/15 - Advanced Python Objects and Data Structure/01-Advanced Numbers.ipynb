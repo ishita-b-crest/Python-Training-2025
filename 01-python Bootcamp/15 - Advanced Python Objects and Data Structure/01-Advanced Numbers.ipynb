{
 "cells": [
  {
   "cell_type": "markdown",
   "id": "a67dfdcd-1729-4abf-870a-bdaa0fbde7a1",
   "metadata": {},
   "source": [
    "### Advanced Numbers"
   ]
  },
  {
   "cell_type": "markdown",
   "id": "e4895b1f-2334-41a8-bbcd-e4703aa0355d",
   "metadata": {},
   "source": [
    "#### Hexadecimal"
   ]
  },
  {
   "cell_type": "code",
   "execution_count": 2,
   "id": "4c398082-d83e-475a-9684-704c862aed8a",
   "metadata": {},
   "outputs": [
    {
     "data": {
      "text/plain": [
       "'0xf6'"
      ]
     },
     "execution_count": 2,
     "metadata": {},
     "output_type": "execute_result"
    }
   ],
   "source": [
    "hex(246)"
   ]
  },
  {
   "cell_type": "code",
   "execution_count": 3,
   "id": "7adf61d1-7b9f-42d1-8794-72e97cbe9d76",
   "metadata": {},
   "outputs": [
    {
     "data": {
      "text/plain": [
       "'0x200'"
      ]
     },
     "execution_count": 3,
     "metadata": {},
     "output_type": "execute_result"
    }
   ],
   "source": [
    "hex(512)"
   ]
  },
  {
   "cell_type": "markdown",
   "id": "9206a4d2-4c35-4b84-84f2-1db3a3e9d9ab",
   "metadata": {},
   "source": [
    "#### Binary"
   ]
  },
  {
   "cell_type": "code",
   "execution_count": 4,
   "id": "0b071cc7-5783-4b32-b232-fead1298b71d",
   "metadata": {},
   "outputs": [
    {
     "data": {
      "text/plain": [
       "'0b1010'"
      ]
     },
     "execution_count": 4,
     "metadata": {},
     "output_type": "execute_result"
    }
   ],
   "source": [
    "bin(10)"
   ]
  },
  {
   "cell_type": "code",
   "execution_count": 5,
   "id": "8a6515ec-0a8d-41a2-9159-4a0176f10c82",
   "metadata": {},
   "outputs": [
    {
     "data": {
      "text/plain": [
       "'0b1111111'"
      ]
     },
     "execution_count": 5,
     "metadata": {},
     "output_type": "execute_result"
    }
   ],
   "source": [
    "bin(127)"
   ]
  },
  {
   "cell_type": "markdown",
   "id": "eec89eda-160b-45ba-a45c-8d5cfb4e84c3",
   "metadata": {},
   "source": [
    "#### Exponentials"
   ]
  },
  {
   "cell_type": "code",
   "execution_count": 6,
   "id": "e86bf70c-5f22-4f85-8465-4b7f48e530da",
   "metadata": {},
   "outputs": [
    {
     "data": {
      "text/plain": [
       "81"
      ]
     },
     "execution_count": 6,
     "metadata": {},
     "output_type": "execute_result"
    }
   ],
   "source": [
    "pow(3,4)"
   ]
  },
  {
   "cell_type": "code",
   "execution_count": 7,
   "id": "c26768ce-b77d-4365-b955-1e65a2653209",
   "metadata": {},
   "outputs": [
    {
     "data": {
      "text/plain": [
       "1"
      ]
     },
     "execution_count": 7,
     "metadata": {},
     "output_type": "execute_result"
    }
   ],
   "source": [
    "pow(3,4,5)"
   ]
  },
  {
   "cell_type": "markdown",
   "id": "94fbaea5-3627-49cf-8d11-d455ba600003",
   "metadata": {},
   "source": [
    "#### Absolute Value"
   ]
  },
  {
   "cell_type": "code",
   "execution_count": 8,
   "id": "13cc19cc-5660-4ef1-b12a-f5f53f16ce0c",
   "metadata": {},
   "outputs": [
    {
     "data": {
      "text/plain": [
       "3.14"
      ]
     },
     "execution_count": 8,
     "metadata": {},
     "output_type": "execute_result"
    }
   ],
   "source": [
    "abs(-3.14)"
   ]
  },
  {
   "cell_type": "code",
   "execution_count": 9,
   "id": "f623ce8a-d502-4d1b-8366-d50389faaef9",
   "metadata": {},
   "outputs": [
    {
     "data": {
      "text/plain": [
       "3"
      ]
     },
     "execution_count": 9,
     "metadata": {},
     "output_type": "execute_result"
    }
   ],
   "source": [
    "abs(3)"
   ]
  },
  {
   "cell_type": "markdown",
   "id": "3ad6be0e-9cbb-4529-a385-82653a28019d",
   "metadata": {},
   "source": [
    "#### Round"
   ]
  },
  {
   "cell_type": "code",
   "execution_count": 10,
   "id": "dd56d230-28c0-4aca-8f34-a28adb0527c4",
   "metadata": {},
   "outputs": [
    {
     "data": {
      "text/plain": [
       "3"
      ]
     },
     "execution_count": 10,
     "metadata": {},
     "output_type": "execute_result"
    }
   ],
   "source": [
    "round(3,2)"
   ]
  },
  {
   "cell_type": "code",
   "execution_count": 12,
   "id": "f9b2d72b-5d42-48a6-b291-71e1c97d4ce7",
   "metadata": {},
   "outputs": [
    {
     "data": {
      "text/plain": [
       "400"
      ]
     },
     "execution_count": 12,
     "metadata": {},
     "output_type": "execute_result"
    }
   ],
   "source": [
    "round(395, -2)"
   ]
  },
  {
   "cell_type": "code",
   "execution_count": 13,
   "id": "8ad06653-d061-4ddb-ab1f-e7a2e9cd0e84",
   "metadata": {},
   "outputs": [
    {
     "data": {
      "text/plain": [
       "3.14"
      ]
     },
     "execution_count": 13,
     "metadata": {},
     "output_type": "execute_result"
    }
   ],
   "source": [
    "\n",
    "round(3.1415926535,2)"
   ]
  },
  {
   "cell_type": "code",
   "execution_count": null,
   "id": "f44aaa3a-3071-4011-ae3b-2d287ed3a9e5",
   "metadata": {},
   "outputs": [],
   "source": []
  }
 ],
 "metadata": {
  "kernelspec": {
   "display_name": "Python 3 (ipykernel)",
   "language": "python",
   "name": "python3"
  },
  "language_info": {
   "codemirror_mode": {
    "name": "ipython",
    "version": 3
   },
   "file_extension": ".py",
   "mimetype": "text/x-python",
   "name": "python",
   "nbconvert_exporter": "python",
   "pygments_lexer": "ipython3",
   "version": "3.13.5"
  }
 },
 "nbformat": 4,
 "nbformat_minor": 5
}
