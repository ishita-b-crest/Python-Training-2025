{
 "cells": [
  {
   "cell_type": "markdown",
   "id": "74056ad2-ac5b-4bf8-a47e-8c57115bc2a8",
   "metadata": {},
   "source": [
    "## Python Conditional Statements:\n",
    "### if-else Statements:\n",
    "```python\n",
    "if some_condition:\n",
    "    # execute some code\n",
    "else:\n",
    "    # execute some other code\n",
    "```\n",
    "\n"
   ]
  },
  {
   "cell_type": "code",
   "execution_count": 4,
   "id": "9c8c6463-e48a-405f-a4c3-e6d11494e9ca",
   "metadata": {},
   "outputs": [
    {
     "name": "stdout",
     "output_type": "stream",
     "text": [
      "It's True!!\n"
     ]
    }
   ],
   "source": [
    "if 3>2:\n",
    "    print(\"It's True!!\")"
   ]
  },
  {
   "cell_type": "code",
   "execution_count": 5,
   "id": "1f529564-abf5-4bff-b995-9f401cf8c552",
   "metadata": {},
   "outputs": [
    {
     "name": "stdout",
     "output_type": "stream",
     "text": [
      "Cars are Cool!!\n"
     ]
    }
   ],
   "source": [
    "loc = 'Auto Shop'\n",
    "\n",
    "if loc == 'Auto Shop':\n",
    "    print('Cars are Cool!!')\n",
    "elif loc == 'Shop':\n",
    "    print('Fruits are Fresh!!')\n",
    "elif loc == 'Bank':\n",
    "    print('Money is Coll!!')\n",
    "else:\n",
    "    print('i dont have idea')\n",
    "          "
   ]
  },
  {
   "cell_type": "markdown",
   "id": "a18933d4-a9cf-430b-a215-9bac73cfd30c",
   "metadata": {},
   "source": [
    "\n",
    "## For Loops\n",
    "\n",
    "```python\n",
    "my_iterable = [1,2,3]\n",
    "for item_name in my_iterable:\n",
    "    print(item name)\n",
    "```"
   ]
  },
  {
   "cell_type": "code",
   "execution_count": 6,
   "id": "c2dca1df-68f1-4ab4-bab1-826700f312b6",
   "metadata": {},
   "outputs": [
    {
     "name": "stdout",
     "output_type": "stream",
     "text": [
      "1\n",
      "2\n",
      "3\n",
      "4\n",
      "5\n",
      "6\n",
      "7\n",
      "8\n",
      "9\n",
      "10\n"
     ]
    }
   ],
   "source": [
    "mylist = [1,2,3,4,5,6,7,8,9,10]\n",
    "for i in mylist:\n",
    "    print(i)"
   ]
  },
  {
   "cell_type": "code",
   "execution_count": 7,
   "id": "ced99ca7-e37f-4a0f-bfe2-52a7fd2f13ff",
   "metadata": {},
   "outputs": [
    {
     "name": "stdout",
     "output_type": "stream",
     "text": [
      "hello\n",
      "hello\n",
      "hello\n",
      "hello\n",
      "hello\n",
      "hello\n",
      "hello\n",
      "hello\n",
      "hello\n",
      "hello\n"
     ]
    }
   ],
   "source": [
    "mylist = [1,2,3,4,5,6,7,8,9,10]\n",
    "for i in mylist:\n",
    "    print('hello')"
   ]
  },
  {
   "cell_type": "code",
   "execution_count": 8,
   "id": "396297df-269c-4c26-8a05-c10e8f6465ea",
   "metadata": {},
   "outputs": [
    {
     "name": "stdout",
     "output_type": "stream",
     "text": [
      "Num is odd\n",
      "Num is even\n",
      "Num is odd\n",
      "Num is even\n",
      "Num is odd\n",
      "Num is even\n",
      "Num is odd\n",
      "Num is even\n",
      "Num is odd\n",
      "Num is even\n"
     ]
    }
   ],
   "source": [
    "for num in mylist:\n",
    "    if num % 2 == 0:\n",
    "        print('Num is even')\n",
    "    else:\n",
    "        print(\"Num is odd\")\n",
    "            "
   ]
  },
  {
   "cell_type": "code",
   "execution_count": 10,
   "id": "d1900ef1-7643-44f8-b912-a0c5d7fbe353",
   "metadata": {},
   "outputs": [
    {
     "name": "stdout",
     "output_type": "stream",
     "text": [
      "1\n",
      "3\n",
      "6\n",
      "10\n",
      "15\n",
      "21\n",
      "28\n",
      "36\n",
      "45\n",
      "55\n"
     ]
    }
   ],
   "source": [
    "list_sum = 0\n",
    "\n",
    "for num in mylist:\n",
    "    list_sum = list_sum + num\n",
    "\n",
    "    print(list_sum)"
   ]
  },
  {
   "cell_type": "code",
   "execution_count": 11,
   "id": "b56d7e99-e8c9-444e-b99e-664dbafb0154",
   "metadata": {},
   "outputs": [
    {
     "name": "stdout",
     "output_type": "stream",
     "text": [
      "Cool!!\n",
      "Cool!!\n",
      "Cool!!\n",
      "Cool!!\n",
      "Cool!!\n",
      "Cool!!\n",
      "Cool!!\n",
      "Cool!!\n",
      "Cool!!\n",
      "Cool!!\n",
      "Cool!!\n"
     ]
    }
   ],
   "source": [
    "for _ in \"Hello World\":\n",
    "    print(\"Cool!!\")"
   ]
  },
  {
   "cell_type": "code",
   "execution_count": 12,
   "id": "a1422f9e-711f-4807-a28e-07c82242eed4",
   "metadata": {},
   "outputs": [
    {
     "name": "stdout",
     "output_type": "stream",
     "text": [
      "1\n",
      "2\n",
      "3\n"
     ]
    }
   ],
   "source": [
    "tup = (1,2,3)\n",
    "\n",
    "for item in tup:\n",
    "    print(item)"
   ]
  },
  {
   "cell_type": "code",
   "execution_count": 14,
   "id": "451798cd-7ad6-4108-aeff-9d3f337b1cae",
   "metadata": {},
   "outputs": [
    {
     "data": {
      "text/plain": [
       "4"
      ]
     },
     "execution_count": 14,
     "metadata": {},
     "output_type": "execute_result"
    }
   ],
   "source": [
    "mylist = [(1,2), (3,4), (5,6), (7,8)]\n",
    "len(mylist)"
   ]
  },
  {
   "cell_type": "code",
   "execution_count": 15,
   "id": "17a84e19-35d1-4cf7-92d7-3a7868d4add0",
   "metadata": {},
   "outputs": [
    {
     "name": "stdout",
     "output_type": "stream",
     "text": [
      "(1, 2)\n",
      "(3, 4)\n",
      "(5, 6)\n",
      "(7, 8)\n"
     ]
    }
   ],
   "source": [
    "for item in mylist:\n",
    "    print(item)"
   ]
  },
  {
   "cell_type": "code",
   "execution_count": 16,
   "id": "6797d6ce-f341-45c8-a04a-5227a981a9ed",
   "metadata": {},
   "outputs": [
    {
     "name": "stdout",
     "output_type": "stream",
     "text": [
      "2\n",
      "4\n",
      "6\n",
      "8\n"
     ]
    }
   ],
   "source": [
    "for a,b in mylist:\n",
    "    print(b)"
   ]
  },
  {
   "cell_type": "code",
   "execution_count": 17,
   "id": "ad7de77c-a023-4a74-b09e-dce3f65535ff",
   "metadata": {},
   "outputs": [
    {
     "name": "stdout",
     "output_type": "stream",
     "text": [
      "3\n",
      "6\n",
      "9\n"
     ]
    }
   ],
   "source": [
    "mylist = [(1,2,3), (4,5,6), (7,8,9)]\n",
    "\n",
    "for a,b,c in mylist:\n",
    "    print(c)"
   ]
  },
  {
   "cell_type": "markdown",
   "id": "c7d146e9-f256-46ea-9b21-038e67291d40",
   "metadata": {},
   "source": [
    "## While loops in python"
   ]
  },
  {
   "cell_type": "code",
   "execution_count": 18,
   "id": "e1dc7288-f741-45cd-a75d-4d42d9b4358c",
   "metadata": {},
   "outputs": [
    {
     "name": "stdout",
     "output_type": "stream",
     "text": [
      "The current of x is 0\n",
      "The current of x is 1\n",
      "The current of x is 2\n",
      "The current of x is 3\n",
      "The current of x is 4\n"
     ]
    }
   ],
   "source": [
    "x = 0\n",
    "\n",
    "while x < 5:\n",
    "    print(f'The current of x is {x}')\n",
    "    x = x+1"
   ]
  },
  {
   "cell_type": "markdown",
   "id": "bad9f73b-4ad8-4a22-9f21-aa0cd033a977",
   "metadata": {},
   "source": [
    "### break, continue, pass\n",
    "\n",
    "we can use brreak, continnuw, and pass statements in our loops to add additinonal functionality\n",
    "\n",
    "break: Breaks out of the current closest enclosing loop.<br>\n",
    "continue: Goes to the top of the closest enclosing loop.<br>\n",
    "pass: Does nothing at all."
   ]
  },
  {
   "cell_type": "code",
   "execution_count": 19,
   "id": "80b1ddfa-c862-46da-b6cf-43ec49943ec1",
   "metadata": {},
   "outputs": [
    {
     "name": "stdout",
     "output_type": "stream",
     "text": [
      "end of script\n"
     ]
    }
   ],
   "source": [
    "x = [1,2,3]\n",
    "\n",
    "for item in x:\n",
    "\n",
    "    pass\n",
    "\n",
    "\n",
    "print('end of script')"
   ]
  },
  {
   "cell_type": "code",
   "execution_count": 22,
   "id": "6fc93d93-d593-4b0b-897c-bdf1c1b4eeaa",
   "metadata": {},
   "outputs": [
    {
     "name": "stdout",
     "output_type": "stream",
     "text": [
      "S\n"
     ]
    }
   ],
   "source": [
    "mystring = 'Sammy'\n",
    "\n",
    "for letter in mystring:\n",
    "    if letter == 'a':\n",
    "        break;\n",
    "    print(letter)"
   ]
  },
  {
   "cell_type": "code",
   "execution_count": 24,
   "id": "53b0831e-45e6-4425-b6b1-0d742a133012",
   "metadata": {},
   "outputs": [
    {
     "name": "stdout",
     "output_type": "stream",
     "text": [
      "0\n",
      "1\n",
      "2\n",
      "3\n",
      "4\n"
     ]
    }
   ],
   "source": [
    "x = 0\n",
    "\n",
    "while x<5:\n",
    "    print(x)\n",
    "    x = x+1"
   ]
  },
  {
   "cell_type": "code",
   "execution_count": 25,
   "id": "4e23d045-c637-44c7-85ef-8242a997b78d",
   "metadata": {},
   "outputs": [],
   "source": [
    "from random import shuffle "
   ]
  },
  {
   "cell_type": "code",
   "execution_count": 26,
   "id": "5a731a3a-5993-4f0c-afe1-0394610fdb10",
   "metadata": {},
   "outputs": [],
   "source": [
    "mylist = [1,2,3,4,5,6,7,8,9]"
   ]
  },
  {
   "cell_type": "code",
   "execution_count": 28,
   "id": "2e279d52-42cf-4b0d-85a4-53dd5aca5499",
   "metadata": {},
   "outputs": [],
   "source": [
    "random_list = shuffle(mylist)"
   ]
  },
  {
   "cell_type": "code",
   "execution_count": 29,
   "id": "619ee90c-f14a-4762-8afe-e349b1c754c9",
   "metadata": {},
   "outputs": [
    {
     "data": {
      "text/plain": [
       "[5, 4, 2, 1, 3, 6, 9, 8, 7]"
      ]
     },
     "execution_count": 29,
     "metadata": {},
     "output_type": "execute_result"
    }
   ],
   "source": [
    "mylist"
   ]
  },
  {
   "cell_type": "code",
   "execution_count": 30,
   "id": "f53631a7-f4b4-48b0-97f7-4bdf16e1641a",
   "metadata": {},
   "outputs": [
    {
     "data": {
      "text/plain": [
       "NoneType"
      ]
     },
     "execution_count": 30,
     "metadata": {},
     "output_type": "execute_result"
    }
   ],
   "source": [
    "type(random_list)"
   ]
  },
  {
   "cell_type": "code",
   "execution_count": 32,
   "id": "01d971aa-35a4-4ec4-9b5c-b6f07abf1b02",
   "metadata": {},
   "outputs": [
    {
     "data": {
      "text/plain": [
       "[5, 4, 2, 1, 3, 6, 9, 8, 7]"
      ]
     },
     "execution_count": 32,
     "metadata": {},
     "output_type": "execute_result"
    }
   ],
   "source": [
    "mylist"
   ]
  },
  {
   "cell_type": "code",
   "execution_count": 33,
   "id": "8a8a52fc-f2da-4fbe-a0a1-9205f863b0c3",
   "metadata": {},
   "outputs": [],
   "source": [
    "from random import randint"
   ]
  },
  {
   "cell_type": "code",
   "execution_count": 34,
   "id": "fe4ffff8-cddc-4046-b250-40e39f97b80c",
   "metadata": {},
   "outputs": [
    {
     "data": {
      "text/plain": [
       "69"
      ]
     },
     "execution_count": 34,
     "metadata": {},
     "output_type": "execute_result"
    }
   ],
   "source": [
    "randint(0,100)"
   ]
  },
  {
   "cell_type": "code",
   "execution_count": 35,
   "id": "38bc3afe-7364-48a6-b634-ec6920fc6316",
   "metadata": {},
   "outputs": [
    {
     "data": {
      "text/plain": [
       "89"
      ]
     },
     "execution_count": 35,
     "metadata": {},
     "output_type": "execute_result"
    }
   ],
   "source": [
    "randint(0,100)"
   ]
  },
  {
   "cell_type": "code",
   "execution_count": 36,
   "id": "2a92ce4d-7be7-468a-bbdf-c5c882e2837a",
   "metadata": {},
   "outputs": [
    {
     "name": "stdin",
     "output_type": "stream",
     "text": [
      "Enter a number here:  14\n"
     ]
    },
    {
     "data": {
      "text/plain": [
       "'14'"
      ]
     },
     "execution_count": 36,
     "metadata": {},
     "output_type": "execute_result"
    }
   ],
   "source": [
    "input('Enter a number here: ')"
   ]
  },
  {
   "cell_type": "code",
   "execution_count": 37,
   "id": "7faa1574-b13b-410e-992a-3ef3320aaf9c",
   "metadata": {},
   "outputs": [
    {
     "name": "stdin",
     "output_type": "stream",
     "text": [
      "Your Fav number:  45\n"
     ]
    }
   ],
   "source": [
    "result = input('Your Fav number: ')"
   ]
  },
  {
   "cell_type": "code",
   "execution_count": 38,
   "id": "354b1ae4-02c7-4e93-8dda-6995f43b3d81",
   "metadata": {},
   "outputs": [
    {
     "data": {
      "text/plain": [
       "45"
      ]
     },
     "execution_count": 38,
     "metadata": {},
     "output_type": "execute_result"
    }
   ],
   "source": [
    "int(result)"
   ]
  },
  {
   "cell_type": "code",
   "execution_count": null,
   "id": "70a059d3-f499-4cbc-b2c1-25935bffad05",
   "metadata": {},
   "outputs": [],
   "source": []
  }
 ],
 "metadata": {
  "kernelspec": {
   "display_name": "Python 3 (ipykernel)",
   "language": "python",
   "name": "python3"
  },
  "language_info": {
   "codemirror_mode": {
    "name": "ipython",
    "version": 3
   },
   "file_extension": ".py",
   "mimetype": "text/x-python",
   "name": "python",
   "nbconvert_exporter": "python",
   "pygments_lexer": "ipython3",
   "version": "3.13.5"
  }
 },
 "nbformat": 4,
 "nbformat_minor": 5
}
