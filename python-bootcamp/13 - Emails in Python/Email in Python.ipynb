{
 "cells": [
  {
   "cell_type": "code",
   "execution_count": 1,
   "id": "a898c557-41cc-4933-8f9c-16d7c4b7cddc",
   "metadata": {},
   "outputs": [],
   "source": [
    "import smtplib"
   ]
  },
  {
   "cell_type": "code",
   "execution_count": 2,
   "id": "0789b9ea-1fc5-4019-b6f3-1a41919ed4f3",
   "metadata": {},
   "outputs": [],
   "source": [
    "smtp_object = smtplib.SMTP('smtp.gmail.com',587)"
   ]
  },
  {
   "cell_type": "code",
   "execution_count": 3,
   "id": "0fcd1a4e-1b92-42d0-87eb-ecff0e0f3a4e",
   "metadata": {},
   "outputs": [
    {
     "data": {
      "text/plain": [
       "(250,\n",
       " b'smtp.gmail.com at your service, [123.201.110.130]\\nSIZE 36700160\\n8BITMIME\\nSTARTTLS\\nENHANCEDSTATUSCODES\\nPIPELINING\\nCHUNKING\\nSMTPUTF8')"
      ]
     },
     "execution_count": 3,
     "metadata": {},
     "output_type": "execute_result"
    }
   ],
   "source": [
    "smtp_object.ehlo()"
   ]
  },
  {
   "cell_type": "code",
   "execution_count": 4,
   "id": "097de66a-7b6d-4e0b-9651-6533f3bf70eb",
   "metadata": {},
   "outputs": [
    {
     "data": {
      "text/plain": [
       "(220, b'2.0.0 Ready to start TLS')"
      ]
     },
     "execution_count": 4,
     "metadata": {},
     "output_type": "execute_result"
    }
   ],
   "source": [
    "smtp_object.starttls()"
   ]
  },
  {
   "cell_type": "code",
   "execution_count": 5,
   "id": "993079d1-27de-4fe4-82df-7b8cefe0bdc9",
   "metadata": {},
   "outputs": [
    {
     "name": "stdin",
     "output_type": "stream",
     "text": [
      "What is your password:  visible\n"
     ]
    }
   ],
   "source": [
    "password = input('What is your password: ')"
   ]
  },
  {
   "cell_type": "code",
   "execution_count": 6,
   "id": "f2d14604-2737-42fe-b9bf-53b14df9474d",
   "metadata": {},
   "outputs": [],
   "source": [
    "import getpass"
   ]
  },
  {
   "cell_type": "code",
   "execution_count": 7,
   "id": "242d9337-940f-47e3-a984-726fbaab23ae",
   "metadata": {},
   "outputs": [
    {
     "name": "stdin",
     "output_type": "stream",
     "text": [
      "Password Please:  ········\n"
     ]
    }
   ],
   "source": [
    "password = getpass.getpass('Password Please: ')"
   ]
  },
  {
   "cell_type": "code",
   "execution_count": 8,
   "id": "5c133c4d-720f-4b9f-8385-1616a3b24a40",
   "metadata": {},
   "outputs": [
    {
     "name": "stdin",
     "output_type": "stream",
     "text": [
      "Email:  ········\n",
      "Password:  ········\n"
     ]
    },
    {
     "data": {
      "text/plain": [
       "(235, b'2.7.0 Accepted')"
      ]
     },
     "execution_count": 8,
     "metadata": {},
     "output_type": "execute_result"
    }
   ],
   "source": [
    "email = getpass.getpass(\"Email: \")\n",
    "password = getpass.getpass(\"Password: \")\n",
    "smtp_object.login(email, password)"
   ]
  },
  {
   "cell_type": "code",
   "execution_count": 9,
   "id": "cca98636-f780-452b-bbb3-3a214d930551",
   "metadata": {},
   "outputs": [
    {
     "name": "stdin",
     "output_type": "stream",
     "text": [
      "enter the subject line:  New Test Project\n",
      "enter theb body message:  Hello World!!!\n"
     ]
    },
    {
     "data": {
      "text/plain": [
       "{}"
      ]
     },
     "execution_count": 9,
     "metadata": {},
     "output_type": "execute_result"
    }
   ],
   "source": [
    "from_address = email\n",
    "to_address = email\n",
    "\n",
    "subject = input(\"enter the subject line: \")\n",
    "message = input(\"enter theb body message: \")\n",
    "msg = \"Subject: \"+subject+'\\n'+message\n",
    "\n",
    "smtp_object.sendmail(from_address, to_address, msg)"
   ]
  },
  {
   "cell_type": "code",
   "execution_count": 10,
   "id": "a3eaf4fd-197f-4bea-82f7-384dc4c6be02",
   "metadata": {},
   "outputs": [
    {
     "data": {
      "text/plain": [
       "(221,\n",
       " b'2.0.0 closing connection d2e1a72fcca58-74eb9f49f80sm11440338b3a.117 - gsmtp')"
      ]
     },
     "execution_count": 10,
     "metadata": {},
     "output_type": "execute_result"
    }
   ],
   "source": [
    "smtp_object.quit()"
   ]
  },
  {
   "cell_type": "markdown",
   "id": "1be05b73-a479-446f-9ca1-42338f759318",
   "metadata": {},
   "source": [
    "### Viewing Emails"
   ]
  },
  {
   "cell_type": "code",
   "execution_count": 11,
   "id": "79477f29-1649-44f3-9bfa-cae5ba305cc0",
   "metadata": {},
   "outputs": [],
   "source": [
    "import imaplib"
   ]
  },
  {
   "cell_type": "code",
   "execution_count": 12,
   "id": "1a28af6a-d4e8-4e99-bfeb-925b2e9a624e",
   "metadata": {},
   "outputs": [],
   "source": [
    "M = imaplib.IMAP4_SSL('imap.gmail.com')"
   ]
  },
  {
   "cell_type": "code",
   "execution_count": 13,
   "id": "3bfe7de4-7710-4256-810c-e9a8b2c122ca",
   "metadata": {},
   "outputs": [],
   "source": [
    "import getpass"
   ]
  },
  {
   "cell_type": "code",
   "execution_count": 14,
   "id": "7d018708-ded1-4deb-927e-0ef9096feac1",
   "metadata": {},
   "outputs": [
    {
     "name": "stdin",
     "output_type": "stream",
     "text": [
      "Email:  ········\n",
      "Password:  ········\n"
     ]
    }
   ],
   "source": [
    "email = getpass.getpass(\"Email: \")\n",
    "password = getpass.getpass(\"Password: \")"
   ]
  },
  {
   "cell_type": "code",
   "execution_count": 15,
   "id": "f75f3108-084d-451d-8a14-946301e92dfe",
   "metadata": {},
   "outputs": [
    {
     "data": {
      "text/plain": [
       "('OK', [b'ishita.b@crestinfosystems.com authenticated (Success)'])"
      ]
     },
     "execution_count": 15,
     "metadata": {},
     "output_type": "execute_result"
    }
   ],
   "source": [
    "M.login(email, password)"
   ]
  },
  {
   "cell_type": "code",
   "execution_count": 16,
   "id": "39c9957e-7a9b-4b81-bc4c-71cb23933a4d",
   "metadata": {},
   "outputs": [
    {
     "data": {
      "text/plain": [
       "('OK',\n",
       " [b'(\\\\HasNoChildren) \"/\" \"INBOX\"',\n",
       "  b'(\\\\HasChildren \\\\Noselect) \"/\" \"[Gmail]\"',\n",
       "  b'(\\\\All \\\\HasNoChildren) \"/\" \"[Gmail]/All Mail\"',\n",
       "  b'(\\\\Drafts \\\\HasNoChildren) \"/\" \"[Gmail]/Drafts\"',\n",
       "  b'(\\\\HasNoChildren \\\\Important) \"/\" \"[Gmail]/Important\"',\n",
       "  b'(\\\\HasNoChildren \\\\Sent) \"/\" \"[Gmail]/Sent Mail\"',\n",
       "  b'(\\\\HasNoChildren \\\\Junk) \"/\" \"[Gmail]/Spam\"',\n",
       "  b'(\\\\Flagged \\\\HasNoChildren) \"/\" \"[Gmail]/Starred\"',\n",
       "  b'(\\\\HasNoChildren \\\\Trash) \"/\" \"[Gmail]/Trash\"'])"
      ]
     },
     "execution_count": 16,
     "metadata": {},
     "output_type": "execute_result"
    }
   ],
   "source": [
    "M.list()"
   ]
  },
  {
   "cell_type": "code",
   "execution_count": 17,
   "id": "ed4c9e12-479b-4106-8e90-9dba0f31cfc1",
   "metadata": {},
   "outputs": [
    {
     "data": {
      "text/plain": [
       "('OK', [b'35'])"
      ]
     },
     "execution_count": 17,
     "metadata": {},
     "output_type": "execute_result"
    }
   ],
   "source": [
    "M.select('inbox')"
   ]
  },
  {
   "cell_type": "code",
   "execution_count": 26,
   "id": "a1800484-4ed6-4882-bff5-bc671065822f",
   "metadata": {},
   "outputs": [],
   "source": [
    "typ, data = M.search(None, 'SUBJECT \"New Test Project\"')"
   ]
  },
  {
   "cell_type": "code",
   "execution_count": 27,
   "id": "8f7fcca0-f086-4599-bd98-be3d9606ff51",
   "metadata": {},
   "outputs": [
    {
     "data": {
      "text/plain": [
       "'OK'"
      ]
     },
     "execution_count": 27,
     "metadata": {},
     "output_type": "execute_result"
    }
   ],
   "source": [
    "typ"
   ]
  },
  {
   "cell_type": "code",
   "execution_count": 28,
   "id": "83f2abdd-5f58-410b-8b5f-f0c81e93c662",
   "metadata": {},
   "outputs": [
    {
     "data": {
      "text/plain": [
       "[b'35']"
      ]
     },
     "execution_count": 28,
     "metadata": {},
     "output_type": "execute_result"
    }
   ],
   "source": [
    "data"
   ]
  },
  {
   "cell_type": "code",
   "execution_count": 29,
   "id": "12b6ee95-6b23-4c87-b10c-8a98f3499452",
   "metadata": {},
   "outputs": [],
   "source": [
    "email_id  = data[0]"
   ]
  },
  {
   "cell_type": "code",
   "execution_count": 30,
   "id": "15f9d350-72f4-4e61-95d8-93bc8a73e6af",
   "metadata": {},
   "outputs": [],
   "source": [
    "result, email_data = M.fetch(email_id, '(RFC822)')"
   ]
  },
  {
   "cell_type": "code",
   "execution_count": 31,
   "id": "e325bfe3-592a-448a-8d69-f3032317c989",
   "metadata": {},
   "outputs": [
    {
     "data": {
      "text/plain": [
       "[(b'35 (RFC822 {587}',\n",
       "  b'Bcc: ishita.b@crestinfosystems.com\\r\\nReturn-Path: <ishita.b@crestinfosystems.com>\\r\\nReceived: from [192.168.0.23] ([123.201.110.130])\\r\\n        by smtp.gmail.com with ESMTPSA id d2e1a72fcca58-74eb9f49f80sm11440338b3a.117.2025.07.15.02.59.11\\r\\n        for <ishita.b@crestinfosystems.com>\\r\\n        (version=TLS1_3 cipher=TLS_AES_256_GCM_SHA384 bits=256/256);\\r\\n        Tue, 15 Jul 2025 02:59:12 -0700 (PDT)\\r\\nMessage-ID: <68762670.050a0220.19f771.e10c@mx.google.com>\\r\\nDate: Tue, 15 Jul 2025 02:59:12 -0700 (PDT)\\r\\nFrom: ishita.b@crestinfosystems.com\\r\\nSubject: New Test Project\\r\\n\\r\\nHello World!!!\\r\\n'),\n",
       " b')']"
      ]
     },
     "execution_count": 31,
     "metadata": {},
     "output_type": "execute_result"
    }
   ],
   "source": [
    "email_data"
   ]
  },
  {
   "cell_type": "code",
   "execution_count": 32,
   "id": "215324a5-e005-464e-a5f5-ed06901b675e",
   "metadata": {},
   "outputs": [],
   "source": [
    "raw_email = email_data[0][1]"
   ]
  },
  {
   "cell_type": "code",
   "execution_count": 33,
   "id": "f177546c-fc0b-4ff2-a03a-88543a36d8bf",
   "metadata": {},
   "outputs": [],
   "source": [
    "raw_email_string = raw_email.decode('utf-8')"
   ]
  },
  {
   "cell_type": "code",
   "execution_count": 34,
   "id": "da62d046-776f-43f2-aa31-6e1eefafa371",
   "metadata": {},
   "outputs": [],
   "source": [
    "import email"
   ]
  },
  {
   "cell_type": "code",
   "execution_count": 35,
   "id": "7828f37b-da8a-4def-ba38-5f6077bd69c7",
   "metadata": {},
   "outputs": [],
   "source": [
    "email_message = email.message_from_string(raw_email_string)"
   ]
  },
  {
   "cell_type": "code",
   "execution_count": 37,
   "id": "6011c8d6-96e1-47a6-97a8-0d8ec72fdb86",
   "metadata": {},
   "outputs": [
    {
     "name": "stdout",
     "output_type": "stream",
     "text": [
      "b'Hello World!!!\\r\\n'\n"
     ]
    }
   ],
   "source": [
    "for part in email_message.walk():\n",
    "    if part.get_content_type() == 'text/plain':\n",
    "        body = part.get_payload(decode=True)\n",
    "        print(body)"
   ]
  },
  {
   "cell_type": "code",
   "execution_count": null,
   "id": "4500491c-b9a5-42ec-9c52-6c9b5fa3f04c",
   "metadata": {},
   "outputs": [],
   "source": []
  }
 ],
 "metadata": {
  "kernelspec": {
   "display_name": "Python 3 (ipykernel)",
   "language": "python",
   "name": "python3"
  },
  "language_info": {
   "codemirror_mode": {
    "name": "ipython",
    "version": 3
   },
   "file_extension": ".py",
   "mimetype": "text/x-python",
   "name": "python",
   "nbconvert_exporter": "python",
   "pygments_lexer": "ipython3",
   "version": "3.13.5"
  }
 },
 "nbformat": 4,
 "nbformat_minor": 5
}
