{
 "cells": [
  {
   "cell_type": "markdown",
   "id": "14196d51-c2f3-42ff-ae4a-f0424c98d906",
   "metadata": {},
   "source": [
    "## Milestone Project III"
   ]
  },
  {
   "cell_type": "markdown",
   "id": "e9d279fd-bca5-4b38-ba86-04088711a9d2",
   "metadata": {},
   "source": [
    "**Page Scraper** - Create an application which connects to a site and pulls out all links, or images, and saves them to a list. *Optional: Organize the indexed content and don’t allow duplicates. Have it put the results into an easily searchable index file.*"
   ]
  },
  {
   "cell_type": "code",
   "execution_count": 1,
   "id": "d4467f8a-3a79-4b69-b5c6-59f3884424da",
   "metadata": {},
   "outputs": [
    {
     "name": "stdout",
     "output_type": "stream",
     "text": [
      "Requirement already satisfied: requests in c:\\users\\ishitabhojani\\anaconda3\\lib\\site-packages (2.32.3)\n",
      "Requirement already satisfied: beautifulsoup4 in c:\\users\\ishitabhojani\\anaconda3\\lib\\site-packages (4.12.3)\n",
      "Requirement already satisfied: charset-normalizer<4,>=2 in c:\\users\\ishitabhojani\\anaconda3\\lib\\site-packages (from requests) (3.3.2)\n",
      "Requirement already satisfied: idna<4,>=2.5 in c:\\users\\ishitabhojani\\anaconda3\\lib\\site-packages (from requests) (3.7)\n",
      "Requirement already satisfied: urllib3<3,>=1.21.1 in c:\\users\\ishitabhojani\\anaconda3\\lib\\site-packages (from requests) (2.3.0)\n",
      "Requirement already satisfied: certifi>=2017.4.17 in c:\\users\\ishitabhojani\\anaconda3\\lib\\site-packages (from requests) (2025.4.26)\n",
      "Requirement already satisfied: soupsieve>1.2 in c:\\users\\ishitabhojani\\anaconda3\\lib\\site-packages (from beautifulsoup4) (2.5)\n",
      "Note: you may need to restart the kernel to use updated packages.\n"
     ]
    }
   ],
   "source": [
    "pip install requests beautifulsoup4"
   ]
  },
  {
   "cell_type": "code",
   "execution_count": 11,
   "id": "eb1faa85-8f02-4b0b-b702-acb636a96f07",
   "metadata": {},
   "outputs": [],
   "source": [
    "import requests\n",
    "from bs4 import BeautifulSoup\n",
    "from urllib.parse import urljoin\n",
    "import csv"
   ]
  },
  {
   "cell_type": "code",
   "execution_count": 12,
   "id": "2e593a98-a5fc-4838-8da9-0b566342f585",
   "metadata": {},
   "outputs": [],
   "source": [
    "def scrape_page(url):\n",
    "    try:\n",
    "        response = requests.get(url)\n",
    "        response.raise_for_status()  # Handle bad responses\n",
    "    except requests.exceptions.RequestException as e:\n",
    "        print(f\"Error accessing {url}: {e}\")\n",
    "        return [], []\n",
    "\n",
    "    soup = BeautifulSoup(response.text, 'html.parser')\n",
    "\n",
    "    # Extract and normalize all links\n",
    "    links = set()\n",
    "    for link in soup.find_all('a', href=True):\n",
    "        full_link = urljoin(url, link['href'])\n",
    "        links.add(full_link)\n",
    "\n",
    "    # Extract and normalize all image sources\n",
    "    images = set()\n",
    "    for img in soup.find_all('img', src=True):\n",
    "        full_img = urljoin(url, img['src'])\n",
    "        images.add(full_img)\n",
    "\n",
    "    return list(links), list(images)\n"
   ]
  },
  {
   "cell_type": "code",
   "execution_count": 13,
   "id": "fa9c556c-84c3-4626-88d2-4b97fbc498e2",
   "metadata": {},
   "outputs": [],
   "source": [
    "def save_to_csv(data, filename):\n",
    "    with open(filename, 'w', newline='', encoding='utf-8') as f:\n",
    "        writer = csv.writer(f)\n",
    "        writer.writerow([\"URL\"])\n",
    "        for item in data:\n",
    "            writer.writerow([item])"
   ]
  },
  {
   "cell_type": "code",
   "execution_count": 14,
   "id": "28ddb411-b4a7-448b-8694-61c12013ee2a",
   "metadata": {},
   "outputs": [
    {
     "name": "stdin",
     "output_type": "stream",
     "text": [
      "Enter the website URL to scrape:  https://books.toscrape.com/\n"
     ]
    },
    {
     "name": "stdout",
     "output_type": "stream",
     "text": [
      "\n",
      " Found 73 unique links and 20 unique images.\n"
     ]
    }
   ],
   "source": [
    "url = input(\"Enter the website URL to scrape: \").strip()\n",
    "links, images = scrape_page(url)\n",
    "\n",
    "print(f\"\\n Found {len(links)} unique links and {len(images)} unique images.\")\n"
   ]
  },
  {
   "cell_type": "code",
   "execution_count": 15,
   "id": "b59ee790-6eea-458f-a26e-07f8796ff777",
   "metadata": {},
   "outputs": [],
   "source": [
    "save_to_csv(links, 'links.csv')\n",
    "save_to_csv(images, 'images.csv')"
   ]
  },
  {
   "cell_type": "code",
   "execution_count": 16,
   "id": "ebd5ada7-74af-4e69-842d-e74ba6c9852e",
   "metadata": {},
   "outputs": [
    {
     "name": "stdout",
     "output_type": "stream",
     "text": [
      "\n",
      " Results saved as:\n",
      " - links.csv\n",
      " - images.csv\n"
     ]
    }
   ],
   "source": [
    "print(\"\\n Results saved as:\")\n",
    "print(\" - links.csv\")\n",
    "print(\" - images.csv\")"
   ]
  },
  {
   "cell_type": "code",
   "execution_count": null,
   "id": "169e97b4-7101-4bd8-98b8-d1e4d9fa29ae",
   "metadata": {},
   "outputs": [],
   "source": []
  },
  {
   "cell_type": "code",
   "execution_count": null,
   "id": "32a9f61b-4e36-4c5d-ae18-35ae04dfab51",
   "metadata": {},
   "outputs": [],
   "source": []
  }
 ],
 "metadata": {
  "kernelspec": {
   "display_name": "Python 3 (ipykernel)",
   "language": "python",
   "name": "python3"
  },
  "language_info": {
   "codemirror_mode": {
    "name": "ipython",
    "version": 3
   },
   "file_extension": ".py",
   "mimetype": "text/x-python",
   "name": "python",
   "nbconvert_exporter": "python",
   "pygments_lexer": "ipython3",
   "version": "3.13.5"
  }
 },
 "nbformat": 4,
 "nbformat_minor": 5
}
