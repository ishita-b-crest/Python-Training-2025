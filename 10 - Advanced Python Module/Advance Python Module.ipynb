{
 "cells": [
  {
   "cell_type": "code",
   "execution_count": 1,
   "id": "64b3d088-9dff-415e-b51d-c3a514d6cb07",
   "metadata": {},
   "outputs": [],
   "source": [
    "from collections import Counter"
   ]
  },
  {
   "cell_type": "code",
   "execution_count": 2,
   "id": "6b42e87d-f61b-442b-b24d-e80f8b361fea",
   "metadata": {},
   "outputs": [],
   "source": [
    "mylist = [1,1,1,1,2,2,2,2,3,3,3,3,3]"
   ]
  },
  {
   "cell_type": "code",
   "execution_count": 3,
   "id": "b4496bbe-1683-463d-b7dc-100cfe693f31",
   "metadata": {},
   "outputs": [
    {
     "data": {
      "text/plain": [
       "Counter({3: 5, 1: 4, 2: 4})"
      ]
     },
     "execution_count": 3,
     "metadata": {},
     "output_type": "execute_result"
    }
   ],
   "source": [
    "Counter(mylist)"
   ]
  },
  {
   "cell_type": "code",
   "execution_count": 4,
   "id": "c24e6976-a04e-4395-be10-2db163c4b1b4",
   "metadata": {},
   "outputs": [],
   "source": [
    "mylist = ['a','a','a','avcd',2,2,2,2,2]"
   ]
  },
  {
   "cell_type": "code",
   "execution_count": 5,
   "id": "02e29caa-8024-45cc-a6e4-d25eba9227f8",
   "metadata": {},
   "outputs": [
    {
     "data": {
      "text/plain": [
       "Counter({2: 5, 'a': 3, 'avcd': 1})"
      ]
     },
     "execution_count": 5,
     "metadata": {},
     "output_type": "execute_result"
    }
   ],
   "source": [
    "Counter(mylist)"
   ]
  },
  {
   "cell_type": "code",
   "execution_count": 6,
   "id": "693fd1a1-8a3d-46cf-b6c7-196e78374b2f",
   "metadata": {},
   "outputs": [
    {
     "data": {
      "text/plain": [
       "Counter({'j': 7, 'a': 3, 'b': 3, 'r': 3, 'h': 1, 'i': 1, 'u': 1})"
      ]
     },
     "execution_count": 6,
     "metadata": {},
     "output_type": "execute_result"
    }
   ],
   "source": [
    "Counter('aaabbbhjjjjjiurrjrj')"
   ]
  },
  {
   "cell_type": "code",
   "execution_count": 7,
   "id": "b46ae3d3-9fef-4f94-a60a-4c22b7ac0e5b",
   "metadata": {},
   "outputs": [],
   "source": [
    "sentence = \"How many times does each word show up in this sentense with each word\""
   ]
  },
  {
   "cell_type": "code",
   "execution_count": 8,
   "id": "190b9f7e-872e-4206-9d46-953f83e22235",
   "metadata": {},
   "outputs": [
    {
     "data": {
      "text/plain": [
       "Counter({'each': 2,\n",
       "         'word': 2,\n",
       "         'How': 1,\n",
       "         'many': 1,\n",
       "         'times': 1,\n",
       "         'does': 1,\n",
       "         'show': 1,\n",
       "         'up': 1,\n",
       "         'in': 1,\n",
       "         'this': 1,\n",
       "         'sentense': 1,\n",
       "         'with': 1})"
      ]
     },
     "execution_count": 8,
     "metadata": {},
     "output_type": "execute_result"
    }
   ],
   "source": [
    "Counter(sentence.split())"
   ]
  },
  {
   "cell_type": "code",
   "execution_count": 9,
   "id": "97deeb73-33ba-4c43-88f8-7668fd9b8460",
   "metadata": {},
   "outputs": [],
   "source": [
    "letters = 'aaaaabbbbbccccccccccdddddddd'"
   ]
  },
  {
   "cell_type": "code",
   "execution_count": 10,
   "id": "7758daa4-3dee-44e6-9eed-e8ca28e8685d",
   "metadata": {},
   "outputs": [],
   "source": [
    "c = Counter(letters)"
   ]
  },
  {
   "cell_type": "code",
   "execution_count": 11,
   "id": "6e31b86a-4cad-4199-b187-52e22386e162",
   "metadata": {},
   "outputs": [
    {
     "data": {
      "text/plain": [
       "Counter({'c': 10, 'd': 8, 'a': 5, 'b': 5})"
      ]
     },
     "execution_count": 11,
     "metadata": {},
     "output_type": "execute_result"
    }
   ],
   "source": [
    "c"
   ]
  },
  {
   "cell_type": "code",
   "execution_count": 12,
   "id": "591fae1e-8883-4710-971d-4d0afdb62c2b",
   "metadata": {},
   "outputs": [
    {
     "data": {
      "text/plain": [
       "[('c', 10), ('d', 8), ('a', 5), ('b', 5)]"
      ]
     },
     "execution_count": 12,
     "metadata": {},
     "output_type": "execute_result"
    }
   ],
   "source": [
    "c.most_common()"
   ]
  },
  {
   "cell_type": "code",
   "execution_count": 13,
   "id": "bed84fed-fd2e-4786-8c78-63a05e32a8d2",
   "metadata": {},
   "outputs": [
    {
     "data": {
      "text/plain": [
       "Counter({'c': 10, 'd': 8, 'a': 5, 'b': 5})"
      ]
     },
     "execution_count": 13,
     "metadata": {},
     "output_type": "execute_result"
    }
   ],
   "source": [
    "c"
   ]
  },
  {
   "cell_type": "code",
   "execution_count": 14,
   "id": "0410445c-b859-4541-92eb-2bef04661c62",
   "metadata": {},
   "outputs": [
    {
     "data": {
      "text/plain": [
       "['a', 'b', 'c', 'd']"
      ]
     },
     "execution_count": 14,
     "metadata": {},
     "output_type": "execute_result"
    }
   ],
   "source": [
    "list(c)"
   ]
  },
  {
   "cell_type": "code",
   "execution_count": 15,
   "id": "96199ded-f8b3-4991-a35c-3cb0d055dc77",
   "metadata": {},
   "outputs": [],
   "source": [
    "from collections import defaultdict"
   ]
  },
  {
   "cell_type": "code",
   "execution_count": 16,
   "id": "58edd8ec-8ded-47f1-b0e0-ef0528969323",
   "metadata": {},
   "outputs": [],
   "source": [
    "d = {'a':15}"
   ]
  },
  {
   "cell_type": "code",
   "execution_count": 17,
   "id": "d0e3c765-877d-42de-a95e-27ca154b0ec8",
   "metadata": {},
   "outputs": [
    {
     "data": {
      "text/plain": [
       "{'a': 15}"
      ]
     },
     "execution_count": 17,
     "metadata": {},
     "output_type": "execute_result"
    }
   ],
   "source": [
    "d"
   ]
  },
  {
   "cell_type": "code",
   "execution_count": 18,
   "id": "794bfc17-9cd2-4afe-8bc8-121469b52aba",
   "metadata": {},
   "outputs": [
    {
     "data": {
      "text/plain": [
       "15"
      ]
     },
     "execution_count": 18,
     "metadata": {},
     "output_type": "execute_result"
    }
   ],
   "source": [
    "d['a']"
   ]
  },
  {
   "cell_type": "code",
   "execution_count": 19,
   "id": "35be3caa-c5ef-4d0b-9c59-c9b234dc754b",
   "metadata": {},
   "outputs": [
    {
     "ename": "KeyError",
     "evalue": "'Wrong'",
     "output_type": "error",
     "traceback": [
      "\u001b[1;31m---------------------------------------------------------------------------\u001b[0m",
      "\u001b[1;31mKeyError\u001b[0m                                  Traceback (most recent call last)",
      "Cell \u001b[1;32mIn[19], line 1\u001b[0m\n\u001b[1;32m----> 1\u001b[0m d[\u001b[38;5;124m'\u001b[39m\u001b[38;5;124mWrong\u001b[39m\u001b[38;5;124m'\u001b[39m]\n",
      "\u001b[1;31mKeyError\u001b[0m: 'Wrong'"
     ]
    }
   ],
   "source": [
    "d['Wrong']"
   ]
  },
  {
   "cell_type": "code",
   "execution_count": 20,
   "id": "3284d062-f409-4526-9155-0c909036ef38",
   "metadata": {},
   "outputs": [],
   "source": [
    "d = defaultdict(lambda:0)"
   ]
  },
  {
   "cell_type": "code",
   "execution_count": 21,
   "id": "d2a5503e-b854-44fe-875f-c297d409bf96",
   "metadata": {},
   "outputs": [],
   "source": [
    "d['correct'] = 100"
   ]
  },
  {
   "cell_type": "code",
   "execution_count": 22,
   "id": "e48096d0-5ec5-44f4-8967-8ff5ff9124dc",
   "metadata": {},
   "outputs": [
    {
     "data": {
      "text/plain": [
       "100"
      ]
     },
     "execution_count": 22,
     "metadata": {},
     "output_type": "execute_result"
    }
   ],
   "source": [
    "d['correct']"
   ]
  },
  {
   "cell_type": "code",
   "execution_count": 23,
   "id": "45194210-617d-4fb9-b3cb-7ee33b61a165",
   "metadata": {},
   "outputs": [
    {
     "data": {
      "text/plain": [
       "0"
      ]
     },
     "execution_count": 23,
     "metadata": {},
     "output_type": "execute_result"
    }
   ],
   "source": [
    "d['Wrong key']"
   ]
  },
  {
   "cell_type": "code",
   "execution_count": 24,
   "id": "5a3bfae5-4cd2-4111-b6b0-78c3af186b21",
   "metadata": {},
   "outputs": [],
   "source": [
    "mytuple = (10,20,30)"
   ]
  },
  {
   "cell_type": "code",
   "execution_count": 25,
   "id": "a6b33734-b1ee-41ff-9571-3256a3716b1c",
   "metadata": {},
   "outputs": [
    {
     "data": {
      "text/plain": [
       "10"
      ]
     },
     "execution_count": 25,
     "metadata": {},
     "output_type": "execute_result"
    }
   ],
   "source": [
    "mytuple[0]"
   ]
  },
  {
   "cell_type": "code",
   "execution_count": 26,
   "id": "549ccd95-2aa0-419a-88d4-eb043aa2c9d0",
   "metadata": {},
   "outputs": [],
   "source": [
    "from collections import namedtuple"
   ]
  },
  {
   "cell_type": "code",
   "execution_count": 27,
   "id": "2349def8-46a9-4023-a7a9-0ee8829a0a51",
   "metadata": {},
   "outputs": [],
   "source": [
    "dog = namedtuple('Dog', ['age', 'breed','name'])"
   ]
  },
  {
   "cell_type": "code",
   "execution_count": 28,
   "id": "f1125a3a-7324-40bd-92ae-4cbd57e91be1",
   "metadata": {},
   "outputs": [],
   "source": [
    "Sammy = dog(age = 4, breed = 'Husky', name = 'sam')"
   ]
  },
  {
   "cell_type": "code",
   "execution_count": 29,
   "id": "caf1ec0b-35ee-46b4-ae53-c22192b33038",
   "metadata": {},
   "outputs": [
    {
     "data": {
      "text/plain": [
       "__main__.Dog"
      ]
     },
     "execution_count": 29,
     "metadata": {},
     "output_type": "execute_result"
    }
   ],
   "source": [
    "type(Sammy)"
   ]
  },
  {
   "cell_type": "code",
   "execution_count": 30,
   "id": "7a0f0917-c615-4b4d-b4ba-c407705fb1d5",
   "metadata": {},
   "outputs": [
    {
     "data": {
      "text/plain": [
       "Dog(age=4, breed='Husky', name='sam')"
      ]
     },
     "execution_count": 30,
     "metadata": {},
     "output_type": "execute_result"
    }
   ],
   "source": [
    "Sammy"
   ]
  },
  {
   "cell_type": "code",
   "execution_count": 31,
   "id": "d9219577-117e-40a6-8096-6dba4d0cad2d",
   "metadata": {},
   "outputs": [
    {
     "data": {
      "text/plain": [
       "'sam'"
      ]
     },
     "execution_count": 31,
     "metadata": {},
     "output_type": "execute_result"
    }
   ],
   "source": [
    "Sammy.name"
   ]
  },
  {
   "cell_type": "code",
   "execution_count": 32,
   "id": "0fde6d5b-1ba3-4610-905d-2b039f3af00d",
   "metadata": {},
   "outputs": [
    {
     "data": {
      "text/plain": [
       "'Husky'"
      ]
     },
     "execution_count": 32,
     "metadata": {},
     "output_type": "execute_result"
    }
   ],
   "source": [
    "Sammy.breed"
   ]
  },
  {
   "cell_type": "code",
   "execution_count": 33,
   "id": "bbe6a74c-8819-41ba-9c05-0f60d0ef0fdd",
   "metadata": {},
   "outputs": [
    {
     "data": {
      "text/plain": [
       "4"
      ]
     },
     "execution_count": 33,
     "metadata": {},
     "output_type": "execute_result"
    }
   ],
   "source": [
    "Sammy.age"
   ]
  },
  {
   "cell_type": "code",
   "execution_count": 34,
   "id": "c0bf4bed-ea40-4176-a2ea-e65ff1821d25",
   "metadata": {},
   "outputs": [
    {
     "data": {
      "text/plain": [
       "4"
      ]
     },
     "execution_count": 34,
     "metadata": {},
     "output_type": "execute_result"
    }
   ],
   "source": [
    "Sammy[0]"
   ]
  },
  {
   "cell_type": "code",
   "execution_count": 35,
   "id": "722aeaef-94aa-4c26-b7ac-963254223347",
   "metadata": {},
   "outputs": [
    {
     "data": {
      "text/plain": [
       "'C:\\\\Users\\\\IshitaBhojani\\\\Downloads\\\\Python Traning\\\\Advanced Python Module'"
      ]
     },
     "execution_count": 35,
     "metadata": {},
     "output_type": "execute_result"
    }
   ],
   "source": [
    "pwd"
   ]
  },
  {
   "cell_type": "code",
   "execution_count": 36,
   "id": "5020557f-d16a-48c2-8e66-823944ccf13d",
   "metadata": {},
   "outputs": [],
   "source": [
    "f = open('Practice.txt', 'w+')\n",
    "f.write('This is a test string')\n",
    "f.close()"
   ]
  },
  {
   "cell_type": "code",
   "execution_count": 37,
   "id": "f5637956-9346-4d87-817b-9ce13d45fa45",
   "metadata": {},
   "outputs": [],
   "source": [
    "import os"
   ]
  },
  {
   "cell_type": "code",
   "execution_count": 38,
   "id": "bfa89404-92a5-437c-93dc-9e3c4e24c337",
   "metadata": {},
   "outputs": [
    {
     "data": {
      "text/plain": [
       "'C:\\\\Users\\\\IshitaBhojani\\\\Downloads\\\\Python Traning\\\\Advanced Python Module'"
      ]
     },
     "execution_count": 38,
     "metadata": {},
     "output_type": "execute_result"
    }
   ],
   "source": [
    "os.getcwd()"
   ]
  },
  {
   "cell_type": "code",
   "execution_count": 39,
   "id": "472ee5fb-9ac7-4972-a6d0-2d6e1a1fcad3",
   "metadata": {},
   "outputs": [],
   "source": [
    "import shutil\n",
    "import os\n"
   ]
  },
  {
   "cell_type": "code",
   "execution_count": 40,
   "id": "a45f6332-f175-4e0b-8f93-5d1e313949cc",
   "metadata": {},
   "outputs": [
    {
     "data": {
      "text/plain": [
       "'C:\\\\Users\\\\IshitaBhojani\\\\Downloads\\\\Python Traning\\\\practice.txt'"
      ]
     },
     "execution_count": 40,
     "metadata": {},
     "output_type": "execute_result"
    }
   ],
   "source": [
    "shutil.move('practice.txt', 'C:\\\\Users\\\\IshitaBhojani\\\\Downloads\\\\Python Traning')"
   ]
  },
  {
   "cell_type": "code",
   "execution_count": 41,
   "id": "bcbbe889-ba56-4416-a477-c6a4a8eaaae3",
   "metadata": {},
   "outputs": [],
   "source": [
    "import send2trash"
   ]
  },
  {
   "cell_type": "code",
   "execution_count": 42,
   "id": "ae20d1df-a245-4205-83d5-8c5e14c2bee5",
   "metadata": {},
   "outputs": [
    {
     "data": {
      "text/plain": [
       "['.ipynb_checkpoints', 'Untitled.ipynb']"
      ]
     },
     "execution_count": 42,
     "metadata": {},
     "output_type": "execute_result"
    }
   ],
   "source": [
    "os.listdir()"
   ]
  },
  {
   "cell_type": "code",
   "execution_count": 43,
   "id": "89c8e701-7a8c-4ae4-89d8-1ca60d1a23f9",
   "metadata": {},
   "outputs": [],
   "source": [
    "send2trash.send2trash('C:\\\\Users\\\\IshitaBhojani\\\\Downloads\\\\Python Traning\\\\practice.txt')"
   ]
  },
  {
   "cell_type": "code",
   "execution_count": 44,
   "id": "8c52474b-09e8-40d9-9ba3-2923d6388877",
   "metadata": {},
   "outputs": [],
   "source": [
    "file_path = 'C:\\\\Users\\\\IshitaBhojani\\\\Downloads\\\\Python Traning'"
   ]
  },
  {
   "cell_type": "code",
   "execution_count": 45,
   "id": "43b421bc-0da4-4812-896d-6cbe9238d353",
   "metadata": {},
   "outputs": [
    {
     "name": "stdout",
     "output_type": "stream",
     "text": [
      "Currently looking at C:\\Users\\IshitaBhojani\\Downloads\\Python Traning\n",
      "\n",
      "\n",
      "The subfolders are: \n",
      "Subfolder: .ipynb_checkpoints\n",
      "Subfolder: Advanced Python Module\n",
      "Subfolder: Error and Exception Handling\n",
      "Subfolder: Methods and Functions\n",
      "Subfolder: Milestone Project I\n",
      "Subfolder: Milestone Project II\n",
      "Subfolder: Object Oriented Programming\n",
      "Subfolder: Objects and Data Structures in Python\n",
      "Subfolder: Python Decorators\n",
      "Subfolder: Python Generators\n",
      "Subfolder: Python Statements\n",
      "\n",
      "\n",
      "The files are: \n",
      "Files Methods and functions.ipynb\n",
      "Files Milestone Project II.ipynb\n",
      "Files myfile.txt\n",
      "Files my_new_file.txt\n",
      "\n",
      "\n",
      "Currently looking at C:\\Users\\IshitaBhojani\\Downloads\\Python Traning\\.ipynb_checkpoints\n",
      "\n",
      "\n",
      "The subfolders are: \n",
      "\n",
      "\n",
      "The files are: \n",
      "Files Methods and functions-checkpoint.ipynb\n",
      "Files Milestone Project II-checkpoint.ipynb\n",
      "Files Objects and Data Structures Assessment Test-checkpoint.ipynb\n",
      "Files Python_Comparison_Operators-checkpoint.ipynb\n",
      "Files Python_Object_and_Data_Structure_Basics-checkpoint.ipynb\n",
      "Files Python_Statements-checkpoint.ipynb\n",
      "\n",
      "\n",
      "Currently looking at C:\\Users\\IshitaBhojani\\Downloads\\Python Traning\\Advanced Python Module\n",
      "\n",
      "\n",
      "The subfolders are: \n",
      "Subfolder: .ipynb_checkpoints\n",
      "\n",
      "\n",
      "The files are: \n",
      "Files Untitled.ipynb\n",
      "\n",
      "\n",
      "Currently looking at C:\\Users\\IshitaBhojani\\Downloads\\Python Traning\\Advanced Python Module\\.ipynb_checkpoints\n",
      "\n",
      "\n",
      "The subfolders are: \n",
      "\n",
      "\n",
      "The files are: \n",
      "Files Untitled-checkpoint.ipynb\n",
      "\n",
      "\n",
      "Currently looking at C:\\Users\\IshitaBhojani\\Downloads\\Python Traning\\Error and Exception Handling\n",
      "\n",
      "\n",
      "The subfolders are: \n",
      "Subfolder: .ipynb_checkpoints\n",
      "\n",
      "\n",
      "The files are: \n",
      "Files Errors and Exceptions Homework.ipynb\n",
      "Files Errors and Exceptions.ipynb\n",
      "Files testfile\n",
      "\n",
      "\n",
      "Currently looking at C:\\Users\\IshitaBhojani\\Downloads\\Python Traning\\Error and Exception Handling\\.ipynb_checkpoints\n",
      "\n",
      "\n",
      "The subfolders are: \n",
      "\n",
      "\n",
      "The files are: \n",
      "Files Errors and Exceptions Homework-checkpoint.ipynb\n",
      "Files Errors and Exceptions-checkpoint.ipynb\n",
      "\n",
      "\n",
      "Currently looking at C:\\Users\\IshitaBhojani\\Downloads\\Python Traning\\Methods and Functions\n",
      "\n",
      "\n",
      "The subfolders are: \n",
      "Subfolder: .ipynb_checkpoints\n",
      "\n",
      "\n",
      "The files are: \n",
      "Files Function Practice Exercises.ipynb\n",
      "\n",
      "\n",
      "Currently looking at C:\\Users\\IshitaBhojani\\Downloads\\Python Traning\\Methods and Functions\\.ipynb_checkpoints\n",
      "\n",
      "\n",
      "The subfolders are: \n",
      "\n",
      "\n",
      "The files are: \n",
      "Files Function Practice Exercises-checkpoint.ipynb\n",
      "\n",
      "\n",
      "Currently looking at C:\\Users\\IshitaBhojani\\Downloads\\Python Traning\\Milestone Project I\n",
      "\n",
      "\n",
      "The subfolders are: \n",
      "Subfolder: .ipynb_checkpoints\n",
      "\n",
      "\n",
      "The files are: \n",
      "Files Milestone Project 1.ipynb\n",
      "\n",
      "\n",
      "Currently looking at C:\\Users\\IshitaBhojani\\Downloads\\Python Traning\\Milestone Project I\\.ipynb_checkpoints\n",
      "\n",
      "\n",
      "The subfolders are: \n",
      "\n",
      "\n",
      "The files are: \n",
      "Files Milestone Project 1-checkpoint.ipynb\n",
      "\n",
      "\n",
      "Currently looking at C:\\Users\\IshitaBhojani\\Downloads\\Python Traning\\Milestone Project II\n",
      "\n",
      "\n",
      "The subfolders are: \n",
      "Subfolder: .ipynb_checkpoints\n",
      "\n",
      "\n",
      "The files are: \n",
      "Files Milestone Project II.ipynb\n",
      "\n",
      "\n",
      "Currently looking at C:\\Users\\IshitaBhojani\\Downloads\\Python Traning\\Milestone Project II\\.ipynb_checkpoints\n",
      "\n",
      "\n",
      "The subfolders are: \n",
      "\n",
      "\n",
      "The files are: \n",
      "Files Milestone Project II-checkpoint.ipynb\n",
      "\n",
      "\n",
      "Currently looking at C:\\Users\\IshitaBhojani\\Downloads\\Python Traning\\Object Oriented Programming\n",
      "\n",
      "\n",
      "The subfolders are: \n",
      "Subfolder: .ipynb_checkpoints\n",
      "\n",
      "\n",
      "The files are: \n",
      "Files Object Oriented Programming Homework.ipynb\n",
      "Files OOP Challenge.ipynb\n",
      "Files OOPs.ipynb\n",
      "\n",
      "\n",
      "Currently looking at C:\\Users\\IshitaBhojani\\Downloads\\Python Traning\\Object Oriented Programming\\.ipynb_checkpoints\n",
      "\n",
      "\n",
      "The subfolders are: \n",
      "\n",
      "\n",
      "The files are: \n",
      "Files Object Oriented Programming Homework-checkpoint.ipynb\n",
      "Files OOP Challenge-checkpoint.ipynb\n",
      "Files OOPs-checkpoint.ipynb\n",
      "\n",
      "\n",
      "Currently looking at C:\\Users\\IshitaBhojani\\Downloads\\Python Traning\\Objects and Data Structures in Python\n",
      "\n",
      "\n",
      "The subfolders are: \n",
      "Subfolder: .ipynb_checkpoints\n",
      "\n",
      "\n",
      "The files are: \n",
      "Files Objects and Data Structures Assessment Test.ipynb\n",
      "Files Python_Comparison_Operators.ipynb\n",
      "Files Python_Object_and_Data_Structure_Basics.ipynb\n",
      "Files Python_Statements.ipynb\n",
      "\n",
      "\n",
      "Currently looking at C:\\Users\\IshitaBhojani\\Downloads\\Python Traning\\Objects and Data Structures in Python\\.ipynb_checkpoints\n",
      "\n",
      "\n",
      "The subfolders are: \n",
      "\n",
      "\n",
      "The files are: \n",
      "Files Python_Object_and_Data_Structure_Basics-checkpoint.ipynb\n",
      "\n",
      "\n",
      "Currently looking at C:\\Users\\IshitaBhojani\\Downloads\\Python Traning\\Python Decorators\n",
      "\n",
      "\n",
      "The subfolders are: \n",
      "Subfolder: .ipynb_checkpoints\n",
      "\n",
      "\n",
      "The files are: \n",
      "Files Decorator.ipynb\n",
      "\n",
      "\n",
      "Currently looking at C:\\Users\\IshitaBhojani\\Downloads\\Python Traning\\Python Decorators\\.ipynb_checkpoints\n",
      "\n",
      "\n",
      "The subfolders are: \n",
      "\n",
      "\n",
      "The files are: \n",
      "Files Decorator-checkpoint.ipynb\n",
      "\n",
      "\n",
      "Currently looking at C:\\Users\\IshitaBhojani\\Downloads\\Python Traning\\Python Generators\n",
      "\n",
      "\n",
      "The subfolders are: \n",
      "Subfolder: .ipynb_checkpoints\n",
      "\n",
      "\n",
      "The files are: \n",
      "Files Iterators and Generators Homework.ipynb\n",
      "Files Python Generator.ipynb\n",
      "\n",
      "\n",
      "Currently looking at C:\\Users\\IshitaBhojani\\Downloads\\Python Traning\\Python Generators\\.ipynb_checkpoints\n",
      "\n",
      "\n",
      "The subfolders are: \n",
      "\n",
      "\n",
      "The files are: \n",
      "Files Iterators and Generators Homework-checkpoint.ipynb\n",
      "Files Python Generator-checkpoint.ipynb\n",
      "\n",
      "\n",
      "Currently looking at C:\\Users\\IshitaBhojani\\Downloads\\Python Traning\\Python Statements\n",
      "\n",
      "\n",
      "The subfolders are: \n",
      "Subfolder: .ipynb_checkpoints\n",
      "\n",
      "\n",
      "The files are: \n",
      "Files 07-Statements Assessment Test.ipynb\n",
      "Files 09-Guessing Game Challenge.ipynb\n",
      "\n",
      "\n",
      "Currently looking at C:\\Users\\IshitaBhojani\\Downloads\\Python Traning\\Python Statements\\.ipynb_checkpoints\n",
      "\n",
      "\n",
      "The subfolders are: \n",
      "\n",
      "\n",
      "The files are: \n",
      "Files 07-Statements Assessment Test-checkpoint.ipynb\n",
      "Files 09-Guessing Game Challenge-checkpoint.ipynb\n",
      "\n",
      "\n"
     ]
    }
   ],
   "source": [
    "for folder, sub_folders, files in os.walk(file_path):\n",
    "    print(f\"Currently looking at {folder}\")\n",
    "    print('\\n')\n",
    "    print('The subfolders are: ')\n",
    "    for sub_fold in sub_folders:\n",
    "        print(f'Subfolder: {sub_fold}')\n",
    "\n",
    "    print('\\n')\n",
    "    print(\"The files are: \")\n",
    "    for f in files:\n",
    "        print(f\"Files {f}\")\n",
    "    print(\"\\n\")"
   ]
  },
  {
   "cell_type": "code",
   "execution_count": 46,
   "id": "e2ca3d43-945f-444d-b2b9-6ef11d8474ed",
   "metadata": {},
   "outputs": [],
   "source": [
    "import datetime"
   ]
  },
  {
   "cell_type": "code",
   "execution_count": 47,
   "id": "a4ea51b2-c699-45b7-8989-e47844955618",
   "metadata": {},
   "outputs": [],
   "source": [
    "mytime = datetime.time(2)"
   ]
  },
  {
   "cell_type": "code",
   "execution_count": 48,
   "id": "404e7e3d-ea51-42e0-b41c-4199d915ff2c",
   "metadata": {},
   "outputs": [
    {
     "data": {
      "text/plain": [
       "0"
      ]
     },
     "execution_count": 48,
     "metadata": {},
     "output_type": "execute_result"
    }
   ],
   "source": [
    "mytime.minute"
   ]
  },
  {
   "cell_type": "code",
   "execution_count": 49,
   "id": "8898b41b-e210-423f-ae41-2f47d1c09ac2",
   "metadata": {},
   "outputs": [
    {
     "data": {
      "text/plain": [
       "2"
      ]
     },
     "execution_count": 49,
     "metadata": {},
     "output_type": "execute_result"
    }
   ],
   "source": [
    "mytime.hour"
   ]
  },
  {
   "cell_type": "code",
   "execution_count": 50,
   "id": "5220444d-ceec-40f6-8cef-4f9d305b3d1f",
   "metadata": {},
   "outputs": [
    {
     "name": "stdout",
     "output_type": "stream",
     "text": [
      "02:00:00\n"
     ]
    }
   ],
   "source": [
    "print(mytime)"
   ]
  },
  {
   "cell_type": "code",
   "execution_count": 51,
   "id": "805aa183-028a-40c0-97ec-c03aa2a7b79f",
   "metadata": {},
   "outputs": [
    {
     "data": {
      "text/plain": [
       "0"
      ]
     },
     "execution_count": 51,
     "metadata": {},
     "output_type": "execute_result"
    }
   ],
   "source": [
    "mytime.microsecond"
   ]
  },
  {
   "cell_type": "code",
   "execution_count": 52,
   "id": "76e709a4-1553-4c51-ba8a-918b8ee9e89c",
   "metadata": {},
   "outputs": [
    {
     "data": {
      "text/plain": [
       "datetime.time"
      ]
     },
     "execution_count": 52,
     "metadata": {},
     "output_type": "execute_result"
    }
   ],
   "source": [
    "type(mytime)\n",
    "\n",
    "\n"
   ]
  },
  {
   "cell_type": "code",
   "execution_count": 53,
   "id": "e0ca2729-4f61-4264-9653-b3995a35cbb1",
   "metadata": {},
   "outputs": [],
   "source": [
    "today = datetime.date.today()"
   ]
  },
  {
   "cell_type": "code",
   "execution_count": 54,
   "id": "2463ded9-637e-46b3-9fa6-5f21e778ded9",
   "metadata": {},
   "outputs": [
    {
     "name": "stdout",
     "output_type": "stream",
     "text": [
      "2025-07-11\n"
     ]
    }
   ],
   "source": [
    "print(today)"
   ]
  },
  {
   "cell_type": "code",
   "execution_count": 55,
   "id": "fbf874e6-bd05-4b61-a314-d896cac2a7b3",
   "metadata": {},
   "outputs": [
    {
     "data": {
      "text/plain": [
       "2025"
      ]
     },
     "execution_count": 55,
     "metadata": {},
     "output_type": "execute_result"
    }
   ],
   "source": [
    "today.year"
   ]
  },
  {
   "cell_type": "code",
   "execution_count": 56,
   "id": "447ae152-ab02-41ab-87f8-30f0d61842e1",
   "metadata": {},
   "outputs": [
    {
     "data": {
      "text/plain": [
       "11"
      ]
     },
     "execution_count": 56,
     "metadata": {},
     "output_type": "execute_result"
    }
   ],
   "source": [
    "today.day"
   ]
  },
  {
   "cell_type": "code",
   "execution_count": 57,
   "id": "0c983546-a770-499a-98b9-144b3085c9c4",
   "metadata": {},
   "outputs": [
    {
     "data": {
      "text/plain": [
       "7"
      ]
     },
     "execution_count": 57,
     "metadata": {},
     "output_type": "execute_result"
    }
   ],
   "source": [
    "today.month"
   ]
  },
  {
   "cell_type": "code",
   "execution_count": 58,
   "id": "e89326bd-e87c-4b11-8773-06bd89699e36",
   "metadata": {},
   "outputs": [
    {
     "data": {
      "text/plain": [
       "'Fri Jul 11 00:00:00 2025'"
      ]
     },
     "execution_count": 58,
     "metadata": {},
     "output_type": "execute_result"
    }
   ],
   "source": [
    "today.ctime()"
   ]
  },
  {
   "cell_type": "code",
   "execution_count": 59,
   "id": "62aefbad-f215-40f9-aac9-099bba2e5708",
   "metadata": {},
   "outputs": [],
   "source": [
    "from datetime import datetime"
   ]
  },
  {
   "cell_type": "code",
   "execution_count": 60,
   "id": "6a77d1c6-9f8a-4164-b451-b40f387c0363",
   "metadata": {},
   "outputs": [],
   "source": [
    "mydatetime = datetime(2021, 10, 3, 14, 20, 1)"
   ]
  },
  {
   "cell_type": "code",
   "execution_count": 61,
   "id": "64e7c553-90ca-40d4-84bf-2c09659adc3f",
   "metadata": {},
   "outputs": [
    {
     "name": "stdout",
     "output_type": "stream",
     "text": [
      "2021-10-03 14:20:01\n"
     ]
    }
   ],
   "source": [
    "print(mydatetime)"
   ]
  },
  {
   "cell_type": "code",
   "execution_count": 62,
   "id": "485bd302-89f9-4620-a5dd-728eda51fc60",
   "metadata": {},
   "outputs": [],
   "source": [
    "mydatetime = mydatetime.replace(year = 2020)"
   ]
  },
  {
   "cell_type": "code",
   "execution_count": 63,
   "id": "2f355bb3-2f52-4c34-ad30-386aaa7a66ab",
   "metadata": {},
   "outputs": [
    {
     "name": "stdout",
     "output_type": "stream",
     "text": [
      "2020-10-03 14:20:01\n"
     ]
    }
   ],
   "source": [
    "print(mydatetime)"
   ]
  },
  {
   "cell_type": "code",
   "execution_count": 64,
   "id": "42106aa4-febb-4067-b18b-b1afd083cdeb",
   "metadata": {},
   "outputs": [],
   "source": [
    "from datetime import date"
   ]
  },
  {
   "cell_type": "code",
   "execution_count": 65,
   "id": "d2da54a2-92fd-4867-b035-2cef75026271",
   "metadata": {},
   "outputs": [],
   "source": [
    "date1 = date(2021, 11, 3)\n",
    "date2 = date(2020, 11, 3)"
   ]
  },
  {
   "cell_type": "code",
   "execution_count": 66,
   "id": "8c67b977-e2f5-4dee-a749-186001ddc2ab",
   "metadata": {},
   "outputs": [],
   "source": [
    "result = date1- date2"
   ]
  },
  {
   "cell_type": "code",
   "execution_count": 67,
   "id": "c1737953-0027-49a6-8203-c29aa9e7258e",
   "metadata": {},
   "outputs": [
    {
     "data": {
      "text/plain": [
       "datetime.timedelta"
      ]
     },
     "execution_count": 67,
     "metadata": {},
     "output_type": "execute_result"
    }
   ],
   "source": [
    "type(result)"
   ]
  },
  {
   "cell_type": "code",
   "execution_count": 68,
   "id": "5715ffbc-2f25-4ea5-9110-b0519bfd525c",
   "metadata": {},
   "outputs": [
    {
     "data": {
      "text/plain": [
       "365"
      ]
     },
     "execution_count": 68,
     "metadata": {},
     "output_type": "execute_result"
    }
   ],
   "source": [
    "result.days"
   ]
  },
  {
   "cell_type": "code",
   "execution_count": 69,
   "id": "cd398da3-222e-4b64-932c-b895171173ae",
   "metadata": {},
   "outputs": [],
   "source": [
    "datetime1 = datetime(2021,12,3,22,0)"
   ]
  },
  {
   "cell_type": "code",
   "execution_count": 70,
   "id": "8c20980a-9605-4f5f-9564-1e4da53da93a",
   "metadata": {},
   "outputs": [],
   "source": [
    "datetime2 = datetime(2020, 11, 3, 12, 0)"
   ]
  },
  {
   "cell_type": "code",
   "execution_count": 71,
   "id": "16ce6843-3e7e-45f8-a12c-576e62134216",
   "metadata": {},
   "outputs": [
    {
     "data": {
      "text/plain": [
       "datetime.timedelta(days=395, seconds=36000)"
      ]
     },
     "execution_count": 71,
     "metadata": {},
     "output_type": "execute_result"
    }
   ],
   "source": [
    "datetime1 - datetime2"
   ]
  },
  {
   "cell_type": "code",
   "execution_count": 72,
   "id": "f89ee855-9bff-4bf4-bb51-579389df2db5",
   "metadata": {},
   "outputs": [
    {
     "data": {
      "text/plain": [
       "10.0"
      ]
     },
     "execution_count": 72,
     "metadata": {},
     "output_type": "execute_result"
    }
   ],
   "source": [
    "36000/60/60\n"
   ]
  },
  {
   "cell_type": "code",
   "execution_count": 73,
   "id": "8be4d51f-33b4-496f-9097-ea2699d5dc9a",
   "metadata": {},
   "outputs": [],
   "source": [
    "mydiff = datetime1 - datetime2"
   ]
  },
  {
   "cell_type": "code",
   "execution_count": 74,
   "id": "0ce2fb01-5d9d-459f-ba09-0a978406e567",
   "metadata": {},
   "outputs": [
    {
     "data": {
      "text/plain": [
       "36000"
      ]
     },
     "execution_count": 74,
     "metadata": {},
     "output_type": "execute_result"
    }
   ],
   "source": [
    "mydiff.seconds"
   ]
  },
  {
   "cell_type": "code",
   "execution_count": 75,
   "id": "9b4af8bb-0a3c-4f29-8b7e-ee729158667c",
   "metadata": {},
   "outputs": [
    {
     "data": {
      "text/plain": [
       "34164000.0"
      ]
     },
     "execution_count": 75,
     "metadata": {},
     "output_type": "execute_result"
    }
   ],
   "source": [
    "mydiff.total_seconds()"
   ]
  },
  {
   "cell_type": "code",
   "execution_count": 76,
   "id": "e42d5fee-05a3-4f7f-b795-3a8a473aaf46",
   "metadata": {},
   "outputs": [],
   "source": [
    "import math"
   ]
  },
  {
   "cell_type": "code",
   "execution_count": 77,
   "id": "9f490fef-746a-4c1b-99db-6f5e1efd4497",
   "metadata": {},
   "outputs": [
    {
     "name": "stdout",
     "output_type": "stream",
     "text": [
      "Help on built-in module math:\n",
      "\n",
      "NAME\n",
      "    math\n",
      "\n",
      "DESCRIPTION\n",
      "    This module provides access to the mathematical functions\n",
      "    defined by the C standard.\n",
      "\n",
      "FUNCTIONS\n",
      "    acos(x, /)\n",
      "        Return the arc cosine (measured in radians) of x.\n",
      "\n",
      "        The result is between 0 and pi.\n",
      "\n",
      "    acosh(x, /)\n",
      "        Return the inverse hyperbolic cosine of x.\n",
      "\n",
      "    asin(x, /)\n",
      "        Return the arc sine (measured in radians) of x.\n",
      "\n",
      "        The result is between -pi/2 and pi/2.\n",
      "\n",
      "    asinh(x, /)\n",
      "        Return the inverse hyperbolic sine of x.\n",
      "\n",
      "    atan(x, /)\n",
      "        Return the arc tangent (measured in radians) of x.\n",
      "\n",
      "        The result is between -pi/2 and pi/2.\n",
      "\n",
      "    atan2(y, x, /)\n",
      "        Return the arc tangent (measured in radians) of y/x.\n",
      "\n",
      "        Unlike atan(y/x), the signs of both x and y are considered.\n",
      "\n",
      "    atanh(x, /)\n",
      "        Return the inverse hyperbolic tangent of x.\n",
      "\n",
      "    cbrt(x, /)\n",
      "        Return the cube root of x.\n",
      "\n",
      "    ceil(x, /)\n",
      "        Return the ceiling of x as an Integral.\n",
      "\n",
      "        This is the smallest integer >= x.\n",
      "\n",
      "    comb(n, k, /)\n",
      "        Number of ways to choose k items from n items without repetition and without order.\n",
      "\n",
      "        Evaluates to n! / (k! * (n - k)!) when k <= n and evaluates\n",
      "        to zero when k > n.\n",
      "\n",
      "        Also called the binomial coefficient because it is equivalent\n",
      "        to the coefficient of k-th term in polynomial expansion of the\n",
      "        expression (1 + x)**n.\n",
      "\n",
      "        Raises TypeError if either of the arguments are not integers.\n",
      "        Raises ValueError if either of the arguments are negative.\n",
      "\n",
      "    copysign(x, y, /)\n",
      "        Return a float with the magnitude (absolute value) of x but the sign of y.\n",
      "\n",
      "        On platforms that support signed zeros, copysign(1.0, -0.0)\n",
      "        returns -1.0.\n",
      "\n",
      "    cos(x, /)\n",
      "        Return the cosine of x (measured in radians).\n",
      "\n",
      "    cosh(x, /)\n",
      "        Return the hyperbolic cosine of x.\n",
      "\n",
      "    degrees(x, /)\n",
      "        Convert angle x from radians to degrees.\n",
      "\n",
      "    dist(p, q, /)\n",
      "        Return the Euclidean distance between two points p and q.\n",
      "\n",
      "        The points should be specified as sequences (or iterables) of\n",
      "        coordinates.  Both inputs must have the same dimension.\n",
      "\n",
      "        Roughly equivalent to:\n",
      "            sqrt(sum((px - qx) ** 2.0 for px, qx in zip(p, q)))\n",
      "\n",
      "    erf(x, /)\n",
      "        Error function at x.\n",
      "\n",
      "    erfc(x, /)\n",
      "        Complementary error function at x.\n",
      "\n",
      "    exp(x, /)\n",
      "        Return e raised to the power of x.\n",
      "\n",
      "    exp2(x, /)\n",
      "        Return 2 raised to the power of x.\n",
      "\n",
      "    expm1(x, /)\n",
      "        Return exp(x)-1.\n",
      "\n",
      "        This function avoids the loss of precision involved in the direct evaluation of exp(x)-1 for small x.\n",
      "\n",
      "    fabs(x, /)\n",
      "        Return the absolute value of the float x.\n",
      "\n",
      "    factorial(n, /)\n",
      "        Find n!.\n",
      "\n",
      "    floor(x, /)\n",
      "        Return the floor of x as an Integral.\n",
      "\n",
      "        This is the largest integer <= x.\n",
      "\n",
      "    fma(x, y, z, /)\n",
      "        Fused multiply-add operation.\n",
      "\n",
      "        Compute (x * y) + z with a single round.\n",
      "\n",
      "    fmod(x, y, /)\n",
      "        Return fmod(x, y), according to platform C.\n",
      "\n",
      "        x % y may differ.\n",
      "\n",
      "    frexp(x, /)\n",
      "        Return the mantissa and exponent of x, as pair (m, e).\n",
      "\n",
      "        m is a float and e is an int, such that x = m * 2.**e.\n",
      "        If x is 0, m and e are both 0.  Else 0.5 <= abs(m) < 1.0.\n",
      "\n",
      "    fsum(seq, /)\n",
      "        Return an accurate floating-point sum of values in the iterable seq.\n",
      "\n",
      "        Assumes IEEE-754 floating-point arithmetic.\n",
      "\n",
      "    gamma(x, /)\n",
      "        Gamma function at x.\n",
      "\n",
      "    gcd(*integers)\n",
      "        Greatest Common Divisor.\n",
      "\n",
      "    hypot(...)\n",
      "        hypot(*coordinates) -> value\n",
      "\n",
      "        Multidimensional Euclidean distance from the origin to a point.\n",
      "\n",
      "        Roughly equivalent to:\n",
      "            sqrt(sum(x**2 for x in coordinates))\n",
      "\n",
      "        For a two dimensional point (x, y), gives the hypotenuse\n",
      "        using the Pythagorean theorem:  sqrt(x*x + y*y).\n",
      "\n",
      "        For example, the hypotenuse of a 3/4/5 right triangle is:\n",
      "\n",
      "            >>> hypot(3.0, 4.0)\n",
      "            5.0\n",
      "\n",
      "    isclose(a, b, *, rel_tol=1e-09, abs_tol=0.0)\n",
      "        Determine whether two floating-point numbers are close in value.\n",
      "\n",
      "          rel_tol\n",
      "            maximum difference for being considered \"close\", relative to the\n",
      "            magnitude of the input values\n",
      "          abs_tol\n",
      "            maximum difference for being considered \"close\", regardless of the\n",
      "            magnitude of the input values\n",
      "\n",
      "        Return True if a is close in value to b, and False otherwise.\n",
      "\n",
      "        For the values to be considered close, the difference between them\n",
      "        must be smaller than at least one of the tolerances.\n",
      "\n",
      "        -inf, inf and NaN behave similarly to the IEEE 754 Standard.  That\n",
      "        is, NaN is not close to anything, even itself.  inf and -inf are\n",
      "        only close to themselves.\n",
      "\n",
      "    isfinite(x, /)\n",
      "        Return True if x is neither an infinity nor a NaN, and False otherwise.\n",
      "\n",
      "    isinf(x, /)\n",
      "        Return True if x is a positive or negative infinity, and False otherwise.\n",
      "\n",
      "    isnan(x, /)\n",
      "        Return True if x is a NaN (not a number), and False otherwise.\n",
      "\n",
      "    isqrt(n, /)\n",
      "        Return the integer part of the square root of the input.\n",
      "\n",
      "    lcm(*integers)\n",
      "        Least Common Multiple.\n",
      "\n",
      "    ldexp(x, i, /)\n",
      "        Return x * (2**i).\n",
      "\n",
      "        This is essentially the inverse of frexp().\n",
      "\n",
      "    lgamma(x, /)\n",
      "        Natural logarithm of absolute value of Gamma function at x.\n",
      "\n",
      "    log(...)\n",
      "        log(x, [base=math.e])\n",
      "        Return the logarithm of x to the given base.\n",
      "\n",
      "        If the base is not specified, returns the natural logarithm (base e) of x.\n",
      "\n",
      "    log10(x, /)\n",
      "        Return the base 10 logarithm of x.\n",
      "\n",
      "    log1p(x, /)\n",
      "        Return the natural logarithm of 1+x (base e).\n",
      "\n",
      "        The result is computed in a way which is accurate for x near zero.\n",
      "\n",
      "    log2(x, /)\n",
      "        Return the base 2 logarithm of x.\n",
      "\n",
      "    modf(x, /)\n",
      "        Return the fractional and integer parts of x.\n",
      "\n",
      "        Both results carry the sign of x and are floats.\n",
      "\n",
      "    nextafter(x, y, /, *, steps=None)\n",
      "        Return the floating-point value the given number of steps after x towards y.\n",
      "\n",
      "        If steps is not specified or is None, it defaults to 1.\n",
      "\n",
      "        Raises a TypeError, if x or y is not a double, or if steps is not an integer.\n",
      "        Raises ValueError if steps is negative.\n",
      "\n",
      "    perm(n, k=None, /)\n",
      "        Number of ways to choose k items from n items without repetition and with order.\n",
      "\n",
      "        Evaluates to n! / (n - k)! when k <= n and evaluates\n",
      "        to zero when k > n.\n",
      "\n",
      "        If k is not specified or is None, then k defaults to n\n",
      "        and the function returns n!.\n",
      "\n",
      "        Raises TypeError if either of the arguments are not integers.\n",
      "        Raises ValueError if either of the arguments are negative.\n",
      "\n",
      "    pow(x, y, /)\n",
      "        Return x**y (x to the power of y).\n",
      "\n",
      "    prod(iterable, /, *, start=1)\n",
      "        Calculate the product of all the elements in the input iterable.\n",
      "\n",
      "        The default start value for the product is 1.\n",
      "\n",
      "        When the iterable is empty, return the start value.  This function is\n",
      "        intended specifically for use with numeric values and may reject\n",
      "        non-numeric types.\n",
      "\n",
      "    radians(x, /)\n",
      "        Convert angle x from degrees to radians.\n",
      "\n",
      "    remainder(x, y, /)\n",
      "        Difference between x and the closest integer multiple of y.\n",
      "\n",
      "        Return x - n*y where n*y is the closest integer multiple of y.\n",
      "        In the case where x is exactly halfway between two multiples of\n",
      "        y, the nearest even value of n is used. The result is always exact.\n",
      "\n",
      "    sin(x, /)\n",
      "        Return the sine of x (measured in radians).\n",
      "\n",
      "    sinh(x, /)\n",
      "        Return the hyperbolic sine of x.\n",
      "\n",
      "    sqrt(x, /)\n",
      "        Return the square root of x.\n",
      "\n",
      "    sumprod(p, q, /)\n",
      "        Return the sum of products of values from two iterables p and q.\n",
      "\n",
      "        Roughly equivalent to:\n",
      "\n",
      "            sum(itertools.starmap(operator.mul, zip(p, q, strict=True)))\n",
      "\n",
      "        For float and mixed int/float inputs, the intermediate products\n",
      "        and sums are computed with extended precision.\n",
      "\n",
      "    tan(x, /)\n",
      "        Return the tangent of x (measured in radians).\n",
      "\n",
      "    tanh(x, /)\n",
      "        Return the hyperbolic tangent of x.\n",
      "\n",
      "    trunc(x, /)\n",
      "        Truncates the Real x to the nearest Integral toward 0.\n",
      "\n",
      "        Uses the __trunc__ magic method.\n",
      "\n",
      "    ulp(x, /)\n",
      "        Return the value of the least significant bit of the float x.\n",
      "\n",
      "DATA\n",
      "    e = 2.718281828459045\n",
      "    inf = inf\n",
      "    nan = nan\n",
      "    pi = 3.141592653589793\n",
      "    tau = 6.283185307179586\n",
      "\n",
      "FILE\n",
      "    (built-in)\n",
      "\n",
      "\n"
     ]
    }
   ],
   "source": [
    "help(math)"
   ]
  },
  {
   "cell_type": "code",
   "execution_count": 78,
   "id": "736cd6e7-f05d-4155-b5a2-db0536c8f913",
   "metadata": {},
   "outputs": [],
   "source": [
    "value = 4.35"
   ]
  },
  {
   "cell_type": "code",
   "execution_count": 79,
   "id": "f2af9cd2-b479-4908-84f3-0eb9fdb9977a",
   "metadata": {},
   "outputs": [
    {
     "data": {
      "text/plain": [
       "4"
      ]
     },
     "execution_count": 79,
     "metadata": {},
     "output_type": "execute_result"
    }
   ],
   "source": [
    "math.floor(value)"
   ]
  },
  {
   "cell_type": "code",
   "execution_count": 80,
   "id": "80d0c54e-e75f-4803-be3a-336b13a1b6b9",
   "metadata": {},
   "outputs": [
    {
     "data": {
      "text/plain": [
       "5"
      ]
     },
     "execution_count": 80,
     "metadata": {},
     "output_type": "execute_result"
    }
   ],
   "source": [
    "math.ceil(value)"
   ]
  },
  {
   "cell_type": "code",
   "execution_count": 81,
   "id": "8e3027b2-eec2-4e9f-8321-e33e320d9e26",
   "metadata": {},
   "outputs": [
    {
     "data": {
      "text/plain": [
       "4"
      ]
     },
     "execution_count": 81,
     "metadata": {},
     "output_type": "execute_result"
    }
   ],
   "source": [
    "round(4.35)"
   ]
  },
  {
   "cell_type": "code",
   "execution_count": 82,
   "id": "3fa8e297-76d5-4b09-b8e0-7648dd8a28de",
   "metadata": {},
   "outputs": [
    {
     "data": {
      "text/plain": [
       "6"
      ]
     },
     "execution_count": 82,
     "metadata": {},
     "output_type": "execute_result"
    }
   ],
   "source": [
    "round(5.5)"
   ]
  },
  {
   "cell_type": "code",
   "execution_count": 83,
   "id": "35205a53-209d-4cdf-aaea-9da58e5365af",
   "metadata": {},
   "outputs": [
    {
     "data": {
      "text/plain": [
       "3.141592653589793"
      ]
     },
     "execution_count": 83,
     "metadata": {},
     "output_type": "execute_result"
    }
   ],
   "source": [
    "math.pi"
   ]
  },
  {
   "cell_type": "code",
   "execution_count": 84,
   "id": "9b20a7ed-073e-4b59-a622-56561ad4e8db",
   "metadata": {},
   "outputs": [],
   "source": [
    "from math import pi"
   ]
  },
  {
   "cell_type": "code",
   "execution_count": 85,
   "id": "127039ef-8227-4124-a9cc-8a2fb3b2b620",
   "metadata": {},
   "outputs": [
    {
     "data": {
      "text/plain": [
       "3.141592653589793"
      ]
     },
     "execution_count": 85,
     "metadata": {},
     "output_type": "execute_result"
    }
   ],
   "source": [
    "pi"
   ]
  },
  {
   "cell_type": "code",
   "execution_count": 86,
   "id": "02e22664-e991-4fd9-a6a3-e8f822f94e6d",
   "metadata": {},
   "outputs": [
    {
     "data": {
      "text/plain": [
       "2.718281828459045"
      ]
     },
     "execution_count": 86,
     "metadata": {},
     "output_type": "execute_result"
    }
   ],
   "source": [
    "math.e"
   ]
  },
  {
   "cell_type": "code",
   "execution_count": 87,
   "id": "9945f03d-4ca5-4ef8-87b8-52faa6704ec7",
   "metadata": {},
   "outputs": [
    {
     "data": {
      "text/plain": [
       "inf"
      ]
     },
     "execution_count": 87,
     "metadata": {},
     "output_type": "execute_result"
    }
   ],
   "source": [
    "math.inf"
   ]
  },
  {
   "cell_type": "code",
   "execution_count": 88,
   "id": "88f28227-768e-4be1-b3e0-1b7ce319e03f",
   "metadata": {},
   "outputs": [
    {
     "data": {
      "text/plain": [
       "nan"
      ]
     },
     "execution_count": 88,
     "metadata": {},
     "output_type": "execute_result"
    }
   ],
   "source": [
    "math.nan"
   ]
  },
  {
   "cell_type": "code",
   "execution_count": 89,
   "id": "06e95528-9e45-43e9-8561-acb46a071b1c",
   "metadata": {},
   "outputs": [
    {
     "data": {
      "text/plain": [
       "6.643856189774725"
      ]
     },
     "execution_count": 89,
     "metadata": {},
     "output_type": "execute_result"
    }
   ],
   "source": [
    "math.log(100,2)"
   ]
  },
  {
   "cell_type": "code",
   "execution_count": 90,
   "id": "e524140f-e10a-4749-846b-356e2e1147e9",
   "metadata": {},
   "outputs": [
    {
     "data": {
      "text/plain": [
       "3.141592653589793"
      ]
     },
     "execution_count": 90,
     "metadata": {},
     "output_type": "execute_result"
    }
   ],
   "source": [
    "math.radians(180)"
   ]
  },
  {
   "cell_type": "code",
   "execution_count": 91,
   "id": "a6a35a45-6dc2-4933-9d95-8cd1ec3add89",
   "metadata": {},
   "outputs": [],
   "source": [
    "import random"
   ]
  },
  {
   "cell_type": "code",
   "execution_count": 92,
   "id": "9ce32a06-618b-4065-9d7e-f0f04c9031b4",
   "metadata": {},
   "outputs": [
    {
     "data": {
      "text/plain": [
       "83"
      ]
     },
     "execution_count": 92,
     "metadata": {},
     "output_type": "execute_result"
    }
   ],
   "source": [
    "random.randint(0,100)"
   ]
  },
  {
   "cell_type": "code",
   "execution_count": 93,
   "id": "d0cc4e35-6f4d-4ecf-ba5f-0394443eed3c",
   "metadata": {},
   "outputs": [],
   "source": [
    "mylist = list(range(0,20))"
   ]
  },
  {
   "cell_type": "code",
   "execution_count": 94,
   "id": "3092fcd7-76f1-4c33-aeeb-84e479e63f7d",
   "metadata": {},
   "outputs": [
    {
     "data": {
      "text/plain": [
       "[0, 1, 2, 3, 4, 5, 6, 7, 8, 9, 10, 11, 12, 13, 14, 15, 16, 17, 18, 19]"
      ]
     },
     "execution_count": 94,
     "metadata": {},
     "output_type": "execute_result"
    }
   ],
   "source": [
    "mylist"
   ]
  },
  {
   "cell_type": "code",
   "execution_count": 95,
   "id": "5502168b-3175-4261-b1d8-0b03891fc828",
   "metadata": {},
   "outputs": [
    {
     "data": {
      "text/plain": [
       "6"
      ]
     },
     "execution_count": 95,
     "metadata": {},
     "output_type": "execute_result"
    }
   ],
   "source": [
    "random.choice(mylist)"
   ]
  },
  {
   "cell_type": "code",
   "execution_count": 96,
   "id": "3d91ddfe-1d05-4c83-be73-2bafd4bbcf98",
   "metadata": {},
   "outputs": [
    {
     "data": {
      "text/plain": [
       "[0, 1, 2, 3, 4, 5, 6, 7, 8, 9, 10, 11, 12, 13, 14, 15, 16, 17, 18, 19]"
      ]
     },
     "execution_count": 96,
     "metadata": {},
     "output_type": "execute_result"
    }
   ],
   "source": [
    "mylist"
   ]
  },
  {
   "cell_type": "code",
   "execution_count": null,
   "id": "76341123-87b3-46c3-a397-0e0d7d42f918",
   "metadata": {},
   "outputs": [],
   "source": []
  },
  {
   "cell_type": "code",
   "execution_count": 98,
   "id": "cdc73c17-ad59-41ad-8ab2-467d3fe93047",
   "metadata": {},
   "outputs": [
    {
     "data": {
      "text/plain": [
       "[14, 15, 1, 4, 16, 18, 13, 15, 6, 1]"
      ]
     },
     "execution_count": 98,
     "metadata": {},
     "output_type": "execute_result"
    }
   ],
   "source": [
    "# Sample with replacement\n",
    "random.choices(population= mylist, k=10)"
   ]
  },
  {
   "cell_type": "code",
   "execution_count": 99,
   "id": "de372ce6-f92b-4e34-bae9-a4ca927cc42b",
   "metadata": {},
   "outputs": [
    {
     "data": {
      "text/plain": [
       "[14, 9, 0, 3, 11, 6, 4, 19, 1, 17]"
      ]
     },
     "execution_count": 99,
     "metadata": {},
     "output_type": "execute_result"
    }
   ],
   "source": [
    "# Sample without replacement\n",
    "random.sample(population = mylist, k=10)"
   ]
  },
  {
   "cell_type": "code",
   "execution_count": 100,
   "id": "cb816c95-ab40-43a3-9974-fce3bd2c7887",
   "metadata": {},
   "outputs": [
    {
     "data": {
      "text/plain": [
       "[0, 1, 2, 3, 4, 5, 6, 7, 8, 9, 10, 11, 12, 13, 14, 15, 16, 17, 18, 19]"
      ]
     },
     "execution_count": 100,
     "metadata": {},
     "output_type": "execute_result"
    }
   ],
   "source": [
    "mylist"
   ]
  },
  {
   "cell_type": "code",
   "execution_count": 101,
   "id": "5f776c67-f61f-4963-9932-61e2fae4d776",
   "metadata": {},
   "outputs": [],
   "source": [
    "random.shuffle(mylist)"
   ]
  },
  {
   "cell_type": "code",
   "execution_count": 102,
   "id": "4dbf99e3-7ded-4cf3-bfc8-f8dac0930644",
   "metadata": {},
   "outputs": [
    {
     "data": {
      "text/plain": [
       "[0, 10, 15, 8, 4, 1, 13, 3, 7, 16, 12, 5, 6, 18, 19, 14, 9, 11, 17, 2]"
      ]
     },
     "execution_count": 102,
     "metadata": {},
     "output_type": "execute_result"
    }
   ],
   "source": [
    "mylist"
   ]
  },
  {
   "cell_type": "code",
   "execution_count": 103,
   "id": "e886a0ea-9667-4d93-a47e-1766f2bba404",
   "metadata": {},
   "outputs": [
    {
     "data": {
      "text/plain": [
       "72.51124358834188"
      ]
     },
     "execution_count": 103,
     "metadata": {},
     "output_type": "execute_result"
    }
   ],
   "source": [
    "random.uniform(a=0, b=100)"
   ]
  },
  {
   "cell_type": "code",
   "execution_count": 104,
   "id": "2f20e55e-936a-441a-b518-6cfd7d7bd0d9",
   "metadata": {},
   "outputs": [
    {
     "data": {
      "text/plain": [
       "-1.2321634627468718"
      ]
     },
     "execution_count": 104,
     "metadata": {},
     "output_type": "execute_result"
    }
   ],
   "source": [
    "random.gauss(mu=0, sigma =1)"
   ]
  },
  {
   "cell_type": "code",
   "execution_count": 105,
   "id": "5a6542c0-d934-4874-a9e9-81daf11d78ab",
   "metadata": {},
   "outputs": [],
   "source": [
    "text = \"The agent's phone number is 408-555-1234. call soon!\""
   ]
  },
  {
   "cell_type": "code",
   "execution_count": 106,
   "id": "9ff3bdc3-ff59-47e1-b06b-b561c3766862",
   "metadata": {},
   "outputs": [
    {
     "data": {
      "text/plain": [
       "True"
      ]
     },
     "execution_count": 106,
     "metadata": {},
     "output_type": "execute_result"
    }
   ],
   "source": [
    "'phone' in text"
   ]
  },
  {
   "cell_type": "code",
   "execution_count": 3,
   "id": "177e6df4-f569-4517-9d55-1e1c99caadc3",
   "metadata": {},
   "outputs": [],
   "source": [
    "import re"
   ]
  },
  {
   "cell_type": "code",
   "execution_count": 108,
   "id": "f50aab28-c90f-448b-9090-ed7f793d8459",
   "metadata": {},
   "outputs": [],
   "source": [
    "pattern = 'phone'"
   ]
  },
  {
   "cell_type": "code",
   "execution_count": 109,
   "id": "d58f29d4-2437-4565-8674-0d71eff92541",
   "metadata": {},
   "outputs": [
    {
     "data": {
      "text/plain": [
       "<re.Match object; span=(12, 17), match='phone'>"
      ]
     },
     "execution_count": 109,
     "metadata": {},
     "output_type": "execute_result"
    }
   ],
   "source": [
    "re.search(pattern, text)"
   ]
  },
  {
   "cell_type": "code",
   "execution_count": 110,
   "id": "f6b18444-42d5-4e11-a4ab-e20daea6f7c6",
   "metadata": {},
   "outputs": [],
   "source": [
    "pattern = 'NOT IN TEXT'"
   ]
  },
  {
   "cell_type": "code",
   "execution_count": 111,
   "id": "33de9f7c-8e73-4e27-a1b3-2fa10af687c3",
   "metadata": {},
   "outputs": [],
   "source": [
    "re.search(pattern, text)"
   ]
  },
  {
   "cell_type": "code",
   "execution_count": 112,
   "id": "f09e5ddd-a255-481d-8c0f-950b04e8603e",
   "metadata": {},
   "outputs": [],
   "source": [
    "pattern = 'phone'"
   ]
  },
  {
   "cell_type": "code",
   "execution_count": 115,
   "id": "ba6ecdd5-53f2-44da-9273-873ee5d9f816",
   "metadata": {},
   "outputs": [],
   "source": [
    "match = re.search(pattern, text)"
   ]
  },
  {
   "cell_type": "code",
   "execution_count": 116,
   "id": "31b38412-5575-48d3-b2f3-d34144a845b9",
   "metadata": {},
   "outputs": [
    {
     "data": {
      "text/plain": [
       "<re.Match object; span=(12, 17), match='phone'>"
      ]
     },
     "execution_count": 116,
     "metadata": {},
     "output_type": "execute_result"
    }
   ],
   "source": [
    "match"
   ]
  },
  {
   "cell_type": "code",
   "execution_count": 117,
   "id": "ff750753-4ab2-4dcf-badf-daf5f1739b23",
   "metadata": {},
   "outputs": [
    {
     "data": {
      "text/plain": [
       "(12, 17)"
      ]
     },
     "execution_count": 117,
     "metadata": {},
     "output_type": "execute_result"
    }
   ],
   "source": [
    "match.span()"
   ]
  },
  {
   "cell_type": "code",
   "execution_count": 118,
   "id": "0e9565f6-77e6-4c54-86c3-93f83e84fac9",
   "metadata": {},
   "outputs": [
    {
     "data": {
      "text/plain": [
       "12"
      ]
     },
     "execution_count": 118,
     "metadata": {},
     "output_type": "execute_result"
    }
   ],
   "source": [
    "match.start()"
   ]
  },
  {
   "cell_type": "code",
   "execution_count": 119,
   "id": "6e6f1c4a-2092-4ff2-9970-83ca7f8507bb",
   "metadata": {},
   "outputs": [
    {
     "data": {
      "text/plain": [
       "17"
      ]
     },
     "execution_count": 119,
     "metadata": {},
     "output_type": "execute_result"
    }
   ],
   "source": [
    "match.end()"
   ]
  },
  {
   "cell_type": "code",
   "execution_count": 120,
   "id": "a9a1acaf-42ab-4880-9901-bad960a59f81",
   "metadata": {},
   "outputs": [],
   "source": [
    "text = 'my phone once, my phone twice'"
   ]
  },
  {
   "cell_type": "code",
   "execution_count": 122,
   "id": "a79534a9-ea39-4764-a794-9978d8100f23",
   "metadata": {},
   "outputs": [],
   "source": [
    "match = re.search('phone', text)"
   ]
  },
  {
   "cell_type": "code",
   "execution_count": 123,
   "id": "955364be-1293-42b4-b485-a6fe98ef6487",
   "metadata": {},
   "outputs": [
    {
     "data": {
      "text/plain": [
       "<re.Match object; span=(3, 8), match='phone'>"
      ]
     },
     "execution_count": 123,
     "metadata": {},
     "output_type": "execute_result"
    }
   ],
   "source": [
    "match"
   ]
  },
  {
   "cell_type": "code",
   "execution_count": 124,
   "id": "62914d19-4906-4615-84e0-d1fc23617b59",
   "metadata": {},
   "outputs": [],
   "source": [
    "matches = re.findall('phone', text)"
   ]
  },
  {
   "cell_type": "code",
   "execution_count": 125,
   "id": "96082ee1-4aae-4242-a492-33d7f7dbf79e",
   "metadata": {},
   "outputs": [
    {
     "data": {
      "text/plain": [
       "['phone', 'phone']"
      ]
     },
     "execution_count": 125,
     "metadata": {},
     "output_type": "execute_result"
    }
   ],
   "source": [
    "matches"
   ]
  },
  {
   "cell_type": "code",
   "execution_count": 126,
   "id": "be2109cd-81da-4d70-8648-09dbd7eee391",
   "metadata": {},
   "outputs": [
    {
     "data": {
      "text/plain": [
       "2"
      ]
     },
     "execution_count": 126,
     "metadata": {},
     "output_type": "execute_result"
    }
   ],
   "source": [
    "len(matches)"
   ]
  },
  {
   "cell_type": "code",
   "execution_count": 130,
   "id": "57fc0dbb-1d4e-4a4a-b911-3f7c0f8562dc",
   "metadata": {},
   "outputs": [
    {
     "name": "stdout",
     "output_type": "stream",
     "text": [
      "(3, 8)\n",
      "(18, 23)\n"
     ]
    }
   ],
   "source": [
    "for match in re.finditer('phone', text): \n",
    "    print(match.span())"
   ]
  },
  {
   "cell_type": "code",
   "execution_count": 131,
   "id": "cd565276-3502-46d1-bd17-9fed66bc8cdf",
   "metadata": {},
   "outputs": [],
   "source": [
    "text = \"My phone number is 408-555-1234\""
   ]
  },
  {
   "cell_type": "code",
   "execution_count": 136,
   "id": "53e7754d-76da-4e7b-b525-cc91b3698963",
   "metadata": {},
   "outputs": [],
   "source": [
    "phone = re.search('\\d\\d\\d-\\d\\d\\d-\\d\\d\\d\\d', text)"
   ]
  },
  {
   "cell_type": "code",
   "execution_count": 137,
   "id": "b68f625f-763c-4e19-a064-c06cacdcb8f9",
   "metadata": {},
   "outputs": [
    {
     "data": {
      "text/plain": [
       "<re.Match object; span=(19, 31), match='408-555-1234'>"
      ]
     },
     "execution_count": 137,
     "metadata": {},
     "output_type": "execute_result"
    }
   ],
   "source": [
    "phone"
   ]
  },
  {
   "cell_type": "code",
   "execution_count": 138,
   "id": "216ae05a-2fb5-4731-8e5e-36480b65b97c",
   "metadata": {},
   "outputs": [
    {
     "data": {
      "text/plain": [
       "'408-555-1234'"
      ]
     },
     "execution_count": 138,
     "metadata": {},
     "output_type": "execute_result"
    }
   ],
   "source": [
    "phone.group()"
   ]
  },
  {
   "cell_type": "code",
   "execution_count": 139,
   "id": "8f9836bc-07ec-47e0-b94e-9e1b19b869fa",
   "metadata": {},
   "outputs": [],
   "source": [
    "phone_pattern = re.compile(r'(\\d{3})-(\\d{3})-(\\d{4})')"
   ]
  },
  {
   "cell_type": "code",
   "execution_count": 141,
   "id": "acfcd8a1-1788-4dc1-b0e9-61e549f4d7b2",
   "metadata": {},
   "outputs": [],
   "source": [
    "results = re.search(phone_pattern, text)"
   ]
  },
  {
   "cell_type": "code",
   "execution_count": 142,
   "id": "41805869-4013-4f80-bd6b-ef913ea09b67",
   "metadata": {},
   "outputs": [
    {
     "data": {
      "text/plain": [
       "'408-555-1234'"
      ]
     },
     "execution_count": 142,
     "metadata": {},
     "output_type": "execute_result"
    }
   ],
   "source": [
    "results.group()"
   ]
  },
  {
   "cell_type": "code",
   "execution_count": 144,
   "id": "8103fb0a-4125-4332-a252-631125831264",
   "metadata": {},
   "outputs": [
    {
     "data": {
      "text/plain": [
       "'555'"
      ]
     },
     "execution_count": 144,
     "metadata": {},
     "output_type": "execute_result"
    }
   ],
   "source": [
    "results.group(2)"
   ]
  },
  {
   "cell_type": "code",
   "execution_count": 145,
   "id": "3f43f06b-41c6-4285-a3dc-92f84b81595d",
   "metadata": {},
   "outputs": [
    {
     "data": {
      "text/plain": [
       "<re.Match object; span=(4, 7), match='cat'>"
      ]
     },
     "execution_count": 145,
     "metadata": {},
     "output_type": "execute_result"
    }
   ],
   "source": [
    "re.search(r'cat|dog', 'The cat is here')"
   ]
  },
  {
   "cell_type": "code",
   "execution_count": 149,
   "id": "07242117-151f-4a3f-b32f-fd4ea930eb74",
   "metadata": {},
   "outputs": [
    {
     "data": {
      "text/plain": [
       "[' cat', ' hat', 'plat']"
      ]
     },
     "execution_count": 149,
     "metadata": {},
     "output_type": "execute_result"
    }
   ],
   "source": [
    "re.findall(r'..at', 'The cat in the hat went splat.')"
   ]
  },
  {
   "cell_type": "code",
   "execution_count": 152,
   "id": "4a9b8c43-6cc3-4ad5-a497-22c9a3712bdc",
   "metadata": {},
   "outputs": [
    {
     "data": {
      "text/plain": [
       "[]"
      ]
     },
     "execution_count": 152,
     "metadata": {},
     "output_type": "execute_result"
    }
   ],
   "source": [
    "re.findall(r'^\\d', 'The 2 is a number')"
   ]
  },
  {
   "cell_type": "code",
   "execution_count": 154,
   "id": "044eb7fe-25ae-408d-b9be-c4eb6a432f64",
   "metadata": {},
   "outputs": [
    {
     "data": {
      "text/plain": [
       "['1']"
      ]
     },
     "execution_count": 154,
     "metadata": {},
     "output_type": "execute_result"
    }
   ],
   "source": [
    "re.findall(r'^\\d', '1 is a number')"
   ]
  },
  {
   "cell_type": "code",
   "execution_count": 155,
   "id": "db5cdf9c-1802-4f9a-a0e8-cb03309fc4cd",
   "metadata": {},
   "outputs": [
    {
     "data": {
      "text/plain": [
       "[]"
      ]
     },
     "execution_count": 155,
     "metadata": {},
     "output_type": "execute_result"
    }
   ],
   "source": [
    "re.findall(r'^\\d$', '1 is a number')"
   ]
  },
  {
   "cell_type": "code",
   "execution_count": 156,
   "id": "f89c6232-5084-4c73-887b-59b2322e6da5",
   "metadata": {},
   "outputs": [],
   "source": [
    "phrase = 'There are 3 numbers 34 inside 5 this sentence'"
   ]
  },
  {
   "cell_type": "code",
   "execution_count": 157,
   "id": "c0d33179-b97b-4636-bba5-6eaf30237628",
   "metadata": {},
   "outputs": [],
   "source": [
    "pattern = r'[^\\d]+'"
   ]
  },
  {
   "cell_type": "code",
   "execution_count": 158,
   "id": "7129ecd1-8239-468d-9d01-1d6b3faf9410",
   "metadata": {},
   "outputs": [
    {
     "data": {
      "text/plain": [
       "['There are ', ' numbers ', ' inside ', ' this sentence']"
      ]
     },
     "execution_count": 158,
     "metadata": {},
     "output_type": "execute_result"
    }
   ],
   "source": [
    "re.findall(pattern , phrase)"
   ]
  },
  {
   "cell_type": "code",
   "execution_count": 4,
   "id": "4c05c15b-c4cd-47ff-ac83-391d92409f5e",
   "metadata": {},
   "outputs": [],
   "source": [
    "test_phrase = 'This is a string! But it has punctuation. How can we remove it?'"
   ]
  },
  {
   "cell_type": "code",
   "execution_count": 7,
   "id": "32ab65b5-ae29-47cf-9c90-c99c1062c002",
   "metadata": {},
   "outputs": [],
   "source": [
    "clean = re.findall(r'[^!.?]+',test_phrase)"
   ]
  },
  {
   "cell_type": "code",
   "execution_count": 8,
   "id": "b5463073-7403-4e57-9d72-88a24c9dc9c6",
   "metadata": {},
   "outputs": [
    {
     "data": {
      "text/plain": [
       "'This is a string  But it has punctuation  How can we remove it'"
      ]
     },
     "execution_count": 8,
     "metadata": {},
     "output_type": "execute_result"
    }
   ],
   "source": [
    "' '.join(clean)"
   ]
  },
  {
   "cell_type": "code",
   "execution_count": 9,
   "id": "84d24288-74ae-4e38-b185-a95f454beb4c",
   "metadata": {},
   "outputs": [],
   "source": [
    "text = 'Only find the hypen-words in this sentence. But you do not know how long-ish ther are'"
   ]
  },
  {
   "cell_type": "code",
   "execution_count": 12,
   "id": "bcb7d0ba-2223-4b76-bd73-b815992075e3",
   "metadata": {},
   "outputs": [],
   "source": [
    "pattern = r'[\\w]+-[\\w]+'"
   ]
  },
  {
   "cell_type": "code",
   "execution_count": 13,
   "id": "c8c223c4-c697-4424-bd12-84f7bc2a0b64",
   "metadata": {},
   "outputs": [
    {
     "data": {
      "text/plain": [
       "['hypen-words', 'long-ish']"
      ]
     },
     "execution_count": 13,
     "metadata": {},
     "output_type": "execute_result"
    }
   ],
   "source": [
    "re.findall(pattern, text)"
   ]
  },
  {
   "cell_type": "code",
   "execution_count": 14,
   "id": "e4ddd793-f981-4faa-ad99-505d687f6b8f",
   "metadata": {},
   "outputs": [],
   "source": [
    "text = 'Hello, would you like some catfish?'\n",
    "texttwo = 'Hello, would you like to take a catnap?'\n",
    "textthree = 'Hello, have you seen this caterpiller?'"
   ]
  },
  {
   "cell_type": "code",
   "execution_count": 16,
   "id": "925698dd-2bfb-4ce5-9a98-9255b001bbfc",
   "metadata": {},
   "outputs": [
    {
     "data": {
      "text/plain": [
       "<re.Match object; span=(27, 34), match='catfish'>"
      ]
     },
     "execution_count": 16,
     "metadata": {},
     "output_type": "execute_result"
    }
   ],
   "source": [
    "re.search(r'cat(fish|nap|claw)', text)"
   ]
  },
  {
   "cell_type": "code",
   "execution_count": 20,
   "id": "e260bbfc-d423-4c81-9d61-36f4f61e3afb",
   "metadata": {},
   "outputs": [
    {
     "data": {
      "text/plain": [
       "<re.Match object; span=(26, 37), match='caterpiller'>"
      ]
     },
     "execution_count": 20,
     "metadata": {},
     "output_type": "execute_result"
    }
   ],
   "source": [
    "re.search(r'cat(fish|nap|erpiller)', textthree)"
   ]
  },
  {
   "cell_type": "markdown",
   "id": "bea5bd2f-3150-4768-a122-9dd25ef401f4",
   "metadata": {},
   "source": [
    "### Timing Python code"
   ]
  },
  {
   "cell_type": "code",
   "execution_count": 21,
   "id": "174474af-f4ec-4ef9-abf4-877b26994697",
   "metadata": {},
   "outputs": [],
   "source": [
    "def func_one(n):\n",
    "    return  [str(num) for num in range(n)]"
   ]
  },
  {
   "cell_type": "code",
   "execution_count": 22,
   "id": "77329cf5-05da-4adb-969f-b253c8d55a18",
   "metadata": {},
   "outputs": [
    {
     "data": {
      "text/plain": [
       "['0', '1', '2', '3', '4', '5', '6', '7', '8', '9']"
      ]
     },
     "execution_count": 22,
     "metadata": {},
     "output_type": "execute_result"
    }
   ],
   "source": [
    "func_one(10)"
   ]
  },
  {
   "cell_type": "code",
   "execution_count": 27,
   "id": "c3ac9ed6-f2f0-4703-b7b9-6d552959092e",
   "metadata": {},
   "outputs": [],
   "source": [
    "def func_two(n):\n",
    "    return list(map(str, range(n)))"
   ]
  },
  {
   "cell_type": "code",
   "execution_count": 29,
   "id": "a2a2287d-6c70-4fc8-8184-6d0601805405",
   "metadata": {},
   "outputs": [
    {
     "data": {
      "text/plain": [
       "['0', '1', '2', '3', '4', '5', '6', '7', '8', '9', '10', '11']"
      ]
     },
     "execution_count": 29,
     "metadata": {},
     "output_type": "execute_result"
    }
   ],
   "source": [
    "func_two(12)"
   ]
  },
  {
   "cell_type": "code",
   "execution_count": 30,
   "id": "6eee93cc-6137-4360-8309-29152d6ffb2c",
   "metadata": {},
   "outputs": [],
   "source": [
    "import time"
   ]
  },
  {
   "cell_type": "code",
   "execution_count": 31,
   "id": "8be0d444-346f-4693-8be6-79d42c752fbb",
   "metadata": {},
   "outputs": [
    {
     "name": "stdout",
     "output_type": "stream",
     "text": [
      "0.0006010532379150391\n"
     ]
    }
   ],
   "source": [
    "# CURRENT TIME BEFORE\n",
    "start_time = time.time()\n",
    "\n",
    "# RUN CODE\n",
    "result = func_one(10)\n",
    "\n",
    "# CURRENT TIME AFTER RUNNING CODE\n",
    "end_time = time.time()\n",
    "\n",
    "# ELAPSED CODE \n",
    "elapsed_time = end_time - start_time\n",
    "\n",
    "\n",
    "print(elapsed_time)"
   ]
  },
  {
   "cell_type": "code",
   "execution_count": 34,
   "id": "cdf3c8df-8d62-4697-aae9-41dc5dd6eb63",
   "metadata": {},
   "outputs": [
    {
     "name": "stdout",
     "output_type": "stream",
     "text": [
      "0.0007038116455078125\n"
     ]
    }
   ],
   "source": [
    "# CURRENT TIME BEFORE\n",
    "start_time = time.time()\n",
    "\n",
    "# RUN CODE\n",
    "result = func_two(1)\n",
    "\n",
    "# CURRENT TIME AFTER RUNNING CODE\n",
    "end_time = time.time()\n",
    "\n",
    "# ELAPSED CODE \n",
    "elapsed_time = end_time - start_time\n",
    "print(elapsed_time)"
   ]
  },
  {
   "cell_type": "code",
   "execution_count": 35,
   "id": "dbd75469-8018-4080-b40e-558791ddd249",
   "metadata": {},
   "outputs": [],
   "source": [
    "import timeit"
   ]
  },
  {
   "cell_type": "code",
   "execution_count": 36,
   "id": "8ccc121f-5507-4405-8b02-06206ffbb5dc",
   "metadata": {},
   "outputs": [
    {
     "data": {
      "text/plain": [
       "<function timeit.timeit(stmt='pass', setup='pass', timer=<built-in function perf_counter>, number=1000000, globals=None)>"
      ]
     },
     "execution_count": 36,
     "metadata": {},
     "output_type": "execute_result"
    }
   ],
   "source": [
    "timeit.timeit"
   ]
  },
  {
   "cell_type": "code",
   "execution_count": 38,
   "id": "8e6d9098-616c-4464-bbfd-cd170337beb8",
   "metadata": {},
   "outputs": [],
   "source": [
    "stmt = '''\n",
    "func_one(100)\n",
    "'''"
   ]
  },
  {
   "cell_type": "code",
   "execution_count": 39,
   "id": "bfdae075-08bb-45c4-a99f-0f6db4fad6dd",
   "metadata": {},
   "outputs": [],
   "source": [
    "setup = ''' \n",
    "def func_one(n):\n",
    "    return [str(num) for num in range(n)]\n",
    "'''"
   ]
  },
  {
   "cell_type": "code",
   "execution_count": 40,
   "id": "c8e378b7-a5f8-444a-ab87-efa6dcb32512",
   "metadata": {},
   "outputs": [
    {
     "data": {
      "text/plain": [
       "22.109071299999414"
      ]
     },
     "execution_count": 40,
     "metadata": {},
     "output_type": "execute_result"
    }
   ],
   "source": [
    "timeit.timeit(stmt, setup, number = 100000)"
   ]
  },
  {
   "cell_type": "code",
   "execution_count": 41,
   "id": "b914efb5-bd1a-42e7-a912-81d7b3b15be3",
   "metadata": {},
   "outputs": [],
   "source": [
    "stmt2 = '''\n",
    "func_two(100)\n",
    "'''"
   ]
  },
  {
   "cell_type": "code",
   "execution_count": 43,
   "id": "7a72cdbe-ee5d-4e4a-9d2c-29bba54a9dbc",
   "metadata": {},
   "outputs": [],
   "source": [
    "setup2 = '''\n",
    "def func_two(n):\n",
    "    return list(map(str, range(n)))\n",
    "'''"
   ]
  },
  {
   "cell_type": "code",
   "execution_count": 44,
   "id": "26510255-418d-44ef-9c6e-9896e519c5b5",
   "metadata": {},
   "outputs": [
    {
     "data": {
      "text/plain": [
       "26.844867100000556"
      ]
     },
     "execution_count": 44,
     "metadata": {},
     "output_type": "execute_result"
    }
   ],
   "source": [
    "timeit.timeit(stmt2, setup2, number = 100000)"
   ]
  },
  {
   "cell_type": "code",
   "execution_count": 45,
   "id": "6df062ae-e5e4-430f-98f8-bb2b8660ebbd",
   "metadata": {},
   "outputs": [
    {
     "name": "stdout",
     "output_type": "stream",
     "text": [
      "197 μs ± 36.6 μs per loop (mean ± std. dev. of 7 runs, 10,000 loops each)\n"
     ]
    }
   ],
   "source": [
    "%%timeit\n",
    "func_one(100)"
   ]
  },
  {
   "cell_type": "code",
   "execution_count": 46,
   "id": "e1acf591-690b-4828-b7c9-799177d7d030",
   "metadata": {},
   "outputs": [
    {
     "name": "stdout",
     "output_type": "stream",
     "text": [
      "146 μs ± 29.1 μs per loop (mean ± std. dev. of 7 runs, 1,000 loops each)\n"
     ]
    }
   ],
   "source": [
    "%%timeit\n",
    "func_two(100)"
   ]
  },
  {
   "cell_type": "markdown",
   "id": "65138c2b-3fc8-413c-8587-aca7fde7c3fc",
   "metadata": {},
   "source": [
    "### Zipping and unzipping in python"
   ]
  },
  {
   "cell_type": "code",
   "execution_count": 48,
   "id": "b46ea5fe-ce6d-49c0-b188-09db772ea5b8",
   "metadata": {},
   "outputs": [],
   "source": [
    "f =open('fileone.txt', 'w+')\n",
    "f.write('ONE FILE')\n",
    "f.close()"
   ]
  },
  {
   "cell_type": "code",
   "execution_count": 51,
   "id": "ddf3ff6f-922b-4ab9-90a8-89d989ad8746",
   "metadata": {},
   "outputs": [],
   "source": [
    "f = open('filetwo.txt', 'w+')\n",
    "f.write('TWO FILE')\n",
    "f.close()"
   ]
  },
  {
   "cell_type": "code",
   "execution_count": 52,
   "id": "fe0f3b8a-b68e-48d7-8b7f-2324994e6d7b",
   "metadata": {},
   "outputs": [],
   "source": [
    "import zipfile"
   ]
  },
  {
   "cell_type": "code",
   "execution_count": 53,
   "id": "7998f0c8-dc3c-484f-bc70-0953980ed001",
   "metadata": {},
   "outputs": [],
   "source": [
    "comp_file = zipfile.ZipFile('comp_file.zip', 'w')"
   ]
  },
  {
   "cell_type": "code",
   "execution_count": 54,
   "id": "090b95f7-8796-4a1b-8e45-3a6150c8d31b",
   "metadata": {},
   "outputs": [],
   "source": [
    "comp_file.write('fileone.txt', compress_type = zipfile.ZIP_DEFLATED)"
   ]
  },
  {
   "cell_type": "code",
   "execution_count": 55,
   "id": "c01847b8-7084-4bf2-ab6c-ad41c4a2a567",
   "metadata": {},
   "outputs": [],
   "source": [
    "comp_file.write('filetwo.txt', compress_type = zipfile.ZIP_DEFLATED)"
   ]
  },
  {
   "cell_type": "code",
   "execution_count": 56,
   "id": "7391f2a3-b8d4-46ee-ad41-11184594a3cd",
   "metadata": {},
   "outputs": [],
   "source": [
    "comp_file.close()"
   ]
  },
  {
   "cell_type": "code",
   "execution_count": 57,
   "id": "255ba79a-217b-4aad-871a-e139ea65e6a7",
   "metadata": {},
   "outputs": [],
   "source": [
    "zip_obj = zipfile.ZipFile('comp_file.zip', 'r')"
   ]
  },
  {
   "cell_type": "code",
   "execution_count": 58,
   "id": "006e81b6-848a-47c8-aa7a-aedd8b956c6e",
   "metadata": {},
   "outputs": [],
   "source": [
    "zip_obj.extractall('extracted_content')"
   ]
  },
  {
   "cell_type": "code",
   "execution_count": 59,
   "id": "fa7e39bd-d77e-45dd-a25a-215180302388",
   "metadata": {},
   "outputs": [
    {
     "data": {
      "text/plain": [
       "'C:\\\\Users\\\\IshitaBhojani\\\\Downloads\\\\Python Traning\\\\Advanced Python Module'"
      ]
     },
     "execution_count": 59,
     "metadata": {},
     "output_type": "execute_result"
    }
   ],
   "source": [
    "pwd"
   ]
  },
  {
   "cell_type": "code",
   "execution_count": 60,
   "id": "f2cf8fee-68db-4d20-9ce6-f1439b1de3a1",
   "metadata": {},
   "outputs": [],
   "source": [
    "import shutil"
   ]
  },
  {
   "cell_type": "code",
   "execution_count": 61,
   "id": "20204c93-cec1-4ca0-a218-4914d9f85a04",
   "metadata": {},
   "outputs": [],
   "source": [
    "dir_to_zip = 'C:\\\\Users\\\\IshitaBhojani\\\\Downloads\\\\Python Traning\\\\Advanced Python Module\\\\extracted_content'"
   ]
  },
  {
   "cell_type": "code",
   "execution_count": 62,
   "id": "59ef716b-1899-4dcc-87ad-ef86eb96ef40",
   "metadata": {},
   "outputs": [],
   "source": [
    "output_filename = 'example'"
   ]
  },
  {
   "cell_type": "code",
   "execution_count": 63,
   "id": "ba8a9cce-9dce-47fe-a50d-eea32eb806bd",
   "metadata": {},
   "outputs": [
    {
     "data": {
      "text/plain": [
       "'C:\\\\Users\\\\IshitaBhojani\\\\Downloads\\\\Python Traning\\\\Advanced Python Module\\\\example.zip'"
      ]
     },
     "execution_count": 63,
     "metadata": {},
     "output_type": "execute_result"
    }
   ],
   "source": [
    "shutil.make_archive(output_filename,'zip',dir_to_zip)"
   ]
  },
  {
   "cell_type": "code",
   "execution_count": 64,
   "id": "0a9cfbfb-9997-415a-a3f7-8c1658e39e19",
   "metadata": {},
   "outputs": [],
   "source": [
    "shutil.unpack_archive('example.zip', 'final_unzip','zip')"
   ]
  },
  {
   "cell_type": "code",
   "execution_count": null,
   "id": "a2870bcf-444e-4588-b1ff-4e0d1146a5ea",
   "metadata": {},
   "outputs": [],
   "source": []
  },
  {
   "cell_type": "code",
   "execution_count": null,
   "id": "8f0064f5-ef3d-45a1-b0e5-4f8c33bc0f12",
   "metadata": {},
   "outputs": [],
   "source": []
  },
  {
   "cell_type": "code",
   "execution_count": null,
   "id": "1c6a7b5b-408e-4898-9237-584fc7f0e868",
   "metadata": {},
   "outputs": [],
   "source": []
  },
  {
   "cell_type": "code",
   "execution_count": null,
   "id": "e3472e75-374d-4510-880e-c71084dc1388",
   "metadata": {},
   "outputs": [],
   "source": []
  },
  {
   "cell_type": "code",
   "execution_count": null,
   "id": "2113720b-b3e4-418d-a512-e913a416de49",
   "metadata": {},
   "outputs": [],
   "source": []
  },
  {
   "cell_type": "code",
   "execution_count": null,
   "id": "14b583dc-a05a-4051-abdb-59b4a5d7f623",
   "metadata": {},
   "outputs": [],
   "source": []
  },
  {
   "cell_type": "code",
   "execution_count": null,
   "id": "08019378-a70b-42d8-9717-34995e8b7de1",
   "metadata": {},
   "outputs": [],
   "source": []
  }
 ],
 "metadata": {
  "kernelspec": {
   "display_name": "Python 3 (ipykernel)",
   "language": "python",
   "name": "python3"
  },
  "language_info": {
   "codemirror_mode": {
    "name": "ipython",
    "version": 3
   },
   "file_extension": ".py",
   "mimetype": "text/x-python",
   "name": "python",
   "nbconvert_exporter": "python",
   "pygments_lexer": "ipython3",
   "version": "3.13.5"
  }
 },
 "nbformat": 4,
 "nbformat_minor": 5
}
