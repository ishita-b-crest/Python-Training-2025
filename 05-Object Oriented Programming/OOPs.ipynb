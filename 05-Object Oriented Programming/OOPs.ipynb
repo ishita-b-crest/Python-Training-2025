{
 "cells": [
  {
   "cell_type": "markdown",
   "id": "e6187adb-2872-483c-a0b7-4c76462069ee",
   "metadata": {},
   "source": [
    "```python\n",
    "class NameOfClass():\n",
    "\n",
    "    def __init__(self, param1, param2):\n",
    "        self.param1 = param1\n",
    "        self.param2 = param2\n",
    "\n",
    "    def some_method(self):\n",
    "        # perform some action\n",
    "        print(self.param1)\n"
   ]
  },
  {
   "cell_type": "code",
   "execution_count": 2,
   "id": "47c0e19a-3433-4efe-95f6-cd757058b1eb",
   "metadata": {},
   "outputs": [],
   "source": [
    "class Sample():\n",
    "    pass"
   ]
  },
  {
   "cell_type": "code",
   "execution_count": 3,
   "id": "3f095a23-02f4-44c4-9d84-5941f995fc3b",
   "metadata": {},
   "outputs": [],
   "source": [
    "my_sample = Sample()"
   ]
  },
  {
   "cell_type": "code",
   "execution_count": 4,
   "id": "afa74b72-48d2-48e6-ad8a-d5750d07949b",
   "metadata": {},
   "outputs": [
    {
     "data": {
      "text/plain": [
       "__main__.Sample"
      ]
     },
     "execution_count": 4,
     "metadata": {},
     "output_type": "execute_result"
    }
   ],
   "source": [
    "type(my_sample)"
   ]
  },
  {
   "cell_type": "code",
   "execution_count": 9,
   "id": "87fc0740-0322-4ea6-8d75-76aab258a618",
   "metadata": {},
   "outputs": [],
   "source": [
    " class Dog():\n",
    "     def __init__(self, breed, name, spots):\n",
    "\n",
    "         # Attributes\n",
    "         # We take in the argument\n",
    "         # Assign it using self.attribute_name\n",
    "         self.breed =breed\n",
    "         self.name = name\n",
    "\n",
    "         # Expect boolean True/False\n",
    "         self.spots = spots"
   ]
  },
  {
   "cell_type": "code",
   "execution_count": 10,
   "id": "d60035bf-ec20-4186-beef-72d2ae6ac33f",
   "metadata": {},
   "outputs": [],
   "source": [
    "my_dog = Dog(breed ='Lab', name = \"sammy\", spots =False)"
   ]
  },
  {
   "cell_type": "code",
   "execution_count": 11,
   "id": "abfea945-6dca-4525-b20b-b5f2138bacb9",
   "metadata": {},
   "outputs": [
    {
     "data": {
      "text/plain": [
       "__main__.Dog"
      ]
     },
     "execution_count": 11,
     "metadata": {},
     "output_type": "execute_result"
    }
   ],
   "source": [
    "type(my_dog)"
   ]
  },
  {
   "cell_type": "code",
   "execution_count": 26,
   "id": "2b5927a2-4436-4170-b731-4a55e822f308",
   "metadata": {},
   "outputs": [],
   "source": [
    " class Dog():\n",
    "\n",
    "     # Class object attribute\n",
    "     # same for any instance of a class \n",
    "     species = \"mammal\"\n",
    "     def __init__(self, breed, name):\n",
    "\n",
    "         # Attributes\n",
    "         # We take in the argument\n",
    "         # Assign it using self.attribute_name\n",
    "         self.breed =breed\n",
    "         self.name = name\n",
    "\n",
    "     # Operations/Actions -> Methods \n",
    "     def bark(self,number):\n",
    "         print(\"WOOF! My Name is {} and number is {}\".format(self.name,number))"
   ]
  },
  {
   "cell_type": "code",
   "execution_count": 27,
   "id": "d47a477e-3640-4f6b-a1ee-c71e80cff56e",
   "metadata": {},
   "outputs": [],
   "source": [
    "my_dog = Dog('Lab',\"sammy\")"
   ]
  },
  {
   "cell_type": "code",
   "execution_count": 28,
   "id": "38b842be-ef48-429e-8b3c-78c4c1e024ab",
   "metadata": {},
   "outputs": [
    {
     "data": {
      "text/plain": [
       "__main__.Dog"
      ]
     },
     "execution_count": 28,
     "metadata": {},
     "output_type": "execute_result"
    }
   ],
   "source": [
    "type(my_dog)"
   ]
  },
  {
   "cell_type": "code",
   "execution_count": 29,
   "id": "aa6f8e91-11eb-40b1-b1f9-97e09f422190",
   "metadata": {},
   "outputs": [
    {
     "data": {
      "text/plain": [
       "'mammal'"
      ]
     },
     "execution_count": 29,
     "metadata": {},
     "output_type": "execute_result"
    }
   ],
   "source": [
    "my_dog.species"
   ]
  },
  {
   "cell_type": "code",
   "execution_count": 30,
   "id": "a77ac3cf-5670-44a1-8714-d2aeec2e70c8",
   "metadata": {},
   "outputs": [
    {
     "data": {
      "text/plain": [
       "'sammy'"
      ]
     },
     "execution_count": 30,
     "metadata": {},
     "output_type": "execute_result"
    }
   ],
   "source": [
    "my_dog.name"
   ]
  },
  {
   "cell_type": "code",
   "execution_count": 31,
   "id": "6d094e4b-e96e-4158-a191-04fb854062cd",
   "metadata": {},
   "outputs": [
    {
     "data": {
      "text/plain": [
       "'Lab'"
      ]
     },
     "execution_count": 31,
     "metadata": {},
     "output_type": "execute_result"
    }
   ],
   "source": [
    "my_dog.breed"
   ]
  },
  {
   "cell_type": "code",
   "execution_count": 32,
   "id": "bc2ee2df-ea03-41d2-bd65-d453fc888f35",
   "metadata": {},
   "outputs": [
    {
     "data": {
      "text/plain": [
       "<bound method Dog.bark of <__main__.Dog object at 0x00000266D9DAD010>>"
      ]
     },
     "execution_count": 32,
     "metadata": {},
     "output_type": "execute_result"
    }
   ],
   "source": [
    "my_dog.bark"
   ]
  },
  {
   "cell_type": "code",
   "execution_count": 34,
   "id": "b2a0a3b4-fb9f-4807-807c-1412851455c2",
   "metadata": {},
   "outputs": [
    {
     "name": "stdout",
     "output_type": "stream",
     "text": [
      "WOOF! My Name is sammy and number is 21\n"
     ]
    }
   ],
   "source": [
    "my_dog.bark(21)"
   ]
  },
  {
   "cell_type": "code",
   "execution_count": 50,
   "id": "504c2bb8-7a28-461b-ad84-4d4b6f6ed038",
   "metadata": {},
   "outputs": [],
   "source": [
    "class circle():\n",
    "\n",
    "    #class object attribute\n",
    "    pi = 3.14\n",
    "\n",
    "    def __init__(self, radius =1):\n",
    "        self.radius = radius\n",
    "        self.area = radius*radius*circle.pi\n",
    "        \n",
    "    # Method\n",
    "    def get_circumference(self):\n",
    "        return self.radius * circle.pi * 2"
   ]
  },
  {
   "cell_type": "code",
   "execution_count": 51,
   "id": "1b235a7a-45ec-4b9a-92a6-2720bebfbaf6",
   "metadata": {},
   "outputs": [],
   "source": [
    "my_circle = circle(30)"
   ]
  },
  {
   "cell_type": "code",
   "execution_count": 52,
   "id": "67f265c9-eb0a-4674-bd1f-937c6a688280",
   "metadata": {},
   "outputs": [
    {
     "data": {
      "text/plain": [
       "3.14"
      ]
     },
     "execution_count": 52,
     "metadata": {},
     "output_type": "execute_result"
    }
   ],
   "source": [
    "my_circle.pi"
   ]
  },
  {
   "cell_type": "code",
   "execution_count": 53,
   "id": "97c2663f-edb7-4bb2-a28b-a31d8635526b",
   "metadata": {},
   "outputs": [
    {
     "data": {
      "text/plain": [
       "30"
      ]
     },
     "execution_count": 53,
     "metadata": {},
     "output_type": "execute_result"
    }
   ],
   "source": [
    "my_circle.radius"
   ]
  },
  {
   "cell_type": "code",
   "execution_count": 54,
   "id": "c74cc850-7c0b-41e6-8afb-35510b0935a8",
   "metadata": {},
   "outputs": [
    {
     "data": {
      "text/plain": [
       "188.4"
      ]
     },
     "execution_count": 54,
     "metadata": {},
     "output_type": "execute_result"
    }
   ],
   "source": [
    "my_circle.get_circumference()"
   ]
  },
  {
   "cell_type": "code",
   "execution_count": 55,
   "id": "17c37ee8-2d01-4be8-8b40-e180b3d792e5",
   "metadata": {},
   "outputs": [
    {
     "data": {
      "text/plain": [
       "2826.0"
      ]
     },
     "execution_count": 55,
     "metadata": {},
     "output_type": "execute_result"
    }
   ],
   "source": [
    "my_circle.area"
   ]
  },
  {
   "cell_type": "markdown",
   "id": "dab4b78c-952a-42af-83c0-cca9246200cc",
   "metadata": {},
   "source": [
    "### Inheritance and Polymorphism"
   ]
  },
  {
   "cell_type": "code",
   "execution_count": 56,
   "id": "a2c22523-157b-468e-8bb0-af7459fcdd17",
   "metadata": {},
   "outputs": [],
   "source": [
    "class Animal:\n",
    "\n",
    "    def __init__(self):\n",
    "        print(\"Animal Created!\")\n",
    "\n",
    "    def who_am_i(self):\n",
    "        print(\"I am an animal\")\n",
    "\n",
    "    def eat(self):\n",
    "        print(\"I am eating\")\n",
    "              "
   ]
  },
  {
   "cell_type": "code",
   "execution_count": 57,
   "id": "0c931694-4f56-4b07-8815-ef2af36531e4",
   "metadata": {},
   "outputs": [
    {
     "name": "stdout",
     "output_type": "stream",
     "text": [
      "Animal Created!\n"
     ]
    }
   ],
   "source": [
    "my_animal = Animal()"
   ]
  },
  {
   "cell_type": "code",
   "execution_count": 59,
   "id": "d1ef8e32-eff3-4d98-8460-dfc39728cfce",
   "metadata": {},
   "outputs": [
    {
     "name": "stdout",
     "output_type": "stream",
     "text": [
      "I am eating\n"
     ]
    }
   ],
   "source": [
    "my_animal.eat()"
   ]
  },
  {
   "cell_type": "code",
   "execution_count": 60,
   "id": "9fb9e92e-ecbb-4e01-a709-b6ebc917f981",
   "metadata": {},
   "outputs": [
    {
     "name": "stdout",
     "output_type": "stream",
     "text": [
      "I am an animal\n"
     ]
    }
   ],
   "source": [
    "my_animal.who_am_i()"
   ]
  },
  {
   "cell_type": "code",
   "execution_count": 65,
   "id": "13cd6b7b-58c1-4e5f-b761-faa0a3cdb9db",
   "metadata": {},
   "outputs": [],
   "source": [
    "class Dog(Animal):\n",
    "\n",
    "    def __init__(self):\n",
    "        Animal.__init__(self)\n",
    "        print(\"Dog created!!\")\n",
    "\n",
    "    def eat(self):\n",
    "        print(\"I am a dog and eating\")\n",
    "        \n",
    "    def bark(self):\n",
    "        print(\"WOOF!\")"
   ]
  },
  {
   "cell_type": "code",
   "execution_count": 66,
   "id": "d6d4cc61-6c10-4d1b-8101-738ea8477e5a",
   "metadata": {},
   "outputs": [
    {
     "name": "stdout",
     "output_type": "stream",
     "text": [
      "Animal Created!\n",
      "Dog created!!\n"
     ]
    }
   ],
   "source": [
    "mydog = Dog()"
   ]
  },
  {
   "cell_type": "code",
   "execution_count": 68,
   "id": "a68de196-f19a-43f4-adc4-b7834b66060e",
   "metadata": {},
   "outputs": [
    {
     "name": "stdout",
     "output_type": "stream",
     "text": [
      "I am a dog and eating\n"
     ]
    }
   ],
   "source": [
    "mydog.eat()"
   ]
  },
  {
   "cell_type": "code",
   "execution_count": 69,
   "id": "e717aee9-ffec-4d12-ae80-cf909e17fc16",
   "metadata": {},
   "outputs": [
    {
     "name": "stdout",
     "output_type": "stream",
     "text": [
      "I am an animal\n"
     ]
    }
   ],
   "source": [
    "mydog.who_am_i()"
   ]
  },
  {
   "cell_type": "markdown",
   "id": "5e556d90-86fe-4ac8-a217-9e83928546d4",
   "metadata": {},
   "source": [
    "### Polymorphism"
   ]
  },
  {
   "cell_type": "code",
   "execution_count": 76,
   "id": "108fa47a-caf3-4e38-98f2-47e1ca0cb9eb",
   "metadata": {},
   "outputs": [],
   "source": [
    "class Dog():\n",
    "\n",
    "    def __init__(self,name):\n",
    "        self.name = name\n",
    "\n",
    "    def speak(self):\n",
    "        return self.name + \" says woof!!\""
   ]
  },
  {
   "cell_type": "code",
   "execution_count": 77,
   "id": "7b9485e1-2df0-479c-be0f-d4c21d2098c3",
   "metadata": {},
   "outputs": [],
   "source": [
    "class cat():\n",
    "    def __init__(self,name):\n",
    "        self.name = name\n",
    "\n",
    "    def speak(self):\n",
    "        return self.name + \" says meow!!\""
   ]
  },
  {
   "cell_type": "code",
   "execution_count": 78,
   "id": "348df9f1-5254-41be-85f1-911696110f8f",
   "metadata": {},
   "outputs": [],
   "source": [
    "niko = Dog(\"niko\")"
   ]
  },
  {
   "cell_type": "code",
   "execution_count": 79,
   "id": "e2e996ab-9cbe-481f-a9a8-a5d1849ab76c",
   "metadata": {},
   "outputs": [],
   "source": [
    "felix = cat(\"felix\")"
   ]
  },
  {
   "cell_type": "code",
   "execution_count": 80,
   "id": "0aea9c53-c273-4e2d-81bd-6c04ac6d039e",
   "metadata": {},
   "outputs": [
    {
     "name": "stdout",
     "output_type": "stream",
     "text": [
      "<bound method Dog.speak of <__main__.Dog object at 0x00000266DAC74590>>\n"
     ]
    }
   ],
   "source": [
    "print(niko.speak)"
   ]
  },
  {
   "cell_type": "code",
   "execution_count": 81,
   "id": "62426ca0-c67a-4ecb-9eeb-4f64a295c024",
   "metadata": {},
   "outputs": [
    {
     "name": "stdout",
     "output_type": "stream",
     "text": [
      "niko says woof!!\n"
     ]
    }
   ],
   "source": [
    "print(niko.speak())"
   ]
  },
  {
   "cell_type": "code",
   "execution_count": 83,
   "id": "7ee52e7e-f27d-4b01-9b64-48120a134a9f",
   "metadata": {},
   "outputs": [
    {
     "name": "stdout",
     "output_type": "stream",
     "text": [
      "<class '__main__.Dog'>\n",
      "<class 'str'>\n",
      "<class '__main__.cat'>\n",
      "<class 'str'>\n"
     ]
    }
   ],
   "source": [
    "for pet in [niko, felix]:\n",
    "\n",
    "    print(type(pet))\n",
    "    print(type(pet.speak()))"
   ]
  },
  {
   "cell_type": "code",
   "execution_count": 84,
   "id": "cbcf0e0e-6afb-4108-88e6-55336d931786",
   "metadata": {},
   "outputs": [],
   "source": [
    "def pet_speak(pet):\n",
    "    print(pet.speak())"
   ]
  },
  {
   "cell_type": "code",
   "execution_count": 85,
   "id": "d115fcd0-6765-455c-8697-9cb862cbb42f",
   "metadata": {},
   "outputs": [
    {
     "name": "stdout",
     "output_type": "stream",
     "text": [
      "niko says woof!!\n"
     ]
    }
   ],
   "source": [
    "pet_speak(niko)"
   ]
  },
  {
   "cell_type": "code",
   "execution_count": 86,
   "id": "7c34c6c2-7e60-4946-8061-355e2c2a9f1c",
   "metadata": {},
   "outputs": [
    {
     "name": "stdout",
     "output_type": "stream",
     "text": [
      "felix says meow!!\n"
     ]
    }
   ],
   "source": [
    "pet_speak(felix)"
   ]
  },
  {
   "cell_type": "code",
   "execution_count": 87,
   "id": "93c4e20c-b739-4bfc-a28d-a4474f307e46",
   "metadata": {},
   "outputs": [],
   "source": [
    "class Animal():\n",
    "    def __init__(self,name):\n",
    "        self.name = name\n",
    "    def speak(self):\n",
    "        raise NotImplementedError(\"subclass must implement this abstract method\")"
   ]
  },
  {
   "cell_type": "code",
   "execution_count": 88,
   "id": "84b43eb0-0c58-4e94-ae49-65ea2fe85790",
   "metadata": {},
   "outputs": [],
   "source": [
    "my_animal = Animal('fred')"
   ]
  },
  {
   "cell_type": "code",
   "execution_count": 90,
   "id": "759aa2ba-dba4-4fb7-964c-60cd25321c06",
   "metadata": {},
   "outputs": [],
   "source": [
    "class Dog(Animal):\n",
    "    def speak(self):\n",
    "        return self.name + \" says woof!\""
   ]
  },
  {
   "cell_type": "code",
   "execution_count": 92,
   "id": "ee5e6fad-b506-441d-9ecf-521dc30cc175",
   "metadata": {},
   "outputs": [],
   "source": [
    "class Cat(Animal):\n",
    "    def speak(self):\n",
    "        return self.name + \" says meow!\""
   ]
  },
  {
   "cell_type": "code",
   "execution_count": 93,
   "id": "cc71f096-d114-40b5-a907-7f12032357ea",
   "metadata": {},
   "outputs": [],
   "source": [
    "fido = Dog('Fido')"
   ]
  },
  {
   "cell_type": "code",
   "execution_count": 94,
   "id": "761d68c0-0184-4a01-abc5-7b34e7e793c8",
   "metadata": {},
   "outputs": [],
   "source": [
    "Isis = Cat('Isis')"
   ]
  },
  {
   "cell_type": "code",
   "execution_count": 95,
   "id": "a1225e04-4868-4299-8d71-d3272539466b",
   "metadata": {},
   "outputs": [],
   "source": [
    "mylist = [1,2,3]"
   ]
  },
  {
   "cell_type": "code",
   "execution_count": 96,
   "id": "0a804de3-067f-4a30-b36b-5de676c4cbde",
   "metadata": {},
   "outputs": [
    {
     "data": {
      "text/plain": [
       "3"
      ]
     },
     "execution_count": 96,
     "metadata": {},
     "output_type": "execute_result"
    }
   ],
   "source": [
    "len(mylist)"
   ]
  },
  {
   "cell_type": "code",
   "execution_count": 97,
   "id": "4cc712d0-482d-4a14-9e08-196407a38983",
   "metadata": {},
   "outputs": [],
   "source": [
    "class Sample():\n",
    "    pass"
   ]
  },
  {
   "cell_type": "code",
   "execution_count": 98,
   "id": "ab7fdec0-a666-4f3a-b6f9-df20e99ae569",
   "metadata": {},
   "outputs": [],
   "source": [
    "my_sample = Sample()"
   ]
  },
  {
   "cell_type": "code",
   "execution_count": 100,
   "id": "83478eab-bae1-4aea-ad20-8500edfb3d5f",
   "metadata": {},
   "outputs": [
    {
     "name": "stdout",
     "output_type": "stream",
     "text": [
      "<__main__.Sample object at 0x00000266DAC76510>\n"
     ]
    }
   ],
   "source": [
    "print(my_sample)"
   ]
  },
  {
   "cell_type": "code",
   "execution_count": 112,
   "id": "bace11fd-dd43-40cc-b733-c9f52980d3fe",
   "metadata": {},
   "outputs": [],
   "source": [
    "class Book():\n",
    "\n",
    "    def __init__(self,title,author,pages):\n",
    "        self.title = title\n",
    "        self.author = author\n",
    "        self.pages = pages\n",
    "\n",
    "    def __str__(self):\n",
    "        return f\"{self.title} by {self.author}\"\n",
    "\n",
    "    def __len__(self):\n",
    "        return self.pages\n",
    "\n",
    "    def __del__(self):\n",
    "        print(\"A book object has been  deleted!!\")"
   ]
  },
  {
   "cell_type": "code",
   "execution_count": 113,
   "id": "481ec5f9-384a-46fa-8a2d-b60f7f9ca5b3",
   "metadata": {},
   "outputs": [],
   "source": [
    "b = Book('Python roacks', 'Jose', 200)"
   ]
  },
  {
   "cell_type": "code",
   "execution_count": 114,
   "id": "95930d74-f3d9-4a38-9017-0b1280cb533e",
   "metadata": {},
   "outputs": [
    {
     "name": "stdout",
     "output_type": "stream",
     "text": [
      "Python roacks by Jose\n"
     ]
    }
   ],
   "source": [
    "print(b)"
   ]
  },
  {
   "cell_type": "code",
   "execution_count": 115,
   "id": "e3160dc5-b5d7-4c6d-b8be-58a720a94a0a",
   "metadata": {},
   "outputs": [
    {
     "data": {
      "text/plain": [
       "'Python roacks by Jose'"
      ]
     },
     "execution_count": 115,
     "metadata": {},
     "output_type": "execute_result"
    }
   ],
   "source": [
    "str(b)"
   ]
  },
  {
   "cell_type": "raw",
   "id": "e8eb3684-42ba-4a62-bbe5-7a38b9a55df0",
   "metadata": {},
   "source": [
    "len(b) "
   ]
  },
  {
   "cell_type": "code",
   "execution_count": 116,
   "id": "452d627c-2c5d-465e-b8b4-8e30e0994661",
   "metadata": {},
   "outputs": [
    {
     "data": {
      "text/plain": [
       "200"
      ]
     },
     "execution_count": 116,
     "metadata": {},
     "output_type": "execute_result"
    }
   ],
   "source": [
    "len(b)"
   ]
  },
  {
   "cell_type": "code",
   "execution_count": 117,
   "id": "510fca11-dc23-4be6-bde5-081b04806600",
   "metadata": {},
   "outputs": [
    {
     "name": "stdout",
     "output_type": "stream",
     "text": [
      "A book object has been  deleted!!\n"
     ]
    }
   ],
   "source": [
    "del b"
   ]
  },
  {
   "cell_type": "code",
   "execution_count": 118,
   "id": "3245ef4e-e938-4db3-8906-f61a1171ec00",
   "metadata": {},
   "outputs": [
    {
     "ename": "NameError",
     "evalue": "name 'b' is not defined",
     "output_type": "error",
     "traceback": [
      "\u001b[1;31m---------------------------------------------------------------------------\u001b[0m",
      "\u001b[1;31mNameError\u001b[0m                                 Traceback (most recent call last)",
      "Cell \u001b[1;32mIn[118], line 1\u001b[0m\n\u001b[1;32m----> 1\u001b[0m b\n",
      "\u001b[1;31mNameError\u001b[0m: name 'b' is not defined"
     ]
    }
   ],
   "source": [
    "b"
   ]
  },
  {
   "cell_type": "code",
   "execution_count": null,
   "id": "971d55fa-dac6-4046-8fc8-6a586ea4a9a6",
   "metadata": {},
   "outputs": [],
   "source": []
  },
  {
   "cell_type": "code",
   "execution_count": null,
   "id": "9e7c9177-d166-4bad-b35b-1fef03d2a4f4",
   "metadata": {},
   "outputs": [],
   "source": []
  },
  {
   "cell_type": "code",
   "execution_count": null,
   "id": "0087bca0-27a6-4330-adc4-42b3ec78d2b0",
   "metadata": {},
   "outputs": [],
   "source": []
  },
  {
   "cell_type": "code",
   "execution_count": null,
   "id": "fcd20d52-b8c8-4801-b33b-c08453b3cb5a",
   "metadata": {},
   "outputs": [],
   "source": []
  },
  {
   "cell_type": "code",
   "execution_count": null,
   "id": "7b867d6b-207b-4bf6-999a-8811941ddb17",
   "metadata": {},
   "outputs": [],
   "source": []
  },
  {
   "cell_type": "code",
   "execution_count": null,
   "id": "6db84207-398a-4c04-9877-249b103621e2",
   "metadata": {},
   "outputs": [],
   "source": []
  }
 ],
 "metadata": {
  "kernelspec": {
   "display_name": "Python 3 (ipykernel)",
   "language": "python",
   "name": "python3"
  },
  "language_info": {
   "codemirror_mode": {
    "name": "ipython",
    "version": 3
   },
   "file_extension": ".py",
   "mimetype": "text/x-python",
   "name": "python",
   "nbconvert_exporter": "python",
   "pygments_lexer": "ipython3",
   "version": "3.13.5"
  }
 },
 "nbformat": 4,
 "nbformat_minor": 5
}
