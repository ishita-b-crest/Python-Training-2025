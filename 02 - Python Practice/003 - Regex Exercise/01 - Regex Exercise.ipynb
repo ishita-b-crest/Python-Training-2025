{
 "cells": [
  {
   "cell_type": "markdown",
   "id": "9bcf5cac-1cf5-4ac7-8cea-c39ddddb0db2",
   "metadata": {},
   "source": [
    "#### **Regular Expressions 1**"
   ]
  },
  {
   "cell_type": "code",
   "execution_count": 6,
   "id": "17a6c078-0d28-4954-af33-7385276c5f7f",
   "metadata": {},
   "outputs": [],
   "source": [
    "import re"
   ]
  },
  {
   "cell_type": "code",
   "execution_count": 7,
   "id": "ab4c4c81-bf9e-4153-941e-7250d393cfa4",
   "metadata": {},
   "outputs": [],
   "source": [
    "def numberMatcher(str):\n",
    "    numbers = re.findall(r'\\d+', str)\n",
    "\n",
    "    if numbers:\n",
    "        print(' '.join(numbers))\n",
    "    else:\n",
    "        print(-1)"
   ]
  },
  {
   "cell_type": "code",
   "execution_count": 8,
   "id": "d6f28536-1e2f-48e1-b000-ddf3102ada47",
   "metadata": {},
   "outputs": [
    {
     "name": "stdout",
     "output_type": "stream",
     "text": [
      "12121 22 1 676 5\n"
     ]
    }
   ],
   "source": [
    "numberMatcher(\"asasasatyguu12121hvghhfb22ggyucszv1ygdyu676cfgsytf5\")"
   ]
  },
  {
   "cell_type": "markdown",
   "id": "90f525ef-88a3-4f27-b96f-9cfcd242886e",
   "metadata": {},
   "source": [
    "#### **Regular Expressions 2**"
   ]
  },
  {
   "cell_type": "code",
   "execution_count": 11,
   "id": "774615b0-b87b-4464-8d31-6c63d4ad9bdb",
   "metadata": {},
   "outputs": [],
   "source": [
    "def validate(s):\n",
    "    pattern = r'^[a-z]+[!@#$%]+[0-9]+$'\n",
    "\n",
    "    if re.fullmatch(pattern, s):\n",
    "        return True\n",
    "    else:\n",
    "        return False"
   ]
  },
  {
   "cell_type": "code",
   "execution_count": 14,
   "id": "7bea549e-6cce-4ff5-a387-bf698fdfaad9",
   "metadata": {},
   "outputs": [
    {
     "data": {
      "text/plain": [
       "True"
      ]
     },
     "execution_count": 14,
     "metadata": {},
     "output_type": "execute_result"
    }
   ],
   "source": [
    "validate('sangrah!0')"
   ]
  },
  {
   "cell_type": "markdown",
   "id": "a5151c5e-feb1-48df-9bea-bcb002d891a9",
   "metadata": {},
   "source": [
    "#### **Python program to find the type of IP Address using Regex**"
   ]
  },
  {
   "cell_type": "code",
   "execution_count": 16,
   "id": "8faa61e7-5ea3-42c8-9443-0b0b2c6a6fe2",
   "metadata": {},
   "outputs": [],
   "source": [
    "def cubsubstr(pattern, string):\n",
    "    a = [m.start() for m in re.finditer(pattern, string)]\n",
    "    return a\n"
   ]
  },
  {
   "cell_type": "code",
   "execution_count": 17,
   "id": "abd33e85-adf9-4fef-b95d-269bb801dfdb",
   "metadata": {},
   "outputs": [],
   "source": [
    "string = 'geeksforgeeksforgeeks'\n",
    "pattern = 'geeksforgeeks'"
   ]
  },
  {
   "cell_type": "code",
   "execution_count": 19,
   "id": "ff405d0a-eb54-4d84-8537-85c71bb794ca",
   "metadata": {},
   "outputs": [
    {
     "name": "stdout",
     "output_type": "stream",
     "text": [
      "[0]\n"
     ]
    }
   ],
   "source": [
    "print(cubsubstr(pattern, string))"
   ]
  },
  {
   "cell_type": "markdown",
   "id": "d03458ce-6008-4a19-a850-f0bb5cec1fc2",
   "metadata": {},
   "source": [
    "#### **Python program to extract Strings between HTML Tags**"
   ]
  },
  {
   "cell_type": "code",
   "execution_count": 20,
   "id": "9084ad3c-1f3e-4d89-8e9b-7cd6f48d87cb",
   "metadata": {},
   "outputs": [
    {
     "name": "stdout",
     "output_type": "stream",
     "text": [
      "The original string is : <b>Gfg</b> is <b>Best</b>. I love <b>Reading CS</b> from it.\n",
      "The Strings extracted : ['Gfg', 'Best', 'Reading CS']\n"
     ]
    }
   ],
   "source": [
    "\n",
    "\n",
    "test_str = '<b>Gfg</b> is <b>Best</b>. I love <b>Reading CS</b> from it.'\n",
    "print(\"The original string is : \" + str(test_str))\n",
    "\n",
    "tag = \"b\"\n",
    "\n",
    "reg_str = \"<\" + tag + \">(.*?)</\" + tag + \">\"\n",
    "res = re.findall(reg_str, test_str)\n",
    "\n",
    "print(\"The Strings extracted : \" + str(res))"
   ]
  },
  {
   "cell_type": "markdown",
   "id": "6a4f888c-26c3-4f94-b2e5-a4a2e2e9cb21",
   "metadata": {},
   "source": [
    "#### **Check if String Contain Only Defined Characters using Regex**"
   ]
  },
  {
   "cell_type": "code",
   "execution_count": 21,
   "id": "436e9412-e776-4940-8d5a-394ea098c91b",
   "metadata": {},
   "outputs": [],
   "source": [
    "def check(str, pattern):\n",
    "    # _matching the strings\n",
    "    if re.search(pattern, str):\n",
    "        print(\"Valid String\")\n",
    "    else:\n",
    "        print(\"Invalid String\")\n"
   ]
  },
  {
   "cell_type": "code",
   "execution_count": 22,
   "id": "4bd29ea9-e054-4c57-8c13-9db0d56ae14e",
   "metadata": {},
   "outputs": [
    {
     "name": "stdout",
     "output_type": "stream",
     "text": [
      "Valid String\n",
      "Invalid String\n"
     ]
    }
   ],
   "source": [
    "pattern = re.compile('^[1234]+$')\n",
    "check('2134', pattern)\n",
    "check('349', pattern)"
   ]
  },
  {
   "cell_type": "markdown",
   "id": "38ab3ebd-d2f2-4be7-a8ef-037803aefbcd",
   "metadata": {},
   "source": [
    "#### **Python program to find files having a particular extension using RegEx**"
   ]
  },
  {
   "cell_type": "code",
   "execution_count": 23,
   "id": "aba4863f-4f3d-4e24-bf33-6bcaa4c448c8",
   "metadata": {},
   "outputs": [
    {
     "name": "stdout",
     "output_type": "stream",
     "text": [
      "The file ending with .xml is: geeks.xml\n"
     ]
    }
   ],
   "source": [
    "filenames = [\"gfg.html\", \"geeks.xml\", \n",
    "            \"computer.txt\", \"geeksforgeeks.jpg\"]\n",
    "\n",
    "for file in filenames:\n",
    "    match = re.search(\"\\.xml$\", file)\n",
    "\n",
    "    if match:\n",
    "        print(\"The file ending with .xml is:\",\n",
    "             file)"
   ]
  },
  {
   "cell_type": "code",
   "execution_count": null,
   "id": "14579293-62a3-40f5-af2e-52173da121c1",
   "metadata": {},
   "outputs": [],
   "source": []
  }
 ],
 "metadata": {
  "kernelspec": {
   "display_name": "Python 3 (ipykernel)",
   "language": "python",
   "name": "python3"
  },
  "language_info": {
   "codemirror_mode": {
    "name": "ipython",
    "version": 3
   },
   "file_extension": ".py",
   "mimetype": "text/x-python",
   "name": "python",
   "nbconvert_exporter": "python",
   "pygments_lexer": "ipython3",
   "version": "3.13.5"
  }
 },
 "nbformat": 4,
 "nbformat_minor": 5
}
