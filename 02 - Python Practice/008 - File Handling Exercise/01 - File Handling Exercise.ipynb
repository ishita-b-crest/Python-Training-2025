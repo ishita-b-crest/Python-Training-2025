{
 "cells": [
  {
   "cell_type": "markdown",
   "id": "c54d4446-1323-453e-b056-21de51bface2",
   "metadata": {},
   "source": [
    "#### **Read content from one file and write it into another file**"
   ]
  },
  {
   "cell_type": "code",
   "execution_count": 12,
   "id": "c8490d0c-dec0-4b1b-9a7a-608701416a19",
   "metadata": {},
   "outputs": [],
   "source": [
    "with open(\"input.txt\", \"r\") as input:\n",
    "    \n",
    "    with open(\"output.txt\", \"w\") as output:\n",
    "        for line in input:\n",
    "            output.write(line)"
   ]
  },
  {
   "cell_type": "markdown",
   "id": "36a7ba22-4b0c-46fa-9f7e-002a06e71480",
   "metadata": {},
   "source": [
    "#### **Write a dictionary to a file**"
   ]
  },
  {
   "cell_type": "code",
   "execution_count": 13,
   "id": "469f65ef-984c-489e-b422-b2cd2bb4b836",
   "metadata": {},
   "outputs": [],
   "source": [
    "import json "
   ]
  },
  {
   "cell_type": "code",
   "execution_count": 14,
   "id": "b01eb458-4534-4308-ac14-92b50834ea13",
   "metadata": {},
   "outputs": [],
   "source": [
    "d = {'Name': 'Ishita', 'Age': 20}"
   ]
  },
  {
   "cell_type": "code",
   "execution_count": 15,
   "id": "4a754d27-ebb5-4d52-b927-aae7a4a517d1",
   "metadata": {},
   "outputs": [],
   "source": [
    "with open('data.json', 'w') as f:\n",
    "    json.dump(d, f)"
   ]
  },
  {
   "cell_type": "markdown",
   "id": "64cfb7f8-1fe8-4618-849c-231c4b8ae442",
   "metadata": {},
   "source": [
    "#### **How to check file size in Python?**"
   ]
  },
  {
   "cell_type": "code",
   "execution_count": 16,
   "id": "02926dce-baf9-41cf-9171-d15660177c3b",
   "metadata": {},
   "outputs": [
    {
     "name": "stdout",
     "output_type": "stream",
     "text": [
      "347\n"
     ]
    }
   ],
   "source": [
    "from pathlib import Path\n",
    "\n",
    "sz = Path('input.txt').stat().st_size\n",
    "\n",
    "print(sz)"
   ]
  },
  {
   "cell_type": "markdown",
   "id": "d427d809-4307-40c7-9dcb-bf106fce20fd",
   "metadata": {},
   "source": [
    "#### **Find the most repeated word in a text file**"
   ]
  },
  {
   "cell_type": "code",
   "execution_count": 17,
   "id": "009b4d1d-7e4d-47e6-a27d-7db77b108307",
   "metadata": {},
   "outputs": [
    {
     "name": "stdout",
     "output_type": "stream",
     "text": [
      "Most repeated word: a\n",
      "Frequency: 7\n"
     ]
    }
   ],
   "source": [
    "file = open(\"input.txt\",\"r\")\n",
    "frequent_word = \"\"\n",
    "frequency = 0  \n",
    "\n",
    "for line in file:\n",
    "    \n",
    "    \n",
    "    line_word = line.lower().replace(',','').replace('.','').split(\" \");  \n",
    "\n",
    "    for w in line_word:  \n",
    "        words.append(w);  \n",
    "        \n",
    "for i in range(0, len(words)):  \n",
    "    \n",
    "    count = 1;  \n",
    "    \n",
    "    for j in range(i+1, len(words)):  \n",
    "        if(words[i] == words[j]):  \n",
    "            count = count + 1;  \n",
    "\n",
    "    if(count > frequency):  \n",
    "        frequency = count;  \n",
    "        frequent_word = words[i];  \n",
    "\n",
    "print(\"Most repeated word: \" + frequent_word)\n",
    "print(\"Frequency: \" + str(frequency))\n",
    "file.close();"
   ]
  },
  {
   "cell_type": "markdown",
   "id": "6c17776b-5215-4f1f-bc26-98eedf3d9b69",
   "metadata": {},
   "source": [
    "#### **How to read specific lines from a File in Python?**"
   ]
  },
  {
   "cell_type": "code",
   "execution_count": 20,
   "id": "fae3f608-0340-47a5-888b-e188e4e5a48b",
   "metadata": {},
   "outputs": [
    {
     "name": "stdout",
     "output_type": "stream",
     "text": [
      "tenth line\n",
      "specified indices are then accessed.\n",
      "first three lines\n",
      "['This method is preferred when a.\\n', 'single line or a range of lines from a. \\n', 'file needs to be accessed simultaneously.\\n']\n"
     ]
    }
   ],
   "source": [
    "file = open('input.txt')\n",
    "\n",
    "content = file.readlines()\n",
    "print(\"tenth line\")\n",
    "print(content[9])\n",
    "\n",
    "print(\"first three lines\")\n",
    "print(content[0:3])"
   ]
  },
  {
   "cell_type": "code",
   "execution_count": null,
   "id": "19bda7e0-de27-4cf7-abef-afaa248bf5a8",
   "metadata": {},
   "outputs": [],
   "source": []
  }
 ],
 "metadata": {
  "kernelspec": {
   "display_name": "Python 3 (ipykernel)",
   "language": "python",
   "name": "python3"
  },
  "language_info": {
   "codemirror_mode": {
    "name": "ipython",
    "version": 3
   },
   "file_extension": ".py",
   "mimetype": "text/x-python",
   "name": "python",
   "nbconvert_exporter": "python",
   "pygments_lexer": "ipython3",
   "version": "3.13.5"
  }
 },
 "nbformat": 4,
 "nbformat_minor": 5
}
