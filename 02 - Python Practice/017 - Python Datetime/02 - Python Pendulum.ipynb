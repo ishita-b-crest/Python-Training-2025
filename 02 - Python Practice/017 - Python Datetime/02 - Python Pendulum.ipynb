{
 "cells": [
  {
   "cell_type": "markdown",
   "id": "ef9cb7a1-fc50-4945-8f65-2052c490e633",
   "metadata": {},
   "source": [
    "#### **TimeZone Support**"
   ]
  },
  {
   "cell_type": "code",
   "execution_count": 3,
   "id": "837f49ce-0a75-4d28-ba3b-cf8e7bda658e",
   "metadata": {},
   "outputs": [
    {
     "name": "stdout",
     "output_type": "stream",
     "text": [
      "Pendulum object for the current date and time in London timezone: 2025-07-24 06:28:36.688665+01:00\n"
     ]
    }
   ],
   "source": [
    "\n",
    "import pendulum\n",
    "\n",
    "london_datetime = pendulum.now('Europe/London')\n",
    "\n",
    "print(\"Pendulum object for the current date and time in London timezone:\", london_datetime)\n"
   ]
  },
  {
   "cell_type": "code",
   "execution_count": 2,
   "id": "9d6dc30e-02f6-4add-9075-f7c64e69c26f",
   "metadata": {},
   "outputs": [
    {
     "name": "stdout",
     "output_type": "stream",
     "text": [
      "Collecting pendulum\n",
      "  Downloading pendulum-3.1.0-cp313-cp313-win_amd64.whl.metadata (6.9 kB)\n",
      "Requirement already satisfied: python-dateutil>=2.6 in c:\\users\\ishitabhojani\\anaconda3\\lib\\site-packages (from pendulum) (2.9.0.post0)\n",
      "Requirement already satisfied: tzdata>=2020.1 in c:\\users\\ishitabhojani\\anaconda3\\lib\\site-packages (from pendulum) (2025.2)\n",
      "Requirement already satisfied: six>=1.5 in c:\\users\\ishitabhojani\\anaconda3\\lib\\site-packages (from python-dateutil>=2.6->pendulum) (1.17.0)\n",
      "Downloading pendulum-3.1.0-cp313-cp313-win_amd64.whl (260 kB)\n",
      "Installing collected packages: pendulum\n",
      "Successfully installed pendulum-3.1.0\n",
      "Note: you may need to restart the kernel to use updated packages.\n"
     ]
    }
   ],
   "source": [
    "pip install pendulum"
   ]
  },
  {
   "cell_type": "code",
   "execution_count": 6,
   "id": "950264c3-3ee3-4769-8ea4-8d208c257b8a",
   "metadata": {},
   "outputs": [],
   "source": [
    "india_datetime = pendulum.now('Asia/Kolkata')"
   ]
  },
  {
   "cell_type": "code",
   "execution_count": 7,
   "id": "077874d6-d1d1-449a-b3a6-d41453514102",
   "metadata": {},
   "outputs": [
    {
     "name": "stdout",
     "output_type": "stream",
     "text": [
      "Current timezone in india: 2025-07-24 11:03:03.125605+05:30\n"
     ]
    }
   ],
   "source": [
    "print('Current timezone in india:', india_datetime)"
   ]
  },
  {
   "cell_type": "markdown",
   "id": "f4db1c25-4a66-4a79-8c53-3d220a890965",
   "metadata": {},
   "source": [
    "#### **Difference in Days**"
   ]
  },
  {
   "cell_type": "code",
   "execution_count": 8,
   "id": "fd38f338-628d-450a-aa59-410f78a76516",
   "metadata": {},
   "outputs": [],
   "source": [
    "date_str1 = \"2018-03-15\"\n",
    "date_str2 = \"2018-04-20\""
   ]
  },
  {
   "cell_type": "code",
   "execution_count": 10,
   "id": "ac5d3e2b-e40e-435d-afa3-353c2a962139",
   "metadata": {},
   "outputs": [
    {
     "name": "stdout",
     "output_type": "stream",
     "text": [
      "Difference in days: 36 days\n"
     ]
    }
   ],
   "source": [
    "date1 = pendulum.parse(date_str1)\n",
    "date2 = pendulum.parse(date_str2)\n",
    "\n",
    "days_difference = date2.diff(date1).in_days()\n",
    "\n",
    "print(f\"Difference in days: {days_difference} days\")\n"
   ]
  },
  {
   "cell_type": "code",
   "execution_count": null,
   "id": "bd8edf26-770d-4240-b4d8-ef9dd9e3d57b",
   "metadata": {},
   "outputs": [],
   "source": []
  }
 ],
 "metadata": {
  "kernelspec": {
   "display_name": "Python 3 (ipykernel)",
   "language": "python",
   "name": "python3"
  },
  "language_info": {
   "codemirror_mode": {
    "name": "ipython",
    "version": 3
   },
   "file_extension": ".py",
   "mimetype": "text/x-python",
   "name": "python",
   "nbconvert_exporter": "python",
   "pygments_lexer": "ipython3",
   "version": "3.13.5"
  }
 },
 "nbformat": 4,
 "nbformat_minor": 5
}
