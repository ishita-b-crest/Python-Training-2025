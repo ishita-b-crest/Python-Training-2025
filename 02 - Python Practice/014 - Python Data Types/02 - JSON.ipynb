{
 "cells": [
  {
   "cell_type": "code",
   "execution_count": null,
   "id": "659c1758-8b71-4371-81aa-55c114adc621",
   "metadata": {},
   "outputs": [],
   "source": []
  },
  {
   "cell_type": "code",
   "execution_count": 1,
   "id": "ec7e3c77-4fa6-4a1d-af24-75198f2079c3",
   "metadata": {},
   "outputs": [
    {
     "name": "stdout",
     "output_type": "stream",
     "text": [
      "\n",
      "JSON data:\n",
      "{'Name': 'David', 'Class': 'I', 'Age': 6}\n",
      "\n",
      "Name:  David\n",
      "Class:  I\n",
      "Age:  6\n"
     ]
    }
   ],
   "source": [
    "import json\n",
    "json_obj =  '{ \"Name\":\"David\", \"Class\":\"I\", \"Age\":6 }'\n",
    "python_obj = json.loads(json_obj)\n",
    "print(\"\\nJSON data:\")\n",
    "print(python_obj)\n",
    "print(\"\\nName: \",python_obj[\"Name\"])\n",
    "print(\"Class: \",python_obj[\"Class\"])\n",
    "print(\"Age: \",python_obj[\"Age\"]) "
   ]
  },
  {
   "cell_type": "code",
   "execution_count": null,
   "id": "aa9ebf8a-8157-4d8e-a692-0d7b8308d7e1",
   "metadata": {},
   "outputs": [],
   "source": []
  }
 ],
 "metadata": {
  "kernelspec": {
   "display_name": "Python 3 (ipykernel)",
   "language": "python",
   "name": "python3"
  },
  "language_info": {
   "codemirror_mode": {
    "name": "ipython",
    "version": 3
   },
   "file_extension": ".py",
   "mimetype": "text/x-python",
   "name": "python",
   "nbconvert_exporter": "python",
   "pygments_lexer": "ipython3",
   "version": "3.13.5"
  }
 },
 "nbformat": 4,
 "nbformat_minor": 5
}
