{
 "cells": [
  {
   "cell_type": "markdown",
   "id": "7b232c28-953e-4eaf-8cf3-f478777ee7aa",
   "metadata": {},
   "source": [
    "### **program to reverse a stack**"
   ]
  },
  {
   "cell_type": "code",
   "execution_count": 23,
   "id": "962f427a-43bc-47ac-bb1d-6bdb93d24597",
   "metadata": {},
   "outputs": [],
   "source": [
    "class stack():\n",
    "    def __init__(self):\n",
    "        self.ele = []\n",
    "\n",
    "    def push(self, value):\n",
    "        self.ele.append(value)\n",
    "\n",
    "    def pop(self):\n",
    "        return self.ele.pop()\n",
    "\n",
    "    def empty(self):\n",
    "        return self.ele == []\n",
    "\n",
    "    def show(self):\n",
    "        for val in reversed(self.ele):\n",
    "            print(val)"
   ]
  },
  {
   "cell_type": "code",
   "execution_count": 24,
   "id": "be4176cf-c79e-4883-b75a-36cc725c93f9",
   "metadata": {},
   "outputs": [],
   "source": [
    "def bottominsert(s, value):\n",
    "    if s.empty():\n",
    "        s.push(value)\n",
    "    else:\n",
    "        popped = s.pop()\n",
    "        bottominsert(s, value)\n",
    "        s.push(popped)"
   ]
  },
  {
   "cell_type": "code",
   "execution_count": 25,
   "id": "0432e7ea-2de1-44e3-ab50-e61bc551558f",
   "metadata": {},
   "outputs": [],
   "source": [
    "def reverse(s):\n",
    "    if s.empty():\n",
    "        pass\n",
    "\n",
    "    else:\n",
    "        popped = s.pop()\n",
    "        reverse(s)\n",
    "        bottominsert(s, popped)"
   ]
  },
  {
   "cell_type": "code",
   "execution_count": 26,
   "id": "9772b09e-81f7-4cd4-9115-ad5464b90075",
   "metadata": {},
   "outputs": [],
   "source": [
    "obj = stack()\n",
    "\n",
    "obj.push(1)\n",
    "obj.push(2)\n",
    "obj.push(3)\n",
    "obj.push(4)\n",
    "obj.push(5)"
   ]
  },
  {
   "cell_type": "code",
   "execution_count": 27,
   "id": "81de0b68-f71a-447a-a5cb-9126c4afb56f",
   "metadata": {},
   "outputs": [
    {
     "name": "stdout",
     "output_type": "stream",
     "text": [
      "Original Stack\n",
      "5\n",
      "4\n",
      "3\n",
      "2\n",
      "1\n"
     ]
    }
   ],
   "source": [
    "print(\"Original Stack\")\n",
    "obj.show()"
   ]
  },
  {
   "cell_type": "code",
   "execution_count": 28,
   "id": "0e69438e-bf6d-4c39-b773-e409df0288a0",
   "metadata": {},
   "outputs": [
    {
     "name": "stdout",
     "output_type": "stream",
     "text": [
      "Reversed stack\n",
      "1\n",
      "2\n",
      "3\n",
      "4\n",
      "5\n"
     ]
    }
   ],
   "source": [
    "print(\"Reversed stack\")\n",
    "reverse(obj)\n",
    "obj.show()"
   ]
  },
  {
   "cell_type": "code",
   "execution_count": 29,
   "id": "68e5353a-e437-4911-aa29-712711f8e54e",
   "metadata": {},
   "outputs": [],
   "source": [
    "\n",
    "\n",
    "\n",
    "def ReverseWithoutRecursion(s):\n",
    "    aux_stack = stack()\n",
    "    \n",
    "   \n",
    "    while not s.empty():\n",
    "        aux_stack.push(s.pop())\n",
    "    \n",
    "    \n",
    "    while not aux_stack.empty():\n",
    "        s.push(aux_stack.pop())\n"
   ]
  },
  {
   "cell_type": "code",
   "execution_count": 30,
   "id": "d89adf01-5f4d-4aec-8e61-a156479e1b43",
   "metadata": {},
   "outputs": [],
   "source": [
    "obj = stack()\n",
    "\n",
    "obj.push(1)\n",
    "obj.push(2)\n",
    "obj.push(3)\n",
    "obj.push(4)\n",
    "obj.push(5)"
   ]
  },
  {
   "cell_type": "code",
   "execution_count": 31,
   "id": "be2b8d67-f8b0-408f-8785-60445e7bdbd5",
   "metadata": {},
   "outputs": [
    {
     "name": "stdout",
     "output_type": "stream",
     "text": [
      "Original Stack\n",
      "5\n",
      "4\n",
      "3\n",
      "2\n",
      "1\n"
     ]
    }
   ],
   "source": [
    "print(\"Original Stack\")\n",
    "obj.show()"
   ]
  },
  {
   "cell_type": "code",
   "execution_count": 32,
   "id": "016d9363-d1de-41d3-af6e-f23cbd64b7e3",
   "metadata": {},
   "outputs": [
    {
     "name": "stdout",
     "output_type": "stream",
     "text": [
      "Reversed stack\n",
      "5\n",
      "4\n",
      "3\n",
      "2\n",
      "1\n"
     ]
    }
   ],
   "source": [
    "print(\"Reversed stack\")\n",
    "ReverseWithoutRecursion(obj)\n",
    "obj.show()"
   ]
  },
  {
   "cell_type": "markdown",
   "id": "1e5f82c7-36e9-47ce-bac5-8e164d9f93a9",
   "metadata": {},
   "source": [
    "### **Check whether the given string is Palindrome using Stack**"
   ]
  },
  {
   "cell_type": "code",
   "execution_count": 33,
   "id": "71c830e2-9ed9-48ff-be93-22b91b333ee7",
   "metadata": {},
   "outputs": [],
   "source": [
    "def ispalindrome(s):\n",
    "    stk = []\n",
    "\n",
    "    for i in range(len(s)):\n",
    "        stk.append(i)\n",
    "\n",
    "    for i in range(len(s)):\n",
    "        if s[i] != stk.pop():\n",
    "            return False\n",
    "    return True"
   ]
  },
  {
   "cell_type": "code",
   "execution_count": 34,
   "id": "d09e95a6-33a1-4aa6-92d1-8263258fd247",
   "metadata": {},
   "outputs": [
    {
     "name": "stdout",
     "output_type": "stream",
     "text": [
      "no\n"
     ]
    }
   ],
   "source": [
    "if __name__ == \"__main__\":\n",
    "    s = \"navjivan\"\n",
    "    if ispalindrome(s):\n",
    "        print(\"Yes\")\n",
    "    else:\n",
    "        print(\"no\")"
   ]
  },
  {
   "cell_type": "code",
   "execution_count": null,
   "id": "2b05cfd8-bce5-48b4-950a-2a4928455b21",
   "metadata": {},
   "outputs": [],
   "source": []
  },
  {
   "cell_type": "markdown",
   "id": "618a81ce-c774-4da0-b452-d500b376460b",
   "metadata": {},
   "source": [
    "### **Multithreaded Priority Queue in Python**\n",
    "get(): It is used to add an item to a queue.</br>\n",
    "put(): It is used to remove an item from a queue.</br>\n",
    "qsize(): It is used to find the number of items in a queue.</br>\n",
    "empty(): It returns a boolean value depending upon whether the queue is empty or not.</br>\n",
    "full(): It returns a boolean value depending upon whether the queue is full or not."
   ]
  },
  {
   "cell_type": "code",
   "execution_count": 35,
   "id": "ab253243-e176-407d-ac61-70cf2d87f03c",
   "metadata": {},
   "outputs": [],
   "source": [
    "import queue\n",
    "import threading\n",
    "import time"
   ]
  },
  {
   "cell_type": "code",
   "execution_count": 36,
   "id": "78c99468-966e-48cd-9fb1-72f3373b0df5",
   "metadata": {},
   "outputs": [],
   "source": [
    "thread_exit_flag = 0\n",
    "class sample_thread(threading.Thread):\n",
    "    def __init__(self, threadID, name, q):\n",
    "        threading.Thread.__init__(self)\n",
    "        self.threadID = threadID\n",
    "        self.name = name\n",
    "        self.q = q\n",
    "    def run(self):\n",
    "        print(\"initializing \" + self.name)\n",
    "        process_data(self.name, self.q)\n",
    "        print(\"Exiting \" + self.name)"
   ]
  },
  {
   "cell_type": "code",
   "execution_count": 37,
   "id": "6aa72353-22dc-44a2-b30d-59c118c096ca",
   "metadata": {},
   "outputs": [],
   "source": [
    "def process_data(threadName, q):\n",
    "    while not thread_exit_flag:\n",
    "        queueLock.acquire()\n",
    "        if not q.empty():\n",
    "            data = q.get()\n",
    "            print(\"%s processing %s\" % (threadName, data))\n",
    "        queueLock.release()\n",
    "        time.sleep(1)\n"
   ]
  },
  {
   "cell_type": "code",
   "execution_count": 38,
   "id": "904292a7-f8ad-4787-98a2-9db66eec8189",
   "metadata": {},
   "outputs": [],
   "source": [
    "thread_list = [\"Thread-1\", \"Thread-2\", \"Thread-3\"]\n",
    "name_list = [\"A\", \"B\", \"C\", \"D\", \"E\"]\n",
    "queueLock = threading.Lock()\n",
    "workQueue = queue.Queue(10)\n",
    "threads = []\n",
    "threadID = 1"
   ]
  },
  {
   "cell_type": "code",
   "execution_count": 39,
   "id": "0b79c7f5-fd70-44b1-a64a-6ed48f52de08",
   "metadata": {},
   "outputs": [
    {
     "name": "stdout",
     "output_type": "stream",
     "text": [
      "initializing Thread-1\n",
      "initializing Thread-2\n",
      "initializing Thread-3\n"
     ]
    }
   ],
   "source": [
    "for thread_name in thread_list:\n",
    "    thread = sample_thread(threadID, thread_name, workQueue)\n",
    "    thread.start()\n",
    "    threads.append(thread)\n",
    "    threadID += 1"
   ]
  },
  {
   "cell_type": "code",
   "execution_count": 40,
   "id": "21a6c085-17a9-413d-ae1d-ce21e7a52031",
   "metadata": {},
   "outputs": [
    {
     "name": "stdout",
     "output_type": "stream",
     "text": [
      "Thread-1 processing A\n",
      "Thread-3 processing B\n",
      "Thread-2 processing C\n",
      "Thread-1 processing D\n",
      "Thread-3 processing E\n",
      "Exiting Thread-2\n",
      "Exiting Thread-3Exiting Thread-1\n",
      "\n",
      "Exit Main Thread\n"
     ]
    }
   ],
   "source": [
    "queueLock.acquire()\n",
    "for items in name_list:\n",
    "    workQueue.put(items)\n",
    "\n",
    "queueLock.release()\n",
    "\n",
    "while not workQueue.empty():\n",
    "    pass\n",
    "\n",
    "thread_exit_flag = 1\n",
    "\n",
    "for t in threads:\n",
    "    t.join()\n",
    "print(\"Exit Main Thread\")"
   ]
  },
  {
   "cell_type": "code",
   "execution_count": null,
   "id": "e86c0738-dcb6-499e-8752-05bb4512e750",
   "metadata": {},
   "outputs": [],
   "source": []
  },
  {
   "cell_type": "code",
   "execution_count": 41,
   "id": "bd7cf5c0-ec6f-482c-ad21-6676fa528754",
   "metadata": {},
   "outputs": [],
   "source": [
    "import math"
   ]
  },
  {
   "cell_type": "code",
   "execution_count": 42,
   "id": "5b7d3835-352b-4a76-900e-75ae460cdc3f",
   "metadata": {},
   "outputs": [],
   "source": [
    "def edgecover(n):\n",
    "    result = 0\n",
    "    result = math.ceil(n / 2.0)\n",
    "    return result"
   ]
  },
  {
   "cell_type": "code",
   "execution_count": 43,
   "id": "8d140ba0-ca2d-4c90-9216-6121d02f348f",
   "metadata": {},
   "outputs": [
    {
     "name": "stdout",
     "output_type": "stream",
     "text": [
      "3\n"
     ]
    }
   ],
   "source": [
    "if __name__ == \"__main__\" : \n",
    "  \n",
    "    n =  5\n",
    "  \n",
    "    print(int(edgecover(n)))"
   ]
  },
  {
   "cell_type": "code",
   "execution_count": null,
   "id": "bf65d2e7-efac-40b7-8cd2-7bde1e7ea9bb",
   "metadata": {},
   "outputs": [],
   "source": []
  },
  {
   "cell_type": "code",
   "execution_count": null,
   "id": "4331a497-cef3-4d00-b85d-81cf36266496",
   "metadata": {},
   "outputs": [],
   "source": []
  },
  {
   "cell_type": "markdown",
   "id": "75543410-1848-4ff9-9e65-40b7abfc9de4",
   "metadata": {},
   "source": [
    "#### **N Queen Problem**"
   ]
  },
  {
   "cell_type": "code",
   "execution_count": 44,
   "id": "7b36d8e7-a737-4266-984a-4a4f235dc5df",
   "metadata": {},
   "outputs": [],
   "source": [
    "global N\n",
    "N = 4"
   ]
  },
  {
   "cell_type": "code",
   "execution_count": 45,
   "id": "39272282-e30c-4ada-833e-e080de95b7ef",
   "metadata": {},
   "outputs": [],
   "source": [
    "def printSolution(board):\n",
    "    for i in range(N):\n",
    "        for j in range(N):\n",
    "            print(board[i][j], end=' ')\n",
    "        print()"
   ]
  },
  {
   "cell_type": "code",
   "execution_count": 57,
   "id": "cea3a7a7-703f-4ee6-b459-103bd09d2d52",
   "metadata": {},
   "outputs": [],
   "source": [
    "def issafe(board, row, col):\n",
    "    for i in range(col):\n",
    "        if board[row][i] == 1:\n",
    "            return False\n",
    "\n",
    "    for i, j in zip(range(row, -1, 1), range(col, -1, 1)):\n",
    "        if board[i][j] == 1:\n",
    "            return False\n",
    "\n",
    "    for i, j in zip(range(row,N,1), range(col, -1, -1)):\n",
    "        if board[i][j] == 1:\n",
    "            return False\n",
    "\n",
    "    return True"
   ]
  },
  {
   "cell_type": "code",
   "execution_count": 58,
   "id": "5fbba843-f223-42bb-85b3-51947a83c136",
   "metadata": {},
   "outputs": [],
   "source": [
    "def solveNQuntil(board, col):\n",
    "    if col >= N:\n",
    "        return True\n",
    "\n",
    "    for i in range(N):\n",
    "        if issafe(board, i, col):\n",
    "            board[i][col] = 1\n",
    "\n",
    "        if solveNQuntil(board, col + 1) == True:\n",
    "            return True\n",
    "\n",
    "        board[i][col] = 0\n",
    "\n",
    "    return False\n",
    "    "
   ]
  },
  {
   "cell_type": "code",
   "execution_count": 59,
   "id": "911de7ad-de77-465d-98f6-48a8398ee905",
   "metadata": {},
   "outputs": [],
   "source": [
    "def solveNQ():\n",
    "    board = [ [0, 0, 0, 0],\n",
    "              [0, 0, 0, 0],\n",
    "              [0, 0, 0, 0],\n",
    "              [0, 0, 0, 0]\n",
    "             ]\n",
    "\n",
    "    if solveNQuntil(board, 0) == False:\n",
    "        print (\"Solution does not exist\")\n",
    "        return False\n",
    "\n",
    "    printSolution(board)\n",
    "    return True\n",
    "\n"
   ]
  },
  {
   "cell_type": "code",
   "execution_count": 61,
   "id": "33528ae8-4d1c-4e9a-ac1b-98a1769ec12a",
   "metadata": {},
   "outputs": [
    {
     "name": "stdout",
     "output_type": "stream",
     "text": [
      "1 0 0 0 \n",
      "0 0 0 0 \n",
      "0 0 0 0 \n",
      "0 0 0 0 \n"
     ]
    },
    {
     "data": {
      "text/plain": [
       "True"
      ]
     },
     "execution_count": 61,
     "metadata": {},
     "output_type": "execute_result"
    }
   ],
   "source": [
    "solveNQ()"
   ]
  },
  {
   "cell_type": "markdown",
   "id": "a70fe71a-ae96-46e6-8d59-9b0887c76ede",
   "metadata": {},
   "source": [
    "#### **Check for balanced parentheses in Python** "
   ]
  },
  {
   "cell_type": "code",
   "execution_count": 63,
   "id": "957b0f69-a5a7-4168-96f0-ae2a09bab093",
   "metadata": {},
   "outputs": [],
   "source": [
    "cnt = 0\n",
    "s = '{[()()]}'"
   ]
  },
  {
   "cell_type": "code",
   "execution_count": 71,
   "id": "c37515b9-f3c9-4d11-859e-d109d4315bcf",
   "metadata": {},
   "outputs": [
    {
     "name": "stdout",
     "output_type": "stream",
     "text": [
      "balanced\n"
     ]
    }
   ],
   "source": [
    "for ch in s:\n",
    "\n",
    "    if ch == '(':\n",
    "        cnt += 1\n",
    "    elif ch == ')':\n",
    "        cnt -= 1\n",
    "    if cnt < 0:\n",
    "        print(\"Unbalanced\")\n",
    "        break\n",
    "\n",
    "if cnt == 0:\n",
    "    print(\"balanced\")\n",
    "else:\n",
    "    print(\"unbalanced\")\n",
    "    "
   ]
  },
  {
   "cell_type": "markdown",
   "id": "4ddd43da-6fe5-4695-874d-683e8a88e493",
   "metadata": {},
   "source": [
    "#### **Reverse Linked List**"
   ]
  },
  {
   "cell_type": "code",
   "execution_count": 67,
   "id": "dfe4c8c2-ce5f-4ea8-af5a-ca0138d4ce86",
   "metadata": {},
   "outputs": [],
   "source": [
    "class Node:\n",
    "    def __init__(self, data):\n",
    "        self.data = data\n",
    "        self.next = None\n",
    "class LinkedList:\n",
    "    def __init__(self):\n",
    "        self.head = None\n",
    "\n",
    "\n",
    "    def reverse(self):\n",
    "        prev  = None\n",
    "        current = self.head\n",
    "        while(current is not None):\n",
    "            next = current.next\n",
    "            current.next = prev\n",
    "            prev = current\n",
    "            current = next\n",
    "        self.head = prev\n",
    "\n",
    "\n",
    "    def push(self, new_data):\n",
    "        new_node = Node(new_data)\n",
    "        new_node.next = self.head\n",
    "        self.head = new_node\n",
    "\n",
    "\n",
    "\n",
    "    def printList(self):\n",
    "        temp = self.head\n",
    "        while(temp):\n",
    "            print(temp.data, end=\" \")\n",
    "            temp = temp.next"
   ]
  },
  {
   "cell_type": "code",
   "execution_count": 68,
   "id": "8f1aff3f-2f5b-4690-96cc-a241308635e7",
   "metadata": {},
   "outputs": [],
   "source": [
    "list1 = LinkedList()\n",
    "list1.push(20)\n",
    "list1.push(4)\n",
    "list1.push(15)\n",
    "list1.push(75)"
   ]
  },
  {
   "cell_type": "code",
   "execution_count": 69,
   "id": "8b18b652-4936-46c6-b42e-21edea1b6573",
   "metadata": {},
   "outputs": [
    {
     "name": "stdout",
     "output_type": "stream",
     "text": [
      "Given Linked List\n",
      "75 15 4 20 "
     ]
    }
   ],
   "source": [
    "print(\"Given Linked List\")\n",
    "list1.printList()\n",
    "list1.reverse()"
   ]
  },
  {
   "cell_type": "code",
   "execution_count": 70,
   "id": "aecf3ee0-2932-40d7-9516-8c8270ef6c03",
   "metadata": {},
   "outputs": [
    {
     "name": "stdout",
     "output_type": "stream",
     "text": [
      "Reversed Linked List\n",
      "20 4 15 75 "
     ]
    }
   ],
   "source": [
    "print(\"Reversed Linked List\")\n",
    "list1.printList()"
   ]
  },
  {
   "cell_type": "code",
   "execution_count": null,
   "id": "fcfaa1c7-d6e7-4e5c-b287-33e7adbf4688",
   "metadata": {},
   "outputs": [],
   "source": []
  }
 ],
 "metadata": {
  "kernelspec": {
   "display_name": "Python 3 (ipykernel)",
   "language": "python",
   "name": "python3"
  },
  "language_info": {
   "codemirror_mode": {
    "name": "ipython",
    "version": 3
   },
   "file_extension": ".py",
   "mimetype": "text/x-python",
   "name": "python",
   "nbconvert_exporter": "python",
   "pygments_lexer": "ipython3",
   "version": "3.13.5"
  }
 },
 "nbformat": 4,
 "nbformat_minor": 5
}
