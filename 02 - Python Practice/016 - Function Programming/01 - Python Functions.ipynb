{
 "cells": [
  {
   "cell_type": "markdown",
   "id": "eae90fc5-c378-4f7b-ab1b-c5ecb06d1a99",
   "metadata": {},
   "source": [
    "#### **Reverse a String**"
   ]
  },
  {
   "cell_type": "code",
   "execution_count": 1,
   "id": "bc3e2064-9d41-4844-9086-eddacb24c29e",
   "metadata": {},
   "outputs": [],
   "source": [
    "def string_reverse(str1):\n",
    "    rstr1 = ''\n",
    "\n",
    "    idx = len(str1)\n",
    "\n",
    "    while idx > 0:\n",
    "        rstr1 += str1[idx - 1]\n",
    "\n",
    "        idx = idx - 1\n",
    "\n",
    "    return rstr1"
   ]
  },
  {
   "cell_type": "code",
   "execution_count": 2,
   "id": "88f297f8-9afd-4702-8228-bbcbc0561f09",
   "metadata": {},
   "outputs": [
    {
     "name": "stdout",
     "output_type": "stream",
     "text": [
      "dcba4321\n"
     ]
    }
   ],
   "source": [
    "print(string_reverse('1234abcd'))"
   ]
  },
  {
   "cell_type": "markdown",
   "id": "8fed989d-8a92-4382-812a-5dc0546dc267",
   "metadata": {},
   "source": [
    "#### **check whether a number is perfect or not**"
   ]
  },
  {
   "cell_type": "code",
   "execution_count": 3,
   "id": "f33cf583-454f-4e9a-9889-df34681bf317",
   "metadata": {},
   "outputs": [],
   "source": [
    "def check_num(n):\n",
    "    sum = 0\n",
    "\n",
    "    for x in range(1,n):\n",
    "        if n % x == 0:\n",
    "            sum += x\n",
    "\n",
    "    return sum == n"
   ]
  },
  {
   "cell_type": "code",
   "execution_count": 4,
   "id": "a94483c5-472b-4581-9c3f-f60cf0ca22e6",
   "metadata": {},
   "outputs": [
    {
     "name": "stdout",
     "output_type": "stream",
     "text": [
      "True\n"
     ]
    }
   ],
   "source": [
    "print(check_num(6))"
   ]
  },
  {
   "cell_type": "code",
   "execution_count": null,
   "id": "8e7f7949-f33e-40af-b579-a57f4d9e85dd",
   "metadata": {},
   "outputs": [],
   "source": []
  }
 ],
 "metadata": {
  "kernelspec": {
   "display_name": "Python 3 (ipykernel)",
   "language": "python",
   "name": "python3"
  },
  "language_info": {
   "codemirror_mode": {
    "name": "ipython",
    "version": 3
   },
   "file_extension": ".py",
   "mimetype": "text/x-python",
   "name": "python",
   "nbconvert_exporter": "python",
   "pygments_lexer": "ipython3",
   "version": "3.13.5"
  }
 },
 "nbformat": 4,
 "nbformat_minor": 5
}
