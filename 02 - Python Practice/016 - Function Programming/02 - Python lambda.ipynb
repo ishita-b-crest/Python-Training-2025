{
 "cells": [
  {
   "cell_type": "markdown",
   "id": "7b6150b3-4195-46f7-b7ad-fb3c2ec38821",
   "metadata": {},
   "source": [
    "#### **Square and cube every number in a given list of integers using Lambda**"
   ]
  },
  {
   "cell_type": "code",
   "execution_count": 2,
   "id": "11182093-f6cd-49e8-b1ba-76e916c5c6bd",
   "metadata": {},
   "outputs": [],
   "source": [
    "nums = [1,2,3,4,5,6,7,8]"
   ]
  },
  {
   "cell_type": "code",
   "execution_count": 4,
   "id": "7421a0a3-8fdc-4208-968a-bd5d99a02e67",
   "metadata": {},
   "outputs": [
    {
     "name": "stdout",
     "output_type": "stream",
     "text": [
      "Original List:  [1, 2, 3, 4, 5, 6, 7, 8]\n"
     ]
    }
   ],
   "source": [
    "print(\"Original List: \", nums)"
   ]
  },
  {
   "cell_type": "code",
   "execution_count": 5,
   "id": "19aeb22d-4923-424e-b328-19db37ae45bf",
   "metadata": {},
   "outputs": [],
   "source": [
    "square_nums = list(map(lambda x:x ** 2, nums))"
   ]
  },
  {
   "cell_type": "code",
   "execution_count": 6,
   "id": "44a52d01-da51-421b-a709-1ee97777aed3",
   "metadata": {},
   "outputs": [
    {
     "name": "stdout",
     "output_type": "stream",
     "text": [
      "Squared every number of the list:  [1, 4, 9, 16, 25, 36, 49, 64]\n"
     ]
    }
   ],
   "source": [
    "print(\"Squared every number of the list: \", square_nums)"
   ]
  },
  {
   "cell_type": "code",
   "execution_count": 7,
   "id": "863a793a-89d4-4452-9c1e-14ed66c5f05e",
   "metadata": {},
   "outputs": [],
   "source": [
    "cube_nums = list(map(lambda x: x ** 3, nums))"
   ]
  },
  {
   "cell_type": "code",
   "execution_count": 8,
   "id": "3d67b1ce-6459-4a78-ba90-f8851f491fe0",
   "metadata": {},
   "outputs": [
    {
     "name": "stdout",
     "output_type": "stream",
     "text": [
      "Cube of every number of the list:  [1, 8, 27, 64, 125, 216, 343, 512]\n"
     ]
    }
   ],
   "source": [
    "print(\"Cube of every number of the list: \", cube_nums)"
   ]
  },
  {
   "cell_type": "markdown",
   "id": "0b1569bf-35c2-417b-93d0-818711a037d9",
   "metadata": {},
   "source": [
    "#### **Lambda Add & Multiply**"
   ]
  },
  {
   "cell_type": "code",
   "execution_count": 9,
   "id": "08295661-6846-4aca-9ae7-5aa26f843a19",
   "metadata": {},
   "outputs": [
    {
     "name": "stdout",
     "output_type": "stream",
     "text": [
      "25\n",
      "48\n"
     ]
    }
   ],
   "source": [
    "r = lambda a: a + 15\n",
    "\n",
    "print(r(10))\n",
    "r = lambda x, y: x * y\n",
    "\n",
    "print(r(12, 4))\n"
   ]
  },
  {
   "cell_type": "code",
   "execution_count": null,
   "id": "06fcc745-3512-4082-9007-c2dee5d28715",
   "metadata": {},
   "outputs": [],
   "source": []
  }
 ],
 "metadata": {
  "kernelspec": {
   "display_name": "Python 3 (ipykernel)",
   "language": "python",
   "name": "python3"
  },
  "language_info": {
   "codemirror_mode": {
    "name": "ipython",
    "version": 3
   },
   "file_extension": ".py",
   "mimetype": "text/x-python",
   "name": "python",
   "nbconvert_exporter": "python",
   "pygments_lexer": "ipython3",
   "version": "3.13.5"
  }
 },
 "nbformat": 4,
 "nbformat_minor": 5
}
