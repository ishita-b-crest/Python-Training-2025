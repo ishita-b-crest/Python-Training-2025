{
 "cells": [
  {
   "cell_type": "markdown",
   "id": "d090a90e-1953-42c7-a965-793d87ebb529",
   "metadata": {},
   "source": [
    "#### **1. Iterator from Iterables**\n",
    "Write a Python program to create an iterator from several iterables in a sequence and display the type and elements of the new iterator."
   ]
  },
  {
   "cell_type": "code",
   "execution_count": 2,
   "id": "f9ef9afe-64b4-4ff5-8c7c-e9e59b208100",
   "metadata": {},
   "outputs": [
    {
     "name": "stdout",
     "output_type": "stream",
     "text": [
      "Type of the new iterator:\n",
      "<class 'itertools.chain'>\n",
      "Elements of the new iterator:\n",
      "1\n",
      "2\n",
      "3\n",
      "a\n",
      "b\n",
      "c\n",
      "d\n",
      "4\n",
      "5\n",
      "6\n",
      "7\n",
      "8\n",
      "9\n"
     ]
    }
   ],
   "source": [
    "from itertools import chain\n",
    "def chain_func(l1,l2,l3):\n",
    "    return chain(l1,l2,l3)    \n",
    "\n",
    "result = chain_func([1,2,3], ['a','b','c','d'], [4,5,6,7,8,9])\n",
    "print(\"Type of the new iterator:\")\n",
    "print(type(result))\n",
    "print(\"Elements of the new iterator:\")\n",
    "for i in result:\n",
    "    print(i)\n"
   ]
  },
  {
   "cell_type": "code",
   "execution_count": 3,
   "id": "eef4d94d-7f8c-4632-938c-2949b6df6702",
   "metadata": {},
   "outputs": [
    {
     "name": "stdout",
     "output_type": "stream",
     "text": [
      "Type of the new iterator:\n",
      "<class 'itertools.chain'>\n",
      "Elements of the new iterator:\n",
      "10\n",
      "20\n",
      "30\n",
      "40\n",
      "A\n",
      "B\n",
      "C\n",
      "D\n",
      "40\n",
      "50\n",
      "60\n",
      "70\n",
      "80\n",
      "90\n"
     ]
    }
   ],
   "source": [
    "\n",
    "\n",
    "result = chain_func((10,20,30,40), ('A','B','C','D'), (40,50,60,70,80,90))\n",
    "print(\"Type of the new iterator:\")\n",
    "print(type(result))\n",
    "print(\"Elements of the new iterator:\")\n",
    "for i in result:\n",
    "    print(i)\n"
   ]
  },
  {
   "cell_type": "code",
   "execution_count": null,
   "id": "a8253958-f58f-43cf-90be-0fc50f0bcf4f",
   "metadata": {},
   "outputs": [],
   "source": []
  }
 ],
 "metadata": {
  "kernelspec": {
   "display_name": "Python 3 (ipykernel)",
   "language": "python",
   "name": "python3"
  },
  "language_info": {
   "codemirror_mode": {
    "name": "ipython",
    "version": 3
   },
   "file_extension": ".py",
   "mimetype": "text/x-python",
   "name": "python",
   "nbconvert_exporter": "python",
   "pygments_lexer": "ipython3",
   "version": "3.13.5"
  }
 },
 "nbformat": 4,
 "nbformat_minor": 5
}
