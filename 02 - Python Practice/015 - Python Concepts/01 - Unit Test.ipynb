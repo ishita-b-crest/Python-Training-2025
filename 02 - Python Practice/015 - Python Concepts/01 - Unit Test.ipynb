{
 "cells": [
  {
   "cell_type": "markdown",
   "id": "4a8ec198-59fb-4ef4-9f84-2c14e7ba9081",
   "metadata": {},
   "source": [
    "#### **1. Unit Test for Prime Number Checker**\n",
    "\n",
    "Write a Python unit test program to check if a given number is prime or not."
   ]
  },
  {
   "cell_type": "code",
   "execution_count": 8,
   "id": "bf920c78-ec94-4152-be46-29a72246e318",
   "metadata": {},
   "outputs": [],
   "source": [
    "import unittest"
   ]
  },
  {
   "cell_type": "code",
   "execution_count": 13,
   "id": "fc17293f-06b1-4286-a0dd-19817f59989b",
   "metadata": {},
   "outputs": [
    {
     "name": "stderr",
     "output_type": "stream",
     "text": [
      "..\n",
      "----------------------------------------------------------------------\n",
      "Ran 2 tests in 0.002s\n",
      "\n",
      "OK\n"
     ]
    },
    {
     "name": "stdout",
     "output_type": "stream",
     "text": [
      "Non-prime numbers: [4, 6, 8, 10, 12, 14, 16, 18, 20]\n",
      "Prime numbers: [2, 3, 5, 7, 11, 13, 17, 19, 23, 29, 31]\n"
     ]
    },
    {
     "data": {
      "text/plain": [
       "<unittest.main.TestProgram at 0x22d3bdb6fd0>"
      ]
     },
     "execution_count": 13,
     "metadata": {},
     "output_type": "execute_result"
    }
   ],
   "source": [
    "def is_prime(number):\n",
    "    if number < 2:\n",
    "        return False\n",
    "    for i in range(2, int(number**0.5) + 1):\n",
    "        if number % i == 0:\n",
    "            return False\n",
    "    return True\n",
    "\n",
    "class PrimeNumberTestCase(unittest.TestCase):\n",
    "    def test_prime_numbers(self):\n",
    "        prime_numbers = [2, 3, 5, 7, 11, 13, 17, 19, 23, 29, 31]\n",
    "        print(\"Prime numbers:\", prime_numbers)\n",
    "        for number in prime_numbers:\n",
    "            self.assertTrue(is_prime(number), f\"{number} is not recognized as a prime number\")\n",
    "\n",
    "    def test_non_prime_numbers(self):\n",
    "        non_prime_numbers = [4, 6, 8, 10, 12, 14, 16, 18, 20]\n",
    "        print(\"Non-prime numbers:\", non_prime_numbers)\n",
    "        for number in non_prime_numbers:\n",
    "            self.assertFalse(is_prime(number), f\"{number} is incorrectly recognized as a prime number\")\n",
    "\n",
    "# For Jupyter compatibility\n",
    "unittest.main(argv=[''], exit=False)"
   ]
  },
  {
   "cell_type": "code",
   "execution_count": null,
   "id": "7db629dd-fd1c-4c86-9058-97632d8b8691",
   "metadata": {},
   "outputs": [],
   "source": []
  },
  {
   "cell_type": "code",
   "execution_count": null,
   "id": "b5e37588-1e8e-45cb-8932-68e4162f916e",
   "metadata": {},
   "outputs": [],
   "source": []
  },
  {
   "cell_type": "code",
   "execution_count": null,
   "id": "4e2a5809-5aa4-4e89-af7b-88a89dc25610",
   "metadata": {},
   "outputs": [],
   "source": []
  }
 ],
 "metadata": {
  "kernelspec": {
   "display_name": "Python 3 (ipykernel)",
   "language": "python",
   "name": "python3"
  },
  "language_info": {
   "codemirror_mode": {
    "name": "ipython",
    "version": 3
   },
   "file_extension": ".py",
   "mimetype": "text/x-python",
   "name": "python",
   "nbconvert_exporter": "python",
   "pygments_lexer": "ipython3",
   "version": "3.13.5"
  }
 },
 "nbformat": 4,
 "nbformat_minor": 5
}
