{
 "cells": [
  {
   "cell_type": "markdown",
   "id": "41252ecf-fbb5-45b3-987f-2e0171d1cc50",
   "metadata": {},
   "source": [
    "#### **1. Create a Decorator to Measure Function Execution Time**\n",
    "\n",
    "Write a Python program to create a decorator function to measure the execution time of a function."
   ]
  },
  {
   "cell_type": "code",
   "execution_count": 1,
   "id": "4e6521f0-1b04-4283-993b-30ccda3fdc31",
   "metadata": {},
   "outputs": [],
   "source": [
    "import time"
   ]
  },
  {
   "cell_type": "code",
   "execution_count": 2,
   "id": "2457f60b-0914-4b2e-a2bd-1c610cb73edb",
   "metadata": {},
   "outputs": [],
   "source": [
    "def execute_time(fun):\n",
    "    def wrapper(*args, **kwargs):\n",
    "        st = time.time()\n",
    "        result = fun(*args, **kwargs)\n",
    "        et = time.time()\n",
    "        print(f\"Execution time: {et - st:.4f} seconds\")\n",
    "        return result\n",
    "    return wrapper"
   ]
  },
  {
   "cell_type": "code",
   "execution_count": 3,
   "id": "5d5fbc6a-998f-4c62-9ffa-cc032be2d53a",
   "metadata": {},
   "outputs": [],
   "source": [
    "@execute_time\n",
    "def calculate_sum(numbers):\n",
    "    tot = 1\n",
    "    for i in numbers:\n",
    "        tot += i\n",
    "    return tot"
   ]
  },
  {
   "cell_type": "code",
   "execution_count": 4,
   "id": "5259e2d6-8335-4ee1-a876-0af2b35193e1",
   "metadata": {},
   "outputs": [
    {
     "name": "stdout",
     "output_type": "stream",
     "text": [
      "Execution time: 0.0000 seconds\n",
      "143\n"
     ]
    }
   ],
   "source": [
    "res = calculate_sum([1,2,34,5,6,7,87])\n",
    "print(res)"
   ]
  },
  {
   "cell_type": "code",
   "execution_count": null,
   "id": "35740b6e-cd36-454d-98e6-92f198a72b42",
   "metadata": {},
   "outputs": [],
   "source": []
  }
 ],
 "metadata": {
  "kernelspec": {
   "display_name": "Python 3 (ipykernel)",
   "language": "python",
   "name": "python3"
  },
  "language_info": {
   "codemirror_mode": {
    "name": "ipython",
    "version": 3
   },
   "file_extension": ".py",
   "mimetype": "text/x-python",
   "name": "python",
   "nbconvert_exporter": "python",
   "pygments_lexer": "ipython3",
   "version": "3.13.5"
  }
 },
 "nbformat": 4,
 "nbformat_minor": 5
}
