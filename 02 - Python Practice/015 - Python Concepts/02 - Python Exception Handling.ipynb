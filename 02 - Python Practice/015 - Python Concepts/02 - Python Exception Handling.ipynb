{
 "cells": [
  {
   "cell_type": "markdown",
   "id": "00931218-cfb8-4a66-bcf0-df16114a195b",
   "metadata": {},
   "source": [
    "#### **1. Handle ZeroDivisionError Exception**\n",
    "\n",
    "Write a Python program to handle a ZeroDivisionError exception when dividing a number by zero."
   ]
  },
  {
   "cell_type": "code",
   "execution_count": 1,
   "id": "815299a1-32ef-4fc5-895c-63d80fed30cd",
   "metadata": {},
   "outputs": [],
   "source": [
    "def divide_numbers(x, y):\n",
    "    try:\n",
    "        result = x / y\n",
    "        print(result)\n",
    "    except ZeroDivisionError:\n",
    "        print(\"The Division by zero operation is not allowed.\")\n",
    "           "
   ]
  },
  {
   "cell_type": "code",
   "execution_count": 3,
   "id": "b0480866-39d6-4c0b-a9f0-5a8d49498436",
   "metadata": {},
   "outputs": [],
   "source": [
    "numerator = 10\n",
    "denominator = 0"
   ]
  },
  {
   "cell_type": "code",
   "execution_count": 4,
   "id": "d055247e-48d3-4f9e-8b00-904fa30f9967",
   "metadata": {},
   "outputs": [
    {
     "name": "stdout",
     "output_type": "stream",
     "text": [
      "The Division by zero operation is not allowed.\n"
     ]
    }
   ],
   "source": [
    "divide_numbers(numerator, denominator)"
   ]
  },
  {
   "cell_type": "markdown",
   "id": "a0b88a31-809d-48bd-8530-7af01716cf52",
   "metadata": {},
   "source": [
    "#### **2. Handle IndexError in List Operations**\n",
    "Write a Python program that executes an operation on a list and handles an IndexError exception if the index is out of range."
   ]
  },
  {
   "cell_type": "code",
   "execution_count": 5,
   "id": "4187a7fc-657d-45db-b568-af81509325f7",
   "metadata": {},
   "outputs": [
    {
     "name": "stdin",
     "output_type": "stream",
     "text": [
      "Input the index:  3\n"
     ]
    },
    {
     "name": "stdout",
     "output_type": "stream",
     "text": [
      "Result: 4\n"
     ]
    }
   ],
   "source": [
    "\n",
    "def test_index(data, index):\n",
    "    try:\n",
    "        result = data[index]\n",
    "        print(\"Result:\", result)\n",
    "    except IndexError:\n",
    "        print(\"Error: Index out of range.\")\n",
    "\n",
    "nums = [1, 2, 3, 4, 5, 6, 7]\n",
    "index = int(input(\"Input the index: \"))\n",
    "test_index(nums, index)\n"
   ]
  },
  {
   "cell_type": "code",
   "execution_count": null,
   "id": "8da6ff1b-9ec6-4d26-b06e-39c82aaa7837",
   "metadata": {},
   "outputs": [],
   "source": []
  }
 ],
 "metadata": {
  "kernelspec": {
   "display_name": "Python 3 (ipykernel)",
   "language": "python",
   "name": "python3"
  },
  "language_info": {
   "codemirror_mode": {
    "name": "ipython",
    "version": 3
   },
   "file_extension": ".py",
   "mimetype": "text/x-python",
   "name": "python",
   "nbconvert_exporter": "python",
   "pygments_lexer": "ipython3",
   "version": "3.13.5"
  }
 },
 "nbformat": 4,
 "nbformat_minor": 5
}
