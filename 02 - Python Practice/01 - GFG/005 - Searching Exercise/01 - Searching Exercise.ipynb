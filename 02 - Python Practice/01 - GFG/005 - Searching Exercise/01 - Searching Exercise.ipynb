{
 "cells": [
  {
   "cell_type": "markdown",
   "id": "bbb90c8f-38a9-49de-97d7-61931312f8e0",
   "metadata": {},
   "source": [
    "## **Linear Search** \n",
    "#### **Iterative Approach**"
   ]
  },
  {
   "cell_type": "code",
   "execution_count": 1,
   "id": "8fff4153-650a-4958-b365-37e2664b594e",
   "metadata": {},
   "outputs": [],
   "source": [
    "def linear_search(arr, target):\n",
    "    for index in range(len(arr)):\n",
    "        if arr[index] == target:\n",
    "            return index\n",
    "\n",
    "    return -1\n",
    "\n",
    "    "
   ]
  },
  {
   "cell_type": "code",
   "execution_count": 16,
   "id": "439e79f2-4714-446c-a4bb-c2cc92f01d84",
   "metadata": {},
   "outputs": [],
   "source": [
    "arr = [10, 23, 70, 11, 15]\n",
    "target = 00"
   ]
  },
  {
   "cell_type": "code",
   "execution_count": 6,
   "id": "a398fa54-6053-4db8-870c-2f6363e65a9c",
   "metadata": {},
   "outputs": [],
   "source": [
    "result = linear_search(arr, target)"
   ]
  },
  {
   "cell_type": "code",
   "execution_count": 7,
   "id": "f100db73-510c-4ae4-bdd2-a63f56c87bfe",
   "metadata": {},
   "outputs": [
    {
     "name": "stdout",
     "output_type": "stream",
     "text": [
      "Element found at index: 2\n"
     ]
    }
   ],
   "source": [
    "if result != 1:\n",
    "    print(f\"Element found at index: {result}\")\n",
    "else:\n",
    "    print(\"Element not found\")"
   ]
  },
  {
   "cell_type": "markdown",
   "id": "13d6c776-ddc6-454d-9004-fe22239cc998",
   "metadata": {},
   "source": [
    "#### **Recursive Approach**"
   ]
  },
  {
   "cell_type": "code",
   "execution_count": 17,
   "id": "9c3ada72-68e6-43b1-8149-8929406abe93",
   "metadata": {},
   "outputs": [],
   "source": [
    "def linear_search(arr, target, index = 0):\n",
    "    if index == len(arr):\n",
    "        return -1\n",
    "        if arr[index] == target:\n",
    "            return index\n",
    "\n",
    "    return linear_search(arr, target, index +1)"
   ]
  },
  {
   "cell_type": "code",
   "execution_count": 18,
   "id": "f596f856-22d9-45be-adee-d392f7eff951",
   "metadata": {},
   "outputs": [],
   "source": [
    "result = linear_search(arr, target)"
   ]
  },
  {
   "cell_type": "code",
   "execution_count": 19,
   "id": "2291c260-1f40-4f4b-a656-1112b8d2bf69",
   "metadata": {},
   "outputs": [
    {
     "name": "stdout",
     "output_type": "stream",
     "text": [
      "Element 0 not found in the list.\n"
     ]
    }
   ],
   "source": [
    "if result != -1:\n",
    "    print(f\"Element {target} found at index {result}.\")\n",
    "else:\n",
    "    print(f\"Element {target} not found in the list.\")"
   ]
  },
  {
   "cell_type": "code",
   "execution_count": null,
   "id": "083ba628-d86d-453f-bfd0-f846ee96667c",
   "metadata": {},
   "outputs": [],
   "source": []
  },
  {
   "cell_type": "markdown",
   "id": "a11f4264-c482-45e2-b9f2-55335653cbd2",
   "metadata": {},
   "source": [
    "### **Binary Search**"
   ]
  },
  {
   "cell_type": "code",
   "execution_count": 29,
   "id": "08c65e19-12a9-47a6-95d6-205dc0027c5b",
   "metadata": {},
   "outputs": [],
   "source": [
    "def binary_search(arr, x):\n",
    "    low =0 \n",
    "    high = len(arr) - 1\n",
    "    mid = 0\n",
    "\n",
    "    while low <= high:\n",
    "\n",
    "        mid = (low + high) // 2\n",
    "\n",
    "        if arr[mid] < x:\n",
    "            low = mid + 1\n",
    "\n",
    "        elif arr[mid] > x:\n",
    "            high = mid - 1\n",
    "        else:\n",
    "            return mid\n",
    "\n",
    "    return -1"
   ]
  },
  {
   "cell_type": "code",
   "execution_count": 30,
   "id": "11bde19a-6f62-4339-8298-4034704697c9",
   "metadata": {},
   "outputs": [],
   "source": [
    "arr = [ 2, 3, 4, 10, 40 ]\n",
    "x = 10"
   ]
  },
  {
   "cell_type": "code",
   "execution_count": 31,
   "id": "bd1f2350-6bbe-483a-93e4-9046f32b2115",
   "metadata": {},
   "outputs": [],
   "source": [
    "result = binary_search(arr, x)"
   ]
  },
  {
   "cell_type": "code",
   "execution_count": 32,
   "id": "14eb3449-6763-4155-9d0c-40693e81411f",
   "metadata": {},
   "outputs": [
    {
     "name": "stdout",
     "output_type": "stream",
     "text": [
      "Element found at index: 3\n"
     ]
    }
   ],
   "source": [
    "if result != 1:\n",
    "    print(f\"Element found at index: {result}\")\n",
    "else:\n",
    "    print(\"Element not found\")"
   ]
  },
  {
   "cell_type": "markdown",
   "id": "246d8291-f747-46a3-b1d2-baee63758e72",
   "metadata": {},
   "source": [
    "#### **Using recursion approach**"
   ]
  },
  {
   "cell_type": "code",
   "execution_count": 40,
   "id": "9d720fff-196c-4502-b635-4a5a53c1c7db",
   "metadata": {},
   "outputs": [],
   "source": [
    "def binary_search_app(arr, low, high, x):\n",
    "    if high >= low:\n",
    "        mid = (high + low) // 2\n",
    "\n",
    "        if arr[mid] == x:\n",
    "            return mid\n",
    "        elif arr[mid] > x:\n",
    "            return binary_search_app(arr, low, mid-1, x)\n",
    "        else:\n",
    "            return binary_search_app(arr, mid+1, high, x)\n",
    "    else:\n",
    "        return -1"
   ]
  },
  {
   "cell_type": "code",
   "execution_count": 41,
   "id": "8eb6551c-1499-4db4-b5e0-36279440e1ee",
   "metadata": {},
   "outputs": [],
   "source": [
    "res = binary_search_app(arr, 0, len(arr)-1, x)"
   ]
  },
  {
   "cell_type": "code",
   "execution_count": 42,
   "id": "109045dd-d4a6-44ab-a072-bee2aca2ffc6",
   "metadata": {},
   "outputs": [
    {
     "name": "stdout",
     "output_type": "stream",
     "text": [
      "Element is present at index 3\n"
     ]
    }
   ],
   "source": [
    "if result != -1:\n",
    "    print(\"Element is present at index\", str(result))\n",
    "else:\n",
    "    print(\"Element is not present in array\")"
   ]
  },
  {
   "cell_type": "code",
   "execution_count": null,
   "id": "5f852a03-9581-470e-b1ff-be605dc84774",
   "metadata": {},
   "outputs": [],
   "source": []
  },
  {
   "cell_type": "code",
   "execution_count": null,
   "id": "37a2a13b-1148-4302-b897-a90935e12dfb",
   "metadata": {},
   "outputs": [],
   "source": []
  },
  {
   "cell_type": "code",
   "execution_count": 43,
   "id": "a647f517-c2ce-4591-b59d-72b6fd3078b4",
   "metadata": {},
   "outputs": [],
   "source": [
    "Max = 256"
   ]
  },
  {
   "cell_type": "code",
   "execution_count": 44,
   "id": "93b26619-42ad-44e3-902b-42b196cbeb8b",
   "metadata": {},
   "outputs": [
    {
     "name": "stdout",
     "output_type": "stream",
     "text": [
      "Found at index 6\n"
     ]
    }
   ],
   "source": [
    "def compare(arr1, arr2):\n",
    "    for i  in range(Max):\n",
    "        if arr1[i] != arr2[i]:\n",
    "            return False\n",
    "        return True\n",
    "\n",
    "def search(pat, txt):\n",
    "    M = len(pat)\n",
    "    N = len(txt)\n",
    "\n",
    "    cntp = [0]*Max\n",
    "\n",
    "    cnttw = [0]*Max\n",
    "\n",
    "    for i in range(M):\n",
    "        (cntp[ord(pat[i])]) += 1\n",
    "        (cnttw[ord(txt[i-M])]) -= 1\n",
    "\n",
    "    if compare(cntp, cnttw):\n",
    "        print(\"Found at index\", N-M)\n",
    "\n",
    "\n",
    "txt = \"BACDGABCDA\"\n",
    "pat = \"ABCD\"       \n",
    "search(pat, txt)\n",
    "    "
   ]
  },
  {
   "cell_type": "code",
   "execution_count": null,
   "id": "fa9c751a-cfe0-4902-baca-e533471aef7c",
   "metadata": {},
   "outputs": [],
   "source": []
  }
 ],
 "metadata": {
  "kernelspec": {
   "display_name": "Python 3 (ipykernel)",
   "language": "python",
   "name": "python3"
  },
  "language_info": {
   "codemirror_mode": {
    "name": "ipython",
    "version": 3
   },
   "file_extension": ".py",
   "mimetype": "text/x-python",
   "name": "python",
   "nbconvert_exporter": "python",
   "pygments_lexer": "ipython3",
   "version": "3.13.5"
  }
 },
 "nbformat": 4,
 "nbformat_minor": 5
}
