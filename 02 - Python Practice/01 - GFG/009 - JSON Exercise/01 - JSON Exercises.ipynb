{
 "cells": [
  {
   "cell_type": "markdown",
   "id": "78a9c316-a41f-46ef-8452-b31fbf6390dd",
   "metadata": {},
   "source": [
    "#### **Convert class object to JSON in Python**"
   ]
  },
  {
   "cell_type": "code",
   "execution_count": 4,
   "id": "1605672c-eecc-483f-ac8c-d097f0c8a25b",
   "metadata": {},
   "outputs": [],
   "source": [
    "import json\n"
   ]
  },
  {
   "cell_type": "code",
   "execution_count": 5,
   "id": "dbc87e75-2bdf-4c95-bcf3-ce047c503685",
   "metadata": {},
   "outputs": [],
   "source": [
    "class Person:\n",
    "    def __init__(self, name, age):\n",
    "        self.name = name\n",
    "        self.age = age\n",
    "\n",
    "p1 = Person(\"Alice\", 20)"
   ]
  },
  {
   "cell_type": "code",
   "execution_count": 6,
   "id": "15595b46-4c45-43ca-b58b-e7fa8d4b6e2c",
   "metadata": {},
   "outputs": [
    {
     "name": "stdout",
     "output_type": "stream",
     "text": [
      "{\"name\": \"Alice\", \"age\": 20}\n"
     ]
    }
   ],
   "source": [
    "res = json.dumps(p1.__dict__)\n",
    "print(res)"
   ]
  },
  {
   "cell_type": "markdown",
   "id": "405e4b35-01ab-46fd-96b6-97b65a82995b",
   "metadata": {},
   "source": [
    "#### **Convert JSON data Into a Custom Python Object**"
   ]
  },
  {
   "cell_type": "code",
   "execution_count": 7,
   "id": "66634196-754a-4c27-a49c-49ed54cbd82b",
   "metadata": {},
   "outputs": [],
   "source": [
    "import json\n",
    "from collections import namedtuple"
   ]
  },
  {
   "cell_type": "code",
   "execution_count": 11,
   "id": "07fdd962-1b13-4393-94d4-c52fb66ff7c4",
   "metadata": {},
   "outputs": [],
   "source": [
    "data = '{\"name\" : \"Geek\", \"id\" :1, \"location\": \"Mumbai\"}'\n",
    "\n",
    "x = json.loads(data, object_hook = lambda d: namedtuple('X', d.keys())(*d.values()))"
   ]
  },
  {
   "cell_type": "code",
   "execution_count": 12,
   "id": "86572072-d25e-4ed1-85a1-bba1da2afc2c",
   "metadata": {},
   "outputs": [
    {
     "name": "stdout",
     "output_type": "stream",
     "text": [
      "Geek 1 Mumbai\n"
     ]
    }
   ],
   "source": [
    "print(x.name, x.id, x.location)"
   ]
  },
  {
   "cell_type": "markdown",
   "id": "57997007-1345-4845-9dd6-916b1318a903",
   "metadata": {},
   "source": [
    "#### **Flattening JSON objects in Python**"
   ]
  },
  {
   "cell_type": "code",
   "execution_count": 14,
   "id": "7ee2e56b-29af-4499-8ddb-a748ce6d98c4",
   "metadata": {},
   "outputs": [],
   "source": [
    "\n",
    "unflat_json = {'user':\n",
    "               {'Rachel':\n",
    "                {'UserID': 1717171717,\n",
    "                 'Email': 'rachel1999@gmail.com',\n",
    "                 'friends': ['John', 'Jeremy', 'Emily']\n",
    "                 }\n",
    "                }\n",
    "               }\n"
   ]
  },
  {
   "cell_type": "code",
   "execution_count": 15,
   "id": "324676c0-803d-4685-a3a4-fa7e8b0b7af5",
   "metadata": {},
   "outputs": [],
   "source": [
    "\n",
    "def flatten_json(y):\n",
    "    out = {}\n",
    "\n",
    "    def flatten(x, name=''):\n",
    "\n",
    "        if type(x) is dict:\n",
    "\n",
    "            for a in x:\n",
    "                flatten(x[a], name + a + '_')\n",
    "                \n",
    "        elif type(x) is list:\n",
    "\n",
    "            i = 0\n",
    "\n",
    "            for a in x:\n",
    "                flatten(a, name + str(i) + '_')\n",
    "                i += 1\n",
    "        else:\n",
    "            out[name[:-1]] = x\n",
    "\n",
    "    flatten(y)\n",
    "    return out"
   ]
  },
  {
   "cell_type": "code",
   "execution_count": 16,
   "id": "3bf20a95-2e6c-4635-93e1-9b6e7cdcb5ac",
   "metadata": {},
   "outputs": [
    {
     "name": "stdout",
     "output_type": "stream",
     "text": [
      "{'user_Rachel_UserID': 1717171717, 'user_Rachel_Email': 'rachel1999@gmail.com', 'user_Rachel_friends_0': 'John', 'user_Rachel_friends_1': 'Jeremy', 'user_Rachel_friends_2': 'Emily'}\n"
     ]
    }
   ],
   "source": [
    "print(flatten_json(unflat_json))"
   ]
  },
  {
   "cell_type": "markdown",
   "id": "273bc7f0-d11b-4b73-ab52-ffff75cad28e",
   "metadata": {},
   "source": [
    "#### **Convert CSV to JSON using Python**"
   ]
  },
  {
   "cell_type": "code",
   "execution_count": null,
   "id": "c4b82d0c-f087-484d-9602-c6971cfdce93",
   "metadata": {},
   "outputs": [],
   "source": []
  }
 ],
 "metadata": {
  "kernelspec": {
   "display_name": "Python 3 (ipykernel)",
   "language": "python",
   "name": "python3"
  },
  "language_info": {
   "codemirror_mode": {
    "name": "ipython",
    "version": 3
   },
   "file_extension": ".py",
   "mimetype": "text/x-python",
   "name": "python",
   "nbconvert_exporter": "python",
   "pygments_lexer": "ipython3",
   "version": "3.13.5"
  }
 },
 "nbformat": 4,
 "nbformat_minor": 5
}
