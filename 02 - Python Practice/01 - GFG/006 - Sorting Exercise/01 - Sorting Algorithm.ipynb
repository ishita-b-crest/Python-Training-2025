{
 "cells": [
  {
   "cell_type": "markdown",
   "id": "79d72764-5c6d-45a3-bb97-02468aedca22",
   "metadata": {},
   "source": [
    "#### **Bubble Sort**"
   ]
  },
  {
   "cell_type": "code",
   "execution_count": 1,
   "id": "fb87c238-fa00-4cf8-955b-3eb3eec97add",
   "metadata": {},
   "outputs": [],
   "source": [
    "def bubble_sort(arr):\n",
    "    for n in range(len(arr) - 1, 0, -1):\n",
    "        swapped = False\n",
    "\n",
    "        for i in range(n):\n",
    "            if arr[i] > arr[i + 1]:\n",
    "                arr[i], arr[i + 1] = arr[i + 1], arr[i]\n",
    "\n",
    "                swapped = True\n",
    "        if not swapped:\n",
    "            break"
   ]
  },
  {
   "cell_type": "code",
   "execution_count": 2,
   "id": "93ae9c99-aea0-4a0a-b9bb-e126a3be61fb",
   "metadata": {},
   "outputs": [
    {
     "name": "stdout",
     "output_type": "stream",
     "text": [
      "Unsorted list is:\n",
      "[6, 6, 2]\n"
     ]
    }
   ],
   "source": [
    "arr = [6,6,2]\n",
    "print(\"Unsorted list is:\")\n",
    "print(arr)\n"
   ]
  },
  {
   "cell_type": "code",
   "execution_count": 3,
   "id": "b851c685-ec5f-47c9-a91d-9f15efe672cf",
   "metadata": {},
   "outputs": [
    {
     "name": "stdout",
     "output_type": "stream",
     "text": [
      "Sorted list is:\n",
      "[2, 6, 6]\n"
     ]
    }
   ],
   "source": [
    "bubble_sort(arr)\n",
    "\n",
    "print(\"Sorted list is:\")\n",
    "print(arr)"
   ]
  },
  {
   "cell_type": "markdown",
   "id": "6fccd46e-678a-41b2-8788-a04e8a4104e7",
   "metadata": {},
   "source": [
    "#### **Quick Sort**"
   ]
  },
  {
   "cell_type": "code",
   "execution_count": 4,
   "id": "00496c1d-741e-48ee-a074-1c4b93d4d7b5",
   "metadata": {},
   "outputs": [],
   "source": [
    "def partition(arr, low, high):\n",
    "    pivot = arr[high]\n",
    "\n",
    "    i = low - 1\n",
    "    for j in range(low, high):\n",
    "        if arr[j] <= pivot:\n",
    "            i = i + 1\n",
    "            (arr[i], arr[j]) = (arr[j], arr[i])\n",
    "    (arr[i+1], arr[high]) = (arr[high], arr[i+1])\n",
    "    return i + 1"
   ]
  },
  {
   "cell_type": "code",
   "execution_count": 5,
   "id": "ba12e7a0-27f2-491e-8f20-5cd7b2e0c48f",
   "metadata": {},
   "outputs": [],
   "source": [
    "def quicksort(array, low, high):\n",
    "    if low < high:\n",
    "        pi = partition(array, low, high)\n",
    "        quicksort(array, low, pi-1)\n",
    "        quicksort(array, pi+1, high)\n",
    "    "
   ]
  },
  {
   "cell_type": "code",
   "execution_count": 6,
   "id": "5c9ac9d6-997e-4542-93c7-09bad567ff84",
   "metadata": {},
   "outputs": [
    {
     "name": "stdout",
     "output_type": "stream",
     "text": [
      "Unsorted Array\n",
      "[1, 7, 4, 1, 10, 9, -2]\n"
     ]
    }
   ],
   "source": [
    "data = [1, 7, 4, 1, 10, 9, -2]\n",
    "print(\"Unsorted Array\")\n",
    "print(data)"
   ]
  },
  {
   "cell_type": "code",
   "execution_count": 8,
   "id": "b1d324b7-1d64-4ff4-9b97-68bbe6afe86a",
   "metadata": {},
   "outputs": [
    {
     "name": "stdout",
     "output_type": "stream",
     "text": [
      "Sorted Array in Ascending Order:\n",
      "[-2, 1, 1, 4, 7, 9, 10]\n"
     ]
    }
   ],
   "source": [
    "size = len(data)\n",
    "\n",
    "quicksort(data, 0, size - 1)\n",
    "\n",
    "print('Sorted Array in Ascending Order:')\n",
    "print(data)"
   ]
  },
  {
   "cell_type": "markdown",
   "id": "53834da0-d5ee-4c13-bf40-1d0c96d2599f",
   "metadata": {},
   "source": [
    "#### **Insertion Sort**"
   ]
  },
  {
   "cell_type": "code",
   "execution_count": 12,
   "id": "8a7de0d5-4905-49b9-8dfe-27374471f162",
   "metadata": {},
   "outputs": [],
   "source": [
    "def insertionsort(arr):\n",
    "    n = len(arr)\n",
    "\n",
    "    if n <= 1:\n",
    "        return \n",
    "\n",
    "    for i in range(1, n):\n",
    "        key = arr[i]\n",
    "        j = i-1\n",
    "        while j>=0 and key < arr[j]:\n",
    "            arr[j+1] = arr[j]\n",
    "            j -= 1\n",
    "        arr[j+1]=key"
   ]
  },
  {
   "cell_type": "code",
   "execution_count": 13,
   "id": "07a95208-3887-41fa-a435-7e552f4d3f2d",
   "metadata": {},
   "outputs": [
    {
     "name": "stdout",
     "output_type": "stream",
     "text": [
      "[5, 6, 11, 12, 13]\n"
     ]
    }
   ],
   "source": [
    "arr = [12, 11, 13, 5, 6]\n",
    "insertionsort(arr)\n",
    "print(arr)"
   ]
  },
  {
   "cell_type": "markdown",
   "id": "f81c4336-9c1e-4b08-8887-8fa917403785",
   "metadata": {},
   "source": [
    "#### **Selection Sort**"
   ]
  },
  {
   "cell_type": "code",
   "execution_count": 21,
   "id": "b738c322-0716-408f-b799-2354c5e634ab",
   "metadata": {},
   "outputs": [],
   "source": [
    "def selectionsort(arr, n):\n",
    "    for idx in range(n):\n",
    "        min_idx = idx\n",
    "\n",
    "        for j in range(idx+1, n):\n",
    "            if arr[j] < arr[min_idx]:\n",
    "                min_idx = j\n",
    "\n",
    "        (arr[idx], arr[min_idx]) = (arr[min_idx], arr[idx])"
   ]
  },
  {
   "cell_type": "code",
   "execution_count": 22,
   "id": "887bc0ef-d594-46c6-a3df-ce6deb4aead0",
   "metadata": {},
   "outputs": [],
   "source": [
    "arr = [-2, 45, 0, 11, -9,88,-97,-202,747]"
   ]
  },
  {
   "cell_type": "code",
   "execution_count": 23,
   "id": "987025bd-0d08-442a-af5b-4e817e0f495c",
   "metadata": {},
   "outputs": [],
   "source": [
    "n= len(arr)\n",
    "selectionsort(arr, n)"
   ]
  },
  {
   "cell_type": "code",
   "execution_count": 24,
   "id": "17eaa0cc-9efc-4782-931f-8197b6ee46dc",
   "metadata": {},
   "outputs": [
    {
     "name": "stdout",
     "output_type": "stream",
     "text": [
      "[-202, -97, -9, -2, 0, 11, 45, 88, 747]\n"
     ]
    }
   ],
   "source": [
    "print(arr)"
   ]
  },
  {
   "cell_type": "markdown",
   "id": "ed8cb9e2-1621-4089-b02e-058c8a5111d1",
   "metadata": {},
   "source": [
    "#### **Heap Sort**"
   ]
  },
  {
   "cell_type": "code",
   "execution_count": 25,
   "id": "d06a72a7-0c38-4b61-bdbe-64733d0e9478",
   "metadata": {},
   "outputs": [],
   "source": [
    "def heapify(arr, n, i):\n",
    "    largest = i\n",
    "    l = 2 * i + 1\n",
    "    r = 2 * i + 2\n",
    "\n",
    "    if l  < n and arr[i] < arr[l]:\n",
    "        largest = l\n",
    "\n",
    "    if r < n and arr[largest] < arr[r]:\n",
    "        largest = r\n",
    "\n",
    "    if largest != i:\n",
    "        (arr[i], arr[largest]) = (arr[largest], arr[i])\n",
    "\n",
    "        heapify(arr, n, largest)\n",
    "\n",
    "def heapsort(arr):\n",
    "    n = len(arr)\n",
    "\n",
    "    for i in range(n // 2, -1, -1):\n",
    "        heapify(arr, n, i)\n",
    "\n",
    "    for i in range(n - 1, 0, -1):\n",
    "        (arr[i], arr[0]) = (arr[0], arr[i])\n",
    "        heapify(arr, i, 0)\n",
    "        \n",
    "        "
   ]
  },
  {
   "cell_type": "code",
   "execution_count": 27,
   "id": "0e45254d-e6ec-4557-a686-ef7f2bfe0941",
   "metadata": {},
   "outputs": [
    {
     "name": "stdout",
     "output_type": "stream",
     "text": [
      "Sorted array is\n",
      "5\n",
      "6\n",
      "7\n",
      "11\n",
      "12\n",
      "13\n"
     ]
    }
   ],
   "source": [
    "arr = [12, 11, 13, 5, 6, 7, ]\n",
    "heapsort(arr)\n",
    "n = len(arr)\n",
    "print('Sorted array is')\n",
    "for i in range(n):\n",
    "    print(arr[i])"
   ]
  },
  {
   "cell_type": "code",
   "execution_count": null,
   "id": "148ebcde-41fa-4073-8431-5b0553ae3d21",
   "metadata": {},
   "outputs": [],
   "source": []
  }
 ],
 "metadata": {
  "kernelspec": {
   "display_name": "Python 3 (ipykernel)",
   "language": "python",
   "name": "python3"
  },
  "language_info": {
   "codemirror_mode": {
    "name": "ipython",
    "version": 3
   },
   "file_extension": ".py",
   "mimetype": "text/x-python",
   "name": "python",
   "nbconvert_exporter": "python",
   "pygments_lexer": "ipython3",
   "version": "3.13.5"
  }
 },
 "nbformat": 4,
 "nbformat_minor": 5
}
