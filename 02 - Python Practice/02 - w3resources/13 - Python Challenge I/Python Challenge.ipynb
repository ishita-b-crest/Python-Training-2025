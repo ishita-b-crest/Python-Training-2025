{
 "cells": [
  {
   "cell_type": "code",
   "execution_count": null,
   "id": "b538f606-041f-4597-8fa3-afa7bf26070f",
   "metadata": {},
   "outputs": [],
   "source": []
  },
  {
   "cell_type": "code",
   "execution_count": 1,
   "id": "66be9d3f-c536-4794-bdd2-4ae94ebbba13",
   "metadata": {},
   "outputs": [
    {
     "name": "stdout",
     "output_type": "stream",
     "text": [
      "True\n",
      "False\n",
      "True\n"
     ]
    }
   ],
   "source": [
    "def is_Power_of_two(n):\n",
    "        return n > 0 and (n & (n - 1)) == 0\n",
    "print(is_Power_of_two(4))\n",
    "print(is_Power_of_two(36))\n",
    "print(is_Power_of_two(16))\n"
   ]
  },
  {
   "cell_type": "markdown",
   "id": "6b6c5085-9c4d-42a1-b251-c482fb107eb7",
   "metadata": {},
   "source": [
    "#### **Find the single number in a list that doesn't occur twice**"
   ]
  },
  {
   "cell_type": "code",
   "execution_count": 3,
   "id": "8f7a9bee-4a61-4938-8367-54e4db760144",
   "metadata": {},
   "outputs": [
    {
     "name": "stdout",
     "output_type": "stream",
     "text": [
      "5\n",
      "1\n"
     ]
    }
   ],
   "source": [
    "def single_number(arr):\n",
    "    result = 0\n",
    "    for i in arr:\n",
    "        result ^= i\n",
    "    return result\n",
    "\n",
    "arr1 = [5, 3, 4, 3, 4]\n",
    "arr2 = [3, 2, 5, 2, 1, 5, 3]\n",
    "\n",
    "print(single_number(arr1))\n",
    "print(single_number(arr2))\n"
   ]
  },
  {
   "cell_type": "code",
   "execution_count": null,
   "id": "ed3b422d-6523-4301-b1bd-a18c3aa7acd8",
   "metadata": {},
   "outputs": [],
   "source": []
  }
 ],
 "metadata": {
  "kernelspec": {
   "display_name": "Python 3 (ipykernel)",
   "language": "python",
   "name": "python3"
  },
  "language_info": {
   "codemirror_mode": {
    "name": "ipython",
    "version": 3
   },
   "file_extension": ".py",
   "mimetype": "text/x-python",
   "name": "python",
   "nbconvert_exporter": "python",
   "pygments_lexer": "ipython3",
   "version": "3.13.5"
  }
 },
 "nbformat": 4,
 "nbformat_minor": 5
}
