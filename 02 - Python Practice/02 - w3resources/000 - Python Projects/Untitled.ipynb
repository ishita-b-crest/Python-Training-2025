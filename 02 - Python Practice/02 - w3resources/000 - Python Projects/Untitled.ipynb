{
 "cells": [
  {
   "cell_type": "code",
   "execution_count": 1,
   "id": "5f7f7731-0850-4663-95bb-85774a50696c",
   "metadata": {},
   "outputs": [],
   "source": [
    "def display_menu():\n",
    "    print(\"=== To - Do List Menu ===\")\n",
    "    print(\"1. View Tasks\")\n",
    "    print(\"2. Add Task\")\n",
    "    print(\"3. Edit Task\")"
   ]
  },
  {
   "cell_type": "code",
   "execution_count": null,
   "id": "0c645242-be8c-4c42-a287-bc0745036a11",
   "metadata": {},
   "outputs": [],
   "source": []
  }
 ],
 "metadata": {
  "kernelspec": {
   "display_name": "Python 3 (ipykernel)",
   "language": "python",
   "name": "python3"
  },
  "language_info": {
   "codemirror_mode": {
    "name": "ipython",
    "version": 3
   },
   "file_extension": ".py",
   "mimetype": "text/x-python",
   "name": "python",
   "nbconvert_exporter": "python",
   "pygments_lexer": "ipython3",
   "version": "3.13.5"
  }
 },
 "nbformat": 4,
 "nbformat_minor": 5
}
