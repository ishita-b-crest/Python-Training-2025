{
 "cells": [
  {
   "cell_type": "code",
   "execution_count": 6,
   "id": "5f7f7731-0850-4663-95bb-85774a50696c",
   "metadata": {},
   "outputs": [],
   "source": [
    "def display_menu():\n",
    "    print(\"=== To - Do List Menu ===\")\n",
    "    print(\"1. View Tasks\")\n",
    "    print(\"2. Add Task\")\n",
    "    print(\"3. Edit Task\")"
   ]
  },
  {
   "cell_type": "code",
   "execution_count": null,
   "id": "fdef299d-20f7-404e-9cce-87e9c3cc8072",
   "metadata": {},
   "outputs": [],
   "source": [
    "while True:\n",
    "    display_menu()\n",
    "    break"
   ]
  },
  {
   "cell_type": "code",
   "execution_count": null,
   "id": "9be0ab2c-023c-482b-8ad0-21f38792df5b",
   "metadata": {},
   "outputs": [],
   "source": []
  },
  {
   "cell_type": "code",
   "execution_count": null,
   "id": "01c25d66-d6af-4003-80bc-5c4404f17c42",
   "metadata": {},
   "outputs": [],
   "source": []
  },
  {
   "cell_type": "code",
   "execution_count": null,
   "id": "052fd99c-a686-452a-8de2-36c0bc6f35c4",
   "metadata": {},
   "outputs": [],
   "source": []
  },
  {
   "cell_type": "markdown",
   "id": "b862ad4e-6c9f-4504-920a-41143245f778",
   "metadata": {},
   "source": [
    "#### **Compute the value of e to n number of decimal places**"
   ]
  },
  {
   "cell_type": "code",
   "execution_count": 7,
   "id": "0c645242-be8c-4c42-a287-bc0745036a11",
   "metadata": {},
   "outputs": [],
   "source": [
    "import decimal"
   ]
  },
  {
   "cell_type": "code",
   "execution_count": 3,
   "id": "51d05326-2f1d-4c57-bec7-104d12522337",
   "metadata": {},
   "outputs": [],
   "source": [
    "def factorial(n):\n",
    "    factorials = [1]\n",
    "    for i in range(1, n + 1):\n",
    "        factorials.append(factorials[i - 1] * i)\n",
    "    return factorials\n",
    "\n"
   ]
  },
  {
   "cell_type": "code",
   "execution_count": 4,
   "id": "8905737e-5b5e-4f8d-880f-8cf92c50b901",
   "metadata": {},
   "outputs": [],
   "source": [
    "def compute_e(n):\n",
    "    decimal.getcontext().prec = n + 1\n",
    "    e = 2\n",
    "    factorials = factorial(2 * n + 1)\n",
    "    for i in range(1, n + 1):\n",
    "        counter = 2 * i + 2\n",
    "        denominator = factorials[2 * i + 1]\n",
    "        e += decimal.Decimal(counter / denominator)\n",
    "    return e"
   ]
  },
  {
   "cell_type": "code",
   "execution_count": 5,
   "id": "5494b4a5-1d19-4916-9d34-ad068272cdbe",
   "metadata": {},
   "outputs": [
    {
     "name": "stdin",
     "output_type": "stream",
     "text": [
      "Please type number between 0-1000:  1444\n",
      "Please type number between 0-1000:  999\n"
     ]
    },
    {
     "name": "stdout",
     "output_type": "stream",
     "text": [
      "2.71828182845904520112552163672788369695358581460693303620374195215181208940126493478884398642963025995187813158129216922461918298738039953081418737782807495480547766926989683194254354913170449055472655180221554520132933468303024634490114449734928762872222205630350327753649400247085229508593411713715182969946261642268960819634893352934388953063582858720755491604514203683640309232576018733031896417010491716839568749149274375496120083353476750060476126289747652749943653116856297196072576969629603053104439929569528173284025236784405992841999455109556734546226860581063333999388666566076330585936315431908756509368666309389021857255337205477330454494749505916559448889399730254057500158563650981297640510081045156471828198675594618817972215910586266966169716904750914758760634840776095136823543154177191221427861531198841630811739743360511061182515200484877839108895773149109543682897884245359622545674073947245084256653677232750238954382943957783987903022733151321289052901587072651738281892080518\n"
     ]
    }
   ],
   "source": [
    "while True:\n",
    "    n = int(input(\"Please type number between 0-1000: \"))\n",
    "    if n >= 0 and n <= 1000:\n",
    "        break\n",
    "\n",
    "print(str(compute_e(n))[:n + 1])"
   ]
  },
  {
   "cell_type": "code",
   "execution_count": null,
   "id": "b76a4fb0-804c-40cc-a428-132421147953",
   "metadata": {},
   "outputs": [],
   "source": []
  }
 ],
 "metadata": {
  "kernelspec": {
   "display_name": "Python 3 (ipykernel)",
   "language": "python",
   "name": "python3"
  },
  "language_info": {
   "codemirror_mode": {
    "name": "ipython",
    "version": 3
   },
   "file_extension": ".py",
   "mimetype": "text/x-python",
   "name": "python",
   "nbconvert_exporter": "python",
   "pygments_lexer": "ipython3",
   "version": "3.13.5"
  }
 },
 "nbformat": 4,
 "nbformat_minor": 5
}
