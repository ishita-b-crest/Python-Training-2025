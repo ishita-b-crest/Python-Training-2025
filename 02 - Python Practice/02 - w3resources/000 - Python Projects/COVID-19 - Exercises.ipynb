{
 "cells": [
  {
   "cell_type": "markdown",
   "id": "6dd9fe82-53b9-445a-9ba3-474b97163770",
   "metadata": {},
   "source": [
    "#### 1. Write a Python program to display first 5 rows from COVID-19 dataset. Also print the dataset information and check the missing values."
   ]
  },
  {
   "cell_type": "code",
   "execution_count": 1,
   "id": "3cab9d76-b424-4545-b7bc-09c0df8a9d8f",
   "metadata": {},
   "outputs": [
    {
     "name": "stdout",
     "output_type": "stream",
     "text": [
      "       Province/State  Country/Region          Last Update  Confirmed  Deaths  \\\n",
      "0               Hubei           China  2020-03-17T11:53:10      67799    3111   \n",
      "1                 NaN           Italy  2020-03-17T18:33:02      31506    2503   \n",
      "2                 NaN            Iran  2020-03-17T15:13:09      16169     988   \n",
      "3                 NaN           Spain  2020-03-17T20:53:02      11748     533   \n",
      "4                 NaN         Germany  2020-03-17T18:53:02       9257      24   \n",
      "..                ...             ...                  ...        ...     ...   \n",
      "307             Wales  United Kingdom  2020-03-17T11:53:10          0       5   \n",
      "308               NaN           Nauru  2020-03-17T11:53:10          0       0   \n",
      "309              Niue     New Zealand  2020-03-17T11:53:10          0       0   \n",
      "310               NaN          Tuvalu  2020-03-17T11:53:10          0       0   \n",
      "311  Pitcairn Islands  United Kingdom  2020-03-17T11:53:10          0       0   \n",
      "\n",
      "     Recovered  Latitude  Longitude  \n",
      "0        56003   30.9756   112.2707  \n",
      "1         2941   41.8719    12.5674  \n",
      "2         5389   32.4279    53.6880  \n",
      "3         1028   40.4637    -3.7492  \n",
      "4           67   51.1657    10.4515  \n",
      "..         ...       ...        ...  \n",
      "307          0   52.1307    -3.7837  \n",
      "308          0   -0.5228   166.9315  \n",
      "309          0  -19.0544  -169.8672  \n",
      "310          0   -7.1095   177.6493  \n",
      "311          0  -24.3768  -128.3242  \n",
      "\n",
      "[312 rows x 8 columns]\n",
      "\n",
      "Dataset information:\n",
      "<class 'pandas.core.frame.DataFrame'>\n",
      "RangeIndex: 312 entries, 0 to 311\n",
      "Data columns (total 8 columns):\n",
      " #   Column          Non-Null Count  Dtype  \n",
      "---  ------          --------------  -----  \n",
      " 0   Province/State  154 non-null    object \n",
      " 1   Country/Region  312 non-null    object \n",
      " 2   Last Update     312 non-null    object \n",
      " 3   Confirmed       312 non-null    int64  \n",
      " 4   Deaths          312 non-null    int64  \n",
      " 5   Recovered       312 non-null    int64  \n",
      " 6   Latitude        309 non-null    float64\n",
      " 7   Longitude       309 non-null    float64\n",
      "dtypes: float64(2), int64(3), object(3)\n",
      "memory usage: 19.6+ KB\n",
      "None\n",
      "\n",
      "Missing data information:\n",
      "Province/State    158\n",
      "Country/Region      0\n",
      "Last Update         0\n",
      "Confirmed           0\n",
      "Deaths              0\n",
      "Recovered           0\n",
      "Latitude            3\n",
      "Longitude           3\n",
      "dtype: int64\n"
     ]
    }
   ],
   "source": [
    "import pandas as pd\n",
    "covid_data= pd.read_csv('https://raw.githubusercontent.com/CSSEGISandData/COVID-19/master/csse_covid_19_data/csse_covid_19_daily_reports/03-17-2020.csv')\n",
    "print(covid_data)\n",
    "print(\"\\nDataset information:\")\n",
    "print(covid_data.info())\n",
    "print(\"\\nMissing data information:\")\n",
    "print(covid_data.isna().sum())\n"
   ]
  },
  {
   "cell_type": "markdown",
   "id": "098b1558-6015-46cd-8c28-a7e9021d6c6f",
   "metadata": {},
   "source": [
    "#### 2. Write a Python program to get the latest number of confirmed, deaths, recovered and active cases of Novel Coronavirus (COVID-19) Country wise."
   ]
  },
  {
   "cell_type": "code",
   "execution_count": 2,
   "id": "a8423237-053c-4b73-9c9d-55fcbcdf9c04",
   "metadata": {},
   "outputs": [],
   "source": [
    "import pandas as pd"
   ]
  },
  {
   "cell_type": "code",
   "execution_count": 3,
   "id": "184d07b3-d4af-4769-8beb-6ac5cb24b48a",
   "metadata": {},
   "outputs": [],
   "source": [
    "\n",
    "covid= pd.read_csv('https://raw.githubusercontent.com/CSSEGISandData/COVID-19/master/csse_covid_19_data/csse_covid_19_daily_reports/03-17-2020.csv')\n",
    " \n"
   ]
  },
  {
   "cell_type": "code",
   "execution_count": 4,
   "id": "2663733b-b965-4389-89e2-5f536f66b384",
   "metadata": {},
   "outputs": [
    {
     "data": {
      "text/html": [
       "<div>\n",
       "<style scoped>\n",
       "    .dataframe tbody tr th:only-of-type {\n",
       "        vertical-align: middle;\n",
       "    }\n",
       "\n",
       "    .dataframe tbody tr th {\n",
       "        vertical-align: top;\n",
       "    }\n",
       "\n",
       "    .dataframe thead th {\n",
       "        text-align: right;\n",
       "    }\n",
       "</style>\n",
       "<table border=\"1\" class=\"dataframe\">\n",
       "  <thead>\n",
       "    <tr style=\"text-align: right;\">\n",
       "      <th></th>\n",
       "      <th>Province/State</th>\n",
       "      <th>Country/Region</th>\n",
       "      <th>Last Update</th>\n",
       "      <th>Confirmed</th>\n",
       "      <th>Deaths</th>\n",
       "      <th>Recovered</th>\n",
       "      <th>Latitude</th>\n",
       "      <th>Longitude</th>\n",
       "    </tr>\n",
       "  </thead>\n",
       "  <tbody>\n",
       "    <tr>\n",
       "      <th>0</th>\n",
       "      <td>Hubei</td>\n",
       "      <td>China</td>\n",
       "      <td>2020-03-17T11:53:10</td>\n",
       "      <td>67799</td>\n",
       "      <td>3111</td>\n",
       "      <td>56003</td>\n",
       "      <td>30.9756</td>\n",
       "      <td>112.2707</td>\n",
       "    </tr>\n",
       "    <tr>\n",
       "      <th>1</th>\n",
       "      <td>NaN</td>\n",
       "      <td>Italy</td>\n",
       "      <td>2020-03-17T18:33:02</td>\n",
       "      <td>31506</td>\n",
       "      <td>2503</td>\n",
       "      <td>2941</td>\n",
       "      <td>41.8719</td>\n",
       "      <td>12.5674</td>\n",
       "    </tr>\n",
       "    <tr>\n",
       "      <th>2</th>\n",
       "      <td>NaN</td>\n",
       "      <td>Iran</td>\n",
       "      <td>2020-03-17T15:13:09</td>\n",
       "      <td>16169</td>\n",
       "      <td>988</td>\n",
       "      <td>5389</td>\n",
       "      <td>32.4279</td>\n",
       "      <td>53.6880</td>\n",
       "    </tr>\n",
       "    <tr>\n",
       "      <th>3</th>\n",
       "      <td>NaN</td>\n",
       "      <td>Spain</td>\n",
       "      <td>2020-03-17T20:53:02</td>\n",
       "      <td>11748</td>\n",
       "      <td>533</td>\n",
       "      <td>1028</td>\n",
       "      <td>40.4637</td>\n",
       "      <td>-3.7492</td>\n",
       "    </tr>\n",
       "    <tr>\n",
       "      <th>4</th>\n",
       "      <td>NaN</td>\n",
       "      <td>Germany</td>\n",
       "      <td>2020-03-17T18:53:02</td>\n",
       "      <td>9257</td>\n",
       "      <td>24</td>\n",
       "      <td>67</td>\n",
       "      <td>51.1657</td>\n",
       "      <td>10.4515</td>\n",
       "    </tr>\n",
       "  </tbody>\n",
       "</table>\n",
       "</div>"
      ],
      "text/plain": [
       "  Province/State Country/Region          Last Update  Confirmed  Deaths  \\\n",
       "0          Hubei          China  2020-03-17T11:53:10      67799    3111   \n",
       "1            NaN          Italy  2020-03-17T18:33:02      31506    2503   \n",
       "2            NaN           Iran  2020-03-17T15:13:09      16169     988   \n",
       "3            NaN          Spain  2020-03-17T20:53:02      11748     533   \n",
       "4            NaN        Germany  2020-03-17T18:53:02       9257      24   \n",
       "\n",
       "   Recovered  Latitude  Longitude  \n",
       "0      56003   30.9756   112.2707  \n",
       "1       2941   41.8719    12.5674  \n",
       "2       5389   32.4279    53.6880  \n",
       "3       1028   40.4637    -3.7492  \n",
       "4         67   51.1657    10.4515  "
      ]
     },
     "execution_count": 4,
     "metadata": {},
     "output_type": "execute_result"
    }
   ],
   "source": [
    "covid.head()"
   ]
  },
  {
   "cell_type": "code",
   "execution_count": 6,
   "id": "bd2859e5-5878-4a79-88c4-68f8015ceaa4",
   "metadata": {},
   "outputs": [
    {
     "name": "stdout",
     "output_type": "stream",
     "text": [
      "                     Country/Region  Confirmed  Deaths  Recovered  Active\n",
      "0                       Afghanistan         26       0          1      25\n",
      "1                           Albania         55       1          0      54\n",
      "2                           Algeria         60       4         12      44\n",
      "3                           Andorra         39       0          1      38\n",
      "4                        Antarctica          0       0          0       0\n",
      "..                              ...        ...     ...        ...     ...\n",
      "163                      Uzbekistan         10       0          0      10\n",
      "164                       Venezuela         33       0          0      33\n",
      "165                         Vietnam         66       0         16      50\n",
      "166            Winter Olympics 2022          0       0          0       0\n",
      "167  occupied Palestinian territory          0       0          0       0\n",
      "\n",
      "[168 rows x 5 columns]\n"
     ]
    }
   ],
   "source": [
    "covid['Active'] = covid['Confirmed'] - covid['Deaths'] - covid['Recovered']\n",
    "result = covid.groupby('Country/Region')[['Confirmed', 'Deaths', 'Recovered', 'Active']].sum().reset_index()\n",
    "print(result)"
   ]
  },
  {
   "cell_type": "code",
   "execution_count": null,
   "id": "e833cfdc-f145-4621-a3ae-77f146cd9ca8",
   "metadata": {},
   "outputs": [],
   "source": []
  }
 ],
 "metadata": {
  "kernelspec": {
   "display_name": "Python 3 (ipykernel)",
   "language": "python",
   "name": "python3"
  },
  "language_info": {
   "codemirror_mode": {
    "name": "ipython",
    "version": 3
   },
   "file_extension": ".py",
   "mimetype": "text/x-python",
   "name": "python",
   "nbconvert_exporter": "python",
   "pygments_lexer": "ipython3",
   "version": "3.13.5"
  }
 },
 "nbformat": 4,
 "nbformat_minor": 5
}
