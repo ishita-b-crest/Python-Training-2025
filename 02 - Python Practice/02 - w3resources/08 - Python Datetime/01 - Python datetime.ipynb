{
 "cells": [
  {
   "cell_type": "markdown",
   "id": "7a2c106a-c4ff-42fd-a312-11023a3d3423",
   "metadata": {},
   "source": [
    "#### **1. String to Datetime Converter**\n",
    "Write a Python program to convert a string to datetime."
   ]
  },
  {
   "cell_type": "code",
   "execution_count": 2,
   "id": "c4ba2cb2-15ac-4c66-b902-d5658b8f9df0",
   "metadata": {},
   "outputs": [],
   "source": [
    "from datetime import datetime"
   ]
  },
  {
   "cell_type": "code",
   "execution_count": 4,
   "id": "0b6926ff-0059-438c-9ea1-35640edb3df0",
   "metadata": {},
   "outputs": [],
   "source": [
    "date_object = datetime.strptime('Jul 24 2025 10:41AM', '%b %d %Y %I:%M%p')"
   ]
  },
  {
   "cell_type": "code",
   "execution_count": 5,
   "id": "c018590f-700d-401a-b0c5-cb1d4bf7ca0e",
   "metadata": {},
   "outputs": [
    {
     "name": "stdout",
     "output_type": "stream",
     "text": [
      "2025-07-24 10:41:00\n"
     ]
    }
   ],
   "source": [
    "print(date_object)"
   ]
  },
  {
   "cell_type": "markdown",
   "id": "c6fa77c3-aa65-48ae-b713-99772f48201e",
   "metadata": {},
   "source": [
    "#### **2. Day of Year Converter**\n",
    "\n",
    "Write a Python program to convert Year/Month/Day to Day of Year in Python."
   ]
  },
  {
   "cell_type": "code",
   "execution_count": 6,
   "id": "b3111c8d-6bb3-4cc2-bb16-1c9369df7178",
   "metadata": {},
   "outputs": [],
   "source": [
    "import datetime"
   ]
  },
  {
   "cell_type": "code",
   "execution_count": 7,
   "id": "b3c439af-4ce1-4a98-a86e-d1ebbffd7988",
   "metadata": {},
   "outputs": [],
   "source": [
    "today = datetime.datetime.now()"
   ]
  },
  {
   "cell_type": "code",
   "execution_count": 9,
   "id": "ea0e3324-fb82-4170-9e4b-067d2bc133ee",
   "metadata": {},
   "outputs": [],
   "source": [
    "date_of_year = (today - datetime.datetime(today.year, 1, 1)).days + 1"
   ]
  },
  {
   "cell_type": "code",
   "execution_count": 10,
   "id": "b4fac4d1-a80f-4af2-9563-359f550c5cac",
   "metadata": {},
   "outputs": [
    {
     "name": "stdout",
     "output_type": "stream",
     "text": [
      "205\n"
     ]
    }
   ],
   "source": [
    "print(date_of_year)"
   ]
  },
  {
   "cell_type": "code",
   "execution_count": null,
   "id": "e35599ff-a8f9-40fd-801d-8227a653ee08",
   "metadata": {},
   "outputs": [],
   "source": []
  }
 ],
 "metadata": {
  "kernelspec": {
   "display_name": "Python 3 (ipykernel)",
   "language": "python",
   "name": "python3"
  },
  "language_info": {
   "codemirror_mode": {
    "name": "ipython",
    "version": 3
   },
   "file_extension": ".py",
   "mimetype": "text/x-python",
   "name": "python",
   "nbconvert_exporter": "python",
   "pygments_lexer": "ipython3",
   "version": "3.13.5"
  }
 },
 "nbformat": 4,
 "nbformat_minor": 5
}
