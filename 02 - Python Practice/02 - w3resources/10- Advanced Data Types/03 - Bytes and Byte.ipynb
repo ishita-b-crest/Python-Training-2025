{
 "cells": [
  {
   "cell_type": "markdown",
   "id": "eb87dba0-fd06-4b0c-b8a7-3649e7a88104",
   "metadata": {},
   "source": [
    "#### **1. String to Bytes Conversion**\n",
    "Write a Python program to convert a given string to bytes using different encodings like UTF-8, UTF-16, ASCII etc."
   ]
  },
  {
   "cell_type": "code",
   "execution_count": 1,
   "id": "2fd3fe5c-32b7-43f1-a31d-2e1008b48f3f",
   "metadata": {},
   "outputs": [],
   "source": [
    "def convert_to_bytes(str, encoding):\n",
    "    try:\n",
    "        encoded_bytes = str.encode(encoding)\n",
    "        return encoded_bytes\n",
    "    except Exception as e:\n",
    "        print(\"Error:\", e)\n",
    "        return None\n",
    "        "
   ]
  },
  {
   "cell_type": "code",
   "execution_count": 3,
   "id": "61b284cf-d17f-4574-b194-67722852e783",
   "metadata": {},
   "outputs": [],
   "source": [
    "def main():\n",
    "    try:\n",
    "        str = \"Python Exercise!\"\n",
    "\n",
    "        encodings = [\"utf-8\", \"utf-16\", \"ascii\"]\n",
    "\n",
    "        for encoding in encodings:\n",
    "            encoded_bytes = convert_to_bytes(str, encoding)\n",
    "            if encoded_bytes is not None:\n",
    "                print(f\"Encoding: {encoding.upper()}\")\n",
    "                print(\"Original String:\", str)\n",
    "                print(\"Encoded Bytes:\", encoded_bytes)\n",
    "                print(\"Decoded String:\", encoded_bytes.decode(encoding))\n",
    "    except Exception as e:\n",
    "        print(\"An error occured:\", e)"
   ]
  },
  {
   "cell_type": "code",
   "execution_count": 4,
   "id": "1cecd06a-7894-462c-b6d5-266a1625e26f",
   "metadata": {},
   "outputs": [
    {
     "name": "stdout",
     "output_type": "stream",
     "text": [
      "Encoding: UTF-8\n",
      "Original String: Python Exercise!\n",
      "Encoded Bytes: b'Python Exercise!'\n",
      "Decoded String: Python Exercise!\n",
      "Encoding: UTF-16\n",
      "Original String: Python Exercise!\n",
      "Encoded Bytes: b'\\xff\\xfeP\\x00y\\x00t\\x00h\\x00o\\x00n\\x00 \\x00E\\x00x\\x00e\\x00r\\x00c\\x00i\\x00s\\x00e\\x00!\\x00'\n",
      "Decoded String: Python Exercise!\n",
      "Encoding: ASCII\n",
      "Original String: Python Exercise!\n",
      "Encoded Bytes: b'Python Exercise!'\n",
      "Decoded String: Python Exercise!\n"
     ]
    }
   ],
   "source": [
    "if __name__ == \"__main__\":\n",
    "    main()"
   ]
  },
  {
   "cell_type": "code",
   "execution_count": null,
   "id": "c7294f69-eadb-4813-bd83-dd838618e7f5",
   "metadata": {},
   "outputs": [],
   "source": []
  }
 ],
 "metadata": {
  "kernelspec": {
   "display_name": "Python 3 (ipykernel)",
   "language": "python",
   "name": "python3"
  },
  "language_info": {
   "codemirror_mode": {
    "name": "ipython",
    "version": 3
   },
   "file_extension": ".py",
   "mimetype": "text/x-python",
   "name": "python",
   "nbconvert_exporter": "python",
   "pygments_lexer": "ipython3",
   "version": "3.13.5"
  }
 },
 "nbformat": 4,
 "nbformat_minor": 5
}
