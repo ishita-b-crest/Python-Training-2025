{
 "cells": [
  {
   "cell_type": "markdown",
   "id": "cb1d94de-8cb7-4775-9577-4d01dc5e0d4e",
   "metadata": {},
   "source": [
    "#### **1. Middle Character or None**\n",
    "\n",
    "Write a Python function that returns the middle character of a string or \"None\" if the string length is odd."
   ]
  },
  {
   "cell_type": "code",
   "execution_count": 5,
   "id": "2ed52bbf-2be3-4fce-a16f-a90daa61d948",
   "metadata": {},
   "outputs": [],
   "source": [
    "def get_middle_char(str):\n",
    "    length = len(str)\n",
    "\n",
    "    if length % 2 == 0:\n",
    "        return \"None\"\n",
    "    else:\n",
    "        middle_index = length // 2\n",
    "        return str[middle_index]"
   ]
  },
  {
   "cell_type": "code",
   "execution_count": 6,
   "id": "68c65460-4741-4e56-84f9-994e99695b21",
   "metadata": {},
   "outputs": [],
   "source": [
    "def main():\n",
    "    try:\n",
    "        str = input(\"Enter a String: \")\n",
    "        result = get_middle_char(str)\n",
    "\n",
    "        if result == \"None\":\n",
    "            print(\"String length is even, no middle character\")\n",
    "        else:\n",
    "            print(\"middle character: \" ,result)\n",
    "    except Exception as e:\n",
    "        print(\"An error occurred: \", e)\n",
    "        "
   ]
  },
  {
   "cell_type": "code",
   "execution_count": 7,
   "id": "f8a31ca8-884c-47e5-bd09-8b47f817b8c1",
   "metadata": {},
   "outputs": [
    {
     "name": "stdin",
     "output_type": "stream",
     "text": [
      "Enter a String:  struings\n"
     ]
    },
    {
     "name": "stdout",
     "output_type": "stream",
     "text": [
      "String length is even, no middle character\n"
     ]
    }
   ],
   "source": [
    "if __name__ == \"__main__\":\n",
    "    main()"
   ]
  },
  {
   "cell_type": "code",
   "execution_count": null,
   "id": "304bfa03-5e2d-490a-92f3-25003023d0d6",
   "metadata": {},
   "outputs": [],
   "source": []
  }
 ],
 "metadata": {
  "kernelspec": {
   "display_name": "Python 3 (ipykernel)",
   "language": "python",
   "name": "python3"
  },
  "language_info": {
   "codemirror_mode": {
    "name": "ipython",
    "version": 3
   },
   "file_extension": ".py",
   "mimetype": "text/x-python",
   "name": "python",
   "nbconvert_exporter": "python",
   "pygments_lexer": "ipython3",
   "version": "3.13.5"
  }
 },
 "nbformat": 4,
 "nbformat_minor": 5
}
