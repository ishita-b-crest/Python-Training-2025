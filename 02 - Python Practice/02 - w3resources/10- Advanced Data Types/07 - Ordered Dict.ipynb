{
 "cells": [
  {
   "cell_type": "markdown",
   "id": "6e2e5e6a-9b16-49a5-a7db-23c3d533df47",
   "metadata": {},
   "source": [
    "#### **1. OrderedDict Creation**\n",
    "Write a Python program that creates an OrderedDict and adds some items. Print the OrderedDict contents."
   ]
  },
  {
   "cell_type": "code",
   "execution_count": 1,
   "id": "d3148596-73ec-4470-b4d6-dcd077f902e1",
   "metadata": {},
   "outputs": [],
   "source": [
    "from collections import OrderedDict"
   ]
  },
  {
   "cell_type": "code",
   "execution_count": 2,
   "id": "6f2f15f9-8c1f-4910-85ff-dbc0f76a3ac9",
   "metadata": {},
   "outputs": [],
   "source": [
    "ordered_dict = OrderedDict()"
   ]
  },
  {
   "cell_type": "code",
   "execution_count": 3,
   "id": "84cdde94-59bc-4662-a780-105586d85c0b",
   "metadata": {},
   "outputs": [],
   "source": [
    "ordered_dict['Laptop'] = 10\n",
    "ordered_dict['Mobile'] = 13\n",
    "ordered_dict['Desktop'] = 12"
   ]
  },
  {
   "cell_type": "code",
   "execution_count": 4,
   "id": "9b5a678e-b10a-48fb-a298-f86c4bdfe1af",
   "metadata": {},
   "outputs": [
    {
     "name": "stdout",
     "output_type": "stream",
     "text": [
      "Itemt: Laptop, Quantity: 10\n",
      "Itemt: Mobile, Quantity: 13\n",
      "Itemt: Desktop, Quantity: 12\n"
     ]
    }
   ],
   "source": [
    "for item, quantity in ordered_dict.items():\n",
    "    print(f\"Itemt: {item}, Quantity: {quantity}\")"
   ]
  },
  {
   "cell_type": "code",
   "execution_count": null,
   "id": "f215782b-45fb-476c-ab19-df54ec7e1818",
   "metadata": {},
   "outputs": [],
   "source": []
  }
 ],
 "metadata": {
  "kernelspec": {
   "display_name": "Python 3 (ipykernel)",
   "language": "python",
   "name": "python3"
  },
  "language_info": {
   "codemirror_mode": {
    "name": "ipython",
    "version": 3
   },
   "file_extension": ".py",
   "mimetype": "text/x-python",
   "name": "python",
   "nbconvert_exporter": "python",
   "pygments_lexer": "ipython3",
   "version": "3.13.5"
  }
 },
 "nbformat": 4,
 "nbformat_minor": 5
}
