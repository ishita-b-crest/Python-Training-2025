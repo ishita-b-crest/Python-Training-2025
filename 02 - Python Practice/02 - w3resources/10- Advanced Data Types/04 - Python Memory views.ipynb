{
 "cells": [
  {
   "cell_type": "markdown",
   "id": "a797ae46-f97e-4fde-8364-0eb131a72c60",
   "metadata": {},
   "source": [
    "#### **Memory View on Bytes Object**\n",
    "Write a Python program that creates a memory view on a bytes object and prints the length and first 8 bytes."
   ]
  },
  {
   "cell_type": "code",
   "execution_count": 4,
   "id": "4381be12-a92b-47c6-91d0-91c10ecddcf6",
   "metadata": {},
   "outputs": [
    {
     "name": "stdout",
     "output_type": "stream",
     "text": [
      "Memory Length: 7\n",
      "First 8 Bytes: <memory at 0x0000020CBBB04640>\n"
     ]
    }
   ],
   "source": [
    "def main():\n",
    "    try:\n",
    "        data = b\"Python!\"\n",
    "        mem_data  = memoryview(data)        \n",
    "        print(\"Memory Length:\", len(mem_data))\n",
    "        print(\"First 8 Bytes:\", mem_data[:8])\n",
    "    except Exception as e:\n",
    "        print(\"An error occurred:\", e)\n",
    "\n",
    "if __name__ == \"__main__\":\n",
    "    main()\n"
   ]
  },
  {
   "cell_type": "code",
   "execution_count": null,
   "id": "8bae8edd-4474-44cb-9a47-50e5cb74fa7a",
   "metadata": {},
   "outputs": [],
   "source": []
  }
 ],
 "metadata": {
  "kernelspec": {
   "display_name": "Python 3 (ipykernel)",
   "language": "python",
   "name": "python3"
  },
  "language_info": {
   "codemirror_mode": {
    "name": "ipython",
    "version": 3
   },
   "file_extension": ".py",
   "mimetype": "text/x-python",
   "name": "python",
   "nbconvert_exporter": "python",
   "pygments_lexer": "ipython3",
   "version": "3.13.5"
  }
 },
 "nbformat": 4,
 "nbformat_minor": 5
}
