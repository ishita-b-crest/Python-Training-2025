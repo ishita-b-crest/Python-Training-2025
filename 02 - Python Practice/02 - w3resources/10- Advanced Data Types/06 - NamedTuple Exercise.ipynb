{
 "cells": [
  {
   "cell_type": "markdown",
   "id": "fba9ec38-0daa-4263-9be9-ec44421cd40c",
   "metadata": {},
   "source": [
    "#### **1. Point NamedTuple**\n",
    "Write a Python program that defines a NamedTuple called Point with fields x, y and z representing the coordinate of a point. Access and print the fields."
   ]
  },
  {
   "cell_type": "code",
   "execution_count": 1,
   "id": "bb719adb-75dc-46a5-88d8-1354999ce6e3",
   "metadata": {},
   "outputs": [],
   "source": [
    "from collections import namedtuple"
   ]
  },
  {
   "cell_type": "code",
   "execution_count": 3,
   "id": "24b2df5c-0fe8-4a7a-b7df-12d80dc93641",
   "metadata": {},
   "outputs": [],
   "source": [
    "Point = namedtuple(\"Point\", [\"x\", \"y\", \"z\"])\n",
    "p = Point(4, 7, 12)"
   ]
  },
  {
   "cell_type": "code",
   "execution_count": 6,
   "id": "1eef5385-1953-43de-bf9c-4b55c1080a91",
   "metadata": {},
   "outputs": [
    {
     "name": "stdout",
     "output_type": "stream",
     "text": [
      "x: 4\n"
     ]
    }
   ],
   "source": [
    "print(\"x:\", p.x)"
   ]
  },
  {
   "cell_type": "code",
   "execution_count": 7,
   "id": "51692257-5c9d-4841-8fb0-41d87805f091",
   "metadata": {},
   "outputs": [
    {
     "name": "stdout",
     "output_type": "stream",
     "text": [
      "y: 7\n"
     ]
    }
   ],
   "source": [
    "print(\"y:\", p.y)"
   ]
  },
  {
   "cell_type": "code",
   "execution_count": 9,
   "id": "3896450b-78c4-47df-a8f8-949a47c1e7ce",
   "metadata": {},
   "outputs": [
    {
     "name": "stdout",
     "output_type": "stream",
     "text": [
      "z: 12\n"
     ]
    }
   ],
   "source": [
    "print(\"z:\", p.z)"
   ]
  },
  {
   "cell_type": "code",
   "execution_count": null,
   "id": "e94b4e55-afab-45e4-af75-fbb9db6e7e94",
   "metadata": {},
   "outputs": [],
   "source": []
  }
 ],
 "metadata": {
  "kernelspec": {
   "display_name": "Python 3 (ipykernel)",
   "language": "python",
   "name": "python3"
  },
  "language_info": {
   "codemirror_mode": {
    "name": "ipython",
    "version": 3
   },
   "file_extension": ".py",
   "mimetype": "text/x-python",
   "name": "python",
   "nbconvert_exporter": "python",
   "pygments_lexer": "ipython3",
   "version": "3.13.5"
  }
 },
 "nbformat": 4,
 "nbformat_minor": 5
}
