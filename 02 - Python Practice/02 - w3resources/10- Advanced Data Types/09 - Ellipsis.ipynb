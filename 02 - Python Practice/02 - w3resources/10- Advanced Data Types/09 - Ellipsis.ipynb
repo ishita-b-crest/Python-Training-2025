{
 "cells": [
  {
   "cell_type": "markdown",
   "id": "346278e0-9552-41b4-8174-5fde1c901704",
   "metadata": {},
   "source": [
    "#### **1. List with Gaps via Ellipsis**\n",
    "Write a Python program that creates a list containing numbers from 1 to 10, but leaves a gap at even positions using ellipsis."
   ]
  },
  {
   "cell_type": "code",
   "execution_count": 1,
   "id": "c032e8cc-9855-4edf-a0f6-a5135331fe8a",
   "metadata": {},
   "outputs": [
    {
     "name": "stdout",
     "output_type": "stream",
     "text": [
      "Containing numbers from 1 to 10, but leaves a gap at even positions:\n",
      "[1, Ellipsis, 3, Ellipsis, 5, Ellipsis, 7, Ellipsis, 9, Ellipsis]\n",
      "\n",
      "Containing numbers from 10 to 20, but leaves a gap at odd positions:\n",
      "[10, Ellipsis, 12, Ellipsis, 14, Ellipsis, 16, Ellipsis, 18, Ellipsis, 20]\n"
     ]
    }
   ],
   "source": [
    "print(\"Containing numbers from 1 to 10, but leaves a gap at even positions:\")\n",
    "nums = [i if i % 2 != 0 else ... for i in range(1, 11)]\n",
    "print(nums)\n",
    "print(\"\\nContaining numbers from 10 to 20, but leaves a gap at odd positions:\")\n",
    "nums = [i if i % 2 == 0 else ... for i in range(10, 21)]\n",
    "print(nums)\n"
   ]
  }
 ],
 "metadata": {
  "kernelspec": {
   "display_name": "Python 3 (ipykernel)",
   "language": "python",
   "name": "python3"
  },
  "language_info": {
   "codemirror_mode": {
    "name": "ipython",
    "version": 3
   },
   "file_extension": ".py",
   "mimetype": "text/x-python",
   "name": "python",
   "nbconvert_exporter": "python",
   "pygments_lexer": "ipython3",
   "version": "3.13.5"
  }
 },
 "nbformat": 4,
 "nbformat_minor": 5
}
