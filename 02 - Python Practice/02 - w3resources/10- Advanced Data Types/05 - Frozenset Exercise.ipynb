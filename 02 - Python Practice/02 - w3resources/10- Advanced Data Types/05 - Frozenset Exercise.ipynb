{
 "cells": [
  {
   "cell_type": "markdown",
   "id": "2680db4d-c3a1-4f80-af72-d45b39b8110d",
   "metadata": {},
   "source": [
    "#### **1. Frozenset Operations**\n",
    "\n",
    "Write a Python program that performs common set operations like union, intersection, and difference of two frozensets.\n",
    "\n",
    "Sample Solution:"
   ]
  },
  {
   "cell_type": "code",
   "execution_count": 3,
   "id": "5a0c7be3-9c29-48bd-8d2a-e6f1a1a183cc",
   "metadata": {},
   "outputs": [],
   "source": [
    "def main():\n",
    "    frozenset_x = frozenset([1,2,3,4,5])\n",
    "    frozenset_y = frozenset([0,1,2,3,48,10])\n",
    "    print(\"Original frozensets:\")\n",
    "    print(frozenset_x)\n",
    "    print(frozenset_y)\n",
    "    union_result = frozenset_x.union(frozenset_y)\n",
    "    print(\"Union: \", union_result)\n",
    "    intersection_result = frozenset_x.intersection(frozenset_y)\n",
    "    print(\"Intersection: \", intersection_result)\n",
    "    diff_result1 = frozenset_x.difference(frozenset_y)\n",
    "    diff_result2 = frozenset_y.difference(frozenset_x)\n",
    "\n",
    "    print(\"Diff of (x - y)\", diff_result1)\n",
    "    print(\"Diff of (y - x)\", diff_result2)"
   ]
  },
  {
   "cell_type": "code",
   "execution_count": 4,
   "id": "fac444c5-aabc-4e36-91ff-21e238dbf62e",
   "metadata": {},
   "outputs": [
    {
     "name": "stdout",
     "output_type": "stream",
     "text": [
      "Original frozensets:\n",
      "frozenset({1, 2, 3, 4, 5})\n",
      "frozenset({0, 1, 2, 3, 10, 48})\n",
      "Union:  frozenset({0, 1, 2, 3, 4, 5, 10, 48})\n",
      "Intersection:  frozenset({1, 2, 3})\n",
      "Diff of (x - y) frozenset({4, 5})\n",
      "Diff of (y - x) frozenset({0, 10, 48})\n"
     ]
    }
   ],
   "source": [
    "if __name__ == \"__main__\":\n",
    "    main()"
   ]
  },
  {
   "cell_type": "markdown",
   "id": "f02e0ffa-fd06-48bb-86d7-dc07643c1f76",
   "metadata": {},
   "source": [
    "#### **2. Frozenset Power Set**\n",
    "Write a Python program that implements a function to generate the power set (set of all subsets) of a given frozenset."
   ]
  },
  {
   "cell_type": "code",
   "execution_count": 5,
   "id": "f05298f0-c748-44d3-a28f-d2213425d69f",
   "metadata": {},
   "outputs": [],
   "source": [
    "def powerset(f_input):\n",
    "    power_set = [[]]\n",
    "\n",
    "    for ele in f_input:\n",
    "        new_subsets = []\n",
    "        for subset in power_set:\n",
    "            new_subset = subset + [element]\n",
    "            new_subsets.append(new_subset)\n",
    "        power_set.extend(new_subsets)\n",
    "\n",
    "    return [frozenset(subset) for subset in power_set]\n",
    "    "
   ]
  },
  {
   "cell_type": "code",
   "execution_count": 7,
   "id": "55f00bf7-0cd3-4283-aa8b-173bf819f04f",
   "metadata": {},
   "outputs": [],
   "source": [
    "def main():\n",
    "    frozen_set = frozenset([1, 2, 3, 4])\n",
    "    print(\"Original Power set\")\n",
    "\n",
    "    power_set_result = powerset(frozen_set)\n",
    "\n",
    "    print(\"Power Set\")\n",
    "    for subset in power_set_result:\n",
    "        print(subset)\n",
    "\n",
    "        "
   ]
  },
  {
   "cell_type": "code",
   "execution_count": 8,
   "id": "73aad79e-9033-41fd-a3ef-fb921e9b5f0a",
   "metadata": {},
   "outputs": [],
   "source": [
    "if __name__ == \"__main_\":\n",
    "    main()"
   ]
  },
  {
   "cell_type": "code",
   "execution_count": null,
   "id": "1c70cccc-1a2b-4276-88b3-74923ca888f5",
   "metadata": {},
   "outputs": [],
   "source": []
  },
  {
   "cell_type": "code",
   "execution_count": null,
   "id": "82d6789d-625f-403c-80ec-b908ab33400c",
   "metadata": {},
   "outputs": [],
   "source": []
  }
 ],
 "metadata": {
  "kernelspec": {
   "display_name": "Python 3 (ipykernel)",
   "language": "python",
   "name": "python3"
  },
  "language_info": {
   "codemirror_mode": {
    "name": "ipython",
    "version": 3
   },
   "file_extension": ".py",
   "mimetype": "text/x-python",
   "name": "python",
   "nbconvert_exporter": "python",
   "pygments_lexer": "ipython3",
   "version": "3.13.5"
  }
 },
 "nbformat": 4,
 "nbformat_minor": 5
}
