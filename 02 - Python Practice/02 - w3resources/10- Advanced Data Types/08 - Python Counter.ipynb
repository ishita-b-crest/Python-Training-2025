{
 "cells": [
  {
   "cell_type": "code",
   "execution_count": 2,
   "id": "e780b838-158e-468c-a920-d021f779c2e3",
   "metadata": {},
   "outputs": [],
   "source": [
    "from collections import Counter"
   ]
  },
  {
   "cell_type": "code",
   "execution_count": 3,
   "id": "b89ce524-49c6-47f8-9a4a-9c58fc623a84",
   "metadata": {},
   "outputs": [],
   "source": [
    "text = \"Python Exercise!!\"\n",
    "letter_coun = Counter(text)"
   ]
  },
  {
   "cell_type": "code",
   "execution_count": null,
   "id": "2e72b735-fbe7-4207-8008-3473e115d372",
   "metadata": {},
   "outputs": [],
   "source": [
    "print(\"Letter Counter:\")\n",
    "for letter, cnt in letter_coun"
   ]
  }
 ],
 "metadata": {
  "kernelspec": {
   "display_name": "Python 3 (ipykernel)",
   "language": "python",
   "name": "python3"
  },
  "language_info": {
   "codemirror_mode": {
    "name": "ipython",
    "version": 3
   },
   "file_extension": ".py",
   "mimetype": "text/x-python",
   "name": "python",
   "nbconvert_exporter": "python",
   "pygments_lexer": "ipython3",
   "version": "3.13.5"
  }
 },
 "nbformat": 4,
 "nbformat_minor": 5
}
