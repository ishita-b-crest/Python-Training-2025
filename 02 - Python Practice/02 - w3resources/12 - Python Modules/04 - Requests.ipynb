{
 "cells": [
  {
   "cell_type": "markdown",
   "id": "4fcfca00-0b5b-4bad-94fa-3ab4144e46e1",
   "metadata": {},
   "source": [
    "#### **1. Requests Module Metadata**\n",
    "\n",
    "Write a Python program to find the Requests module – version, licence, copyright information, author, author email, document url, title and description."
   ]
  },
  {
   "cell_type": "code",
   "execution_count": 1,
   "id": "83c17ba3-5bb7-4aa9-934e-e02442c8098f",
   "metadata": {},
   "outputs": [
    {
     "name": "stdout",
     "output_type": "stream",
     "text": [
      "Python Requests module - version: 2.32.3\n",
      "Licence: Apache-2.0\n",
      "Copyright: Copyright Kenneth Reitz\n",
      "Author: Kenneth Reitz\n",
      "Author email: me@kennethreitz.org\n",
      "Document url, title, description:\n",
      "https://requests.readthedocs.io\n",
      "requests\n",
      "Python HTTP for Humans.\n"
     ]
    }
   ],
   "source": [
    "import requests\n",
    "print(\"Python Requests module - version:\",requests.__version__)\n",
    "print(\"Licence:\",requests. __license__)\n",
    "print(\"Copyright:\",requests.__copyright__)\n",
    "print(\"Author:\",requests.__author__)\n",
    "print(\"Author email:\",requests.__author_email__)\n",
    "print(\"Document url, title, description:\")\n",
    "print(requests.__url__)\n",
    "print(requests.__title__)\n",
    "print(requests.__description__)\n"
   ]
  },
  {
   "cell_type": "code",
   "execution_count": null,
   "id": "2129bebd-9308-4ff9-9edf-88eb7c3f5e91",
   "metadata": {},
   "outputs": [],
   "source": []
  }
 ],
 "metadata": {
  "kernelspec": {
   "display_name": "Python 3 (ipykernel)",
   "language": "python",
   "name": "python3"
  },
  "language_info": {
   "codemirror_mode": {
    "name": "ipython",
    "version": 3
   },
   "file_extension": ".py",
   "mimetype": "text/x-python",
   "name": "python",
   "nbconvert_exporter": "python",
   "pygments_lexer": "ipython3",
   "version": "3.13.5"
  }
 },
 "nbformat": 4,
 "nbformat_minor": 5
}
