{
 "cells": [
  {
   "cell_type": "code",
   "execution_count": 2,
   "id": "4af422af-5fc2-4985-8b7b-21f716354ca6",
   "metadata": {},
   "outputs": [
    {
     "name": "stdout",
     "output_type": "stream",
     "text": [
      "Operating System: nt\n",
      "\n",
      "Information of current operating system:  uname_result(system='Windows', node='DESKTOP-JK4DHGR', release='10', version='10.0.19045', machine='AMD64')\n",
      "\n",
      "Current Working Directory:  D:\\Training-2025\\02 - Python Practice\\02 - w3resources\\12 - Python Modules\n",
      "\n",
      "List of files and directories in the current directory:\n",
      "['.ipynb_checkpoints', '01 - Built-in Modules.ipynb', 'Untitled.ipynb']\n",
      "\n",
      "Test if a specified file exists or not:\n",
      "Not accessed or problem in reading: abc.txt\n"
     ]
    }
   ],
   "source": [
    "import os\n",
    "import platform\n",
    "\n",
    "print(\"Operating System:\", os.name) \n",
    "print(\"\\nInformation of current operating system: \", platform.uname())\n",
    "print(\"\\nCurrent Working Directory: \", os.getcwd())\n",
    "print(\"\\nList of files and directories in the current directory:\")\n",
    "print(os.listdir('.'))\n",
    "\n",
    "print(\"\\nTest if a specified file exists or not:\")\n",
    "filename = 'abc.txt'\n",
    "try:\n",
    "    with open(filename, 'r') as f:\n",
    "        text = f.read()\n",
    "        print(\"File content:\")\n",
    "        print(text)\n",
    "except IOError:\n",
    "    print('Not accessed or problem in reading: ' + filename)\n"
   ]
  },
  {
   "cell_type": "code",
   "execution_count": null,
   "id": "4b354cf7-5647-402e-a802-677bc1a3654b",
   "metadata": {},
   "outputs": [],
   "source": []
  }
 ],
 "metadata": {
  "kernelspec": {
   "display_name": "Python 3 (ipykernel)",
   "language": "python",
   "name": "python3"
  },
  "language_info": {
   "codemirror_mode": {
    "name": "ipython",
    "version": 3
   },
   "file_extension": ".py",
   "mimetype": "text/x-python",
   "name": "python",
   "nbconvert_exporter": "python",
   "pygments_lexer": "ipython3",
   "version": "3.13.5"
  }
 },
 "nbformat": 4,
 "nbformat_minor": 5
}
