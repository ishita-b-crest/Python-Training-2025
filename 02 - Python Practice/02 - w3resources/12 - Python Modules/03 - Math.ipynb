{
 "cells": [
  {
   "cell_type": "markdown",
   "id": "faa936cb-8305-42cb-ab43-0687e7dc1a46",
   "metadata": {},
   "source": [
    "#### **1. Degrees to Radians Conversion**\n",
    "\n",
    "Write a Python program to convert degrees to radians.\n",
    "Note : The radian is the standard unit of angular measure, used in many areas of mathematics. An angle's measurement in radians is numerically equal to the length of a corresponding arc of a unit circle; one radian is just under 57.3 degrees (when the arc length is equal to the radius)."
   ]
  },
  {
   "cell_type": "code",
   "execution_count": 1,
   "id": "791d5239-cfd1-4975-b11d-2eb40af94703",
   "metadata": {},
   "outputs": [
    {
     "name": "stdin",
     "output_type": "stream",
     "text": [
      "Input radians:  45\n"
     ]
    },
    {
     "name": "stdout",
     "output_type": "stream",
     "text": [
      "2577.2727272727275\n"
     ]
    }
   ],
   "source": [
    "pi=22/7\n",
    "radian = float(input(\"Input radians: \"))\n",
    "degree = radian*(180/pi)\n",
    "print(degree)"
   ]
  },
  {
   "cell_type": "code",
   "execution_count": null,
   "id": "dadaace9-5e11-4df6-9751-48c738f1800e",
   "metadata": {},
   "outputs": [],
   "source": []
  },
  {
   "cell_type": "code",
   "execution_count": 2,
   "id": "e981950e-4cfd-4ab1-8961-e85300475c9d",
   "metadata": {},
   "outputs": [
    {
     "name": "stdin",
     "output_type": "stream",
     "text": [
      "Input degrees:  2577\n"
     ]
    },
    {
     "name": "stdout",
     "output_type": "stream",
     "text": [
      "44.99523809523809\n"
     ]
    }
   ],
   "source": [
    "pi=22/7\n",
    "degree = float(input(\"Input degrees: \"))\n",
    "radian = degree*(pi/180)\n",
    "print(radian)\n"
   ]
  },
  {
   "cell_type": "code",
   "execution_count": null,
   "id": "b06fc827-1ed3-4aab-baba-bbac48414f31",
   "metadata": {},
   "outputs": [],
   "source": []
  }
 ],
 "metadata": {
  "kernelspec": {
   "display_name": "Python 3 (ipykernel)",
   "language": "python",
   "name": "python3"
  },
  "language_info": {
   "codemirror_mode": {
    "name": "ipython",
    "version": 3
   },
   "file_extension": ".py",
   "mimetype": "text/x-python",
   "name": "python",
   "nbconvert_exporter": "python",
   "pygments_lexer": "ipython3",
   "version": "3.13.5"
  }
 },
 "nbformat": 4,
 "nbformat_minor": 5
}
