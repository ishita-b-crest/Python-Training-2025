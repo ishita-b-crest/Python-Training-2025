{
 "cells": [
  {
   "cell_type": "markdown",
   "id": "7ba52d61-a986-4865-827e-d3d9d58630ee",
   "metadata": {},
   "source": [
    "#### **1. Random Value Generation**\n",
    "\n",
    "Write a Python program to generate a random color hex, a random alphabetical string, random value between two integers (inclusive) and a random multiple of 7 between 0 and 70."
   ]
  },
  {
   "cell_type": "code",
   "execution_count": 1,
   "id": "3a483d6e-ed18-4ce4-9be4-87b9c7535d4b",
   "metadata": {},
   "outputs": [],
   "source": [
    "import random\n",
    "import string"
   ]
  },
  {
   "cell_type": "code",
   "execution_count": 4,
   "id": "01b2d76d-8540-4460-b2d9-22cb019bba7a",
   "metadata": {},
   "outputs": [
    {
     "name": "stdout",
     "output_type": "stream",
     "text": [
      "Generate a random color hex:\n",
      "#0bb332\n"
     ]
    }
   ],
   "source": [
    "print('Generate a random color hex:')\n",
    "print('#{:06x}'.format(random.randint(0, 0xFFFFFF)))"
   ]
  },
  {
   "cell_type": "code",
   "execution_count": null,
   "id": "fbb2cf7e-b938-4de8-a882-e2df20266d7d",
   "metadata": {},
   "outputs": [],
   "source": []
  },
  {
   "cell_type": "code",
   "execution_count": 5,
   "id": "581b36f6-3b17-45c0-bb26-71f7dbd161cd",
   "metadata": {},
   "outputs": [
    {
     "name": "stdout",
     "output_type": "stream",
     "text": [
      "Generate a random alphabetical strings:\n",
      "GBYksfOswPvIBusr\n"
     ]
    }
   ],
   "source": [
    "print(\"Generate a random alphabetical strings:\")\n",
    "max_length = 255\n",
    "s = \"\"\n",
    "for i in range(random.randint(1, max_length)):\n",
    "    s += random.choice(string.ascii_letters)\n",
    "print(s)\n"
   ]
  },
  {
   "cell_type": "code",
   "execution_count": 6,
   "id": "aaf5e028-cf95-4b8f-b02c-b7f17e269261",
   "metadata": {},
   "outputs": [
    {
     "name": "stdout",
     "output_type": "stream",
     "text": [
      "Generate a random value between two integers, inclusive:\n",
      "8\n",
      "-2\n",
      "1\n",
      "Generate a random multiple of 7 between 0 and 70:\n",
      "0\n"
     ]
    }
   ],
   "source": [
    "print(\"Generate a random value between two integers, inclusive:\")\n",
    "print(random.randint(0, 10))\n",
    "print(random.randint(-7, 7))\n",
    "print(random.randint(1, 1))\n",
    "print(\"Generate a random multiple of 7 between 0 and 70:\")\n",
    "print(random.randint(0, 10) * 7)"
   ]
  },
  {
   "cell_type": "code",
   "execution_count": null,
   "id": "cc454849-9d56-4e54-bba9-45caa3b339f3",
   "metadata": {},
   "outputs": [],
   "source": []
  },
  {
   "cell_type": "markdown",
   "id": "0163c4f2-ddc5-4a46-a3ec-8fed27cbba01",
   "metadata": {},
   "source": [
    "#### **2. User-Defined Method Checker**\n",
    "\n",
    "Write a Python program to check if a given value is a method of a user-defined class. Use types.MethodType()."
   ]
  },
  {
   "cell_type": "code",
   "execution_count": 7,
   "id": "c8420a6c-0559-4a0a-829a-601022122c37",
   "metadata": {},
   "outputs": [],
   "source": [
    "import types\n",
    "class C:\n",
    "    def x():\n",
    "        return 1\n",
    "    def y():\n",
    "        return 1    \n",
    "        \n",
    "def b():\n",
    "    return 2"
   ]
  },
  {
   "cell_type": "code",
   "execution_count": 8,
   "id": "7351da55-6ac9-4e08-ad5e-9173eb59cc3c",
   "metadata": {},
   "outputs": [
    {
     "name": "stdout",
     "output_type": "stream",
     "text": [
      "True\n",
      "True\n",
      "False\n",
      "False\n",
      "False\n"
     ]
    }
   ],
   "source": [
    "print(isinstance(C().x, types.MethodType))\n",
    "print(isinstance(C().y, types.MethodType))\n",
    "print(isinstance(b, types.MethodType))\n",
    "print(isinstance(max, types.MethodType))\n",
    "print(isinstance(abs, types.MethodType))"
   ]
  },
  {
   "cell_type": "code",
   "execution_count": null,
   "id": "0d8d2658-9d36-463b-a045-7861663c26e8",
   "metadata": {},
   "outputs": [],
   "source": []
  },
  {
   "cell_type": "markdown",
   "id": "15767eae-cdd7-4bd5-aea9-1391d13344cb",
   "metadata": {},
   "source": [
    "#### **3.Floor and Ceiling Rounding**\n",
    "Write a Python program to configure the rounding to round to the floor, ceiling. Use decimal.ROUND_FLOOR, decimal.ROUND_CEILING."
   ]
  },
  {
   "cell_type": "code",
   "execution_count": 10,
   "id": "b2fe9ce6-3f6b-417d-ab7f-5c9cbc9adc36",
   "metadata": {},
   "outputs": [
    {
     "name": "stdout",
     "output_type": "stream",
     "text": [
      "Configure the rounding to round to the floor:\n",
      "3.333\n",
      "\n",
      "Configure the rounding to round to the ceiling:\n",
      "3.334\n"
     ]
    }
   ],
   "source": [
    "import decimal\n",
    "print(\"Configure the rounding to round to the floor:\")\n",
    "decimal.getcontext().prec = 4\n",
    "decimal.getcontext().rounding = decimal.ROUND_FLOOR\n",
    "print(decimal.Decimal(20) / decimal.Decimal(6))\n",
    "print(\"\\nConfigure the rounding to round to the ceiling:\")\n",
    "decimal.getcontext().prec = 4\n",
    "decimal.getcontext().rounding = decimal.ROUND_CEILING\n",
    "print(decimal.Decimal(20) / decimal.Decimal(6))\n"
   ]
  },
  {
   "cell_type": "code",
   "execution_count": null,
   "id": "ecb2ce26-b894-4709-948d-45798f6ebde2",
   "metadata": {},
   "outputs": [],
   "source": []
  },
  {
   "cell_type": "code",
   "execution_count": 11,
   "id": "e07a2518-ee72-4a95-93bc-5db69038100e",
   "metadata": {},
   "outputs": [
    {
     "name": "stdout",
     "output_type": "stream",
     "text": [
      "Original list:  [1, [2, 3, 4]]\n",
      "Copy of the said list:\n",
      "[1, [2, 3, 4]]\n",
      "Change the value of an element of the original list:\n"
     ]
    }
   ],
   "source": [
    "import copy\n",
    "nums_x = [1, [2, 3, 4]]\n",
    "print(\"Original list: \", nums_x)\n",
    "nums_y = copy.copy(nums_x)\n",
    "print(\"Copy of the said list:\")\n",
    "print(nums_y)\n",
    "print(\"Change the value of an element of the original list:\")\n",
    "\n"
   ]
  },
  {
   "cell_type": "code",
   "execution_count": null,
   "id": "d558fec5-60b8-4b91-b56c-31e28a36723d",
   "metadata": {},
   "outputs": [],
   "source": [
    "nums_x[1][1] = 10\n",
    "print(nums_x)\n",
    "print(\"Second list:\")\n",
    "print(nums_y)\n"
   ]
  }
 ],
 "metadata": {
  "kernelspec": {
   "display_name": "Python 3 (ipykernel)",
   "language": "python",
   "name": "python3"
  },
  "language_info": {
   "codemirror_mode": {
    "name": "ipython",
    "version": 3
   },
   "file_extension": ".py",
   "mimetype": "text/x-python",
   "name": "python",
   "nbconvert_exporter": "python",
   "pygments_lexer": "ipython3",
   "version": "3.13.5"
  }
 },
 "nbformat": 4,
 "nbformat_minor": 5
}
