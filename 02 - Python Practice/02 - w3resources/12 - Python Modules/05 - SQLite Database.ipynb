{
 "cells": [
  {
   "cell_type": "markdown",
   "id": "9867bb07-47b6-4b5b-9b0e-aaae7657423d",
   "metadata": {},
   "source": [
    "#### **1. SQLite DB Version**\n",
    "\n",
    "Write a Python program to create a SQLite database and connect with the database and print the version of the SQLite database."
   ]
  },
  {
   "cell_type": "code",
   "execution_count": 1,
   "id": "6037757c-de0a-4de2-a7cd-bbbd35747d32",
   "metadata": {},
   "outputs": [
    {
     "name": "stdout",
     "output_type": "stream",
     "text": [
      "\n",
      "Database created and connected to SQLite.\n",
      "\n",
      "SQLite Database Version is:  [('3.45.3',)]\n",
      "\n",
      "The SQLite connection is closed.\n"
     ]
    }
   ],
   "source": [
    "import sqlite3\n",
    "try:\n",
    "   sqlite_Connection = sqlite3.connect('temp.db')\n",
    "   conn = sqlite_Connection.cursor()\n",
    "   print(\"\\nDatabase created and connected to SQLite.\")\n",
    "   sqlite_select_Query = \"select sqlite_version();\"\n",
    "   conn.execute(sqlite_select_Query)\n",
    "   record = conn.fetchall()\n",
    "   print(\"\\nSQLite Database Version is: \", record)\n",
    "   conn.close()\n",
    "except sqlite3.Error as error:\n",
    "   print(\"\\nError while connecting to sqlite\", error)\n",
    "finally:\n",
    "   if (sqlite_Connection):\n",
    "       sqlite_Connection.close()\n",
    "       print(\"\\nThe SQLite connection is closed.\")\n"
   ]
  },
  {
   "cell_type": "code",
   "execution_count": 2,
   "id": "a9829524-69a3-424f-8ca5-9ccc482c6202",
   "metadata": {},
   "outputs": [
    {
     "name": "stdout",
     "output_type": "stream",
     "text": [
      "\n",
      "--- Student Records ---\n",
      "(1, 'Ishita', 90)\n",
      "(2, 'Zuli', 85)\n"
     ]
    }
   ],
   "source": [
    "import sqlite3\n",
    "\n",
    "# Connect to SQLite database (creates file if it doesn't exist)\n",
    "conn = sqlite3.connect('example.db')\n",
    "\n",
    "# Create a cursor object\n",
    "cursor = conn.cursor()\n",
    "\n",
    "# Create table\n",
    "cursor.execute('''\n",
    "CREATE TABLE IF NOT EXISTS students (\n",
    "    id INTEGER PRIMARY KEY,\n",
    "    name TEXT NOT NULL,\n",
    "    grade INTEGER\n",
    ")\n",
    "''')\n",
    "\n",
    "# Insert data\n",
    "cursor.execute(\"INSERT INTO students (name, grade) VALUES (?, ?)\", ('Ishita', 90))\n",
    "cursor.execute(\"INSERT INTO students (name, grade) VALUES (?, ?)\", ('Zuli', 85))\n",
    "\n",
    "# Commit the transaction\n",
    "conn.commit()\n",
    "\n",
    "# Query data\n",
    "cursor.execute(\"SELECT * FROM students\")\n",
    "rows = cursor.fetchall()\n",
    "\n",
    "print(\"\\n--- Student Records ---\")\n",
    "for row in rows:\n",
    "    print(row)\n",
    "\n",
    "# Close the connection\n",
    "conn.close()\n"
   ]
  }
 ],
 "metadata": {
  "kernelspec": {
   "display_name": "Python 3 (ipykernel)",
   "language": "python",
   "name": "python3"
  },
  "language_info": {
   "codemirror_mode": {
    "name": "ipython",
    "version": 3
   },
   "file_extension": ".py",
   "mimetype": "text/x-python",
   "name": "python",
   "nbconvert_exporter": "python",
   "pygments_lexer": "ipython3",
   "version": "3.13.5"
  }
 },
 "nbformat": 4,
 "nbformat_minor": 5
}
