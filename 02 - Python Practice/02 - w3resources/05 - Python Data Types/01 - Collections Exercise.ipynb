{
 "cells": [
  {
   "cell_type": "markdown",
   "id": "580bba2e-2c9a-439c-88e2-192d4757b479",
   "metadata": {},
   "source": [
    "### 1. Find Most Common Elements and Counts in a Text\n",
    "\n",
    "**Problem Statement:**\n",
    "\n",
    "Write a Python program to find the **most common characters** and their **counts** in a specified text.\n",
    "\n",
    "Original string: lkseropewdssafsdfafkpwe </br>\n",
    "Most common three characters of the said string:\n",
    "[('s', 4), ('e', 3), ('f', 3)]"
   ]
  },
  {
   "cell_type": "code",
   "execution_count": 7,
   "id": "0c24a454-7c16-474f-90bf-fffbecb8b1ef",
   "metadata": {},
   "outputs": [],
   "source": [
    "from collections import Counter\n",
    "\n",
    "def common_chars(txt, n=3):\n",
    "    return Counter(txt).most_common(n)"
   ]
  },
  {
   "cell_type": "code",
   "execution_count": 8,
   "id": "2f182716-b954-4d46-b05c-b9dbe29c40b5",
   "metadata": {},
   "outputs": [
    {
     "name": "stdout",
     "output_type": "stream",
     "text": [
      "[('s', 4), ('e', 3), ('f', 3)]\n"
     ]
    }
   ],
   "source": [
    "txt = \"lkseropewdssafsdfafkpwe\"\n",
    "print(common_chars(txt))"
   ]
  },
  {
   "cell_type": "markdown",
   "id": "27690921-c73b-4118-b4cc-461cc282d8a9",
   "metadata": {},
   "source": [
    "#### **4. Find occurrences of the 10 most common words in a text**\n",
    "\n",
    "Write a Python program to find the occurrences of the 10 most common words in a given text.\n",
    "\n",
    "Sample Output:\n",
    "[('Python', 6), ('the', 6), ('and', 5), ('We', 2), ('with', 2), ('The', 1), ('Software', 1), ('Foundation', 1), ('PSF', 1), ('is', 1)]"
   ]
  },
  {
   "cell_type": "code",
   "execution_count": 9,
   "id": "0f961d5f-e638-4e05-bd52-07a241610546",
   "metadata": {},
   "outputs": [],
   "source": [
    "from collections import Counter\n",
    "import re"
   ]
  },
  {
   "cell_type": "code",
   "execution_count": 10,
   "id": "1fc27df2-35cd-454a-9579-64678aefc010",
   "metadata": {},
   "outputs": [],
   "source": [
    "def most_common_word(text, n =4):\n",
    "    words = re.findall(r'\\b\\w+\\b', text)\n",
    "    return Counter(words).most_common(n)"
   ]
  },
  {
   "cell_type": "code",
   "execution_count": null,
   "id": "14103cd4-20d4-4614-80f2-4f2a606f974a",
   "metadata": {},
   "outputs": [],
   "source": [
    "    "
   ]
  }
 ],
 "metadata": {
  "kernelspec": {
   "display_name": "Python 3 (ipykernel)",
   "language": "python",
   "name": "python3"
  },
  "language_info": {
   "codemirror_mode": {
    "name": "ipython",
    "version": 3
   },
   "file_extension": ".py",
   "mimetype": "text/x-python",
   "name": "python",
   "nbconvert_exporter": "python",
   "pygments_lexer": "ipython3",
   "version": "3.13.5"
  }
 },
 "nbformat": 4,
 "nbformat_minor": 5
}
