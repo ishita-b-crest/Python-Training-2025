{
 "cells": [
  {
   "cell_type": "markdown",
   "id": "7b23858c-16d2-4951-95ce-b40429dd9bba",
   "metadata": {},
   "source": [
    "#### **1. Create an Enum object and show a member name and value**\n",
    "\n",
    "Write a Python program to create an Enum object and display a member name and value."
   ]
  },
  {
   "cell_type": "code",
   "execution_count": 2,
   "id": "b80372a7-88b7-4b45-ab1b-ec217c6c2414",
   "metadata": {},
   "outputs": [
    {
     "name": "stdout",
     "output_type": "stream",
     "text": [
      "Member name: Albania\n",
      "Member value: 355\n"
     ]
    }
   ],
   "source": [
    "from enum import Enum\n",
    "class Country(Enum):\n",
    "    Afghanistan = 93\n",
    "    Albania = 355\n",
    "    Algeria = 213\n",
    "    Andorra = 376\n",
    "    Angola = 244\n",
    "    Antarctica = 672\n",
    "print('Member name: {}'.format(Country.Albania.name))\n",
    "print('Member value: {}'.format(Country.Albania.value))\n"
   ]
  },
  {
   "cell_type": "code",
   "execution_count": null,
   "id": "14a88688-88b2-47fa-8124-8a971989ca8b",
   "metadata": {},
   "outputs": [],
   "source": []
  }
 ],
 "metadata": {
  "kernelspec": {
   "display_name": "Python 3 (ipykernel)",
   "language": "python",
   "name": "python3"
  },
  "language_info": {
   "codemirror_mode": {
    "name": "ipython",
    "version": 3
   },
   "file_extension": ".py",
   "mimetype": "text/x-python",
   "name": "python",
   "nbconvert_exporter": "python",
   "pygments_lexer": "ipython3",
   "version": "3.13.5"
  }
 },
 "nbformat": 4,
 "nbformat_minor": 5
}
