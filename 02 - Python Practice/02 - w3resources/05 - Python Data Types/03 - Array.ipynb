{
 "cells": [
  {
   "cell_type": "markdown",
   "id": "db809071-b54b-4bbb-ad0a-1ecba0a257f6",
   "metadata": {},
   "source": [
    "#### 1. Create an Array and Access Elements\n",
    "\n",
    "Write a Python program to create an array of 5 integers and display the array items. Access individual elements through indexes."
   ]
  },
  {
   "cell_type": "code",
   "execution_count": 3,
   "id": "f8f99efc-db97-4e8a-903b-3e1d141edc4c",
   "metadata": {},
   "outputs": [],
   "source": [
    "arr = [3,2,34,4,6]"
   ]
  },
  {
   "cell_type": "code",
   "execution_count": 4,
   "id": "dfebbb94-f8b8-4f2b-99c8-90fba78f7835",
   "metadata": {},
   "outputs": [
    {
     "name": "stdout",
     "output_type": "stream",
     "text": [
      "[3, 2, 34]\n"
     ]
    }
   ],
   "source": [
    "print(arr[:3])"
   ]
  },
  {
   "cell_type": "markdown",
   "id": "9ee1fb85-1ea4-4a1b-ad06-6e8030c575fb",
   "metadata": {},
   "source": [
    "#### **3. Reverse the Order of Items in an Array**\n",
    "\n",
    "Write a Python program to reverse the order of the items in the array."
   ]
  },
  {
   "cell_type": "code",
   "execution_count": 8,
   "id": "f60e360f-cd3d-4b98-8ad5-fe4b3a0d0eff",
   "metadata": {},
   "outputs": [
    {
     "name": "stdout",
     "output_type": "stream",
     "text": [
      "[5, 4, 3, 6, 4, 34, 2, 3]\n"
     ]
    }
   ],
   "source": [
    "arr = [3,2,34,4,6,3,4,5]\n",
    "print(arr[::-1])"
   ]
  },
  {
   "cell_type": "code",
   "execution_count": null,
   "id": "2d4177b6-7761-4ad4-8292-202b88606c2f",
   "metadata": {},
   "outputs": [],
   "source": []
  }
 ],
 "metadata": {
  "kernelspec": {
   "display_name": "Python 3 (ipykernel)",
   "language": "python",
   "name": "python3"
  },
  "language_info": {
   "codemirror_mode": {
    "name": "ipython",
    "version": 3
   },
   "file_extension": ".py",
   "mimetype": "text/x-python",
   "name": "python",
   "nbconvert_exporter": "python",
   "pygments_lexer": "ipython3",
   "version": "3.13.5"
  }
 },
 "nbformat": 4,
 "nbformat_minor": 5
}
