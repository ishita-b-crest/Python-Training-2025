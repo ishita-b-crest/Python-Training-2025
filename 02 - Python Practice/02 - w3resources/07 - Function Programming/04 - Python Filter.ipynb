{
 "cells": [
  {
   "cell_type": "markdown",
   "id": "0b808fff-a747-4057-bcf0-898fdd91173e",
   "metadata": {},
   "source": [
    "#### **1. Even Number Filter**\n",
    "\n",
    "Write a Python function that filters out even numbers from a list of integers using the filter function."
   ]
  },
  {
   "cell_type": "code",
   "execution_count": 1,
   "id": "4447c14d-f621-4161-b73b-2d5a28debce6",
   "metadata": {},
   "outputs": [],
   "source": [
    "def filter_even_nums(nums):\n",
    "\n",
    "    def is_odd(num):\n",
    "        return num % 2 != 0\n",
    "    odd_nums = list(filter(is_odd, nums))\n",
    "    return odd_nums"
   ]
  },
  {
   "cell_type": "code",
   "execution_count": 2,
   "id": "90e9ef97-5c7f-4ac4-9023-9029500fa571",
   "metadata": {},
   "outputs": [
    {
     "name": "stdout",
     "output_type": "stream",
     "text": [
      "Original numbers: [1, 2, 3, 4, 5, 6, 7, 8, 9, 10]\n",
      "After filters out even numbers from the said list of integers \n",
      "[1, 3, 5, 7, 9]\n"
     ]
    }
   ],
   "source": [
    "nums = [1, 2, 3, 4, 5, 6, 7, 8, 9, 10]\n",
    "print(\"Original numbers:\",nums)\n",
    "result = filter_even_nums(nums)\n",
    "print(\"After filters out even numbers from the said list of integers \")\n",
    "print(result) \n"
   ]
  }
 ],
 "metadata": {
  "kernelspec": {
   "display_name": "Python 3 (ipykernel)",
   "language": "python",
   "name": "python3"
  },
  "language_info": {
   "codemirror_mode": {
    "name": "ipython",
    "version": 3
   },
   "file_extension": ".py",
   "mimetype": "text/x-python",
   "name": "python",
   "nbconvert_exporter": "python",
   "pygments_lexer": "ipython3",
   "version": "3.13.5"
  }
 },
 "nbformat": 4,
 "nbformat_minor": 5
}
