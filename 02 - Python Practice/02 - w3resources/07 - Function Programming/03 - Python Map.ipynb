{
 "cells": [
  {
   "cell_type": "markdown",
   "id": "dc7b0f0e-6248-4f71-aabe-cf426ff59068",
   "metadata": {},
   "source": [
    "#### **1. List Addition and Difference Map**\n",
    "Write a Python program to add two given lists and find the difference between them. Use the map() function."
   ]
  },
  {
   "cell_type": "code",
   "execution_count": 1,
   "id": "859fb5f6-9bbe-4edc-93c4-59e54794a141",
   "metadata": {},
   "outputs": [],
   "source": [
    "\n",
    "def addition_subtrction(x, y):\n",
    "    return x + y, x - y"
   ]
  },
  {
   "cell_type": "code",
   "execution_count": 2,
   "id": "b52db843-6a74-4c75-919f-6b88f5bb3e08",
   "metadata": {},
   "outputs": [],
   "source": [
    "nums1 = [6, 5, 3, 9]\n",
    "nums2 = [0, 1, 7, 7]"
   ]
  },
  {
   "cell_type": "code",
   "execution_count": 3,
   "id": "cf7db46a-fbea-41e6-84e4-40305c38a435",
   "metadata": {},
   "outputs": [
    {
     "name": "stdout",
     "output_type": "stream",
     "text": [
      "Original lists:\n",
      "[6, 5, 3, 9]\n",
      "[0, 1, 7, 7]\n"
     ]
    }
   ],
   "source": [
    "print(\"Original lists:\")\n",
    "print(nums1)\n",
    "print(nums2)"
   ]
  },
  {
   "cell_type": "code",
   "execution_count": 5,
   "id": "d616858b-6969-4003-8138-330f0c2ae70d",
   "metadata": {},
   "outputs": [
    {
     "name": "stdout",
     "output_type": "stream",
     "text": [
      "Result:\n",
      "[(6, 6), (6, 4), (10, -4), (16, 2)]\n"
     ]
    }
   ],
   "source": [
    "result = map(addition_subtrction, nums1, nums2)\n",
    "print(\"Result:\")\n",
    "print(list(result))"
   ]
  },
  {
   "cell_type": "markdown",
   "id": "5a651afd-1ded-46cc-a4ff-a2d43d282a58",
   "metadata": {},
   "source": [
    "#### **Square Elements Map**\n",
    "\n",
    "Write a Python program to square the elements of a list using the map() function."
   ]
  },
  {
   "cell_type": "code",
   "execution_count": 7,
   "id": "663ea54b-43d4-4f42-be04-57e82ac8d5db",
   "metadata": {},
   "outputs": [],
   "source": [
    "\n",
    "def square_num(n):\n",
    "    return n * n"
   ]
  },
  {
   "cell_type": "code",
   "execution_count": 9,
   "id": "b6369a4b-2af9-45f2-bd22-57eb3cc56ab8",
   "metadata": {},
   "outputs": [],
   "source": [
    "nums = [4, 5, 2, 9]"
   ]
  },
  {
   "cell_type": "code",
   "execution_count": 10,
   "id": "cef96df5-1a62-444f-8a1c-00491d7b8da1",
   "metadata": {},
   "outputs": [
    {
     "name": "stdout",
     "output_type": "stream",
     "text": [
      "Original List:  [4, 5, 2, 9]\n"
     ]
    }
   ],
   "source": [
    "print(\"Original List: \", nums)"
   ]
  },
  {
   "cell_type": "code",
   "execution_count": 11,
   "id": "60bf9701-5d62-4340-9330-ad0ce0daac29",
   "metadata": {},
   "outputs": [],
   "source": [
    "result = map(square_num, nums)"
   ]
  },
  {
   "cell_type": "code",
   "execution_count": 12,
   "id": "94aea8ea-cfb1-46bf-9818-fd7775b46e60",
   "metadata": {},
   "outputs": [
    {
     "name": "stdout",
     "output_type": "stream",
     "text": [
      "Square the elements of the said list using map():\n",
      "[16, 25, 4, 81]\n"
     ]
    }
   ],
   "source": [
    "print(\"Square the elements of the said list using map():\")\n",
    "print(list(result))"
   ]
  },
  {
   "cell_type": "code",
   "execution_count": null,
   "id": "9421426c-71c4-42a0-aaa3-2f471789c3ce",
   "metadata": {},
   "outputs": [],
   "source": []
  }
 ],
 "metadata": {
  "kernelspec": {
   "display_name": "Python 3 (ipykernel)",
   "language": "python",
   "name": "python3"
  },
  "language_info": {
   "codemirror_mode": {
    "name": "ipython",
    "version": 3
   },
   "file_extension": ".py",
   "mimetype": "text/x-python",
   "name": "python",
   "nbconvert_exporter": "python",
   "pygments_lexer": "ipython3",
   "version": "3.13.5"
  }
 },
 "nbformat": 4,
 "nbformat_minor": 5
}
