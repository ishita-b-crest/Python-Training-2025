{
 "cells": [
  {
   "cell_type": "markdown",
   "id": "43ba3340-548b-4292-adc4-34bf4829a37a",
   "metadata": {},
   "source": [
    "#### **1. Async Print with Delay**\n",
    "Write a Python program that creates an asynchronous function to print \"Python Exercises!\" with a two second delay."
   ]
  },
  {
   "cell_type": "code",
   "execution_count": 6,
   "id": "7059d820-5b78-44be-b8f5-c82d46bc7fdc",
   "metadata": {},
   "outputs": [],
   "source": [
    "import asyncio\n",
    "import nest_asyncio"
   ]
  },
  {
   "cell_type": "code",
   "execution_count": 14,
   "id": "585ec7d1-642e-4c1d-9827-d184db3eb77a",
   "metadata": {},
   "outputs": [
    {
     "name": "stdout",
     "output_type": "stream",
     "text": [
      "Python!\n"
     ]
    }
   ],
   "source": [
    "nest_asyncio.apply()\n",
    "\n",
    "async def print_delayed_msg():\n",
    "    await asyncio.sleep(2)\n",
    "    print(\"Python!\")\n",
    "\n",
    "async def main():\n",
    "    await print_delayed_msg()\n",
    "\n",
    "await main()"
   ]
  },
  {
   "cell_type": "code",
   "execution_count": null,
   "id": "4ec9397d-3b9e-4ae3-8974-fd89663f03b3",
   "metadata": {},
   "outputs": [],
   "source": []
  },
  {
   "cell_type": "markdown",
   "id": "ff8af4cf-a632-478e-8019-6914b3dcef32",
   "metadata": {},
   "source": [
    "#### **2. Event Loop Number Printer**\n",
    "\n",
    "Write a Python program that creates an asyncio event loop and runs a coroutine that prints numbers from 1 to 7 with a delay of 1 second each."
   ]
  },
  {
   "cell_type": "code",
   "execution_count": 15,
   "id": "11157f98-7911-4440-9a2e-004f39436d95",
   "metadata": {},
   "outputs": [],
   "source": [
    "import asyncio"
   ]
  },
  {
   "cell_type": "code",
   "execution_count": 16,
   "id": "e29984b7-91cb-421f-8d9a-517bd9995265",
   "metadata": {},
   "outputs": [],
   "source": [
    "async def display_numbers():\n",
    "    for i in range(1, 8):\n",
    "        print(i)\n",
    "        await asyncio.sleep(5)"
   ]
  },
  {
   "cell_type": "code",
   "execution_count": 17,
   "id": "f8a17f75-2677-4b2b-966d-cb891d789bc5",
   "metadata": {},
   "outputs": [
    {
     "name": "stdout",
     "output_type": "stream",
     "text": [
      "1\n",
      "2\n",
      "3\n",
      "4\n",
      "5\n",
      "6\n",
      "7\n"
     ]
    }
   ],
   "source": [
    "asyncio.run(display_numbers())\n"
   ]
  },
  {
   "cell_type": "code",
   "execution_count": null,
   "id": "4b7671bc-6f6e-47a0-b67b-a35f4f7a0c72",
   "metadata": {},
   "outputs": [],
   "source": []
  }
 ],
 "metadata": {
  "kernelspec": {
   "display_name": "Python 3 (ipykernel)",
   "language": "python",
   "name": "python3"
  },
  "language_info": {
   "codemirror_mode": {
    "name": "ipython",
    "version": 3
   },
   "file_extension": ".py",
   "mimetype": "text/x-python",
   "name": "python",
   "nbconvert_exporter": "python",
   "pygments_lexer": "ipython3",
   "version": "3.13.5"
  }
 },
 "nbformat": 4,
 "nbformat_minor": 5
}
