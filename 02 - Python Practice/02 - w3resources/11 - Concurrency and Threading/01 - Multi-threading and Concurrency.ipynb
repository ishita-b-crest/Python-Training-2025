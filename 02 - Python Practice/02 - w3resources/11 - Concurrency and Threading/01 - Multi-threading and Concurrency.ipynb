{
 "cells": [
  {
   "cell_type": "markdown",
   "id": "350f8394-d066-4ee8-8dbc-6affdc88196b",
   "metadata": {},
   "source": [
    "#### **1. Multiple Threads Creation**\n",
    "Write a Python program to create multiple threads and print their names."
   ]
  },
  {
   "cell_type": "code",
   "execution_count": 1,
   "id": "e35802b2-6d41-49a7-9a91-62b89460d334",
   "metadata": {},
   "outputs": [],
   "source": [
    "import threading as th"
   ]
  },
  {
   "cell_type": "code",
   "execution_count": 2,
   "id": "b95a32d3-02e2-44a6-9647-ae9816259cc2",
   "metadata": {},
   "outputs": [],
   "source": [
    "def thread_name():\n",
    "    print(\"Curent thread name: \", th.current_thread().name)"
   ]
  },
  {
   "cell_type": "code",
   "execution_count": 3,
   "id": "26eaa5b3-7895-44b8-a7a8-3df43321cd05",
   "metadata": {},
   "outputs": [
    {
     "name": "stdout",
     "output_type": "stream",
     "text": [
      "Curent thread name:  Thread-3 (thread_name)\n",
      "Curent thread name:  Thread-4 (thread_name)\n",
      "Curent thread name:  Thread-5 (thread_name)\n",
      "Curent thread name:  Thread-6 (thread_name)\n",
      "Curent thread name:  Thread-7 (thread_name)\n",
      "Curent thread name:  Thread-8 (thread_name)\n",
      "Curent thread name:  Thread-9 (thread_name)\n"
     ]
    }
   ],
   "source": [
    "threads = []\n",
    "for i in range(7):\n",
    "    thread = th.Thread(target = thread_name)\n",
    "    threads.append(thread)\n",
    "    thread.start()\n",
    "\n",
    "for thread in threads:\n",
    "    thread.join()"
   ]
  },
  {
   "cell_type": "code",
   "execution_count": null,
   "id": "674c109c-ba8e-4622-8c7d-cc39396bcea3",
   "metadata": {},
   "outputs": [],
   "source": []
  },
  {
   "cell_type": "markdown",
   "id": "767d10bd-9c08-44d1-b472-ee4928f445e7",
   "metadata": {},
   "source": [
    "#### **3. Even and Odd Printer Threads**\n",
    "Write a Python program that creates two threads to find and print even and odd numbers from 30 to 50."
   ]
  },
  {
   "cell_type": "code",
   "execution_count": 4,
   "id": "8d066090-ea13-4aac-838f-f8d88ad9e940",
   "metadata": {},
   "outputs": [],
   "source": [
    "import threading as th\n"
   ]
  },
  {
   "cell_type": "code",
   "execution_count": 8,
   "id": "18393451-b36c-4c8a-b4ee-b081ef40442e",
   "metadata": {},
   "outputs": [],
   "source": [
    "def even_number():\n",
    "    print(\"List of even numbers:\")\n",
    "    for i in range(30,51,2):\n",
    "        print(i, end = \"  \")\n",
    "\n",
    "            "
   ]
  },
  {
   "cell_type": "code",
   "execution_count": 9,
   "id": "445ba4b2-432d-415b-89cc-7d58a02cec47",
   "metadata": {},
   "outputs": [],
   "source": [
    "def odd_number():\n",
    "    print(\"List of Odd numbers:\")\n",
    "    for i in range(31,51, 2):\n",
    "        print(i, end = \" \")"
   ]
  },
  {
   "cell_type": "code",
   "execution_count": 10,
   "id": "e312de27-4c74-4eaf-9d92-bcadf49b20d7",
   "metadata": {},
   "outputs": [],
   "source": [
    "even_thread = th.Thread(target = even_numbers)\n",
    "odd_thread = th.Thread(target= odd_number)"
   ]
  },
  {
   "cell_type": "code",
   "execution_count": 11,
   "id": "65af467d-11c4-4e3d-bc00-9c02b0ed1235",
   "metadata": {},
   "outputs": [
    {
     "name": "stdout",
     "output_type": "stream",
     "text": [
      "List of even numbers:\n",
      "30  32  34  36  38  40  42  44  46  48  50  List of Odd numbers:\n",
      "31 33 35 37 39 41 43 45 47 49 "
     ]
    }
   ],
   "source": [
    "even_thread.start()\n",
    "odd_thread.start()"
   ]
  },
  {
   "cell_type": "code",
   "execution_count": 12,
   "id": "23773bf7-8512-4d3d-a396-4889e6232ba8",
   "metadata": {},
   "outputs": [],
   "source": [
    "even_thread.join()\n",
    "odd_thread.join()"
   ]
  },
  {
   "cell_type": "code",
   "execution_count": null,
   "id": "b2db8d5d-6e56-42f6-a91a-450958189835",
   "metadata": {},
   "outputs": [],
   "source": []
  }
 ],
 "metadata": {
  "kernelspec": {
   "display_name": "Python 3 (ipykernel)",
   "language": "python",
   "name": "python3"
  },
  "language_info": {
   "codemirror_mode": {
    "name": "ipython",
    "version": 3
   },
   "file_extension": ".py",
   "mimetype": "text/x-python",
   "name": "python",
   "nbconvert_exporter": "python",
   "pygments_lexer": "ipython3",
   "version": "3.13.5"
  }
 },
 "nbformat": 4,
 "nbformat_minor": 5
}
