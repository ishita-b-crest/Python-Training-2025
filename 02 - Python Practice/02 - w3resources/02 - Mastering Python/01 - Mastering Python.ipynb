{
 "cells": [
  {
   "cell_type": "markdown",
   "id": "0621ce6a-1d70-477b-8e27-d33f72e29b21",
   "metadata": {},
   "source": [
    "#### **Exercise 1:**\n",
    "\n",
    "Create a list with values ranging from 0 to 9."
   ]
  },
  {
   "cell_type": "code",
   "execution_count": 1,
   "id": "fe610b3a-d973-47d8-a12f-73e8dd074505",
   "metadata": {},
   "outputs": [
    {
     "name": "stdout",
     "output_type": "stream",
     "text": [
      "[0, 1, 2, 3, 4, 5, 6, 7, 8, 9]\n"
     ]
    }
   ],
   "source": [
    "lst = list(range(10))\n",
    "print(lst)"
   ]
  },
  {
   "cell_type": "markdown",
   "id": "f360b1c6-5a5c-4f40-91e7-f61da979aed4",
   "metadata": {},
   "source": [
    "#### **Exercise 2:**\n",
    "\n",
    "Convert a list of integers to a list of strings."
   ]
  },
  {
   "cell_type": "code",
   "execution_count": 2,
   "id": "bc1a44d8-fe1e-41df-86cd-799c2a343a4a",
   "metadata": {},
   "outputs": [],
   "source": [
    "lst = [1,2,3,4,5]\n",
    "str_lst = list(map(str, lst))"
   ]
  },
  {
   "cell_type": "code",
   "execution_count": 3,
   "id": "8ed6578a-3ab3-439a-a5ae-2012a90ce23c",
   "metadata": {},
   "outputs": [
    {
     "name": "stdout",
     "output_type": "stream",
     "text": [
      "['1', '2', '3', '4', '5']\n"
     ]
    }
   ],
   "source": [
    "print(str_lst)"
   ]
  },
  {
   "cell_type": "markdown",
   "id": "21de0f32-8594-4190-8139-07214b0f759c",
   "metadata": {},
   "source": [
    "#### **Exercise 3:**\n",
    "\n",
    "Multiply all elements in a list by 2."
   ]
  },
  {
   "cell_type": "code",
   "execution_count": 4,
   "id": "1ecaf987-8833-4c1a-a479-809057831658",
   "metadata": {},
   "outputs": [],
   "source": [
    "lst = [1,2,3,4,5]\n",
    "multiplied_lst = [x*2 for x in lst]"
   ]
  },
  {
   "cell_type": "code",
   "execution_count": 5,
   "id": "7782a940-2f52-474b-80b1-db8b39ef2e2a",
   "metadata": {},
   "outputs": [
    {
     "name": "stdout",
     "output_type": "stream",
     "text": [
      "[2, 4, 6, 8, 10]\n"
     ]
    }
   ],
   "source": [
    "print(multiplied_lst)"
   ]
  },
  {
   "cell_type": "code",
   "execution_count": null,
   "id": "c56a4a5f-92d2-4138-a225-aec9a281f90f",
   "metadata": {},
   "outputs": [],
   "source": []
  }
 ],
 "metadata": {
  "kernelspec": {
   "display_name": "Python 3 (ipykernel)",
   "language": "python",
   "name": "python3"
  },
  "language_info": {
   "codemirror_mode": {
    "name": "ipython",
    "version": 3
   },
   "file_extension": ".py",
   "mimetype": "text/x-python",
   "name": "python",
   "nbconvert_exporter": "python",
   "pygments_lexer": "ipython3",
   "version": "3.13.5"
  }
 },
 "nbformat": 4,
 "nbformat_minor": 5
}
