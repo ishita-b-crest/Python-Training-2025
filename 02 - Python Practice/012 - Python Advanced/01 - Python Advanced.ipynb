{
 "cells": [
  {
   "cell_type": "markdown",
   "id": "84e23e2b-0cc7-4e52-99df-e1c367ffa3be",
   "metadata": {},
   "source": [
    "#### **1. Multi-Threaded Web Scraper**\n",
    "\n",
    "Write a Python program to implement a multi-threaded web scraper that respects robots.txt rules."
   ]
  },
  {
   "cell_type": "code",
   "execution_count": 1,
   "id": "0220cb8f-c923-4098-a9c2-5e07d9b5168f",
   "metadata": {},
   "outputs": [],
   "source": [
    "import requests"
   ]
  },
  {
   "cell_type": "code",
   "execution_count": 2,
   "id": "65c96e83-71ee-4ef8-8477-7b271c7a9618",
   "metadata": {},
   "outputs": [
    {
     "name": "stdout",
     "output_type": "stream",
     "text": [
      "[Thread-4] Fetched https://www.python.org | Title: Welcome to Python.org\n",
      "[Thread-5] Fetched https://www.wikipedia.org | Title: Wikipedia\n",
      "[Thread-3] Fetched https://example.com | Title: Example Domain\n"
     ]
    }
   ],
   "source": [
    "import threading\n",
    "import queue\n",
    "import requests\n",
    "from urllib.parse import urlparse\n",
    "from urllib.robotparser import RobotFileParser\n",
    "from bs4 import BeautifulSoup\n",
    "\n",
    "class WebScraperThread(threading.Thread):\n",
    "    def __init__(self, url_queue, user_agent=\"MyScraper\"):\n",
    "        threading.Thread.__init__(self)\n",
    "        self.url_queue = url_queue\n",
    "        self.user_agent = user_agent\n",
    "\n",
    "    def run(self):\n",
    "        while not self.url_queue.empty():\n",
    "            url = self.url_queue.get()\n",
    "            if self.allowed_by_robots(url):\n",
    "                try:\n",
    "                    response = requests.get(url, headers={\"User-Agent\": self.user_agent})\n",
    "                    if response.status_code == 200:\n",
    "                        soup = BeautifulSoup(response.text, \"html.parser\")\n",
    "                        print(f\"[{self.name}] Fetched {url} | Title: {soup.title.string if soup.title else 'N/A'}\")\n",
    "                except Exception as e:\n",
    "                    print(f\"[{self.name}] Error fetching {url}: {e}\")\n",
    "            else:\n",
    "                print(f\"[{self.name}] Skipping {url} (disallowed by robots.txt)\")\n",
    "            self.url_queue.task_done()\n",
    "\n",
    "    def allowed_by_robots(self, url):\n",
    "        parsed_url = urlparse(url)\n",
    "        robots_url = f\"{parsed_url.scheme}://{parsed_url.netloc}/robots.txt\"\n",
    "        rp = RobotFileParser()\n",
    "        rp.set_url(robots_url)\n",
    "        try:\n",
    "            rp.read()\n",
    "            return rp.can_fetch(self.user_agent, url)\n",
    "        except:\n",
    "            return False\n",
    "\n",
    "urls = [\n",
    "    \"https://example.com\",\n",
    "    \"https://www.python.org\",\n",
    "    \"https://www.wikipedia.org\"\n",
    "]\n",
    "\n",
    "url_queue = queue.Queue()\n",
    "for url in urls:\n",
    "    url_queue.put(url)\n",
    "\n",
    "threads = []\n",
    "for _ in range(4):\n",
    "    thread = WebScraperThread(url_queue)\n",
    "    thread.start()\n",
    "    threads.append(thread)\n",
    "\n",
    "for thread in threads:\n",
    "    thread.join()\n"
   ]
  },
  {
   "cell_type": "markdown",
   "id": "d733115d-41fa-4c69-927c-651b85e8e528",
   "metadata": {},
   "source": [
    "#### **Class-Based Decorator for Execution Time**\n",
    "\n",
    "Write a Python program to create a class-based decorator that logs the execution time of methods."
   ]
  },
  {
   "cell_type": "code",
   "execution_count": 4,
   "id": "9daba26b-72ff-4f20-b90a-1d62ff57d0ba",
   "metadata": {},
   "outputs": [],
   "source": [
    "import time\n",
    "\n",
    "class ExecutionTimer:\n",
    "    def __init__(self, func):\n",
    "        self.func = func\n",
    "\n",
    "    def __call__(self, *args, **kwargs):\n",
    "        start = time.time()\n",
    "        result = self.func(*args, **kwargs)\n",
    "        end = time.time()\n",
    "        print(f\"Execution time: {end - start:.6f} seconds\")\n",
    "        return result"
   ]
  },
  {
   "cell_type": "code",
   "execution_count": 5,
   "id": "0c755880-08a7-4c97-97ca-640cf45ab166",
   "metadata": {},
   "outputs": [
    {
     "name": "stdout",
     "output_type": "stream",
     "text": [
      "Execution time: 0.169099 seconds\n"
     ]
    },
    {
     "data": {
      "text/plain": [
       "499999500000"
      ]
     },
     "execution_count": 5,
     "metadata": {},
     "output_type": "execute_result"
    }
   ],
   "source": [
    "@ExecutionTimer\n",
    "def sample_function():\n",
    "    total = 0\n",
    "    for i in range(1000000):\n",
    "        total += i\n",
    "    return total\n",
    "\n",
    "sample_function()"
   ]
  },
  {
   "cell_type": "code",
   "execution_count": null,
   "id": "328d71b8-7bbe-4748-a810-657920624501",
   "metadata": {},
   "outputs": [],
   "source": []
  }
 ],
 "metadata": {
  "kernelspec": {
   "display_name": "Python 3 (ipykernel)",
   "language": "python",
   "name": "python3"
  },
  "language_info": {
   "codemirror_mode": {
    "name": "ipython",
    "version": 3
   },
   "file_extension": ".py",
   "mimetype": "text/x-python",
   "name": "python",
   "nbconvert_exporter": "python",
   "pygments_lexer": "ipython3",
   "version": "3.13.5"
  }
 },
 "nbformat": 4,
 "nbformat_minor": 5
}
