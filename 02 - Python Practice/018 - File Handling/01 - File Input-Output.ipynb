{
 "cells": [
  {
   "cell_type": "markdown",
   "id": "f28a9b8d-33f6-4a06-927f-3a32fd68fdd5",
   "metadata": {},
   "source": [
    "#### **File to List**\n",
    "\n",
    "Write a Python program to read a file line by line and store it into a list."
   ]
  },
  {
   "cell_type": "code",
   "execution_count": 1,
   "id": "789ac985-ce53-48b0-8faf-95c30fee08d6",
   "metadata": {},
   "outputs": [],
   "source": [
    "def file_read(fname):\n",
    "    with open(fname) as f:\n",
    "        content_list = f.readlines()\n",
    "        print(content_list)\n"
   ]
  },
  {
   "cell_type": "code",
   "execution_count": 4,
   "id": "1cfa1e83-5bf4-462a-8d9c-d15f5addbfda",
   "metadata": {},
   "outputs": [
    {
     "name": "stdout",
     "output_type": "stream",
     "text": [
      "['Both the border collection and each separate border have similar attributes like color, line style, line width, distance from text, and optional shadow. They are represented by properties of the same name. You can achieve different border types by combining the property values']\n"
     ]
    }
   ],
   "source": [
    "file_read('test.txt')"
   ]
  },
  {
   "cell_type": "markdown",
   "id": "e3b9181f-75a2-405e-a025-3420dabb7af3",
   "metadata": {},
   "source": [
    "#### **Append Text and Display**"
   ]
  },
  {
   "cell_type": "code",
   "execution_count": 17,
   "id": "11a03cdc-8bc9-47d3-a96e-5d51dd523289",
   "metadata": {},
   "outputs": [],
   "source": [
    "def file_read(fname):\n",
    "    from itertools import islice\n",
    "    with open(fname, 'w') as myfile:\n",
    "        myfile.write(\"python\")\n",
    "        myfile.write(\"\\nJava Exercise\")\n",
    "    txt = open(fname)\n",
    "    print(txt.read())"
   ]
  },
  {
   "cell_type": "code",
   "execution_count": 18,
   "id": "262adc3f-dd0c-4cd8-a8cb-39b2873f3a8b",
   "metadata": {},
   "outputs": [
    {
     "name": "stdout",
     "output_type": "stream",
     "text": [
      "python\n",
      "Java Exercise\n"
     ]
    }
   ],
   "source": [
    "file_read('test.txt')"
   ]
  },
  {
   "cell_type": "code",
   "execution_count": null,
   "id": "4a25bc46-9e33-40db-a71f-18ae00f3800b",
   "metadata": {},
   "outputs": [],
   "source": []
  },
  {
   "cell_type": "code",
   "execution_count": null,
   "id": "29623b2f-556e-4133-b660-49d282e0e579",
   "metadata": {},
   "outputs": [],
   "source": []
  }
 ],
 "metadata": {
  "kernelspec": {
   "display_name": "Python 3 (ipykernel)",
   "language": "python",
   "name": "python3"
  },
  "language_info": {
   "codemirror_mode": {
    "name": "ipython",
    "version": 3
   },
   "file_extension": ".py",
   "mimetype": "text/x-python",
   "name": "python",
   "nbconvert_exporter": "python",
   "pygments_lexer": "ipython3",
   "version": "3.13.5"
  }
 },
 "nbformat": 4,
 "nbformat_minor": 5
}
