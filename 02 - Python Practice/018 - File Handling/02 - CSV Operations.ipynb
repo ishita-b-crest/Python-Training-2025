{
 "cells": [
  {
   "cell_type": "markdown",
   "id": "7d3c2118-79bc-45f2-a32d-ab5297e3dfc5",
   "metadata": {},
   "source": [
    "#### **Read Each Row from given CSV File**"
   ]
  },
  {
   "cell_type": "code",
   "execution_count": 1,
   "id": "e4b77987-75fd-486c-8bae-0eff60c89b8d",
   "metadata": {},
   "outputs": [],
   "source": [
    "import csv"
   ]
  },
  {
   "cell_type": "code",
   "execution_count": 2,
   "id": "eca62a18-c818-4f4f-9d43-6f05a1642733",
   "metadata": {},
   "outputs": [
    {
     "name": "stdout",
     "output_type": "stream",
     "text": [
      "department_id,department_name,manager_id,location_id\n",
      "10,Administration,200.0,1700\n",
      "20,Marketing,201.0,1800\n",
      "30,Purchasing,114.0,1700\n",
      "40,Human, Resources,203.0,2400\n",
      "50,Shipping,121.0,1500\n",
      "60,IT,103.0,1400\n",
      "70,Public, Relations,204.0,2700\n",
      "80,Sales,145.0,2500\n",
      "90,Executive,100.0,1700\n",
      "100,Finance,108.0,1700\n",
      "110,Accounting,205.0,1700\n",
      "120,Treasury,,1700\n",
      "130,Corporate, Tax,,1700\n",
      "140,Control, And, Credit,,1700\n",
      "150,Shareholder, Services,,1700\n",
      "160,Benefits,,1700\n",
      "170,Manufacturing,,1700\n",
      "180,Construction,,1700\n",
      "190,Contracting,,1700\n",
      "200,Operations,,1700\n",
      "210,IT, Support,,1700\n",
      "220,NOC,,1700\n",
      "230,IT, Helpdesk,,1700\n",
      "240,Government, Sales,,1700\n",
      "250,Retail, Sales,,1700\n",
      "260,Recruiting,,1700\n",
      "270,Payroll,,1700\n"
     ]
    }
   ],
   "source": [
    "with open('departments.csv', newline ='') as csvfile:\n",
    "    data = csv.reader(csvfile, delimiter = ' ', quotechar='|')\n",
    "    for row in data:\n",
    "        print(', '.join(row))"
   ]
  },
  {
   "cell_type": "markdown",
   "id": "9febc755-95f7-43d6-b2de-85e8e99c20d8",
   "metadata": {},
   "source": [
    "#### **Read a given CSV file as a dictionary**"
   ]
  },
  {
   "cell_type": "code",
   "execution_count": 3,
   "id": "3fed9e4e-f2bd-4332-8546-af72feb90758",
   "metadata": {},
   "outputs": [],
   "source": [
    "import csv"
   ]
  },
  {
   "cell_type": "code",
   "execution_count": 4,
   "id": "ffa3494c-e924-4040-a7e6-b1a0a4700585",
   "metadata": {},
   "outputs": [],
   "source": [
    "data = csv.DictReader(open(\"departments.csv\"))"
   ]
  },
  {
   "cell_type": "code",
   "execution_count": 6,
   "id": "9696c6f9-4829-4285-b595-e7a2954d6d5f",
   "metadata": {},
   "outputs": [
    {
     "name": "stdout",
     "output_type": "stream",
     "text": [
      "CSV File as a Dictonary:\n",
      "{'department_id': '10', 'department_name': 'Administration', 'manager_id': '200.0', 'location_id': '1700'}\n",
      "{'department_id': '20', 'department_name': 'Marketing', 'manager_id': '201.0', 'location_id': '1800'}\n",
      "{'department_id': '30', 'department_name': 'Purchasing', 'manager_id': '114.0', 'location_id': '1700'}\n",
      "{'department_id': '40', 'department_name': 'Human Resources', 'manager_id': '203.0', 'location_id': '2400'}\n",
      "{'department_id': '50', 'department_name': 'Shipping', 'manager_id': '121.0', 'location_id': '1500'}\n",
      "{'department_id': '60', 'department_name': 'IT', 'manager_id': '103.0', 'location_id': '1400'}\n",
      "{'department_id': '70', 'department_name': 'Public Relations', 'manager_id': '204.0', 'location_id': '2700'}\n",
      "{'department_id': '80', 'department_name': 'Sales', 'manager_id': '145.0', 'location_id': '2500'}\n",
      "{'department_id': '90', 'department_name': 'Executive', 'manager_id': '100.0', 'location_id': '1700'}\n",
      "{'department_id': '100', 'department_name': 'Finance', 'manager_id': '108.0', 'location_id': '1700'}\n",
      "{'department_id': '110', 'department_name': 'Accounting', 'manager_id': '205.0', 'location_id': '1700'}\n",
      "{'department_id': '120', 'department_name': 'Treasury', 'manager_id': '', 'location_id': '1700'}\n",
      "{'department_id': '130', 'department_name': 'Corporate Tax', 'manager_id': '', 'location_id': '1700'}\n",
      "{'department_id': '140', 'department_name': 'Control And Credit', 'manager_id': '', 'location_id': '1700'}\n",
      "{'department_id': '150', 'department_name': 'Shareholder Services', 'manager_id': '', 'location_id': '1700'}\n",
      "{'department_id': '160', 'department_name': 'Benefits', 'manager_id': '', 'location_id': '1700'}\n",
      "{'department_id': '170', 'department_name': 'Manufacturing', 'manager_id': '', 'location_id': '1700'}\n",
      "{'department_id': '180', 'department_name': 'Construction', 'manager_id': '', 'location_id': '1700'}\n",
      "{'department_id': '190', 'department_name': 'Contracting', 'manager_id': '', 'location_id': '1700'}\n",
      "{'department_id': '200', 'department_name': 'Operations', 'manager_id': '', 'location_id': '1700'}\n",
      "{'department_id': '210', 'department_name': 'IT Support', 'manager_id': '', 'location_id': '1700'}\n",
      "{'department_id': '220', 'department_name': 'NOC', 'manager_id': '', 'location_id': '1700'}\n",
      "{'department_id': '230', 'department_name': 'IT Helpdesk', 'manager_id': '', 'location_id': '1700'}\n",
      "{'department_id': '240', 'department_name': 'Government Sales', 'manager_id': '', 'location_id': '1700'}\n",
      "{'department_id': '250', 'department_name': 'Retail Sales', 'manager_id': '', 'location_id': '1700'}\n",
      "{'department_id': '260', 'department_name': 'Recruiting', 'manager_id': '', 'location_id': '1700'}\n",
      "{'department_id': '270', 'department_name': 'Payroll', 'manager_id': '', 'location_id': '1700'}\n"
     ]
    }
   ],
   "source": [
    "print(\"CSV File as a Dictonary:\")\n",
    "for row in data:\n",
    "    print(row)"
   ]
  },
  {
   "cell_type": "code",
   "execution_count": null,
   "id": "0d5c0b40-a47c-45f4-bf14-38386ce5fc07",
   "metadata": {},
   "outputs": [],
   "source": []
  }
 ],
 "metadata": {
  "kernelspec": {
   "display_name": "Python 3 (ipykernel)",
   "language": "python",
   "name": "python3"
  },
  "language_info": {
   "codemirror_mode": {
    "name": "ipython",
    "version": 3
   },
   "file_extension": ".py",
   "mimetype": "text/x-python",
   "name": "python",
   "nbconvert_exporter": "python",
   "pygments_lexer": "ipython3",
   "version": "3.13.5"
  }
 },
 "nbformat": 4,
 "nbformat_minor": 5
}
