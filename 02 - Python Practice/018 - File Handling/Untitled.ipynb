{
 "cells": [
  {
   "cell_type": "code",
   "execution_count": 1,
   "id": "422e76a0-d8aa-4103-ad7d-bac14ef86e2c",
   "metadata": {},
   "outputs": [
    {
     "name": "stdout",
     "output_type": "stream",
     "text": [
      "    department_id       department_name  manager_id  location_id\n",
      "0              10        Administration       200.0         1700\n",
      "1              20             Marketing       201.0         1800\n",
      "2              30            Purchasing       114.0         1700\n",
      "3              40       Human Resources       203.0         2400\n",
      "4              50              Shipping       121.0         1500\n",
      "5              60                    IT       103.0         1400\n",
      "6              70      Public Relations       204.0         2700\n",
      "7              80                 Sales       145.0         2500\n",
      "8              90             Executive       100.0         1700\n",
      "9             100               Finance       108.0         1700\n",
      "10            110            Accounting       205.0         1700\n",
      "11            120              Treasury         NaN         1700\n",
      "12            130         Corporate Tax         NaN         1700\n",
      "13            140    Control And Credit         NaN         1700\n",
      "14            150  Shareholder Services         NaN         1700\n",
      "15            160              Benefits         NaN         1700\n",
      "16            170         Manufacturing         NaN         1700\n",
      "17            180          Construction         NaN         1700\n",
      "18            190           Contracting         NaN         1700\n",
      "19            200            Operations         NaN         1700\n",
      "20            210            IT Support         NaN         1700\n",
      "21            220                   NOC         NaN         1700\n",
      "22            230           IT Helpdesk         NaN         1700\n",
      "23            240      Government Sales         NaN         1700\n",
      "24            250          Retail Sales         NaN         1700\n",
      "25            260            Recruiting         NaN         1700\n",
      "26            270               Payroll         NaN         1700\n"
     ]
    }
   ],
   "source": [
    "import pandas as pd\n",
    "from io import StringIO\n",
    "\n",
    "# Input data as a multiline string\n",
    "data = \"\"\"department_id,department_name,manager_id,location_id\n",
    "10,Administration,200,1700\n",
    "20,Marketing,201,1800\n",
    "30,Purchasing,114,1700\n",
    "40,Human Resources,203,2400\n",
    "50,Shipping,121,1500\n",
    "60,IT,103,1400\n",
    "70,Public Relations,204,2700\n",
    "80,Sales,145,2500\n",
    "90,Executive,100,1700\n",
    "100,Finance,108,1700\n",
    "110,Accounting,205,1700\n",
    "120,Treasury,,1700\n",
    "130,Corporate Tax,,1700\n",
    "140,Control And Credit,,1700\n",
    "150,Shareholder Services,,1700\n",
    "160,Benefits,,1700\n",
    "170,Manufacturing,,1700\n",
    "180,Construction,,1700\n",
    "190,Contracting,,1700\n",
    "200,Operations,,1700\n",
    "210,IT Support,,1700\n",
    "220,NOC,,1700\n",
    "230,IT Helpdesk,,1700\n",
    "240,Government Sales,,1700\n",
    "250,Retail Sales,,1700\n",
    "260,Recruiting,,1700\n",
    "270,Payroll,,1700\"\"\"\n",
    "\n",
    "# Create DataFrame using StringIO\n",
    "df = pd.read_csv(StringIO(data))\n",
    "\n",
    "# Display the DataFrame\n",
    "print(df)\n",
    "\n",
    "# Save to CSV file\n",
    "df.to_csv(\"departments.csv\", index=False)\n"
   ]
  },
  {
   "cell_type": "code",
   "execution_count": null,
   "id": "12a6e368-0a4f-4f4b-a33b-12a21d598678",
   "metadata": {},
   "outputs": [],
   "source": []
  }
 ],
 "metadata": {
  "kernelspec": {
   "display_name": "Python 3 (ipykernel)",
   "language": "python",
   "name": "python3"
  },
  "language_info": {
   "codemirror_mode": {
    "name": "ipython",
    "version": 3
   },
   "file_extension": ".py",
   "mimetype": "text/x-python",
   "name": "python",
   "nbconvert_exporter": "python",
   "pygments_lexer": "ipython3",
   "version": "3.13.5"
  }
 },
 "nbformat": 4,
 "nbformat_minor": 5
}
