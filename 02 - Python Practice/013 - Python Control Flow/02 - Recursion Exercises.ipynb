{
 "cells": [
  {
   "cell_type": "markdown",
   "id": "661d26de-a7ec-4b8c-9afb-35bf652e7eea",
   "metadata": {},
   "source": [
    "#### **1. Sum of List Using Recursion**\n",
    "\n",
    "Write a Python program to calculate the sum of a list of numbers using recursion."
   ]
  },
  {
   "cell_type": "code",
   "execution_count": 6,
   "id": "ea126078-1c46-4a0c-a789-1f75c36851ac",
   "metadata": {},
   "outputs": [],
   "source": [
    "def list_sum(nums):\n",
    "    if len(nums) == 1:\n",
    "        return nums[0]\n",
    "    else:\n",
    "        return nums[0] + list_sum(nums[1:])"
   ]
  },
  {
   "cell_type": "code",
   "execution_count": 7,
   "id": "7df90b7f-5a66-48da-a2c9-d3e09243d70f",
   "metadata": {},
   "outputs": [
    {
     "name": "stdout",
     "output_type": "stream",
     "text": [
      "24\n"
     ]
    }
   ],
   "source": [
    "\n",
    "print(list_sum([2,4,5,6,7]))"
   ]
  },
  {
   "cell_type": "markdown",
   "id": "c9884797-3c65-4f62-8019-755f69ea61bf",
   "metadata": {},
   "source": [
    "#### **2. Factorial Using Recursion**\n",
    "\n",
    "Write a Python program to get the factorial of a non-negative integer using recursion."
   ]
  },
  {
   "cell_type": "code",
   "execution_count": 8,
   "id": "1c7ebeb5-423d-4935-a5fc-b6c47c326f7f",
   "metadata": {},
   "outputs": [],
   "source": [
    "def factorial(n):\n",
    "    if n <= 1:\n",
    "        return 1\n",
    "\n",
    "    else:\n",
    "        return n * factorial(n-1)"
   ]
  },
  {
   "cell_type": "code",
   "execution_count": 9,
   "id": "2928cb3e-bd25-4482-9c39-48d04e701583",
   "metadata": {},
   "outputs": [
    {
     "name": "stdout",
     "output_type": "stream",
     "text": [
      "120\n"
     ]
    }
   ],
   "source": [
    "print(factorial(5))"
   ]
  }
 ],
 "metadata": {
  "kernelspec": {
   "display_name": "Python 3 (ipykernel)",
   "language": "python",
   "name": "python3"
  },
  "language_info": {
   "codemirror_mode": {
    "name": "ipython",
    "version": 3
   },
   "file_extension": ".py",
   "mimetype": "text/x-python",
   "name": "python",
   "nbconvert_exporter": "python",
   "pygments_lexer": "ipython3",
   "version": "3.13.5"
  }
 },
 "nbformat": 4,
 "nbformat_minor": 5
}
