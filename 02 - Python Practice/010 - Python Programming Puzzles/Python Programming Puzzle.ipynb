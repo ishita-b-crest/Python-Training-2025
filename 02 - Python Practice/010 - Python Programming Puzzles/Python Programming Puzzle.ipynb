{
 "cells": [
  {
   "cell_type": "markdown",
   "id": "77af1e62-7cc9-4b3a-a713-29f5b361448c",
   "metadata": {},
   "source": [
    "### 1. Check Nineteen and Five Occurrences\n",
    "\n",
    "**Problem Statement:**\n",
    "\n",
    "Write a Python program to check if a given list of integers contains:\n",
    "- Exactly **two occurrences of 19**, and\n",
    "- **At least three occurrences of 5**.\n",
    "\n",
    "The program should return `True` if both conditions are satisfied, otherwise return `False`.\n",
    "\n",
    "**Examples:**\n",
    "\n",
    "```python\n",
    "Input: [19, 19, 15, 5, 3, 5, 5, 2]\n",
    "Output: True\n",
    "\n",
    "Input: [19, 15, 15, 5, 3, 3, 5, 2]\n",
    "Output: False\n",
    "\n",
    "Input: [19, 19, 5, 5, 5, 5, 5]\n",
    "Output: True\n"
   ]
  },
  {
   "cell_type": "code",
   "execution_count": 1,
   "id": "b8b72c18-12e0-4106-86c3-f51d559f5558",
   "metadata": {},
   "outputs": [
    {
     "name": "stdout",
     "output_type": "stream",
     "text": [
      "True\n"
     ]
    }
   ],
   "source": [
    "def check_occurrences(nums):\n",
    "    return nums.count(19) == 2 and nums.count(5) >= 3\n",
    "\n",
    "print(check_occurrences([19, 19, 15, 5, 3, 5, 5, 2]))"
   ]
  },
  {
   "cell_type": "code",
   "execution_count": 2,
   "id": "f654e1dc-61ec-414b-a0c6-502ec53235a5",
   "metadata": {},
   "outputs": [
    {
     "name": "stdout",
     "output_type": "stream",
     "text": [
      "False\n"
     ]
    }
   ],
   "source": [
    "print(check_occurrences([19, 15, 15, 5, 3, 3, 5, 2]))"
   ]
  },
  {
   "cell_type": "code",
   "execution_count": 3,
   "id": "e177053c-98c7-4eb1-a8d6-9871a82f6ed7",
   "metadata": {},
   "outputs": [
    {
     "name": "stdout",
     "output_type": "stream",
     "text": [
      "True\n"
     ]
    }
   ],
   "source": [
    "print(check_occurrences([19, 19, 5, 5, 5, 5, 5]))"
   ]
  },
  {
   "cell_type": "markdown",
   "id": "ecb32bc0-5255-48dc-8268-071c4692a232",
   "metadata": {},
   "source": [
    "### 2. Fifth Element and List Length Check\n",
    "\n",
    "**Problem Statement:**\n",
    "\n",
    "Write a Python program that:\n",
    "- Accepts a list of integers.\n",
    "- Checks if the **length of the list is exactly 8**.\n",
    "- Checks if the **fifth element (index 4)** occurs **exactly 3 times** in the list.\n",
    "\n",
    "The program should return `True` if **both conditions** are met, otherwise `False`.\n",
    "\n",
    "**Examples:**\n",
    "\n",
    "```python\n",
    "Input: [19, 19, 15, 5, 5, 5, 1, 2]\n",
    "Output: True\n",
    "\n",
    "Input: [19, 15, 5, 7, 5, 5, 2]\n",
    "Output: False\n",
    "\n",
    "Input: [11, 12, 14, 13, 14, 13, 15, 14]\n",
    "Output: True\n",
    "\n",
    "Input: [19, 15, 11, 7, 5, 6, 2]\n",
    "Output: False\n"
   ]
  },
  {
   "cell_type": "code",
   "execution_count": 4,
   "id": "9afb9dba-bc9f-461f-bc54-b820435641b0",
   "metadata": {},
   "outputs": [],
   "source": [
    "def check_list(nums):\n",
    "    return len(nums) == 8 and nums.count(nums[4]) == 3"
   ]
  },
  {
   "cell_type": "code",
   "execution_count": 6,
   "id": "7f23c02e-595b-44c1-8082-0ddd90ec4ecf",
   "metadata": {},
   "outputs": [
    {
     "name": "stdout",
     "output_type": "stream",
     "text": [
      "True\n"
     ]
    }
   ],
   "source": [
    "\n",
    "print(check_list([19,19,15, 5, 5, 5, 1, 2]))\n",
    "\n"
   ]
  },
  {
   "cell_type": "code",
   "execution_count": 9,
   "id": "de7f0784-0a89-4bb1-84b2-782d446d0edb",
   "metadata": {},
   "outputs": [
    {
     "name": "stdout",
     "output_type": "stream",
     "text": [
      "False\n",
      "True\n",
      "False\n"
     ]
    }
   ],
   "source": [
    "print(check_list([19, 15, 5, 7, 5, 5, 2]))\n",
    "print(check_list([11, 12, 14, 13, 14, 13, 15, 14]))\n",
    "print(check_list([19, 15, 11, 7, 5, 6, 2]))"
   ]
  },
  {
   "cell_type": "code",
   "execution_count": null,
   "id": "ef0790ec-cf78-4215-bf36-10c3c34707ad",
   "metadata": {},
   "outputs": [],
   "source": []
  }
 ],
 "metadata": {
  "kernelspec": {
   "display_name": "Python 3 (ipykernel)",
   "language": "python",
   "name": "python3"
  },
  "language_info": {
   "codemirror_mode": {
    "name": "ipython",
    "version": 3
   },
   "file_extension": ".py",
   "mimetype": "text/x-python",
   "name": "python",
   "nbconvert_exporter": "python",
   "pygments_lexer": "ipython3",
   "version": "3.13.5"
  }
 },
 "nbformat": 4,
 "nbformat_minor": 5
}
