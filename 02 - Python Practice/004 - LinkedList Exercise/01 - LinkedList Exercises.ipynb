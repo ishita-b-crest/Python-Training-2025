{
 "cells": [
  {
   "cell_type": "code",
   "execution_count": 1,
   "id": "f43b4c51-5457-496f-8ce5-0f9f9851081d",
   "metadata": {},
   "outputs": [],
   "source": [
    "class Node: \n",
    "    def __init__(self,data):    \n",
    "        self.data = data;\n",
    "        self.next = None;\n",
    "        \n"
   ]
  },
  {
   "cell_type": "code",
   "execution_count": 3,
   "id": "41a5f157-4a1e-4d8d-85fb-aeffbf906164",
   "metadata": {},
   "outputs": [],
   "source": [
    "class CircularLinkedList:\n",
    "    \n",
    "    def __init__(self):    \n",
    "        self.head = Node(None);    \n",
    "        self.tail = Node(None);    \n",
    "        self.head.next = self.tail;    \n",
    "        self.tail.next = self.head;    \n",
    "        \n",
    "    def add(self,data):    \n",
    "        \n",
    "        newNode = Node(data); \n",
    "        \n",
    "        if self.head.data is None:    \n",
    "            self.head = newNode;\n",
    "            self.tail = newNode;\n",
    "            newNode.next = self.head;\n",
    "        else:\n",
    "            self.tail.next = newNode;\n",
    "            self.tail = newNode;\n",
    "            self.tail.next = self.head;    \n",
    "                \n",
    "    def findNode(self,element):\n",
    "        current = self.head;\n",
    "        i = 1;\n",
    "        f = 0;    \n",
    "        if(self.head == None):\n",
    "            print(\"Empty list\"); \n",
    "        else:\n",
    "            while(True):     \n",
    "                if(current.data ==  element): \n",
    "                    f += 1;    \n",
    "                    break;\n",
    "                \n",
    "                current = current.next;    \n",
    "                i = i + 1;    \n",
    "                if(current == self.head):    \n",
    "                    break;    \n",
    "            \n",
    "            if(f > 0):    \n",
    "                print(\"element is present\");    \n",
    "            else:    \n",
    "                print(\"element is not present\");    \n",
    "                "
   ]
  },
  {
   "cell_type": "code",
   "execution_count": 4,
   "id": "afd308a9-7da0-4643-b965-661bd204a058",
   "metadata": {},
   "outputs": [
    {
     "name": "stdout",
     "output_type": "stream",
     "text": [
      "element is present\n",
      "element is not present\n"
     ]
    }
   ],
   "source": [
    "if __name__ == '__main__':\n",
    "    circularLinkedList = CircularLinkedList();\n",
    "      \n",
    "    circularLinkedList.add(1);\n",
    "    circularLinkedList.add(2);\n",
    "    circularLinkedList.add(3);\n",
    "    circularLinkedList.add(4);\n",
    "    circularLinkedList.add(5);\n",
    "    circularLinkedList.add(6);\n",
    "\n",
    "    circularLinkedList.findNode(2);    \n",
    "    circularLinkedList.findNode(7);"
   ]
  },
  {
   "cell_type": "markdown",
   "id": "2ee7c081-4120-4549-a89d-12c80a3e5149",
   "metadata": {},
   "source": [
    "#### **Pretty Print Linked List in Python**"
   ]
  },
  {
   "cell_type": "code",
   "execution_count": 5,
   "id": "0ed79b9a-0470-461e-bada-51f69728e65f",
   "metadata": {},
   "outputs": [],
   "source": [
    "class Node:\n",
    "    def __init__(self, val = None):\n",
    "        self.val = val\n",
    "        self.next = None\n",
    "\n"
   ]
  },
  {
   "cell_type": "code",
   "execution_count": 6,
   "id": "0fd8033b-5d54-441f-a1d1-6f33e3fe0540",
   "metadata": {},
   "outputs": [],
   "source": [
    "class LinkedList:\n",
    "    def __init__(self, head = None):\n",
    "        self.head = head\n",
    "\n",
    "    def __str__(self):\n",
    "        res = \"\"\n",
    "\n",
    "        ptr = self.head\n",
    "\n",
    "        while ptr:\n",
    "            res += str(ptr.val) + \", \"\n",
    "            ptr = ptr.next\n",
    "\n",
    "        res = res.strip(\", \")\n",
    "\n",
    "        if len(res):\n",
    "            return \"[\" + res + \"]\"\n",
    "        else:\n",
    "            return \"[]\""
   ]
  },
  {
   "cell_type": "code",
   "execution_count": 9,
   "id": "f4979d79-6489-4c3b-9a23-8d7e8fdd8350",
   "metadata": {},
   "outputs": [
    {
     "name": "stdout",
     "output_type": "stream",
     "text": [
      "[10, 15, 20]\n"
     ]
    }
   ],
   "source": [
    "if __name__ == \"__main__\":\n",
    "    \n",
    "    l1 = LinkedList()\n",
    "\n",
    "    node1 = Node(10)\n",
    "    node2 = Node(15)\n",
    "    node3 = Node(20)\n",
    "\n",
    "    l1.head= node1\n",
    "    node1.next = node2\n",
    "    node2.next = node3\n",
    "\n",
    "    print(l1)"
   ]
  },
  {
   "cell_type": "code",
   "execution_count": null,
   "id": "bc4b5d77-9aeb-49cb-9e8f-9ede22afff2e",
   "metadata": {},
   "outputs": [],
   "source": []
  },
  {
   "cell_type": "markdown",
   "id": "689172c0-5dc5-47d0-af68-9745f8a8a046",
   "metadata": {},
   "source": [
    "#### **Stack using Doubly Linked List**"
   ]
  },
  {
   "cell_type": "code",
   "execution_count": 15,
   "id": "5c8e2b16-208b-46c4-acd0-e60debf7740d",
   "metadata": {},
   "outputs": [],
   "source": [
    "class Node:\n",
    "    def __init__(self, data):\n",
    "        self.data = data\n",
    "        self.next = None\n",
    "        self.prev = None\n",
    "\n",
    "class Stack:\n",
    "    def __init__(self):\n",
    "        self.head = None\n",
    "\n",
    "    def push(self, data):\n",
    "        if self.head is None:\n",
    "            self.head = Node(data)\n",
    "        else:\n",
    "            new_node = Node(data)\n",
    "            self.head.prev = new_node\n",
    "            new_node.next = self.head\n",
    "            new_node.prev = None\n",
    "            self.head = new_node\n",
    "\n",
    "    def pop(self):\n",
    "        if self.head is None:\n",
    "            return None\n",
    "        elif self.head.next is None:\n",
    "            temp = self.head.data\n",
    "            self.head = None\n",
    "            return temp\n",
    "        else:\n",
    "            temp = self.head.data\n",
    "            self.head = self.head.next\n",
    "            self.head.prev = None\n",
    "            return temp\n",
    "            \n",
    "\n",
    "    def top(self):\n",
    "        return self.head.data\n",
    "\n",
    "    def size(self):\n",
    "        temp = self.head\n",
    "        count = 0\n",
    "        while temp is not None:\n",
    "            count +=1\n",
    "            temp = temp.next\n",
    "        return count\n",
    "\n",
    "    def isEmpty(self):\n",
    "        return self.head is None\n",
    "\n",
    "    def printstack(self):\n",
    "        print(\"Stack elements are: \")\n",
    "        temp = self.head\n",
    "        while temp is not None:\n",
    "            print(temp.data, end = \" ->\")\n",
    "            temp = temp.next\n",
    "        print(\"None\")\n",
    "\n",
    "        "
   ]
  },
  {
   "cell_type": "code",
   "execution_count": 17,
   "id": "9d29495b-91bd-4dcb-ad86-985acdda11a3",
   "metadata": {},
   "outputs": [
    {
     "name": "stdout",
     "output_type": "stream",
     "text": [
      "Stack operations using Doubly LinkedList\n",
      "Stack elements are: \n",
      "21 ->21 ->23 ->50 ->10 ->None\n",
      "Top Element is:  21\n",
      "Size of the stack is 5\n",
      "Stack elements are: \n",
      "23 ->50 ->10 ->None\n",
      "\n",
      "Stack is empty: False\n"
     ]
    }
   ],
   "source": [
    "if __name__ == '__main__':\n",
    "    stack = Stack()\n",
    "\n",
    "    print(\"Stack operations using Doubly LinkedList\")\n",
    "    stack.push(10)\n",
    "    stack.push(50)\n",
    "    stack.push(23)\n",
    "    stack.push(21)\n",
    "    stack.push(21)\n",
    "\n",
    "\n",
    "    stack.printstack()\n",
    "    print(\"Top Element is: \", stack.top())\n",
    "    print(\"Size of the stack is\", stack.size())\n",
    "\n",
    "    stack.pop()\n",
    "    stack.pop()\n",
    "\n",
    "    stack.printstack()\n",
    "    print(\"\\nStack is empty:\", stack.isEmpty())"
   ]
  },
  {
   "cell_type": "markdown",
   "id": "abc301de-633a-4394-8a9f-3c397522fbee",
   "metadata": {},
   "source": [
    "#### **Queue using LinkedList**"
   ]
  },
  {
   "cell_type": "code",
   "execution_count": 20,
   "id": "7b36904a-7f8a-4b15-900d-785409382818",
   "metadata": {},
   "outputs": [],
   "source": [
    "class Node:\n",
    "    def __init__(self, data):\n",
    "        self.data = data\n",
    "        self.next = None\n",
    "\n",
    "class Queue:\n",
    "    def __init__(self):\n",
    "        self.front = None\n",
    "        self.rear = None\n",
    "\n",
    "    def enqueue(self, data):\n",
    "        new_node = Node(data)\n",
    "        if self.rear is None:\n",
    "            self.front = self.rear = new_node\n",
    "        else:\n",
    "            self.rear.next = new_node\n",
    "            self.rear = new_node\n",
    "\n",
    "    def dequeue(self):\n",
    "        if self.front is None:\n",
    "            print(\"Empty Queue\")\n",
    "            return None\n",
    "        temp = self.front\n",
    "        self.front = self.front.next\n",
    "\n",
    "        if self.front is None:\n",
    "            self.rear = None\n",
    "        return temp.data\n",
    "\n",
    "    def peek(self):\n",
    "        if self.front is None:\n",
    "            print(\"Empty Queue\")\n",
    "            return None\n",
    "        return self.front.data\n",
    "\n",
    "    def isEmpty(self):\n",
    "        return self.front is None\n",
    "\n",
    "    def size(self):\n",
    "        cnt = 0\n",
    "        curr = self.front\n",
    "        while curr is not None:\n",
    "            cnt += 1\n",
    "            curr = curr.next\n",
    "        return cnt\n",
    "\n",
    "    def printqueue(self):\n",
    "        print(\"queue elements are: \")\n",
    "        curr = self.front\n",
    "        while curr:\n",
    "            print(curr.data, end = \" -> \")\n",
    "            curr = curr.next\n",
    "        print(\"None\")\n",
    "\n",
    "        "
   ]
  },
  {
   "cell_type": "code",
   "execution_count": 21,
   "id": "b99aaf61-38ca-4e76-99f4-345a055e3fc5",
   "metadata": {},
   "outputs": [
    {
     "name": "stdout",
     "output_type": "stream",
     "text": [
      "Queue operations using Linked List\n",
      "queue elements are: \n",
      "10 -> 20 -> 30 -> 40 -> None\n",
      "Front element is: 10\n",
      "Queue size is: 4\n",
      "queue elements are: \n",
      "30 -> 40 -> None\n",
      "Queue is empty: False\n"
     ]
    }
   ],
   "source": [
    "if __name__ == \"__main__\":\n",
    "    q = Queue()\n",
    "    print(\"Queue operations using Linked List\")\n",
    "    q.enqueue(10)\n",
    "    q.enqueue(20)\n",
    "    q.enqueue(30)\n",
    "    q.enqueue(40)\n",
    "\n",
    "    q.printqueue()\n",
    "    print(\"Front element is:\", q.peek())\n",
    "    print(\"Queue size is:\", q.size())\n",
    "\n",
    "    q.dequeue()\n",
    "    q.dequeue()\n",
    "\n",
    "    q.printqueue()\n",
    "    print(\"Queue is empty:\", q.isEmpty())\n",
    "  "
   ]
  },
  {
   "cell_type": "markdown",
   "id": "cb96b363-a1e0-4e3f-a1b3-fc70c78d5ff9",
   "metadata": {},
   "source": [
    "#### **Find middle of a linkedlist using one traversal**"
   ]
  },
  {
   "cell_type": "code",
   "execution_count": 22,
   "id": "63489846-a641-4340-be2c-5568b31dd29f",
   "metadata": {},
   "outputs": [],
   "source": [
    "class Node:\n",
    "    def __init__(self, data):\n",
    "        self.data = data\n",
    "        self.next = None\n"
   ]
  },
  {
   "cell_type": "code",
   "execution_count": 23,
   "id": "88b2e93a-7ee1-4c39-859c-b4faf5253091",
   "metadata": {},
   "outputs": [],
   "source": [
    "class LinkedList:\n",
    "    def __init__(self):\n",
    "        self.head = None\n",
    "\n",
    "    def insert(self, data):\n",
    "        if not self.head:\n",
    "            self.head = Node(data)\n",
    "        else:\n",
    "            temp = self.head\n",
    "            while temp.next:\n",
    "                temp = temp.next\n",
    "            temp.next = Node(data)\n",
    "\n",
    "    def find_middle(self):\n",
    "        slow = self.head\n",
    "        fast = self.head\n",
    "\n",
    "        while fast and fast.next:\n",
    "            slow = slow.next\n",
    "            fast = fast.next.next\n",
    "\n",
    "        if slow:\n",
    "            return slow.data\n",
    "        return None\n",
    "\n",
    "    def printList(self):\n",
    "        temp = self.head\n",
    "        print(\"Linked list is:\")\n",
    "        while temp:\n",
    "            print(temp.data, end=\" -> \")\n",
    "            temp = temp.next\n",
    "        print(\"None\")\n",
    "\n"
   ]
  },
  {
   "cell_type": "code",
   "execution_count": 24,
   "id": "0fe1280e-76f2-483c-bfa5-0c96833818bf",
   "metadata": {},
   "outputs": [
    {
     "name": "stdout",
     "output_type": "stream",
     "text": [
      "Linked list is:\n",
      "1 -> 2 -> 3 -> 4 -> 5 -> None\n",
      "Middle element is: 3\n"
     ]
    }
   ],
   "source": [
    "if __name__ == '__main__':\n",
    "    ll = LinkedList()\n",
    "    for value in [1, 2, 3, 4, 5]:\n",
    "        ll.insert(value)\n",
    "\n",
    "    ll.printList()\n",
    "    middle = ll.find_middle()\n",
    "    print(\"Middle element is:\", middle)"
   ]
  },
  {
   "cell_type": "code",
   "execution_count": null,
   "id": "76ef887d-0155-4821-a82b-1a8685712f8f",
   "metadata": {},
   "outputs": [],
   "source": []
  }
 ],
 "metadata": {
  "kernelspec": {
   "display_name": "Python 3 (ipykernel)",
   "language": "python",
   "name": "python3"
  },
  "language_info": {
   "codemirror_mode": {
    "name": "ipython",
    "version": 3
   },
   "file_extension": ".py",
   "mimetype": "text/x-python",
   "name": "python",
   "nbconvert_exporter": "python",
   "pygments_lexer": "ipython3",
   "version": "3.13.5"
  }
 },
 "nbformat": 4,
 "nbformat_minor": 5
}
