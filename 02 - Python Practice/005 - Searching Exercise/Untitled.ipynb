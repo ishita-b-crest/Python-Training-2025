{
 "cells": [
  {
   "cell_type": "code",
   "execution_count": 14,
   "id": "84e558a7-ae1a-4384-9d0a-8881cf38ed6c",
   "metadata": {},
   "outputs": [],
   "source": [
    "def constructlps(pat, lps):\n",
    "    len_ = 0\n",
    "    m = len(pat)\n",
    "\n",
    "    lps[0] = 0\n",
    "\n",
    "    i = 1\n",
    "    while i < len(pat):\n",
    "        if pat[i] == pat[len_]:\n",
    "            len_ += 1\n",
    "            lps[i] = len_\n",
    "            i += 1\n",
    "        else:\n",
    "            if len_ != 0:\n",
    "                len_ = lps[len_ - 1]\n",
    "            else:\n",
    "                lps[i] = 0\n",
    "                i += 1\n",
    "\n",
    "\n",
    "def search(pat, txt):\n",
    "    n = len(txt)\n",
    "    m = len(pat)\n",
    "\n",
    "    lps = [0] * m\n",
    "    res = []\n",
    "\n",
    "    constructlps(pat, lps)\n",
    "\n",
    "    j=0\n",
    "    i=0\n",
    "\n",
    "\n",
    "    while i < n:\n",
    "\n",
    "        if txt[i] == pat[j]:\n",
    "            i += 1\n",
    "            j += 1\n",
    "\n",
    "            if j == m:\n",
    "                res.append(i - j)\n",
    "                j=lps[j - 1]\n",
    "        else:            \n",
    "            if j != 0:\n",
    "                j = lps[j - 1]\n",
    "            else:\n",
    "                i += 1\n",
    "\n",
    "    return res"
   ]
  },
  {
   "cell_type": "code",
   "execution_count": 15,
   "id": "d71f4953-9cc7-4651-b9dc-4198b30799e4",
   "metadata": {},
   "outputs": [
    {
     "name": "stdout",
     "output_type": "stream",
     "text": [
      "0 9 12 "
     ]
    }
   ],
   "source": [
    "if __name__ == \"__main__\":\n",
    "    txt = \"aabaacaadaabaaba\"\n",
    "    pat = \"aaba\"\n",
    "\n",
    "    res = search(pat, txt)\n",
    "    for i in range(len(res)):\n",
    "        print(res[i], end=\" \")"
   ]
  },
  {
   "cell_type": "code",
   "execution_count": null,
   "id": "fcb3e77d-b534-4174-b5e6-de9f2ddd993a",
   "metadata": {},
   "outputs": [],
   "source": []
  },
  {
   "cell_type": "markdown",
   "id": "52c8ba1a-efd0-443e-b233-311815d156ac",
   "metadata": {},
   "source": [
    "#### **Rabin-Karp Algorithm**"
   ]
  },
  {
   "cell_type": "code",
   "execution_count": 22,
   "id": "e2d6593d-2519-4ad2-92b1-afd32564aca8",
   "metadata": {},
   "outputs": [],
   "source": [
    "d = 256\n",
    "\n",
    "def search(pat, txt, q):\n",
    "    M = len(pat)\n",
    "    N = len(txt)\n",
    "    i = 0\n",
    "    j = 0\n",
    "    p = 0\n",
    "    t = 0\n",
    "    h = 1\n",
    "\n",
    "    for i in range(M - 1):\n",
    "        h = (h * d) % q\n",
    "\n",
    "    for i in range(M):\n",
    "        p = (d * p + ord(pat[i])) % q\n",
    "        t = (d * t + ord(txt[i])) % q\n",
    "\n",
    "    for i in range(N-M + 1):\n",
    "        if p == t:\n",
    "            for j in range(M):\n",
    "                if txt[i + j] != pat[j]:\n",
    "                    break\n",
    "\n",
    "\n",
    "            j += 1\n",
    "\n",
    "\n",
    "            if j == M:\n",
    "                print(\"Pattern at index \" +str(i))\n",
    "\n",
    "        if i < N-M:\n",
    "            t = (d*(t-ord(txt[i])*h) + ord(txt[i + M]))% q\n",
    "\n",
    "            if t < 0:\n",
    "                t = t + q\n",
    "\n",
    "    \n",
    "\n",
    "    \n",
    "    "
   ]
  },
  {
   "cell_type": "code",
   "execution_count": 24,
   "id": "d16c66cc-4411-45e8-b227-6a39d0c1ccee",
   "metadata": {},
   "outputs": [
    {
     "name": "stdout",
     "output_type": "stream",
     "text": [
      "Pattern at index 0\n",
      "Pattern at index 8\n"
     ]
    }
   ],
   "source": [
    "\n",
    "txt = \"GEEKSFORGEEKS\"\n",
    "pat = \"GEEK\"\n",
    "q = 11\n",
    "search(pat, txt, q)"
   ]
  },
  {
   "cell_type": "code",
   "execution_count": null,
   "id": "6f5a641d-eaa2-42cd-9037-5d90972ec42d",
   "metadata": {},
   "outputs": [],
   "source": []
  },
  {
   "cell_type": "code",
   "execution_count": null,
   "id": "778fe970-60dd-478d-b91d-b35eb3c5afe8",
   "metadata": {},
   "outputs": [],
   "source": []
  }
 ],
 "metadata": {
  "kernelspec": {
   "display_name": "Python 3 (ipykernel)",
   "language": "python",
   "name": "python3"
  },
  "language_info": {
   "codemirror_mode": {
    "name": "ipython",
    "version": 3
   },
   "file_extension": ".py",
   "mimetype": "text/x-python",
   "name": "python",
   "nbconvert_exporter": "python",
   "pygments_lexer": "ipython3",
   "version": "3.13.5"
  }
 },
 "nbformat": 4,
 "nbformat_minor": 5
}
