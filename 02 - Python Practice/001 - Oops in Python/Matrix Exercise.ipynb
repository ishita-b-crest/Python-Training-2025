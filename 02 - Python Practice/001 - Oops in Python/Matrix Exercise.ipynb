{
 "cells": [
  {
   "cell_type": "markdown",
   "id": "e3c7aa0c-3d0e-4b74-97c0-0891749d15b6",
   "metadata": {},
   "source": [
    "### **Assigning Subsequent Rows to Matrix first row elements**"
   ]
  },
  {
   "cell_type": "code",
   "execution_count": 1,
   "id": "7e58b670-5fe6-42f5-b751-e55656c8a71b",
   "metadata": {},
   "outputs": [],
   "source": [
    "list1 = [[1,2,3],[4,5,6],[7,8,9],[0,1,2]]"
   ]
  },
  {
   "cell_type": "code",
   "execution_count": 2,
   "id": "b62d4b8c-5eb6-4f2c-a83d-64afe044f0b8",
   "metadata": {},
   "outputs": [
    {
     "name": "stdout",
     "output_type": "stream",
     "text": [
      "[[1, 2, 3], [4, 5, 6], [7, 8, 9], [0, 1, 2]]\n"
     ]
    }
   ],
   "source": [
    "print(str(list1))"
   ]
  },
  {
   "cell_type": "code",
   "execution_count": 3,
   "id": "4788672a-3f43-452e-96f0-2ed0c6e163b4",
   "metadata": {},
   "outputs": [],
   "source": [
    "result = {list1[0][ele] : list1[ele+1] for ele in range(len(list1)-1)}"
   ]
  },
  {
   "cell_type": "code",
   "execution_count": 4,
   "id": "d88567bd-eaf6-49f8-b1fb-62b06e729c6e",
   "metadata": {},
   "outputs": [
    {
     "name": "stdout",
     "output_type": "stream",
     "text": [
      "{1: [4, 5, 6], 2: [7, 8, 9], 3: [0, 1, 2]}\n"
     ]
    }
   ],
   "source": [
    "print(str(result))"
   ]
  },
  {
   "cell_type": "code",
   "execution_count": null,
   "id": "67ac9641-11cc-430c-887e-7bad71e8ddcb",
   "metadata": {},
   "outputs": [],
   "source": []
  },
  {
   "cell_type": "markdown",
   "id": "0ef4e168-abdb-4499-b154-b4dc1954fd0c",
   "metadata": {},
   "source": [
    "### **Adding and Subtracting Matrices in Python**"
   ]
  },
  {
   "cell_type": "code",
   "execution_count": 5,
   "id": "35994a13-3ad6-4c8d-b678-17666ff20efb",
   "metadata": {},
   "outputs": [],
   "source": [
    "import numpy as np\n",
    "\n",
    "mat1 = np.array([[1,2,3],[4,5,6],[7,8,9]])\n",
    "mat2 = np.array([[9,8,7],[6,5,4],[3,2,1]])\n",
    "\n",
    "result =  np.add(mat1, mat2)"
   ]
  },
  {
   "cell_type": "code",
   "execution_count": 6,
   "id": "fc535381-0d66-49f9-b4c5-7465d0328f97",
   "metadata": {},
   "outputs": [
    {
     "data": {
      "text/plain": [
       "array([[10, 10, 10],\n",
       "       [10, 10, 10],\n",
       "       [10, 10, 10]])"
      ]
     },
     "execution_count": 6,
     "metadata": {},
     "output_type": "execute_result"
    }
   ],
   "source": [
    "result"
   ]
  },
  {
   "cell_type": "code",
   "execution_count": 7,
   "id": "e884ea71-d832-4551-bcee-7b3a06eec052",
   "metadata": {},
   "outputs": [],
   "source": [
    "res = np.subtract(mat2, mat1)"
   ]
  },
  {
   "cell_type": "code",
   "execution_count": 8,
   "id": "95f348b7-0bc8-489e-8c72-0261e5eedab0",
   "metadata": {},
   "outputs": [
    {
     "data": {
      "text/plain": [
       "array([[ 8,  6,  4],\n",
       "       [ 2,  0, -2],\n",
       "       [-4, -6, -8]])"
      ]
     },
     "execution_count": 8,
     "metadata": {},
     "output_type": "execute_result"
    }
   ],
   "source": [
    "res"
   ]
  },
  {
   "cell_type": "markdown",
   "id": "9864d365-d1b2-4bf1-afee-8c23fb0dcba6",
   "metadata": {},
   "source": [
    "### **Program to Multiply Two Matrices**"
   ]
  },
  {
   "cell_type": "code",
   "execution_count": 15,
   "id": "35263017-7626-49df-b4ca-c39b614121cd",
   "metadata": {},
   "outputs": [],
   "source": [
    "a = [[1,2],[3,4]]\n",
    "b = [[2,1],[4,3]]\n",
    "\n",
    "res = [[0,0],[0,0]]"
   ]
  },
  {
   "cell_type": "code",
   "execution_count": 16,
   "id": "0071d175-8700-4b6f-8bd0-53011135e0d2",
   "metadata": {},
   "outputs": [],
   "source": [
    "for i in range(len(a)):\n",
    "    for j in range(len(b[0])):\n",
    "        #result[i][j] = 0\n",
    "        for k in range(len(b)):\n",
    "            res[i][j] += a[i][k] * b[k][j]"
   ]
  },
  {
   "cell_type": "code",
   "execution_count": 17,
   "id": "d998f264-f143-480e-b5b8-5504398a4659",
   "metadata": {},
   "outputs": [
    {
     "name": "stdout",
     "output_type": "stream",
     "text": [
      "[10, 7]\n",
      "[22, 15]\n"
     ]
    }
   ],
   "source": [
    "for row in res:\n",
    "    print(row)"
   ]
  },
  {
   "cell_type": "code",
   "execution_count": null,
   "id": "bc580610-c71c-472f-9b4e-1976c4621244",
   "metadata": {},
   "outputs": [],
   "source": []
  },
  {
   "cell_type": "markdown",
   "id": "25fa6bc6-a3bb-484e-98bb-299e08c807c4",
   "metadata": {},
   "source": [
    "### **Transpose a matrix in Single line**"
   ]
  },
  {
   "cell_type": "code",
   "execution_count": 19,
   "id": "ad394eef-d290-4beb-8d5f-3892e8e18d96",
   "metadata": {},
   "outputs": [],
   "source": [
    "m = [[1, 2], [3, 4], [5, 6]]\n",
    "res = [[m[j][i] for j in range(len(m))] for i in range(len(m[0]))]"
   ]
  },
  {
   "cell_type": "code",
   "execution_count": 20,
   "id": "d28fff71-b666-45eb-be2c-1086624badac",
   "metadata": {},
   "outputs": [
    {
     "name": "stdout",
     "output_type": "stream",
     "text": [
      "[1, 3, 5]\n",
      "[2, 4, 6]\n"
     ]
    }
   ],
   "source": [
    "for row in res:\n",
    "    print(row)"
   ]
  },
  {
   "cell_type": "markdown",
   "id": "346dc55d-e3ae-439a-9553-1b2559a95fe5",
   "metadata": {},
   "source": [
    "### **Group similar elements into Matrix**"
   ]
  },
  {
   "cell_type": "code",
   "execution_count": 1,
   "id": "f3ad87e1-f23b-41e6-a2e3-cc94385c0c4a",
   "metadata": {},
   "outputs": [],
   "source": [
    "list1 = [1, 3, 4, 4, 2, 3]"
   ]
  },
  {
   "cell_type": "code",
   "execution_count": 2,
   "id": "3b491d7f-e67a-4813-ac82-2545c5a8e29a",
   "metadata": {},
   "outputs": [],
   "source": [
    "res = []"
   ]
  },
  {
   "cell_type": "code",
   "execution_count": 3,
   "id": "b784b44d-ab7d-4efa-a736-464300e54b34",
   "metadata": {},
   "outputs": [
    {
     "name": "stdout",
     "output_type": "stream",
     "text": [
      "[[1], [3, 3], [4, 4], [2]]\n"
     ]
    }
   ],
   "source": [
    "for i in list1:\n",
    "    found = False\n",
    "\n",
    "    for j in range(len(res)):\n",
    "        if i in res[j]:\n",
    "            res[j].append(i)\n",
    "            found = True\n",
    "            break\n",
    "    if not found:\n",
    "        res.append([i])\n",
    "\n",
    "\n",
    "print(str(res))"
   ]
  },
  {
   "cell_type": "code",
   "execution_count": null,
   "id": "4fb72608-9766-423b-a2ab-badab03b38de",
   "metadata": {},
   "outputs": [],
   "source": []
  }
 ],
 "metadata": {
  "kernelspec": {
   "display_name": "Python 3 (ipykernel)",
   "language": "python",
   "name": "python3"
  },
  "language_info": {
   "codemirror_mode": {
    "name": "ipython",
    "version": 3
   },
   "file_extension": ".py",
   "mimetype": "text/x-python",
   "name": "python",
   "nbconvert_exporter": "python",
   "pygments_lexer": "ipython3",
   "version": "3.13.5"
  }
 },
 "nbformat": 4,
 "nbformat_minor": 5
}
