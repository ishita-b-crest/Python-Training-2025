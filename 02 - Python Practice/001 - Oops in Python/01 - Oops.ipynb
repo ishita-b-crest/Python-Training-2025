{
 "cells": [
  {
   "cell_type": "markdown",
   "id": "c34cab10-c25e-439f-928d-05954d10f26f",
   "metadata": {},
   "source": [
    "### Class and Objects in Python "
   ]
  },
  {
   "cell_type": "code",
   "execution_count": 19,
   "id": "96c00f6e-8dd0-476a-97b5-ca503fa4cbfa",
   "metadata": {},
   "outputs": [
    {
     "name": "stdout",
     "output_type": "stream",
     "text": [
      "<class 'str'>\n",
      "<class '__main__.Computer'>\n",
      "i5, 16gb, 1TB\n",
      "None\n"
     ]
    }
   ],
   "source": [
    "class Computer:\n",
    "    \n",
    "\n",
    "    \n",
    "    def config(self):\n",
    "        print(\"i5, 16gb, 1TB\")\n",
    "\n",
    "a = '8'\n",
    "print(type(a)) \n",
    "\n",
    "\n",
    "com1 = Computer()\n",
    "com2 = Computer()\n",
    "\n",
    "print(type(com1))  \n",
    "\n",
    "print(com1.config())"
   ]
  },
  {
   "cell_type": "code",
   "execution_count": 14,
   "id": "e135bdb3-3dbe-47cc-a278-085e1dc0c6a7",
   "metadata": {},
   "outputs": [
    {
     "name": "stdout",
     "output_type": "stream",
     "text": [
      "i5, 16gb, 1TB\n",
      "i5, 16gb, 1TB\n"
     ]
    }
   ],
   "source": [
    "Computer.config(com1)\n",
    "Computer.config(com2)\n"
   ]
  },
  {
   "cell_type": "markdown",
   "id": "23371fd2-d130-43b1-a260-7f7d8d0a47e4",
   "metadata": {},
   "source": [
    "### The init Methods"
   ]
  },
  {
   "cell_type": "code",
   "execution_count": 23,
   "id": "7e32c72f-128e-4e7a-afcd-3567dad6840c",
   "metadata": {},
   "outputs": [
    {
     "name": "stdout",
     "output_type": "stream",
     "text": [
      "<class 'str'>\n",
      "<class '__main__.Computer'>\n",
      "i4, 8gb, 1TB\n",
      "None\n"
     ]
    }
   ],
   "source": [
    "class Computer:\n",
    "    \n",
    "    def __init__(self, cpu, ram, storage):\n",
    "        self.cpu = cpu\n",
    "        self.ram = ram\n",
    "        self.storage = storage\n",
    "    \n",
    "    def config(self):\n",
    "        print(f\"{self.cpu}, {self.ram}, {self.storage}\")\n",
    "\n",
    "a = '8'\n",
    "print(type(a)) \n",
    "\n",
    "\n",
    "com1 = Computer('i4','8gb','1TB')\n",
    "com2 = Computer('i4','8gb','1TB')\n",
    "\n",
    "print(type(com1))  \n",
    "\n",
    "print(com1.config())"
   ]
  },
  {
   "cell_type": "markdown",
   "id": "de57af5a-d42e-42a8-8e70-c15c11c96a43",
   "metadata": {},
   "source": [
    "### Contructor, Self and Comparing Objects  && Types of Variables"
   ]
  },
  {
   "cell_type": "code",
   "execution_count": 36,
   "id": "fb62b543-94de-4a56-a824-fc4d813b7410",
   "metadata": {},
   "outputs": [
    {
     "name": "stdout",
     "output_type": "stream",
     "text": [
      "They are different.\n",
      "Raahi\n",
      "Crest\n"
     ]
    }
   ],
   "source": [
    "class Computer:\n",
    "    def __init__(self):\n",
    "        self.name = \"Crest\"\n",
    "        self.age = 20\n",
    "\n",
    "    def update(self):\n",
    "        self.age = 30\n",
    "\n",
    "    def compare(self, other):\n",
    "        if self.age == other.age:\n",
    "            return True\n",
    "        else:\n",
    "            return False\n",
    "        \n",
    "\n",
    "c1 = Computer()\n",
    "c1.age = 30\n",
    "c2 = Computer()\n",
    "\n",
    "c1.name = \"Raahi\"\n",
    "c1.age = 21\n",
    "\n",
    "if c1.compare(c2):\n",
    "    print(\"They are same.\")\n",
    "else:\n",
    "    print(\"They are different.\")\n",
    "\n",
    "print(c1.name)\n",
    "print(c2.name)"
   ]
  },
  {
   "cell_type": "code",
   "execution_count": 37,
   "id": "73476da6-c75e-4964-b863-4679017f8bf9",
   "metadata": {},
   "outputs": [
    {
     "name": "stdout",
     "output_type": "stream",
     "text": [
      "bmw 1 4\n",
      "bmw 10 4\n"
     ]
    }
   ],
   "source": [
    "class Car:\n",
    "\n",
    "    wheels = 4\n",
    "    def __init__(self):\n",
    "        self.mil = 10\n",
    "        self.com = 'bmw'\n",
    "\n",
    "\n",
    "c1 = Car()\n",
    "c2 = Car()\n",
    "c1.mil = 1\n",
    "print(c1.com, c1.mil, c1.wheels)\n",
    "print(c2.com, c2.mil, c2.wheels)"
   ]
  },
  {
   "cell_type": "markdown",
   "id": "525f52e7-32c5-4ea8-a241-03ca218041c1",
   "metadata": {},
   "source": [
    "### Types of Methods"
   ]
  },
  {
   "cell_type": "code",
   "execution_count": 38,
   "id": "d9d84605-fd29-4751-88b2-f8a35c4f5dde",
   "metadata": {},
   "outputs": [
    {
     "name": "stdout",
     "output_type": "stream",
     "text": [
      "Name: Ishita, Marks: 95\n"
     ]
    }
   ],
   "source": [
    "class Student:\n",
    "    def __init__(self, name, marks):\n",
    "        self.name = name\n",
    "        self.marks = marks\n",
    "\n",
    "\n",
    "    def show(self):\n",
    "        print(f\"Name: {self.name}, Marks: {self.marks}\")\n",
    "\n",
    "s1 = Student(\"Ishita\", 95)\n",
    "\n",
    "s1.show()"
   ]
  },
  {
   "cell_type": "code",
   "execution_count": 34,
   "id": "bc72dc52-d093-43a5-89de-d4d8ec816993",
   "metadata": {},
   "outputs": [
    {
     "name": "stdout",
     "output_type": "stream",
     "text": [
      "Name: Ishita, Marks: 95\n",
      "School Name: ABC High School\n"
     ]
    }
   ],
   "source": [
    "class Student:\n",
    "    school = \"ABC High School\"\n",
    "\n",
    "    def __init__(self, name, marks):\n",
    "        self.name = name\n",
    "        self.marks = marks\n",
    "\n",
    "   \n",
    "    def show(self):\n",
    "        print(f\"Name: {self.name}, Marks: {self.marks}\")\n",
    "\n",
    "   \n",
    "    @classmethod\n",
    "    def get_school(cls):\n",
    "        print(f\"School Name: {cls.school}\")\n",
    "\n",
    "\n",
    "s1 = Student(\"Ishita\", 95)\n",
    "s1.show()\n",
    "\n",
    "Student.get_school()"
   ]
  },
  {
   "cell_type": "code",
   "execution_count": 35,
   "id": "33bd4310-70a9-4b92-ad89-17aef8ac49e0",
   "metadata": {},
   "outputs": [
    {
     "name": "stdout",
     "output_type": "stream",
     "text": [
      "Welcome to the school!\n"
     ]
    }
   ],
   "source": [
    "class Student:\n",
    "    school = \"ABC High School\"\n",
    "\n",
    "    def __init__(self, name, marks):\n",
    "        self.name = name\n",
    "        self.marks = marks\n",
    "\n",
    "   \n",
    "    def show(self):\n",
    "        print(f\"Name: {self.name}, Marks: {self.marks}\")\n",
    "\n",
    "    \n",
    "    @classmethod\n",
    "    def get_school(cls):\n",
    "        print(f\"School Name: {cls.school}\")\n",
    "\n",
    "    \n",
    "    @staticmethod\n",
    "    def greet():\n",
    "        print(\"Welcome to the school!\")\n",
    "\n",
    "\n",
    "s1 = Student(\"Ishita\", 95)\n",
    "\n",
    "\n",
    "Student.greet()\n"
   ]
  },
  {
   "cell_type": "markdown",
   "id": "1b30860d-6cbb-423e-af7f-f7170a1195ac",
   "metadata": {},
   "source": [
    "**Inner Class**"
   ]
  },
  {
   "cell_type": "code",
   "execution_count": 49,
   "id": "8a091142-bfcf-4016-886f-3ad6403b0a9f",
   "metadata": {},
   "outputs": [
    {
     "name": "stdout",
     "output_type": "stream",
     "text": [
      "This is the outer class\n",
      "This is the inner class\n"
     ]
    }
   ],
   "source": [
    "class Outer:\n",
    "    def __init__(self):\n",
    "        self.name = \"Outer Class\"\n",
    "\n",
    "    def show(self):\n",
    "        print(\"This is the outer class\")\n",
    "\n",
    "    class Inner:\n",
    "        def __init__(self):\n",
    "            self.name = \"Inner Class\"\n",
    "\n",
    "        def display(self):\n",
    "            print(\"This is the inner class\")\n",
    "\n",
    "outer = Outer()\n",
    "outer.show()\n",
    "\n",
    "inner = Outer.Inner()\n",
    "inner.display()"
   ]
  },
  {
   "cell_type": "markdown",
   "id": "681d03e9-a606-44c5-b5fe-9396dd1f9d3d",
   "metadata": {},
   "source": [
    "**Inheritance**"
   ]
  },
  {
   "cell_type": "code",
   "execution_count": 40,
   "id": "808c7a88-9f01-4223-bdba-9aed00bc8eb5",
   "metadata": {},
   "outputs": [
    {
     "name": "stdout",
     "output_type": "stream",
     "text": [
      "Animals makes a sound.\n",
      "Bruno barks.\n",
      "Whiskers meows.\n"
     ]
    }
   ],
   "source": [
    "class Animal:\n",
    "    def __init__(self, name):\n",
    "        self.name = name\n",
    "\n",
    "    def speak(self):\n",
    "        print(f\"{self.name} makes a sound.\")\n",
    "\n",
    "class Dog(Animal):\n",
    "    def speak(self):\n",
    "        print(f\"{self.name} barks.\")\n",
    "\n",
    "class Cat(Animal):\n",
    "    def speak(self):\n",
    "        print(f\"{self.name} meows.\")\n",
    "\n",
    "dog = Dog(\"Bruno\")\n",
    "cat = Cat(\"Whiskers\")\n",
    "a = Animal(\"Animals\")\n",
    "\n",
    "a.speak()\n",
    "dog.speak() \n",
    "cat.speak()"
   ]
  },
  {
   "cell_type": "markdown",
   "id": "1172bb2e-303f-4e1d-a985-2a1a95ac99dc",
   "metadata": {},
   "source": [
    "**Constructor in Inheritance**"
   ]
  },
  {
   "cell_type": "code",
   "execution_count": 41,
   "id": "1c081ef7-796c-486a-975c-23a21cc953fb",
   "metadata": {},
   "outputs": [
    {
     "name": "stdout",
     "output_type": "stream",
     "text": [
      "Animal constructor called. Name: Bruno\n",
      "Dog constructor called. Breed: Golden Retriever\n"
     ]
    }
   ],
   "source": [
    "class Animal:\n",
    "    def __init__(self, name):\n",
    "        self.name = name\n",
    "        print(f\"Animal constructor called. Name: {self.name}\")\n",
    "\n",
    "class Dog(Animal):\n",
    "    def __init__(self, name, breed):\n",
    "        super().__init__(name)  \n",
    "        self.breed = breed\n",
    "        print(f\"Dog constructor called. Breed: {self.breed}\")\n",
    "\n",
    "d = Dog(\"Bruno\", \"Golden Retriever\")"
   ]
  },
  {
   "cell_type": "markdown",
   "id": "f8129782-d73e-4b9d-9be3-9d78dfd1d4bc",
   "metadata": {},
   "source": [
    "\n",
    "**Polymorphism**"
   ]
  },
  {
   "cell_type": "code",
   "execution_count": 42,
   "id": "fe9cdd2f-a5ae-4bc9-aa09-8aec2b96044a",
   "metadata": {},
   "outputs": [
    {
     "name": "stdout",
     "output_type": "stream",
     "text": [
      "Dog barks\n",
      "Cat meows\n",
      "Animal speaks\n"
     ]
    }
   ],
   "source": [
    "class Animal:\n",
    "    def speak(self):\n",
    "        print(\"Animal speaks\")\n",
    "\n",
    "class Dog(Animal):\n",
    "    def speak(self):\n",
    "        print(\"Dog barks\")\n",
    "\n",
    "class Cat(Animal):\n",
    "    def speak(self):\n",
    "        print(\"Cat meows\")\n",
    "\n",
    "animals = [Dog(), Cat(), Animal()]\n",
    "\n",
    "for a in animals:\n",
    "    a.speak()"
   ]
  },
  {
   "cell_type": "markdown",
   "id": "b7136e46-5f68-4708-8068-d0801cc20bb2",
   "metadata": {},
   "source": [
    "**Duck Typing**"
   ]
  },
  {
   "cell_type": "code",
   "execution_count": 43,
   "id": "cd2d7625-3e60-4c3b-b1b5-63211d54e057",
   "metadata": {},
   "outputs": [
    {
     "name": "stdout",
     "output_type": "stream",
     "text": [
      "Quack\n",
      "Bark\n"
     ]
    }
   ],
   "source": [
    "class Duck:\n",
    "    def sound(self):\n",
    "        print(\"Quack\")\n",
    "\n",
    "class Dog:\n",
    "    def sound(self):\n",
    "        print(\"Bark\")\n",
    "\n",
    "def make_sound(animal):\n",
    "    animal.sound()\n",
    "\n",
    "d = Duck()\n",
    "g = Dog()\n",
    "\n",
    "make_sound(d)\n",
    "make_sound(g)"
   ]
  },
  {
   "cell_type": "markdown",
   "id": "642472e6-f48b-4f62-bdb7-83209a32f1c4",
   "metadata": {},
   "source": [
    "**Operator Overloading**"
   ]
  },
  {
   "cell_type": "code",
   "execution_count": 45,
   "id": "099bcb82-1d1c-4158-9f6b-b0dbaec57eec",
   "metadata": {},
   "outputs": [],
   "source": [
    "class Point:\n",
    "    def __init__(self, x, y):\n",
    "        self.x = x\n",
    "        self.y = y\n",
    "\n",
    "    def __add__(self, other):\n",
    "        return Point(self.x + other.x, self.y + other.y)\n",
    "\n",
    "    def __str__(self):\n",
    "        return f\"({self.x}, {self.y})\""
   ]
  },
  {
   "cell_type": "code",
   "execution_count": 46,
   "id": "e8e8d32f-0e59-4767-a280-d2600a291bfb",
   "metadata": {},
   "outputs": [
    {
     "name": "stdout",
     "output_type": "stream",
     "text": [
      "Result of p1 + p2 = (6, 8)\n"
     ]
    }
   ],
   "source": [
    "p1 = Point(2, 3)\n",
    "p2 = Point(4, 5)\n",
    "\n",
    "result = p1 + p2\n",
    "\n",
    "print(\"Result of p1 + p2 =\", result)\n"
   ]
  },
  {
   "cell_type": "markdown",
   "id": "c129d162-1de1-4b40-a0bd-8981a6775126",
   "metadata": {},
   "source": [
    "**Method Overloading**"
   ]
  },
  {
   "cell_type": "code",
   "execution_count": 47,
   "id": "7d9c5587-810d-4f47-bed4-217eb2834291",
   "metadata": {},
   "outputs": [
    {
     "name": "stdout",
     "output_type": "stream",
     "text": [
      "5\n",
      "8\n",
      "10\n"
     ]
    }
   ],
   "source": [
    "class Calculator:\n",
    "    def add(self, a, b=0, c=0):\n",
    "        return a + b + c\n",
    "\n",
    "calc = Calculator()\n",
    "print(calc.add(5))        \n",
    "print(calc.add(5, 3))     \n",
    "print(calc.add(5, 3, 2))"
   ]
  },
  {
   "cell_type": "markdown",
   "id": "4ea1c109-7472-4371-9b35-ca636b9862c5",
   "metadata": {},
   "source": [
    "**Method Overriding**"
   ]
  },
  {
   "cell_type": "code",
   "execution_count": 48,
   "id": "6618fa3b-d34c-46e6-850d-57173943ceda",
   "metadata": {},
   "outputs": [
    {
     "name": "stdout",
     "output_type": "stream",
     "text": [
      "Animal makes a sound\n",
      "Dog barks\n"
     ]
    }
   ],
   "source": [
    "class Animal:\n",
    "    def speak(self):\n",
    "        print(\"Animal makes a sound\")\n",
    "\n",
    "class Dog(Animal):\n",
    "    def speak(self):\n",
    "        print(\"Dog barks\")\n",
    "\n",
    "a = Animal()\n",
    "d = Dog()\n",
    "\n",
    "a.speak() \n",
    "d.speak()"
   ]
  },
  {
   "cell_type": "code",
   "execution_count": null,
   "id": "0d205e57-676e-448a-8c8a-bb2c089633f5",
   "metadata": {},
   "outputs": [],
   "source": []
  }
 ],
 "metadata": {
  "kernelspec": {
   "display_name": "Python 3 (ipykernel)",
   "language": "python",
   "name": "python3"
  },
  "language_info": {
   "codemirror_mode": {
    "name": "ipython",
    "version": 3
   },
   "file_extension": ".py",
   "mimetype": "text/x-python",
   "name": "python",
   "nbconvert_exporter": "python",
   "pygments_lexer": "ipython3",
   "version": "3.13.5"
  }
 },
 "nbformat": 4,
 "nbformat_minor": 5
}
