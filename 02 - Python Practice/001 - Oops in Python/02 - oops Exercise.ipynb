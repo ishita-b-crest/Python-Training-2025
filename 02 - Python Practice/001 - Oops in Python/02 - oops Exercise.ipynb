{
 "cells": [
  {
   "cell_type": "markdown",
   "id": "058765da-0701-4083-b7d0-1feff0df3479",
   "metadata": {},
   "source": [
    "### Python program to build flashcard using class in Python"
   ]
  },
  {
   "cell_type": "code",
   "execution_count": 4,
   "id": "b61ec107-8ca8-404a-9763-76bd8aaf1797",
   "metadata": {},
   "outputs": [],
   "source": [
    "class flashcard:\n",
    "\n",
    "    def __init__(self, word, meaning):\n",
    "        self.word = word\n",
    "        self.meaning = meaning\n",
    "\n",
    "    def __str__(self):\n",
    "        return self.word + \" (\" + self.meaning + \")\"\n",
    "\n",
    "\n",
    "    "
   ]
  },
  {
   "cell_type": "code",
   "execution_count": 5,
   "id": "e99f66d9-cce9-4c4f-9956-4d4c525fef3a",
   "metadata": {},
   "outputs": [
    {
     "name": "stdout",
     "output_type": "stream",
     "text": [
      "Welcome!!\n"
     ]
    }
   ],
   "source": [
    "flash = []\n",
    "print(\"Welcome!!\")"
   ]
  },
  {
   "cell_type": "code",
   "execution_count": 7,
   "id": "86981ee2-b70b-499c-8168-60be00b7c191",
   "metadata": {},
   "outputs": [
    {
     "name": "stdin",
     "output_type": "stream",
     "text": [
      "Enter the name:  dsa\n",
      "Enter the meaning of the word:  data structure abd algorithm\n",
      "enter 0, if you want to add another flashcard:  2\n"
     ]
    },
    {
     "name": "stdout",
     "output_type": "stream",
     "text": [
      "\n",
      "Your Flashcards\n",
      "> dsa (data structure and algorithm)\n",
      "> dsa (data structure abd algorithm)\n"
     ]
    }
   ],
   "source": [
    "while(True):\n",
    "    word = input(\"Enter the name: \")\n",
    "    meaning = input(\"Enter the meaning of the word: \")\n",
    "\n",
    "\n",
    "    flash.append(flashcard(word, meaning))\n",
    "    option = int(input(\"enter 0, if you want to add another flashcard: \"))\n",
    "\n",
    "    if(option):\n",
    "        break;\n",
    "\n",
    "\n",
    "print(\"\\nYour Flashcards\")\n",
    "for i in flash:\n",
    "    print(\">\", i)"
   ]
  },
  {
   "cell_type": "markdown",
   "id": "0c7c561b-6da3-4574-8a46-435d1ca9d501",
   "metadata": {},
   "source": [
    "#### **Shuffle a deck of card with OOPS in Python**"
   ]
  },
  {
   "cell_type": "code",
   "execution_count": 26,
   "id": "6bcbb3a7-4251-40ec-ac99-f047bb7aa333",
   "metadata": {},
   "outputs": [],
   "source": [
    "from random import shuffle\n"
   ]
  },
  {
   "cell_type": "code",
   "execution_count": 27,
   "id": "2da742e1-a49d-4180-93ca-0c613f7b1b93",
   "metadata": {},
   "outputs": [],
   "source": [
    "class Cards:\n",
    "    global suites, values\n",
    "    suites = ['Hearts','Diamond','Clubs','Spades']\n",
    "    values = ['A','2','3','4','5','6','7','8','9','10','J','Q', 'K']\n",
    "\n",
    "    def __init__(self):\n",
    "        pass\n",
    "\n",
    "class Deck(Cards):\n",
    "    def __init__(self):\n",
    "        self.myset= []\n",
    "\n",
    "        for n in suites:\n",
    "            for c in values:\n",
    "                self.myset.append((c)+ \" \" + \"of\" + \" \"+n)\n",
    "\n",
    "    def popCard(self):\n",
    "        if len(self.myset) == 0:\n",
    "            return \"No cards.\"\n",
    "        else:\n",
    "            cardpopped = self.myset.pop()\n",
    "            print(\"Card removed is \", cardpopped)\n",
    "\n"
   ]
  },
  {
   "cell_type": "code",
   "execution_count": 28,
   "id": "0595776b-7c65-498e-80dc-ab6efef8a2bf",
   "metadata": {},
   "outputs": [],
   "source": [
    "class ShuffleCards(Deck):\n",
    "    def __init__(self):\n",
    "        Deck.__init__(self)\n",
    "\n",
    "    def shuffle(self):\n",
    "        if len(self.myset) < 52:\n",
    "            print(\"Connot shuffle the cards\")\n",
    "        else:\n",
    "            shuffle(self.myset)\n",
    "            return self.myset\n",
    "\n",
    "\n",
    "    def popCard(self):\n",
    "        if len(self.myset) == 0:\n",
    "            return \"No cards.\"\n",
    "        else:\n",
    "            cardpopped = self.myset.pop()\n",
    "            print(\"Card removed is \", cardpopped)"
   ]
  },
  {
   "cell_type": "code",
   "execution_count": 29,
   "id": "d1c80bbd-19d6-4592-98c3-f63da0ba8cee",
   "metadata": {},
   "outputs": [],
   "source": [
    "objcards = Cards()\n",
    "objdeck = Deck()"
   ]
  },
  {
   "cell_type": "code",
   "execution_count": 30,
   "id": "fd311bd0-af1f-474d-9b6a-73e2abc2325c",
   "metadata": {},
   "outputs": [
    {
     "name": "stdout",
     "output_type": "stream",
     "text": [
      "player 1:  ['A of Hearts', '2 of Hearts', '3 of Hearts', '4 of Hearts', '5 of Hearts', '6 of Hearts', '7 of Hearts', '8 of Hearts', '9 of Hearts', '10 of Hearts', 'J of Hearts', 'Q of Hearts', 'K of Hearts', 'A of Diamond', '2 of Diamond', '3 of Diamond', '4 of Diamond', '5 of Diamond', '6 of Diamond', '7 of Diamond', '8 of Diamond', '9 of Diamond', '10 of Diamond', 'J of Diamond', 'Q of Diamond', 'K of Diamond', 'A of Clubs', '2 of Clubs', '3 of Clubs', '4 of Clubs', '5 of Clubs', '6 of Clubs', '7 of Clubs', '8 of Clubs', '9 of Clubs', '10 of Clubs', 'J of Clubs', 'Q of Clubs', 'K of Clubs', 'A of Spades', '2 of Spades', '3 of Spades', '4 of Spades', '5 of Spades', '6 of Spades', '7 of Spades', '8 of Spades', '9 of Spades', '10 of Spades', 'J of Spades', 'Q of Spades', 'K of Spades']\n"
     ]
    }
   ],
   "source": [
    "player1 = objdeck.myset\n",
    "print(\"player 1: \", player1)"
   ]
  },
  {
   "cell_type": "code",
   "execution_count": 31,
   "id": "fd06d91e-b764-4af7-9d50-e410157f50c1",
   "metadata": {},
   "outputs": [],
   "source": [
    "objshuffle = ShuffleCards()"
   ]
  },
  {
   "cell_type": "code",
   "execution_count": 33,
   "id": "8aa18fca-2985-4644-8987-6d28934e78b0",
   "metadata": {},
   "outputs": [
    {
     "name": "stdout",
     "output_type": "stream",
     "text": [
      "Player 2 ['Q of Hearts', '8 of Hearts', '6 of Diamond', '6 of Hearts', 'A of Diamond', 'J of Diamond', '9 of Hearts', '5 of Diamond', '10 of Diamond', '4 of Diamond', '10 of Spades', 'Q of Spades', 'A of Spades', 'Q of Clubs', 'K of Spades', '7 of Hearts', 'J of Hearts', '7 of Diamond', '4 of Hearts', 'A of Clubs', '4 of Spades', '8 of Spades', '2 of Spades', '4 of Clubs', '2 of Clubs', '5 of Clubs', '3 of Clubs', '9 of Clubs', '9 of Spades', 'A of Hearts', '5 of Spades', '10 of Clubs', 'K of Hearts', 'K of Clubs', '6 of Clubs', '8 of Clubs', '3 of Spades', '2 of Hearts', '10 of Hearts', '2 of Diamond', 'Q of Diamond', '6 of Spades', 'J of Clubs', '7 of Spades', '9 of Diamond', '7 of Clubs', 'K of Diamond', '8 of Diamond', '3 of Diamond', '3 of Hearts', 'J of Spades', '5 of Hearts']\n"
     ]
    }
   ],
   "source": [
    "player2 = objshuffle.shuffle()\n",
    "print('Player 2', player2)"
   ]
  },
  {
   "cell_type": "code",
   "execution_count": 34,
   "id": "14467554-466a-4d3f-9a9e-eec49dee986a",
   "metadata": {},
   "outputs": [
    {
     "name": "stdout",
     "output_type": "stream",
     "text": [
      "Card removed is  5 of Hearts\n",
      "\n",
      " Removing a card from the deck: None\n",
      "Card removed is  J of Spades\n",
      "\n",
      " Removing another card from the deck: None\n"
     ]
    }
   ],
   "source": [
    "\n",
    "\n",
    "print('\\n Removing a card from the deck:', objshuffle.popCard())\n",
    "print('\\n Removing another card from the deck:', objshuffle.popCard())"
   ]
  },
  {
   "cell_type": "markdown",
   "id": "c64b74e2-0f35-4e4d-8cb3-7cd5e07f34de",
   "metadata": {},
   "source": [
    "#### **Student management system in Python**"
   ]
  },
  {
   "cell_type": "code",
   "execution_count": 48,
   "id": "3ac739ee-9336-4176-ab91-f70bb50f39e5",
   "metadata": {},
   "outputs": [
    {
     "name": "stdout",
     "output_type": "stream",
     "text": [
      "\n",
      "List of Students:\n",
      "\n",
      "Name: A\n",
      "Roll Number: 1\n",
      "Marks1: 100\n",
      "Marks2: 100\n",
      "\n",
      "\n",
      "Name: B\n",
      "Roll Number: 2\n",
      "Marks1: 90\n",
      "Marks2: 90\n",
      "\n",
      "\n",
      "Name: C\n",
      "Roll Number: 3\n",
      "Marks1: 80\n",
      "Marks2: 80\n",
      "\n",
      "\n",
      "Searching for student with roll number 2:\n",
      "Name: B\n",
      "Roll Number: 2\n",
      "Marks1: 90\n",
      "Marks2: 90\n",
      "\n",
      "\n",
      "Deleting student with roll number 2:\n",
      "List after deletion:\n",
      "Name: A\n",
      "Roll Number: 1\n",
      "Marks1: 100\n",
      "Marks2: 100\n",
      "\n",
      "\n",
      "Name: C\n",
      "Roll Number: 3\n",
      "Marks1: 80\n",
      "Marks2: 80\n",
      "\n",
      "\n",
      "Updating student with roll number 3 to 10:\n",
      "List after updating:\n",
      "Name: A\n",
      "Roll Number: 1\n",
      "Marks1: 100\n",
      "Marks2: 100\n",
      "\n",
      "\n",
      "Name: C\n",
      "Roll Number: 10\n",
      "Marks1: 80\n",
      "Marks2: 80\n",
      "\n",
      "\n"
     ]
    }
   ],
   "source": [
    "class Student:\n",
    "    def __init__(self, name, rollno, m1, m2):\n",
    "        self.name = name\n",
    "        self.rollno = rollno\n",
    "        self.m1 = m1\n",
    "        self.m2 = m2\n",
    "\n",
    "    def display(self):\n",
    "        print(\"Name:\", self.name)\n",
    "        print(\"Roll Number:\", self.rollno)\n",
    "        print(\"Marks1:\", self.m1)\n",
    "        print(\"Marks2:\", self.m2)\n",
    "        print('\\n')\n",
    "\n",
    "\n",
    "\n",
    "ls = []\n",
    "\n",
    "def accept(name, rollno, m1, m2):\n",
    "    ob = Student(name, rollno, m1, m2)\n",
    "    ls.append(ob)\n",
    "\n",
    "\n",
    "def search(rn):\n",
    "    for i in range(len(ls)):\n",
    "        if ls[i].rollno == rn:\n",
    "            return i\n",
    "    return -1\n",
    "\n",
    "\n",
    "def delete(rn):\n",
    "    i = search(rn)\n",
    "    if i != -1:\n",
    "        del ls[i]\n",
    "\n",
    "def update(rn, new_rollno):\n",
    "    i = search(rn)\n",
    "    if i != -1:\n",
    "        ls[i].rollno = new_rollno\n",
    "\n",
    "\n",
    "\n",
    "\n",
    "\n",
    "accept(\"A\", 1, 100, 100)\n",
    "accept(\"B\", 2, 90, 90)\n",
    "accept(\"C\", 3, 80, 80)\n",
    "\n",
    "print(\"\\nList of Students:\\n\")\n",
    "for student in ls:\n",
    "    student.display()\n",
    "\n",
    "print(\"Searching for student with roll number 2:\")\n",
    "index = search(2)\n",
    "if index != -1:\n",
    "    ls[index].display()\n",
    "\n",
    "print(\"Deleting student with roll number 2:\")\n",
    "delete(2)\n",
    "\n",
    "print(\"List after deletion:\")\n",
    "for student in ls:\n",
    "    student.display()\n",
    "\n",
    "print(\"Updating student with roll number 3 to 10:\")\n",
    "update(3, 10)\n",
    "\n",
    "print(\"List after updating:\")\n",
    "for student in ls:\n",
    "    student.display()\n"
   ]
  },
  {
   "cell_type": "markdown",
   "id": "a0aa4058-4e7a-4bf3-b781-60efe7547501",
   "metadata": {},
   "source": [
    "#### **create a list of object in Python class**"
   ]
  },
  {
   "cell_type": "code",
   "execution_count": 49,
   "id": "79e7318d-a300-48aa-8634-dedbea8215cf",
   "metadata": {},
   "outputs": [
    {
     "name": "stdout",
     "output_type": "stream",
     "text": [
      "Akash 2\n",
      "Deependra 40\n",
      "Reaper 44\n",
      "Veer 67\n"
     ]
    }
   ],
   "source": [
    "class Geeks:\n",
    "    def __init__(self, name, roll):\n",
    "        self.name = name\n",
    "        self.roll = roll\n",
    "\n",
    "a = []\n",
    "for data in [('Akash',2), ('Deependra',40), ('Reaper', 44), ('Veer', 67)]:\n",
    "    a.append(Geeks(data[0],data[1]))\n",
    "\n",
    "for obj in a:\n",
    "    print(obj.name, obj.roll, sep = ' ')"
   ]
  },
  {
   "cell_type": "markdown",
   "id": "194beda2-1d8b-46ee-add4-8266e7bf6fce",
   "metadata": {},
   "source": [
    "#### **How to Change a Dictionary Into a Class?**"
   ]
  },
  {
   "cell_type": "code",
   "execution_count": 51,
   "id": "ef4ebbe3-a72d-4b4c-a58a-51eb5da6af7f",
   "metadata": {},
   "outputs": [
    {
     "name": "stdout",
     "output_type": "stream",
     "text": [
      "After Converting Dictinary  to class: \n",
      "crest 1111 Python\n",
      "<class '__main__.Dict2Class'>\n"
     ]
    }
   ],
   "source": [
    "class Dict2Class(object):\n",
    "    def __init__(self, my_dict):\n",
    "        for key in my_dict:\n",
    "            setattr(self, key, my_dict[key])\n",
    "\n",
    "if __name__ == \"__main__\":\n",
    "    my_dict = {\"Name\": \"crest\",\n",
    "               \"Rank\" : \"1111\",\n",
    "               \"Subject\" : \"Python\"}\n",
    "\n",
    "    result = Dict2Class(my_dict)\n",
    "\n",
    "    print(\"After Converting Dictinary  to class: \")\n",
    "    print(result.Name, result.Rank, result.Subject)\n",
    "    print(type(result))\n",
    "    "
   ]
  },
  {
   "cell_type": "code",
   "execution_count": null,
   "id": "8f54bf25-b1db-4845-8d0e-4f2d31ff448c",
   "metadata": {},
   "outputs": [],
   "source": []
  },
  {
   "cell_type": "code",
   "execution_count": null,
   "id": "35f8af78-b8ca-4946-97b4-a17787e08015",
   "metadata": {},
   "outputs": [],
   "source": []
  }
 ],
 "metadata": {
  "kernelspec": {
   "display_name": "Python 3 (ipykernel)",
   "language": "python",
   "name": "python3"
  },
  "language_info": {
   "codemirror_mode": {
    "name": "ipython",
    "version": 3
   },
   "file_extension": ".py",
   "mimetype": "text/x-python",
   "name": "python",
   "nbconvert_exporter": "python",
   "pygments_lexer": "ipython3",
   "version": "3.13.5"
  }
 },
 "nbformat": 4,
 "nbformat_minor": 5
}
