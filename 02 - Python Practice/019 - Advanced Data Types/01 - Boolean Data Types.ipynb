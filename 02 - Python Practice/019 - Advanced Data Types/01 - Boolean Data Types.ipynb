{
 "cells": [
  {
   "cell_type": "markdown",
   "id": "705e5d02-7440-40eb-9674-fc1fc04a0519",
   "metadata": {},
   "source": [
    "#### **1. Even/Odd Checker**\n",
    "Write a Python program to check if a given number is even or odd using boolean variables."
   ]
  },
  {
   "cell_type": "code",
   "execution_count": 1,
   "id": "c17e2abf-058e-40e5-a991-4876fa6f2f62",
   "metadata": {},
   "outputs": [],
   "source": [
    "def is_even(num):\n",
    "    return num % 2 == 0"
   ]
  },
  {
   "cell_type": "code",
   "execution_count": 2,
   "id": "54676249-7e75-47ab-ac69-35455f5aa1f3",
   "metadata": {},
   "outputs": [],
   "source": [
    "def main():\n",
    "    try:\n",
    "        number = int(input(\"Enter a number: \"))\n",
    "        if is_even(number):\n",
    "            print(\"Number is even\")\n",
    "        else:\n",
    "            print(\"Number is odd Number.\")\n",
    "    except:\n",
    "        print(\"Invlalid input\")\n",
    "    \n",
    "    "
   ]
  },
  {
   "cell_type": "code",
   "execution_count": 6,
   "id": "97c68f99-7bc9-4f50-b790-36bb95fd6a60",
   "metadata": {},
   "outputs": [
    {
     "name": "stdin",
     "output_type": "stream",
     "text": [
      "Enter a number:  4\n"
     ]
    },
    {
     "name": "stdout",
     "output_type": "stream",
     "text": [
      "Number is even\n"
     ]
    }
   ],
   "source": [
    "if __name__ == \"__main__\":\n",
    "    main()"
   ]
  },
  {
   "cell_type": "code",
   "execution_count": null,
   "id": "7bd1bf1a-870c-411f-bfcc-1668dfee6752",
   "metadata": {},
   "outputs": [],
   "source": []
  },
  {
   "cell_type": "markdown",
   "id": "c79d5b00-a397-47bd-a0f8-51da448891fa",
   "metadata": {},
   "source": [
    "#### **Authentication Checker**"
   ]
  },
  {
   "cell_type": "code",
   "execution_count": 9,
   "id": "168438f2-8ba7-4b6b-943c-4a6795121cad",
   "metadata": {},
   "outputs": [
    {
     "name": "stdin",
     "output_type": "stream",
     "text": [
      "Input your userid:  admin\n",
      "Input your password:  koiUaq$&@ki\n"
     ]
    },
    {
     "name": "stdout",
     "output_type": "stream",
     "text": [
      "Authentication has been successful. Welcome! admin\n"
     ]
    }
   ],
   "source": [
    "def user_authentication(username, password):\n",
    "    # Predefined usernames and passwords\n",
    "    predefined_users = {\n",
    "        \"empdb1\": \"Jue@3$juy0\",\n",
    "        \"empdb2\": \"juRe34@$\",\n",
    "        \"admin\": \"koiUaq$&@ki\"\n",
    "    }\n",
    "    \n",
    "    if username in predefined_users and predefined_users[username] == password:\n",
    "        return True\n",
    "    else:\n",
    "        return False\n",
    "\n",
    "def main():\n",
    "    try:\n",
    "        username = input(\"Input your userid: \")\n",
    "        password = input(\"Input your password: \")\n",
    "        \n",
    "        if user_authentication(username, password):\n",
    "            print(\"Authentication has been successful. Welcome!\", username)\n",
    "        else:\n",
    "            print(\"Authentication failed. Invalid username or password.\")\n",
    "    except Exception as e:\n",
    "        print(\"An error occurred:\", e)\n",
    "\n",
    "if __name__ == \"__main__\":\n",
    "    main()\n"
   ]
  },
  {
   "cell_type": "code",
   "execution_count": null,
   "id": "66582186-0e27-428b-bd41-8840d5304a09",
   "metadata": {},
   "outputs": [],
   "source": []
  }
 ],
 "metadata": {
  "kernelspec": {
   "display_name": "Python 3 (ipykernel)",
   "language": "python",
   "name": "python3"
  },
  "language_info": {
   "codemirror_mode": {
    "name": "ipython",
    "version": 3
   },
   "file_extension": ".py",
   "mimetype": "text/x-python",
   "name": "python",
   "nbconvert_exporter": "python",
   "pygments_lexer": "ipython3",
   "version": "3.13.5"
  }
 },
 "nbformat": 4,
 "nbformat_minor": 5
}
