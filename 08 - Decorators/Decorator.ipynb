{
 "cells": [
  {
   "cell_type": "code",
   "execution_count": 1,
   "id": "0c1bc1b7-b8a7-47ef-be0a-ae1baa66961a",
   "metadata": {},
   "outputs": [],
   "source": [
    "def func():\n",
    "    return 1"
   ]
  },
  {
   "cell_type": "code",
   "execution_count": 2,
   "id": "c70f75c4-09c7-47c8-8487-39a4c26c2e36",
   "metadata": {},
   "outputs": [
    {
     "data": {
      "text/plain": [
       "1"
      ]
     },
     "execution_count": 2,
     "metadata": {},
     "output_type": "execute_result"
    }
   ],
   "source": [
    "func()"
   ]
  },
  {
   "cell_type": "code",
   "execution_count": 3,
   "id": "f48970bf-b693-4303-9ca1-f23fc631e268",
   "metadata": {},
   "outputs": [
    {
     "data": {
      "text/plain": [
       "<function __main__.func()>"
      ]
     },
     "execution_count": 3,
     "metadata": {},
     "output_type": "execute_result"
    }
   ],
   "source": [
    "func"
   ]
  },
  {
   "cell_type": "code",
   "execution_count": 4,
   "id": "a04ff93a-8caf-4fdd-92a3-478bfa18f848",
   "metadata": {},
   "outputs": [],
   "source": [
    "def hello():\n",
    "    return \"Hello!!\""
   ]
  },
  {
   "cell_type": "code",
   "execution_count": 5,
   "id": "2409c426-b2fe-4391-856d-5c1000dedceb",
   "metadata": {},
   "outputs": [
    {
     "data": {
      "text/plain": [
       "'Hello!!'"
      ]
     },
     "execution_count": 5,
     "metadata": {},
     "output_type": "execute_result"
    }
   ],
   "source": [
    "hello()"
   ]
  },
  {
   "cell_type": "code",
   "execution_count": 6,
   "id": "f57762bb-23ec-455e-ae7d-23005eaebedc",
   "metadata": {},
   "outputs": [],
   "source": [
    "greet = hello"
   ]
  },
  {
   "cell_type": "code",
   "execution_count": 7,
   "id": "78b790b2-9106-422b-9360-be8802e2c077",
   "metadata": {},
   "outputs": [
    {
     "data": {
      "text/plain": [
       "'Hello!!'"
      ]
     },
     "execution_count": 7,
     "metadata": {},
     "output_type": "execute_result"
    }
   ],
   "source": [
    "greet()"
   ]
  },
  {
   "cell_type": "code",
   "execution_count": 14,
   "id": "e0c1761b-92a8-4382-b0b9-7be8bd5a4d41",
   "metadata": {},
   "outputs": [],
   "source": [
    "def hello(name = 'jose'):\n",
    "    print('The hello() function has been executed!!')\n",
    "\n",
    "\n",
    "    def greet():\n",
    "        return '\\t This is the greet() func indide hello!'\n",
    "\n",
    "    def welcome():\n",
    "        return '\\t This is welcome() inside hello!!'\n",
    "\n",
    "    print(greet())\n",
    "    print(welcome())"
   ]
  },
  {
   "cell_type": "code",
   "execution_count": 15,
   "id": "7b4e4476-be56-4c0a-9d7d-50d13b678612",
   "metadata": {},
   "outputs": [
    {
     "name": "stdout",
     "output_type": "stream",
     "text": [
      "The hello() function has been executed!!\n",
      "\t This is the greet() func indide hello!\n",
      "\t This is welcome() inside hello!!\n"
     ]
    }
   ],
   "source": [
    "hello()"
   ]
  },
  {
   "cell_type": "code",
   "execution_count": 16,
   "id": "02bfbd80-b03a-4392-8fc2-627705dd2006",
   "metadata": {},
   "outputs": [],
   "source": [
    "def hello(name = 'Jose'):\n",
    "    print('The hello() function has been executed!!')\n",
    "\n",
    "\n",
    "    def greet():\n",
    "        return '\\t This is the greet() func indide hello!'\n",
    "\n",
    "    def welcome():\n",
    "        return '\\t This is welcome() inside hello!!'\n",
    "\n",
    "    print(\"I am going to return a function\")\n",
    "\n",
    "    if name == 'Jose':\n",
    "        return greet\n",
    "    else:\n",
    "        return welcome\n"
   ]
  },
  {
   "cell_type": "code",
   "execution_count": 17,
   "id": "08e5be86-63a5-4dc9-b60e-7bbf2cfc9e59",
   "metadata": {},
   "outputs": [
    {
     "name": "stdout",
     "output_type": "stream",
     "text": [
      "The hello() function has been executed!!\n",
      "I am going to return a function\n"
     ]
    }
   ],
   "source": [
    "my_new_func = hello('Jose')"
   ]
  },
  {
   "cell_type": "code",
   "execution_count": 20,
   "id": "dc8d0571-877d-4771-80cf-111f7f1029d5",
   "metadata": {},
   "outputs": [
    {
     "name": "stdout",
     "output_type": "stream",
     "text": [
      "\t This is the greet() func indide hello!\n"
     ]
    }
   ],
   "source": [
    "print(my_new_func())"
   ]
  },
  {
   "cell_type": "code",
   "execution_count": 21,
   "id": "82c7024c-c04a-4693-8aa6-24c06cc97ade",
   "metadata": {},
   "outputs": [],
   "source": [
    "def cool():\n",
    "    def super_cool():\n",
    "        return \"I am very cool\"\n",
    "    return super_cool"
   ]
  },
  {
   "cell_type": "code",
   "execution_count": 22,
   "id": "65c9094c-6f30-41d0-9fca-8b8b319b89e5",
   "metadata": {},
   "outputs": [],
   "source": [
    "some_func = cool()"
   ]
  },
  {
   "cell_type": "code",
   "execution_count": 23,
   "id": "d90987c0-c000-4b88-932a-a36257222e29",
   "metadata": {},
   "outputs": [
    {
     "data": {
      "text/plain": [
       "<function __main__.cool.<locals>.super_cool()>"
      ]
     },
     "execution_count": 23,
     "metadata": {},
     "output_type": "execute_result"
    }
   ],
   "source": [
    "some_func"
   ]
  },
  {
   "cell_type": "code",
   "execution_count": 24,
   "id": "56b77c78-fda0-43c3-9175-9e977061063a",
   "metadata": {},
   "outputs": [
    {
     "data": {
      "text/plain": [
       "'I am very cool'"
      ]
     },
     "execution_count": 24,
     "metadata": {},
     "output_type": "execute_result"
    }
   ],
   "source": [
    "some_func()"
   ]
  },
  {
   "cell_type": "code",
   "execution_count": 25,
   "id": "b1e7386b-e428-4b51-8801-5c560239e4fb",
   "metadata": {},
   "outputs": [],
   "source": [
    "def hello():\n",
    "    return 'Hi, Jose!!'"
   ]
  },
  {
   "cell_type": "code",
   "execution_count": 26,
   "id": "95e29a7d-1d84-450d-b1c1-dcdc2ea4cfb2",
   "metadata": {},
   "outputs": [],
   "source": [
    "def other(some_def_func):\n",
    "    print('Other code run here!!')\n",
    "    print(some_def_func())"
   ]
  },
  {
   "cell_type": "code",
   "execution_count": 27,
   "id": "76e8f8e2-9bce-42da-b59c-33846746262f",
   "metadata": {},
   "outputs": [
    {
     "data": {
      "text/plain": [
       "<function __main__.hello()>"
      ]
     },
     "execution_count": 27,
     "metadata": {},
     "output_type": "execute_result"
    }
   ],
   "source": [
    "hello"
   ]
  },
  {
   "cell_type": "code",
   "execution_count": 29,
   "id": "ad7d8299-c8b1-40e7-ac6d-f8e8263bf87a",
   "metadata": {},
   "outputs": [],
   "source": [
    "def new_decorator(original_func):\n",
    "    def wrap_fun():\n",
    "        print('some extra code, before the original function')\n",
    "\n",
    "        original_func()\n",
    "\n",
    "        print('Some extra code, after the original function')\n",
    "\n",
    "    return wrap_fun"
   ]
  },
  {
   "cell_type": "code",
   "execution_count": 32,
   "id": "059baa5e-db1d-4fae-80d5-573275082e03",
   "metadata": {},
   "outputs": [],
   "source": [
    "def fun_needs_decorator():\n",
    "    print('I want to be decorated!!')"
   ]
  },
  {
   "cell_type": "code",
   "execution_count": 33,
   "id": "c49180e2-a818-4464-a00d-b510cf10d87f",
   "metadata": {},
   "outputs": [
    {
     "name": "stdout",
     "output_type": "stream",
     "text": [
      "I want to be decorated!!\n"
     ]
    }
   ],
   "source": [
    "fun_needs_decorator()"
   ]
  },
  {
   "cell_type": "code",
   "execution_count": 35,
   "id": "0285c9f9-147f-4813-ac9b-a21cf9f3e03d",
   "metadata": {},
   "outputs": [],
   "source": [
    "decorated_func = new_decorator(fun_needs_decorator)"
   ]
  },
  {
   "cell_type": "code",
   "execution_count": 36,
   "id": "7a41a2df-77d0-4fa2-b18e-13213fdc2745",
   "metadata": {},
   "outputs": [
    {
     "data": {
      "text/plain": [
       "<function __main__.new_decorator.<locals>.wrap_fun()>"
      ]
     },
     "execution_count": 36,
     "metadata": {},
     "output_type": "execute_result"
    }
   ],
   "source": [
    "decorated_func"
   ]
  },
  {
   "cell_type": "code",
   "execution_count": 37,
   "id": "21dbc368-3156-464c-aabc-cf59d7ca5181",
   "metadata": {},
   "outputs": [
    {
     "name": "stdout",
     "output_type": "stream",
     "text": [
      "some extra code, before the original function\n",
      "I want to be decorated!!\n",
      "Some extra code, after the original function\n"
     ]
    }
   ],
   "source": [
    "decorated_func()"
   ]
  },
  {
   "cell_type": "code",
   "execution_count": 41,
   "id": "b00fc488-2b76-43e6-b756-c34a57a0f723",
   "metadata": {},
   "outputs": [],
   "source": [
    "#@new_decorator\n",
    "def fun_needs_decorator():\n",
    "    print(\"I want to be decorated!!\")"
   ]
  },
  {
   "cell_type": "code",
   "execution_count": 42,
   "id": "78b075cd-4d3d-4594-8ee7-5b5e4eebf51a",
   "metadata": {},
   "outputs": [
    {
     "name": "stdout",
     "output_type": "stream",
     "text": [
      "I want to be decorated!!\n"
     ]
    }
   ],
   "source": [
    "fun_needs_decorator()"
   ]
  },
  {
   "cell_type": "code",
   "execution_count": null,
   "id": "59873de8-03a9-453f-838c-eaeb6ba29de0",
   "metadata": {},
   "outputs": [],
   "source": []
  }
 ],
 "metadata": {
  "kernelspec": {
   "display_name": "Python 3 (ipykernel)",
   "language": "python",
   "name": "python3"
  },
  "language_info": {
   "codemirror_mode": {
    "name": "ipython",
    "version": 3
   },
   "file_extension": ".py",
   "mimetype": "text/x-python",
   "name": "python",
   "nbconvert_exporter": "python",
   "pygments_lexer": "ipython3",
   "version": "3.13.5"
  }
 },
 "nbformat": 4,
 "nbformat_minor": 5
}
