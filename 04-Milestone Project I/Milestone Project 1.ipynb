{
 "cells": [
  {
   "cell_type": "markdown",
   "id": "176513d6-ddae-4a18-88c7-313a12eb4d63",
   "metadata": {},
   "source": [
    "### Displaying information "
   ]
  },
  {
   "cell_type": "code",
   "execution_count": 1,
   "id": "0003c5d4-71b6-4a13-b0f9-6fc8b18fd927",
   "metadata": {},
   "outputs": [
    {
     "name": "stdout",
     "output_type": "stream",
     "text": [
      "[1, 2, 3]\n"
     ]
    }
   ],
   "source": [
    "print([1,2,3])"
   ]
  },
  {
   "cell_type": "code",
   "execution_count": 3,
   "id": "1ae34da9-cbf6-4abb-8ccc-a2fa0785e5e5",
   "metadata": {},
   "outputs": [
    {
     "name": "stdout",
     "output_type": "stream",
     "text": [
      "[1, 2, 3]\n",
      "[4, 5, 6]\n",
      "[7, 8, 9]\n"
     ]
    }
   ],
   "source": [
    "print([1,2,3])\n",
    "print([4,5,6])\n",
    "print([7,8,9])"
   ]
  },
  {
   "cell_type": "code",
   "execution_count": 4,
   "id": "20559b1d-d2e1-4a82-96f5-da5cb05d2904",
   "metadata": {},
   "outputs": [],
   "source": [
    "def display(row1,row2,row3):\n",
    "    print(row1)\n",
    "    print(row2)\n",
    "    print(row3)"
   ]
  },
  {
   "cell_type": "code",
   "execution_count": 8,
   "id": "6273ea50-a63b-4ba4-bdd7-d6cf768f230e",
   "metadata": {},
   "outputs": [
    {
     "name": "stdout",
     "output_type": "stream",
     "text": [
      "[1, 2, 3]\n",
      "[4, 5, 6]\n",
      "[7, 8, 9]\n"
     ]
    }
   ],
   "source": [
    "row1 = [1,2,3]\n",
    "row2 = [4,5,6]\n",
    "row3 = [7,8,9]\n",
    "display(row1, row2, row3)"
   ]
  },
  {
   "cell_type": "code",
   "execution_count": 9,
   "id": "7a5b90ac-c1da-4527-b747-65695309771c",
   "metadata": {},
   "outputs": [],
   "source": [
    "row1 = [' ',' ',' ']\n",
    "row2 = [' ',' ',' ']\n",
    "row3 = [' ',' ',' ']"
   ]
  },
  {
   "cell_type": "code",
   "execution_count": 10,
   "id": "3ff74b87-55ce-46e9-a84f-38d1b94d9e7a",
   "metadata": {},
   "outputs": [
    {
     "name": "stdout",
     "output_type": "stream",
     "text": [
      "[' ', ' ', ' ']\n",
      "[' ', ' ', ' ']\n",
      "[' ', ' ', ' ']\n"
     ]
    }
   ],
   "source": [
    "display(row1, row2, row3)"
   ]
  },
  {
   "cell_type": "code",
   "execution_count": 11,
   "id": "e16ae1b2-d6ac-4fba-91a4-4c781191a6dd",
   "metadata": {},
   "outputs": [],
   "source": [
    "row2[1] = 'X'"
   ]
  },
  {
   "cell_type": "code",
   "execution_count": 12,
   "id": "755a5221-da86-4c21-978e-e15eda70378d",
   "metadata": {},
   "outputs": [
    {
     "name": "stdout",
     "output_type": "stream",
     "text": [
      "[' ', ' ', ' ']\n",
      "[' ', 'X', ' ']\n",
      "[' ', ' ', ' ']\n"
     ]
    }
   ],
   "source": [
    "display(row1, row2, row3)"
   ]
  },
  {
   "cell_type": "code",
   "execution_count": 13,
   "id": "597935fa-c665-4984-8c5f-2df6a18f28f1",
   "metadata": {},
   "outputs": [
    {
     "name": "stdin",
     "output_type": "stream",
     "text": [
      "Please enter a value:  2\n"
     ]
    },
    {
     "data": {
      "text/plain": [
       "'2'"
      ]
     },
     "execution_count": 13,
     "metadata": {},
     "output_type": "execute_result"
    }
   ],
   "source": [
    "input(\"Please enter a value: \")"
   ]
  },
  {
   "cell_type": "code",
   "execution_count": 14,
   "id": "8f5f17ea-bab9-4eaa-ac77-161313dee526",
   "metadata": {},
   "outputs": [
    {
     "name": "stdin",
     "output_type": "stream",
     "text": [
      "Please enter a value:  4\n"
     ]
    }
   ],
   "source": [
    "result = input(\"Please enter a value: \")"
   ]
  },
  {
   "cell_type": "code",
   "execution_count": 15,
   "id": "a35ee5bc-030d-43a7-969e-758abb7596f4",
   "metadata": {},
   "outputs": [],
   "source": [
    "result_int = int(result)"
   ]
  },
  {
   "cell_type": "code",
   "execution_count": 16,
   "id": "1f82afba-7d48-4e5a-b956-59664891443f",
   "metadata": {},
   "outputs": [
    {
     "data": {
      "text/plain": [
       "int"
      ]
     },
     "execution_count": 16,
     "metadata": {},
     "output_type": "execute_result"
    }
   ],
   "source": [
    "type(result_int)"
   ]
  },
  {
   "cell_type": "code",
   "execution_count": 17,
   "id": "fb17976c-458b-4a97-ad78-3affd59fa23d",
   "metadata": {},
   "outputs": [
    {
     "name": "stdin",
     "output_type": "stream",
     "text": [
      "Choose an index position:  1\n"
     ]
    }
   ],
   "source": [
    "position_index = int(input(\"Choose an index position: \"))"
   ]
  },
  {
   "cell_type": "code",
   "execution_count": 18,
   "id": "585a4702-1643-4a37-8cfb-a9faad007f5e",
   "metadata": {},
   "outputs": [
    {
     "data": {
      "text/plain": [
       "' '"
      ]
     },
     "execution_count": 18,
     "metadata": {},
     "output_type": "execute_result"
    }
   ],
   "source": [
    "row1[position_index]"
   ]
  },
  {
   "cell_type": "code",
   "execution_count": 19,
   "id": "4c478621-da86-4ab7-9434-7d85a334b6c7",
   "metadata": {},
   "outputs": [
    {
     "name": "stdin",
     "output_type": "stream",
     "text": [
      "Enter a number: 14\n"
     ]
    }
   ],
   "source": [
    "result = input(\"Enter a number:\")"
   ]
  },
  {
   "cell_type": "code",
   "execution_count": null,
   "id": "9279e120-37c5-4eed-90f4-d0df44b627cb",
   "metadata": {},
   "outputs": [],
   "source": [
    "def user_choice():\n",
    "\n",
    "    choice = input(\"Please enter a number (0-10): \")\n",
    "\n",
    "    return int(choice)"
   ]
  },
  {
   "cell_type": "code",
   "execution_count": 20,
   "id": "da7d0502-7915-4300-bddd-4ea9163ba040",
   "metadata": {},
   "outputs": [],
   "source": [
    "board = [' ']*10"
   ]
  },
  {
   "cell_type": "code",
   "execution_count": 21,
   "id": "bc076f5f-fedd-4bc2-a269-83a7c21785a0",
   "metadata": {},
   "outputs": [],
   "source": [
    "def display_board(board):\n",
    "    print(f' {board[7]} | {board[8]} | {board[9]} ')\n",
    "    print('-----------')\n",
    "    print(f' {board[4]} | {board[5]} | {board[6]} ')\n",
    "    print('-----------')\n",
    "    print(f' {board[1]} | {board[2]} | {board[3]} ')\n"
   ]
  },
  {
   "cell_type": "code",
   "execution_count": 22,
   "id": "16a7d32e-9c6d-4410-bfbb-b5ce59b363c3",
   "metadata": {},
   "outputs": [],
   "source": [
    "def player_input():\n",
    "    marker = ''\n",
    "    while marker not in ['X', 'O']:\n",
    "        marker = input('Player 1: Choose X or O: ').upper()\n",
    "    player1 = marker\n",
    "    player2 = 'O' if player1 == 'X' else 'X'\n",
    "    return (player1, player2)\n"
   ]
  },
  {
   "cell_type": "code",
   "execution_count": 23,
   "id": "fc96dfc1-0735-4c51-ba31-3f64d52176c4",
   "metadata": {},
   "outputs": [],
   "source": [
    "def place_marker(board, marker, position):\n",
    "    board[position] = marker"
   ]
  },
  {
   "cell_type": "code",
   "execution_count": 24,
   "id": "05f47f08-fe39-4c8a-86a9-ee777909a990",
   "metadata": {},
   "outputs": [],
   "source": [
    "def win_check(board, mark):\n",
    "    return ((board[7] == board[8] == board[9] == mark) or  # top row\n",
    "            (board[4] == board[5] == board[6] == mark) or  # middle row\n",
    "            (board[1] == board[2] == board[3] == mark) or  # bottom row\n",
    "            (board[7] == board[4] == board[1] == mark) or  # left column\n",
    "            (board[8] == board[5] == board[2] == mark) or  # middle column\n",
    "            (board[9] == board[6] == board[3] == mark) or  # right column\n",
    "            (board[7] == board[5] == board[3] == mark) or  # diagonal\n",
    "            (board[9] == board[5] == board[1] == mark))    # diagonal"
   ]
  },
  {
   "cell_type": "code",
   "execution_count": 25,
   "id": "b3651487-800c-4918-b498-c3aa321abfc6",
   "metadata": {},
   "outputs": [],
   "source": [
    "import random\n",
    "\n",
    "def choose_first():\n",
    "    return 'Player 1' if random.randint(0, 1) == 0 else 'Player 2'\n"
   ]
  },
  {
   "cell_type": "code",
   "execution_count": 26,
   "id": "5903db37-fe0f-4c50-8d25-1842dcf159e8",
   "metadata": {},
   "outputs": [],
   "source": [
    "def space_check(board, position):\n",
    "    return board[position] == ' '\n"
   ]
  },
  {
   "cell_type": "code",
   "execution_count": 27,
   "id": "44266884-8e99-451e-8f81-9d49a66de68c",
   "metadata": {},
   "outputs": [],
   "source": [
    "def full_board_check(board):\n",
    "    return all(space != ' ' for space in board[1:])\n"
   ]
  },
  {
   "cell_type": "code",
   "execution_count": 28,
   "id": "b39ae7f7-9c31-4bee-9866-95f75d9d3cba",
   "metadata": {},
   "outputs": [],
   "source": [
    "def player_choice(board):\n",
    "    position = 0\n",
    "    while position not in range(1, 10) or not space_check(board, position):\n",
    "        try:\n",
    "            position = int(input('Choose your next position (1-9): '))\n",
    "        except:\n",
    "            print(\"Invalid input. Please enter a number between 1 and 9.\")\n",
    "    return position\n"
   ]
  },
  {
   "cell_type": "code",
   "execution_count": 29,
   "id": "553c4ec6-a545-4698-b12e-1ef0826dcc89",
   "metadata": {},
   "outputs": [],
   "source": [
    "def replay():\n",
    "    return input('Do you want to play again? Enter Yes or No: ').lower().startswith('y')\n"
   ]
  },
  {
   "cell_type": "code",
   "execution_count": 30,
   "id": "45cc4069-f0fc-49fa-849b-f4601a868350",
   "metadata": {},
   "outputs": [
    {
     "name": "stdout",
     "output_type": "stream",
     "text": [
      "Welcome to Tic Tac Toe!\n"
     ]
    },
    {
     "name": "stdin",
     "output_type": "stream",
     "text": [
      "Player 1: Choose X or O:  o\n"
     ]
    },
    {
     "name": "stdout",
     "output_type": "stream",
     "text": [
      "Player 2 will go first.\n"
     ]
    },
    {
     "name": "stdin",
     "output_type": "stream",
     "text": [
      "Ready to play? y or n?  y\n"
     ]
    },
    {
     "name": "stdout",
     "output_type": "stream",
     "text": [
      "   |   |   \n",
      "-----------\n",
      "   |   |   \n",
      "-----------\n",
      "   |   |   \n"
     ]
    },
    {
     "name": "stdin",
     "output_type": "stream",
     "text": [
      "Choose your next position (1-9):  1\n"
     ]
    },
    {
     "name": "stdout",
     "output_type": "stream",
     "text": [
      "   |   |   \n",
      "-----------\n",
      "   |   |   \n",
      "-----------\n",
      " X |   |   \n"
     ]
    },
    {
     "name": "stdin",
     "output_type": "stream",
     "text": [
      "Choose your next position (1-9):  5\n"
     ]
    },
    {
     "name": "stdout",
     "output_type": "stream",
     "text": [
      "   |   |   \n",
      "-----------\n",
      "   | O |   \n",
      "-----------\n",
      " X |   |   \n"
     ]
    },
    {
     "name": "stdin",
     "output_type": "stream",
     "text": [
      "Choose your next position (1-9):  7\n"
     ]
    },
    {
     "name": "stdout",
     "output_type": "stream",
     "text": [
      " X |   |   \n",
      "-----------\n",
      "   | O |   \n",
      "-----------\n",
      " X |   |   \n"
     ]
    },
    {
     "name": "stdin",
     "output_type": "stream",
     "text": [
      "Choose your next position (1-9):  3\n"
     ]
    },
    {
     "name": "stdout",
     "output_type": "stream",
     "text": [
      " X |   |   \n",
      "-----------\n",
      "   | O |   \n",
      "-----------\n",
      " X |   | O \n"
     ]
    },
    {
     "name": "stdin",
     "output_type": "stream",
     "text": [
      "Choose your next position (1-9):  4\n"
     ]
    },
    {
     "name": "stdout",
     "output_type": "stream",
     "text": [
      " X |   |   \n",
      "-----------\n",
      " X | O |   \n",
      "-----------\n",
      " X |   | O \n",
      "Player 2 has won!\n"
     ]
    },
    {
     "name": "stdin",
     "output_type": "stream",
     "text": [
      "Do you want to play again? Enter Yes or No:  no\n"
     ]
    }
   ],
   "source": [
    "print('Welcome to Tic Tac Toe!')\n",
    "\n",
    "while True:\n",
    "    # Set up the game\n",
    "    the_board = [' '] * 10\n",
    "    player1_marker, player2_marker = player_input()\n",
    "    turn = choose_first()\n",
    "    print(turn + ' will go first.')\n",
    "\n",
    "    play_game = input('Ready to play? y or n? ')\n",
    "    game_on = play_game.lower() == 'y'\n",
    "\n",
    "    while game_on:\n",
    "        # Player 1 Turn\n",
    "        if turn == 'Player 1':\n",
    "            display_board(the_board)\n",
    "            position = player_choice(the_board)\n",
    "            place_marker(the_board, player1_marker, position)\n",
    "\n",
    "            if win_check(the_board, player1_marker):\n",
    "                display_board(the_board)\n",
    "                print('Player 1 has won!')\n",
    "                game_on = False\n",
    "            elif full_board_check(the_board):\n",
    "                display_board(the_board)\n",
    "                print('The game is a tie!')\n",
    "                break\n",
    "            else:\n",
    "                turn = 'Player 2'\n",
    "\n",
    "        # Player 2 Turn\n",
    "        else:\n",
    "            display_board(the_board)\n",
    "            position = player_choice(the_board)\n",
    "            place_marker(the_board, player2_marker, position)\n",
    "\n",
    "            if win_check(the_board, player2_marker):\n",
    "                display_board(the_board)\n",
    "                print('Player 2 has won!')\n",
    "                game_on = False\n",
    "            elif full_board_check(the_board):\n",
    "                display_board(the_board)\n",
    "                print('The game is a tie!')\n",
    "                break\n",
    "            else:\n",
    "                turn = 'Player 1'\n",
    "\n",
    "    if not replay():\n",
    "        break\n"
   ]
  },
  {
   "cell_type": "code",
   "execution_count": null,
   "id": "ad4bd9ac-e2da-40d4-b34f-3c2a9e321665",
   "metadata": {},
   "outputs": [],
   "source": []
  }
 ],
 "metadata": {
  "kernelspec": {
   "display_name": "Python 3 (ipykernel)",
   "language": "python",
   "name": "python3"
  },
  "language_info": {
   "codemirror_mode": {
    "name": "ipython",
    "version": 3
   },
   "file_extension": ".py",
   "mimetype": "text/x-python",
   "name": "python",
   "nbconvert_exporter": "python",
   "pygments_lexer": "ipython3",
   "version": "3.13.5"
  }
 },
 "nbformat": 4,
 "nbformat_minor": 5
}
